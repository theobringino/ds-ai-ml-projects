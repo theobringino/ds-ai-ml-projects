{
 "cells": [
  {
   "cell_type": "markdown",
   "id": "1e0a8013",
   "metadata": {},
   "source": [
    "# Linux and Bash Fundamentals"
   ]
  },
  {
   "cell_type": "markdown",
   "id": "4b11e09f",
   "metadata": {},
   "source": [
    "https://tryhackme.com/module/linux-fundamentals"
   ]
  }
 ],
 "metadata": {
  "language_info": {
   "name": "python"
  }
 },
 "nbformat": 4,
 "nbformat_minor": 5
}
