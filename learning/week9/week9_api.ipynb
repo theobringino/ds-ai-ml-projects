{
 "cells": [
  {
   "cell_type": "markdown",
   "id": "62696748",
   "metadata": {},
   "source": [
    "## Week 9: API\n",
    "\n",
    "What is an API?\n",
    "\n",
    "APIs or Application Programming Interface is simply a service that lets other programs use your Python code without needing to see or run the script themselves.\n",
    "\n",
    "In my project's case:\n",
    "\n",
    "train.py : Takes raw data, does the model/scaling, and prepares the pickle files (model and scaler)\n",
    "api.py : Loads the pickle files and waits for new data. The new data is then processed and returns the results to the user."
   ]
  },
  {
   "cell_type": "markdown",
   "id": "da3c5d26",
   "metadata": {},
   "source": [
    "https://blog.miguelgrinberg.com/post/the-flask-mega-tutorial-part-i-hello-world"
   ]
  },
  {
   "cell_type": "markdown",
   "id": "fa1ef915",
   "metadata": {},
   "source": [
    "### Discussing what was done in the project\n",
    "\n",
    "| Script | MLOps Phase | Core Function | \n",
    "| :--- | :--- | :--- |\n",
    "|train.py|Build / Training (CI)|This script is the Model Factory. It loads raw data, applies all feature engineering, trains the final Ridge Regression model, and then saves the model, the scaler, and the final list of feature columns (feature_cols.pkl) as artifacts.|\n",
    "|api.py|Serving / Deployment (CD)|This is the Model Server. It loads the artifacts created by train.py, sets up a web server (using Flask), and defines a single /predict endpoint to receive new data and return a prediction.|\n",
    "|test_api.py|Testing / Monitoring|This is the Quality Check. It simulates a client (e.g., a mobile app or dashboard) sending data to the live API to ensure it responds with a correct HTTP status code and a valid prediction.|"
   ]
  }
 ],
 "metadata": {
  "language_info": {
   "name": "python"
  }
 },
 "nbformat": 4,
 "nbformat_minor": 5
}
