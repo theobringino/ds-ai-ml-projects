{
 "cells": [
  {
   "cell_type": "markdown",
   "id": "4ffc9897",
   "metadata": {},
   "source": [
    "### Week 10: Secure Coding Practices"
   ]
  },
  {
   "cell_type": "markdown",
   "id": "c072c444",
   "metadata": {},
   "source": [
    "Review Resources:\n",
    "- Read the OWASP Secure Coding Practices. Focus on the top practices, especially those related to input validation and handling secrets.\n",
    "\n",
    "- Go through the Python tutorials on using environment variables (e.g., the os or dotenv library) and secure database connection practices (which will lead you to parameterized queries).\n",
    "\n",
    "Targeted Learning:\n",
    "\n",
    "- Focus your study on the two main vulnerabilities mentioned: SQL Injection and Cross-Site Scripting (XSS). Understand how they work and why secure coding practices prevent them."
   ]
  },
  {
   "cell_type": "markdown",
   "id": "19030d80",
   "metadata": {},
   "source": [
    "#### Task 1: Environment Variables for Secrets\n",
    "Goal: Eliminate hard-coded secrets.\n",
    "\n",
    "Action:\n",
    "\n",
    "Identify any sensitive data (e.g., database credentials, external API keys) in your Week 9 API endpoint.\n",
    "\n",
    "Install a library like python-dotenv or plan to use the built-in os.environ to read environment variables.\n",
    "\n",
    "Replace the hard-coded secrets with calls to read from the environment (e.g., os.environ.get('API_KEY')).\n",
    "\n",
    "Create a .env file (and add it to your .gitignore) to store the actual key/secret for local testing.\n",
    "\n",
    "#### Task 2: Parameterized Queries\n",
    "Goal: Demonstrate protection against SQL injection.\n",
    "\n",
    "Action:\n",
    "\n",
    "Write a simple script using an SQLite database (or similar).\n",
    "\n",
    "Insecure Example: Write a function that builds a query string by concatenating a user-provided variable directly (e.g., f\"SELECT * FROM users WHERE id = '{user_input}'\").\n",
    "\n",
    "Secure Example: Write a second function that uses the database library's built-in parameterized query feature (using placeholders like ? or %s) to separate the SQL command from the user data.\n",
    "\n",
    "Demonstrate: Show how a malicious input like ' OR '1'='1 works in the insecure query but fails harmlessly in the parameterized one.\n",
    "\n",
    "#### Task 3: Input Validation and Sanitization\n",
    "Goal: Securely prepare input for use by a function or model.\n",
    "\n",
    "Action:\n",
    "\n",
    "Write a short Python function, say process_user_score(score), that expects a number.\n",
    "\n",
    "Validation: Check that the input:\n",
    "\n",
    "Is a number/can be converted to an integer.\n",
    "\n",
    "Falls within an expected range (e.g., 0 to 100).\n",
    "\n",
    "Sanitization: If dealing with text, use a library or simple regex to remove potentially malicious characters (like <, >, &, or script tags) that could lead to XSS if displayed later. Since the task is for a model, focus on ensuring the data type and range are correct."
   ]
  }
 ],
 "metadata": {
  "language_info": {
   "name": "python"
  }
 },
 "nbformat": 4,
 "nbformat_minor": 5
}
