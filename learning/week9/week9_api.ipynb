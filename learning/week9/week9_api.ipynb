{
 "cells": [
  {
   "cell_type": "markdown",
   "id": "62696748",
   "metadata": {},
   "source": [
    "## Week 9: API\n",
    "\n",
    "What is an API?\n",
    "\n",
    "APIs or Application Programming Interface is simply a service that lets other programs use your Python code without needing to see or run the script themselves.\n",
    "\n",
    "In my project's case:\n",
    "\n",
    "train.py : Takes raw data, does the model/scaling, and prepares the pickle files (model and scaler)\n",
    "api.py : Loads the pickle files and waits for new data. The new data is then processed and returns the results to the user."
   ]
  },
  {
   "cell_type": "markdown",
   "id": "da3c5d26",
   "metadata": {},
   "source": [
    "https://blog.miguelgrinberg.com/post/the-flask-mega-tutorial-part-i-hello-world"
   ]
  },
  {
   "cell_type": "markdown",
   "id": "fa1ef915",
   "metadata": {},
   "source": [
    "### Discussing what was done in the project\n",
    "\n",
    "| Script | MLOps Phase | Core Function | \n",
    "| :--- | :--- | :--- |\n",
    "|train.py|Build / Training (CI)|This script is the Model Factory. It loads raw data, applies all feature engineering, trains the final Ridge Regression model, and then saves the model, the scaler, and the final list of feature columns (feature_cols.pkl) as artifacts.|\n",
    "|api.py|Serving / Deployment (CD)|This is the Model Server. It loads the artifacts created by train.py, sets up a web server (using Flask), and defines a single /predict endpoint to receive new data and return a prediction.|\n",
    "|test_api.py|Testing / Monitoring|This is the Quality Check. It simulates a client (e.g., a mobile app or dashboard) sending data to the live API to ensure it responds with a correct HTTP status code and a valid prediction.|"
   ]
  },
  {
   "cell_type": "markdown",
   "id": "cb1ce915",
   "metadata": {},
   "source": [
    "#### Understanding the API Wrapper and MLOps\n",
    "What is an API (Application Programming Interface)?\n",
    "\n",
    "In simple terms, an API is a digital waiter for a web application. It specifies the methods and data formats that external clients (like a mobile app, another server, or your test_api.py script) can use to request and exchange information with your program.\n",
    "\n",
    "API Usage in Project: Your model is a Python program. To allow other non-Python programs to use your model, you wrap it in an API wrapper built using the Flask framework. When a client sends data to the /predict route, Flask runs your model code and sends the prediction back as a clean JSON response.\n",
    "\n",
    "\n",
    "#### MLOps Principle: The CI/CD Pipeline\n",
    "The  three scripts represent the essential phases of MLOps:\n",
    "\n",
    "Continuous Integration (train.py): The process of building and testing the artifacts (model, scaler, feature list).\n",
    "\n",
    "Continuous Deployment (api.py): The process of loading the artifacts and serving the model via a web service.\n",
    "\n",
    "Monitoring (test_api.py): The process of verifying the deployed model works correctly.\n",
    "\n"
   ]
  },
  {
   "cell_type": "markdown",
   "id": "7480ce1f",
   "metadata": {},
   "source": [
    "Notes:\n",
    "\n",
    "Given this is just a small project, its okay to store the api key in the same place but always remember that secret keys must be stored in a secrets manager."
   ]
  }
 ],
 "metadata": {
  "language_info": {
   "name": "python"
  }
 },
 "nbformat": 4,
 "nbformat_minor": 5
}
