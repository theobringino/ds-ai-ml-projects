{
 "cells": [
  {
   "cell_type": "markdown",
   "id": "8dda3478",
   "metadata": {},
   "source": [
    "### ML-based Cyber Risk Assessment for Vulnerability Severity Predictions\n",
    "A machine learning model is used to predict a vulnerability's CVSS Base Score for improved risk management. Using the scraped data which is then integrated with the dataset from NVD, CISA KEV, and EPSS, the model provides a data-driven approach to prioritize threats and streamline vulnerability assessment.\n",
    "\n",
    "Data obtained from [this study](https://www.mdpi.com/2078-2489/15/4/199)"
   ]
  },
  {
   "cell_type": "markdown",
   "id": "90635c57",
   "metadata": {},
   "source": [
    "##### Import Packages"
   ]
  },
  {
   "cell_type": "code",
   "execution_count": 11,
   "id": "c84a2431",
   "metadata": {},
   "outputs": [],
   "source": [
    "import pandas as pd\n",
    "import numpy as np\n",
    "import matplotlib.pyplot as plt\n",
    "import seaborn as sns\n",
    "from  IPython.display import display\n",
    "from sklearn.metrics import mean_squared_error, r2_score\n",
    "from sklearn.model_selection import train_test_split\n",
    "from sklearn.preprocessing import StandardScaler\n",
    "from sklearn.linear_model import LinearRegression\n",
    "from sklearn.multioutput import MultiOutputRegressor"
   ]
  },
  {
   "cell_type": "markdown",
   "id": "e3f0eb83",
   "metadata": {},
   "source": [
    "##### Data Loading and Initial Checks"
   ]
  },
  {
   "cell_type": "code",
   "execution_count": 26,
   "id": "c66b79ee",
   "metadata": {},
   "outputs": [
    {
     "data": {
      "application/vnd.microsoft.datawrangler.viewer.v0+json": {
       "columns": [
        {
         "name": "index",
         "rawType": "int64",
         "type": "integer"
        },
        {
         "name": "AttackDate",
         "rawType": "object",
         "type": "string"
        },
        {
         "name": "Country",
         "rawType": "object",
         "type": "string"
        },
        {
         "name": "Spam",
         "rawType": "float64",
         "type": "float"
        },
        {
         "name": "Ransomware",
         "rawType": "float64",
         "type": "float"
        },
        {
         "name": "Local Infection",
         "rawType": "float64",
         "type": "float"
        },
        {
         "name": "Exploit",
         "rawType": "float64",
         "type": "float"
        },
        {
         "name": "Malicious Mail",
         "rawType": "float64",
         "type": "float"
        },
        {
         "name": "Network Attack",
         "rawType": "float64",
         "type": "float"
        },
        {
         "name": "On Demand Scan",
         "rawType": "float64",
         "type": "float"
        },
        {
         "name": "Web Threat",
         "rawType": "float64",
         "type": "float"
        },
        {
         "name": "Rank Spam",
         "rawType": "int64",
         "type": "integer"
        },
        {
         "name": "Rank Ransomware",
         "rawType": "int64",
         "type": "integer"
        },
        {
         "name": "Rank Local Infection",
         "rawType": "int64",
         "type": "integer"
        },
        {
         "name": "Rank Exploit",
         "rawType": "int64",
         "type": "integer"
        },
        {
         "name": "Rank Malicious Mail",
         "rawType": "int64",
         "type": "integer"
        },
        {
         "name": "Rank Network Attack",
         "rawType": "int64",
         "type": "integer"
        },
        {
         "name": "Rank On Demand Scan",
         "rawType": "int64",
         "type": "integer"
        },
        {
         "name": "Rank Web Threat",
         "rawType": "int64",
         "type": "integer"
        }
       ],
       "ref": "10d9f79b-441d-45c6-b65a-35407334439d",
       "rows": [
        [
         "0",
         "11/10/2022 0:00",
         "Arab Republic of Egypt",
         "0.0009",
         "0.00013",
         "0.01353",
         "0.00013",
         "0.00287",
         "0.01007",
         "0.01148",
         "0.01708",
         "68",
         "47",
         "85",
         "176",
         "34",
         "11",
         "78",
         "53"
        ],
        [
         "1",
         "11/10/2022 0:00",
         "Argentine Republic",
         "0.00601",
         "6e-05",
         "0.00575",
         "0.00035",
         "0.00058",
         "0.00095",
         "0.00482",
         "0.00974",
         "27",
         "86",
         "174",
         "128",
         "140",
         "138",
         "174",
         "160"
        ],
        [
         "2",
         "11/10/2022 0:00",
         "Aruba",
         null,
         null,
         "0.01384",
         null,
         "0.00092",
         null,
         "0.0083",
         "0.00554",
         "162",
         "143",
         "82",
         "186",
         "104",
         "187",
         "119",
         "190"
        ],
        [
         "3",
         "11/10/2022 0:00",
         "Bailiwick of Guernsey",
         null,
         null,
         "0.00546",
         "0.00273",
         null,
         "0.00091",
         "0.00546",
         "0.01001",
         "162",
         "143",
         "179",
         "1",
         "186",
         "141",
         "164",
         "159"
        ],
        [
         "4",
         "11/10/2022 0:00",
         "Bailiwick of Jersey",
         "3e-05",
         null,
         "0.00774",
         "0.00101",
         "0.00067",
         null,
         "0.00707",
         "0.01145",
         "138",
         "143",
         "150",
         "31",
         "133",
         "187",
         "137",
         "146"
        ],
        [
         "5",
         "11/10/2022 0:00",
         "Barbados",
         "2e-05",
         null,
         "0.00552",
         "0.00061",
         null,
         "0.00245",
         "0.00552",
         "0.01595",
         "145",
         "143",
         "177",
         "84",
         "186",
         "54",
         "163",
         "70"
        ],
        [
         "6",
         "11/10/2022 0:00",
         "Belize",
         "3e-05",
         null,
         "0.00309",
         "0.00042",
         "0.00028",
         "0.00014",
         "0.00351",
         "0.01911",
         "138",
         "143",
         "192",
         "117",
         "168",
         "185",
         "185",
         "37"
        ],
        [
         "7",
         "11/10/2022 0:00",
         "Bolivarian Republic of Venezuela",
         "0.00058",
         "0.00017",
         "0.01692",
         "0.00033",
         "0.00053",
         "0.00761",
         "0.0145",
         "0.01623",
         "79",
         "34",
         "65",
         "133",
         "147",
         "17",
         "54",
         "68"
        ],
        [
         "8",
         "11/10/2022 0:00",
         "Bosnia and Herzegovina",
         "0.00584",
         null,
         "0.01158",
         "0.00016",
         "0.0046",
         "0.0013",
         "0.01237",
         "0.01587",
         "29",
         "143",
         "108",
         "171",
         "18",
         "120",
         "72",
         "71"
        ],
        [
         "9",
         "11/10/2022 0:00",
         "Burkina Faso",
         "5e-05",
         "4e-05",
         "0.01518",
         "0.00032",
         "0.00011",
         "0.00017",
         "0.00858",
         "0.00572",
         "130",
         "109",
         "76",
         "136",
         "182",
         "184",
         "116",
         "187"
        ],
        [
         "10",
         "11/10/2022 0:00",
         "Canada",
         "0.00913",
         "2e-05",
         "0.00714",
         "0.00184",
         "0.00043",
         "0.00141",
         "0.0058",
         "0.01306",
         "17",
         "135",
         "161",
         "4",
         "157",
         "110",
         "158",
         "120"
        ],
        [
         "11",
         "11/10/2022 0:00",
         "Central African Republic",
         null,
         "0.0002",
         "0.03418",
         "0.00079",
         null,
         "0.00177",
         "0.02436",
         "0.00845",
         "162",
         "27",
         "11",
         "51",
         "186",
         "90",
         "7",
         "177"
        ],
        [
         "12",
         "11/10/2022 0:00",
         "Collectivity of Saint Martin",
         null,
         null,
         "0.00687",
         "0.00062",
         null,
         "0.00125",
         "0.0025",
         "0.00936",
         "162",
         "143",
         "163",
         "83",
         "186",
         "122",
         "191",
         "167"
        ],
        [
         "13",
         "11/10/2022 0:00",
         "Commonwealth of Australia",
         "0.00179",
         "2e-05",
         "0.00911",
         "0.00173",
         "0.00154",
         "0.00079",
         "0.00714",
         "0.01184",
         "57",
         "135",
         "134",
         "5",
         "74",
         "147",
         "135",
         "142"
        ],
        [
         "14",
         "11/10/2022 0:00",
         "Commonwealth of Puerto Rico",
         "2e-05",
         null,
         "0.00812",
         "0.00076",
         "0.00076",
         "0.00217",
         "0.00708",
         "0.00784",
         "145",
         "143",
         "145",
         "57",
         "122",
         "62",
         "136",
         "180"
        ],
        [
         "15",
         "11/10/2022 0:00",
         "Commonwealth of the Bahamas",
         null,
         null,
         "0.00602",
         "0.0012",
         null,
         "0.0006",
         "0.00421",
         "0.01204",
         "162",
         "143",
         "171",
         "18",
         "186",
         "160",
         "180",
         "137"
        ],
        [
         "16",
         "11/10/2022 0:00",
         "Congo (Democratic Republic of the)",
         "6e-05",
         "0.00011",
         "0.03336",
         "0.00073",
         "0.00055",
         "0.00073",
         "0.02054",
         "0.01286",
         "126",
         "53",
         "13",
         "59",
         "144",
         "157",
         "21",
         "122"
        ],
        [
         "17",
         "11/10/2022 0:00",
         "Co-operative Republic of Guyana",
         "1e-05",
         null,
         "0.00241",
         null,
         "0.0003",
         "0.0003",
         "0.00512",
         "0.01235",
         "151",
         "143",
         "194",
         "186",
         "167",
         "183",
         "168",
         "131"
        ],
        [
         "18",
         "11/10/2022 0:00",
         "Country of Curaçao",
         null,
         null,
         "0.00457",
         "0.00057",
         "0.00057",
         "0.00286",
         "0.00686",
         "0.00571",
         "162",
         "143",
         "185",
         "92",
         "142",
         "51",
         "142",
         "188"
        ],
        [
         "19",
         "11/10/2022 0:00",
         "Czech Republic",
         "0.00193",
         "5e-05",
         "0.0072",
         "0.0009",
         "0.00132",
         "0.00156",
         "0.00491",
         "0.01431",
         "55",
         "96",
         "160",
         "38",
         "85",
         "103",
         "172",
         "97"
        ],
        [
         "20",
         "11/10/2022 0:00",
         "Democratic Republic of Timor-Leste",
         "0.00106",
         null,
         "0.02058",
         "0.00127",
         "0.00063",
         "0.0038",
         "0.01931",
         "0.0133",
         "67",
         "143",
         "50",
         "13",
         "135",
         "35",
         "30",
         "114"
        ],
        [
         "21",
         "11/10/2022 0:00",
         "Democratic Socialist Republic of Sri Lanka",
         "5e-05",
         "7e-05",
         "0.0232",
         "0.00042",
         "0.00145",
         "0.00309",
         "0.01565",
         "0.02219",
         "130",
         "78",
         "40",
         "117",
         "77",
         "44",
         "46",
         "20"
        ],
        [
         "22",
         "11/10/2022 0:00",
         "Department of Mayotte",
         null,
         null,
         "0.0069",
         "0.00106",
         "0.00053",
         "0.00053",
         "0.00372",
         "0.00902",
         "162",
         "143",
         "162",
         "27",
         "147",
         "171",
         "183",
         "173"
        ],
        [
         "23",
         "11/10/2022 0:00",
         "Dominican Republic",
         "0.00038",
         "0.00076",
         "0.00972",
         "0.00022",
         "0.00213",
         "0.00242",
         "0.00896",
         "0.00942",
         "84",
         "4",
         "127",
         "161",
         "55",
         "55",
         "103",
         "166"
        ],
        [
         "24",
         "11/10/2022 0:00",
         "Federal Democratic Republic of Ethiopia",
         "0.00066",
         "0.00015",
         "0.02337",
         "0.00035",
         "0.00058",
         "0.0104",
         "0.02034",
         "0.01612",
         "76",
         "38",
         "37",
         "128",
         "140",
         "10",
         "22",
         "69"
        ],
        [
         "25",
         "11/10/2022 0:00",
         "Federal Democratic Republic of Nepal",
         "6e-05",
         "8e-05",
         "0.02039",
         "0.00115",
         "0.00078",
         "0.00216",
         "0.0161",
         "0.02304",
         "126",
         "71",
         "53",
         "21",
         "120",
         "63",
         "43",
         "15"
        ],
        [
         "26",
         "11/10/2022 0:00",
         "Federal Republic of Germany",
         "0.03869",
         "3e-05",
         "0.00775",
         "0.00127",
         "0.00054",
         "0.00048",
         "0.00467",
         "0.01213",
         "5",
         "124",
         "149",
         "13",
         "145",
         "175",
         "177",
         "135"
        ],
        [
         "27",
         "11/10/2022 0:00",
         "Federal Republic of Nigeria",
         "0.00318",
         "4e-05",
         "0.0122",
         "0.00023",
         "0.0005",
         "0.00054",
         "0.00699",
         "0.01314",
         "40",
         "109",
         "99",
         "158",
         "151",
         "168",
         "138",
         "119"
        ],
        [
         "28",
         "11/10/2022 0:00",
         "Federal Republic of Somalia",
         "0.00029",
         null,
         "0.02189",
         "0.00048",
         "5e-05",
         "0.00035",
         "0.01307",
         "0.02867",
         "91",
         "143",
         "44",
         "107",
         "185",
         "181",
         "66",
         "2"
        ],
        [
         "29",
         "11/10/2022 0:00",
         "Federative Republic of Brazil",
         "0.01984",
         "0.00011",
         "0.01833",
         "0.00058",
         "0.00119",
         "0.00236",
         "0.01298",
         "0.01195",
         "8",
         "53",
         "61",
         "88",
         "92",
         "58",
         "67",
         "139"
        ],
        [
         "30",
         "11/10/2022 0:00",
         "French Polynesia",
         null,
         null,
         "0.00769",
         "0.00024",
         "0.00073",
         "0.00464",
         "0.00695",
         "0.01647",
         "162",
         "143",
         "153",
         "157",
         "124",
         "30",
         "140",
         "65"
        ],
        [
         "31",
         "11/10/2022 0:00",
         "French Republic",
         "0.02594",
         "6e-05",
         "0.00662",
         "0.00152",
         "0.00048",
         "0.0012",
         "0.00675",
         "0.01195",
         "7",
         "86",
         "166",
         "6",
         "155",
         "127",
         "143",
         "139"
        ],
        [
         "32",
         "11/10/2022 0:00",
         "Gabonese Republic",
         "5e-05",
         "9e-05",
         "0.02714",
         "0.00052",
         "0.00079",
         "0.00749",
         "0.02121",
         "0.01887",
         "130",
         "62",
         "24",
         "98",
         "119",
         "19",
         "19",
         "41"
        ],
        [
         "33",
         "11/10/2022 0:00",
         "Georgia",
         "0.00012",
         "8e-05",
         "0.01263",
         "0.00026",
         "0.00143",
         "0.00151",
         "0.00848",
         "0.0187",
         "112",
         "71",
         "94",
         "151",
         "78",
         "106",
         "118",
         "43"
        ],
        [
         "34",
         "11/10/2022 0:00",
         "Grand Duchy of Luxembourg",
         "0.00029",
         null,
         "0.00624",
         "0.00079",
         "0.00092",
         "0.0006",
         "0.0035",
         "0.0111",
         "91",
         "143",
         "169",
         "51",
         "104",
         "160",
         "186",
         "150"
        ],
        [
         "35",
         "11/10/2022 0:00",
         "Greenland",
         "0.0001",
         null,
         null,
         null,
         null,
         null,
         null,
         null,
         "117",
         "143",
         "195",
         "186",
         "186",
         "187",
         "195",
         "195"
        ],
        [
         "36",
         "11/10/2022 0:00",
         "Guadeloupe",
         null,
         null,
         "0.00773",
         "0.00115",
         "8e-05",
         "0.00074",
         "0.00527",
         "0.01103",
         "162",
         "143",
         "151",
         "21",
         "184",
         "154",
         "166",
         "151"
        ],
        [
         "37",
         "11/10/2022 0:00",
         "Guam",
         "1e-05",
         null,
         "0.0095",
         null,
         null,
         "0.00292",
         "0.00877",
         "0.01534",
         "151",
         "143",
         "131",
         "186",
         "186",
         "49",
         "107",
         "82"
        ],
        [
         "38",
         "11/10/2022 0:00",
         "Guiana",
         null,
         null,
         "0.00907",
         "0.00109",
         "0.00054",
         "0.00036",
         "0.00853",
         "0.01542",
         "162",
         "143",
         "136",
         "24",
         "145",
         "180",
         "117",
         "78"
        ],
        [
         "39",
         "11/10/2022 0:00",
         "Hashemite Kingdom of Jordan",
         null,
         "0.00018",
         "0.01146",
         "0.00029",
         "0.00313",
         "0.00384",
         "0.00981",
         "0.01702",
         "162",
         "32",
         "111",
         "144",
         "32",
         "34",
         "93",
         "54"
        ],
        [
         "40",
         "11/10/2022 0:00",
         "Hellenic Republic",
         "0.00067",
         "5e-05",
         "0.01661",
         "0.00086",
         "0.00495",
         "0.00109",
         "0.0093",
         "0.02244",
         "75",
         "96",
         "66",
         "45",
         "15",
         "132",
         "97",
         "18"
        ],
        [
         "41",
         "11/10/2022 0:00",
         "Hong Kong Special Administrative Region of the People's Republic of China",
         "0.00806",
         "0.00023",
         "0.00754",
         "0.00077",
         "0.00397",
         "0.0085",
         "0.00875",
         "0.01484",
         "22",
         "25",
         "156",
         "53",
         "21",
         "13",
         "109",
         "90"
        ],
        [
         "42",
         "11/10/2022 0:00",
         "Hungary",
         "0.01031",
         "8e-05",
         "0.01327",
         "0.00058",
         "0.00516",
         "0.00101",
         "0.00885",
         "0.01679",
         "14",
         "71",
         "86",
         "88",
         "12",
         "135",
         "106",
         "59"
        ],
        [
         "43",
         "11/10/2022 0:00",
         "Iceland",
         "4e-05",
         null,
         "0.00629",
         "0.00073",
         "0.00073",
         null,
         "0.00242",
         "0.01186",
         "134",
         "143",
         "168",
         "59",
         "124",
         "187",
         "192",
         "141"
        ],
        [
         "44",
         "11/10/2022 0:00",
         "Independent State of Papua New Guinea",
         null,
         "0.00049",
         "0.01158",
         "0.00049",
         "0.00049",
         "0.00622",
         "0.01024",
         "0.00695",
         "162",
         "10",
         "108",
         "103",
         "154",
         "21",
         "88",
         "186"
        ],
        [
         "45",
         "11/10/2022 0:00",
         "Independent State of Samoa",
         null,
         null,
         "0.00768",
         null,
         "0.0032",
         "0.0048",
         "0.00768",
         "0.0096",
         "162",
         "143",
         "154",
         "186",
         "31",
         "28",
         "127",
         "164"
        ],
        [
         "46",
         "11/10/2022 0:00",
         "Islamic Republic of Afghanistan",
         "2e-05",
         "0.00136",
         "0.03617",
         "0.00052",
         "0.00187",
         "0.00621",
         "0.03164",
         "0.01513",
         "145",
         "1",
         "5",
         "98",
         "62",
         "22",
         "1",
         "84"
        ],
        [
         "47",
         "11/10/2022 0:00",
         "Islamic Republic of Iran",
         "0.00316",
         "0.00055",
         "0.00783",
         "4e-05",
         "0.00088",
         "0.01085",
         "0.01331",
         "0.0025",
         "41",
         "9",
         "147",
         "185",
         "110",
         "8",
         "62",
         "194"
        ],
        [
         "48",
         "11/10/2022 0:00",
         "Islamic Republic of Mauritania",
         "1e-05",
         null,
         "0.02534",
         "0.00077",
         "0.00083",
         "0.00242",
         "0.01957",
         "0.01556",
         "151",
         "143",
         "29",
         "53",
         "115",
         "55",
         "29",
         "75"
        ],
        [
         "49",
         "11/10/2022 0:00",
         "Islamic Republic of Pakistan",
         "0.00249",
         "0.00092",
         "0.0122",
         "0.00013",
         "0.00355",
         "0.00841",
         "0.01093",
         "0.01054",
         "46",
         "2",
         "99",
         "176",
         "28",
         "14",
         "81",
         "155"
        ]
       ],
       "shape": {
        "columns": 18,
        "rows": 77623
       }
      },
      "text/html": [
       "<div>\n",
       "<style scoped>\n",
       "    .dataframe tbody tr th:only-of-type {\n",
       "        vertical-align: middle;\n",
       "    }\n",
       "\n",
       "    .dataframe tbody tr th {\n",
       "        vertical-align: top;\n",
       "    }\n",
       "\n",
       "    .dataframe thead th {\n",
       "        text-align: right;\n",
       "    }\n",
       "</style>\n",
       "<table border=\"1\" class=\"dataframe\">\n",
       "  <thead>\n",
       "    <tr style=\"text-align: right;\">\n",
       "      <th></th>\n",
       "      <th>AttackDate</th>\n",
       "      <th>Country</th>\n",
       "      <th>Spam</th>\n",
       "      <th>Ransomware</th>\n",
       "      <th>Local Infection</th>\n",
       "      <th>Exploit</th>\n",
       "      <th>Malicious Mail</th>\n",
       "      <th>Network Attack</th>\n",
       "      <th>On Demand Scan</th>\n",
       "      <th>Web Threat</th>\n",
       "      <th>Rank Spam</th>\n",
       "      <th>Rank Ransomware</th>\n",
       "      <th>Rank Local Infection</th>\n",
       "      <th>Rank Exploit</th>\n",
       "      <th>Rank Malicious Mail</th>\n",
       "      <th>Rank Network Attack</th>\n",
       "      <th>Rank On Demand Scan</th>\n",
       "      <th>Rank Web Threat</th>\n",
       "    </tr>\n",
       "  </thead>\n",
       "  <tbody>\n",
       "    <tr>\n",
       "      <th>0</th>\n",
       "      <td>11/10/2022 0:00</td>\n",
       "      <td>Arab Republic of Egypt</td>\n",
       "      <td>0.00090</td>\n",
       "      <td>0.00013</td>\n",
       "      <td>0.01353</td>\n",
       "      <td>0.00013</td>\n",
       "      <td>0.00287</td>\n",
       "      <td>0.01007</td>\n",
       "      <td>0.01148</td>\n",
       "      <td>0.01708</td>\n",
       "      <td>68</td>\n",
       "      <td>47</td>\n",
       "      <td>85</td>\n",
       "      <td>176</td>\n",
       "      <td>34</td>\n",
       "      <td>11</td>\n",
       "      <td>78</td>\n",
       "      <td>53</td>\n",
       "    </tr>\n",
       "    <tr>\n",
       "      <th>1</th>\n",
       "      <td>11/10/2022 0:00</td>\n",
       "      <td>Argentine Republic</td>\n",
       "      <td>0.00601</td>\n",
       "      <td>0.00006</td>\n",
       "      <td>0.00575</td>\n",
       "      <td>0.00035</td>\n",
       "      <td>0.00058</td>\n",
       "      <td>0.00095</td>\n",
       "      <td>0.00482</td>\n",
       "      <td>0.00974</td>\n",
       "      <td>27</td>\n",
       "      <td>86</td>\n",
       "      <td>174</td>\n",
       "      <td>128</td>\n",
       "      <td>140</td>\n",
       "      <td>138</td>\n",
       "      <td>174</td>\n",
       "      <td>160</td>\n",
       "    </tr>\n",
       "    <tr>\n",
       "      <th>2</th>\n",
       "      <td>11/10/2022 0:00</td>\n",
       "      <td>Aruba</td>\n",
       "      <td>NaN</td>\n",
       "      <td>NaN</td>\n",
       "      <td>0.01384</td>\n",
       "      <td>NaN</td>\n",
       "      <td>0.00092</td>\n",
       "      <td>NaN</td>\n",
       "      <td>0.00830</td>\n",
       "      <td>0.00554</td>\n",
       "      <td>162</td>\n",
       "      <td>143</td>\n",
       "      <td>82</td>\n",
       "      <td>186</td>\n",
       "      <td>104</td>\n",
       "      <td>187</td>\n",
       "      <td>119</td>\n",
       "      <td>190</td>\n",
       "    </tr>\n",
       "    <tr>\n",
       "      <th>3</th>\n",
       "      <td>11/10/2022 0:00</td>\n",
       "      <td>Bailiwick of Guernsey</td>\n",
       "      <td>NaN</td>\n",
       "      <td>NaN</td>\n",
       "      <td>0.00546</td>\n",
       "      <td>0.00273</td>\n",
       "      <td>NaN</td>\n",
       "      <td>0.00091</td>\n",
       "      <td>0.00546</td>\n",
       "      <td>0.01001</td>\n",
       "      <td>162</td>\n",
       "      <td>143</td>\n",
       "      <td>179</td>\n",
       "      <td>1</td>\n",
       "      <td>186</td>\n",
       "      <td>141</td>\n",
       "      <td>164</td>\n",
       "      <td>159</td>\n",
       "    </tr>\n",
       "    <tr>\n",
       "      <th>4</th>\n",
       "      <td>11/10/2022 0:00</td>\n",
       "      <td>Bailiwick of Jersey</td>\n",
       "      <td>0.00003</td>\n",
       "      <td>NaN</td>\n",
       "      <td>0.00774</td>\n",
       "      <td>0.00101</td>\n",
       "      <td>0.00067</td>\n",
       "      <td>NaN</td>\n",
       "      <td>0.00707</td>\n",
       "      <td>0.01145</td>\n",
       "      <td>138</td>\n",
       "      <td>143</td>\n",
       "      <td>150</td>\n",
       "      <td>31</td>\n",
       "      <td>133</td>\n",
       "      <td>187</td>\n",
       "      <td>137</td>\n",
       "      <td>146</td>\n",
       "    </tr>\n",
       "    <tr>\n",
       "      <th>...</th>\n",
       "      <td>...</td>\n",
       "      <td>...</td>\n",
       "      <td>...</td>\n",
       "      <td>...</td>\n",
       "      <td>...</td>\n",
       "      <td>...</td>\n",
       "      <td>...</td>\n",
       "      <td>...</td>\n",
       "      <td>...</td>\n",
       "      <td>...</td>\n",
       "      <td>...</td>\n",
       "      <td>...</td>\n",
       "      <td>...</td>\n",
       "      <td>...</td>\n",
       "      <td>...</td>\n",
       "      <td>...</td>\n",
       "      <td>...</td>\n",
       "      <td>...</td>\n",
       "    </tr>\n",
       "    <tr>\n",
       "      <th>77618</th>\n",
       "      <td>11/12/2023 0:00</td>\n",
       "      <td>United Arab Emirates</td>\n",
       "      <td>0.00064</td>\n",
       "      <td>0.00009</td>\n",
       "      <td>0.00901</td>\n",
       "      <td>0.00057</td>\n",
       "      <td>0.00198</td>\n",
       "      <td>0.00149</td>\n",
       "      <td>0.00892</td>\n",
       "      <td>0.01274</td>\n",
       "      <td>86</td>\n",
       "      <td>37</td>\n",
       "      <td>100</td>\n",
       "      <td>43</td>\n",
       "      <td>2</td>\n",
       "      <td>40</td>\n",
       "      <td>42</td>\n",
       "      <td>87</td>\n",
       "    </tr>\n",
       "    <tr>\n",
       "      <th>77619</th>\n",
       "      <td>11/12/2023 0:00</td>\n",
       "      <td>United Kingdom of Great Britain and Northern I...</td>\n",
       "      <td>0.01292</td>\n",
       "      <td>0.00003</td>\n",
       "      <td>0.00428</td>\n",
       "      <td>0.00084</td>\n",
       "      <td>0.00021</td>\n",
       "      <td>0.00045</td>\n",
       "      <td>0.00382</td>\n",
       "      <td>0.01205</td>\n",
       "      <td>12</td>\n",
       "      <td>89</td>\n",
       "      <td>173</td>\n",
       "      <td>14</td>\n",
       "      <td>97</td>\n",
       "      <td>139</td>\n",
       "      <td>171</td>\n",
       "      <td>100</td>\n",
       "    </tr>\n",
       "    <tr>\n",
       "      <th>77620</th>\n",
       "      <td>11/12/2023 0:00</td>\n",
       "      <td>United Mexican States</td>\n",
       "      <td>0.00500</td>\n",
       "      <td>0.00004</td>\n",
       "      <td>0.00870</td>\n",
       "      <td>0.00019</td>\n",
       "      <td>0.00035</td>\n",
       "      <td>0.00106</td>\n",
       "      <td>0.00772</td>\n",
       "      <td>0.00834</td>\n",
       "      <td>34</td>\n",
       "      <td>77</td>\n",
       "      <td>106</td>\n",
       "      <td>122</td>\n",
       "      <td>65</td>\n",
       "      <td>68</td>\n",
       "      <td>74</td>\n",
       "      <td>152</td>\n",
       "    </tr>\n",
       "    <tr>\n",
       "      <th>77621</th>\n",
       "      <td>11/12/2023 0:00</td>\n",
       "      <td>United Republic of Tanzania</td>\n",
       "      <td>0.00030</td>\n",
       "      <td>0.00002</td>\n",
       "      <td>0.01201</td>\n",
       "      <td>0.00031</td>\n",
       "      <td>0.00028</td>\n",
       "      <td>0.00091</td>\n",
       "      <td>0.00717</td>\n",
       "      <td>0.01145</td>\n",
       "      <td>101</td>\n",
       "      <td>116</td>\n",
       "      <td>54</td>\n",
       "      <td>83</td>\n",
       "      <td>77</td>\n",
       "      <td>83</td>\n",
       "      <td>92</td>\n",
       "      <td>114</td>\n",
       "    </tr>\n",
       "    <tr>\n",
       "      <th>77622</th>\n",
       "      <td>11/12/2023 0:00</td>\n",
       "      <td>United States of America</td>\n",
       "      <td>0.21790</td>\n",
       "      <td>0.00003</td>\n",
       "      <td>0.00634</td>\n",
       "      <td>0.00163</td>\n",
       "      <td>0.00020</td>\n",
       "      <td>0.00111</td>\n",
       "      <td>0.00578</td>\n",
       "      <td>0.00906</td>\n",
       "      <td>1</td>\n",
       "      <td>89</td>\n",
       "      <td>139</td>\n",
       "      <td>2</td>\n",
       "      <td>101</td>\n",
       "      <td>64</td>\n",
       "      <td>125</td>\n",
       "      <td>143</td>\n",
       "    </tr>\n",
       "  </tbody>\n",
       "</table>\n",
       "<p>77623 rows × 18 columns</p>\n",
       "</div>"
      ],
      "text/plain": [
       "            AttackDate                                            Country  \\\n",
       "0      11/10/2022 0:00                             Arab Republic of Egypt   \n",
       "1      11/10/2022 0:00                                 Argentine Republic   \n",
       "2      11/10/2022 0:00                                              Aruba   \n",
       "3      11/10/2022 0:00                              Bailiwick of Guernsey   \n",
       "4      11/10/2022 0:00                                Bailiwick of Jersey   \n",
       "...                ...                                                ...   \n",
       "77618  11/12/2023 0:00                               United Arab Emirates   \n",
       "77619  11/12/2023 0:00  United Kingdom of Great Britain and Northern I...   \n",
       "77620  11/12/2023 0:00                              United Mexican States   \n",
       "77621  11/12/2023 0:00                        United Republic of Tanzania   \n",
       "77622  11/12/2023 0:00                           United States of America   \n",
       "\n",
       "          Spam  Ransomware  Local Infection  Exploit  Malicious Mail  \\\n",
       "0      0.00090     0.00013          0.01353  0.00013         0.00287   \n",
       "1      0.00601     0.00006          0.00575  0.00035         0.00058   \n",
       "2          NaN         NaN          0.01384      NaN         0.00092   \n",
       "3          NaN         NaN          0.00546  0.00273             NaN   \n",
       "4      0.00003         NaN          0.00774  0.00101         0.00067   \n",
       "...        ...         ...              ...      ...             ...   \n",
       "77618  0.00064     0.00009          0.00901  0.00057         0.00198   \n",
       "77619  0.01292     0.00003          0.00428  0.00084         0.00021   \n",
       "77620  0.00500     0.00004          0.00870  0.00019         0.00035   \n",
       "77621  0.00030     0.00002          0.01201  0.00031         0.00028   \n",
       "77622  0.21790     0.00003          0.00634  0.00163         0.00020   \n",
       "\n",
       "       Network Attack  On Demand Scan  Web Threat  Rank Spam  Rank Ransomware  \\\n",
       "0             0.01007         0.01148     0.01708         68               47   \n",
       "1             0.00095         0.00482     0.00974         27               86   \n",
       "2                 NaN         0.00830     0.00554        162              143   \n",
       "3             0.00091         0.00546     0.01001        162              143   \n",
       "4                 NaN         0.00707     0.01145        138              143   \n",
       "...               ...             ...         ...        ...              ...   \n",
       "77618         0.00149         0.00892     0.01274         86               37   \n",
       "77619         0.00045         0.00382     0.01205         12               89   \n",
       "77620         0.00106         0.00772     0.00834         34               77   \n",
       "77621         0.00091         0.00717     0.01145        101              116   \n",
       "77622         0.00111         0.00578     0.00906          1               89   \n",
       "\n",
       "       Rank Local Infection  Rank Exploit  Rank Malicious Mail  \\\n",
       "0                        85           176                   34   \n",
       "1                       174           128                  140   \n",
       "2                        82           186                  104   \n",
       "3                       179             1                  186   \n",
       "4                       150            31                  133   \n",
       "...                     ...           ...                  ...   \n",
       "77618                   100            43                    2   \n",
       "77619                   173            14                   97   \n",
       "77620                   106           122                   65   \n",
       "77621                    54            83                   77   \n",
       "77622                   139             2                  101   \n",
       "\n",
       "       Rank Network Attack  Rank On Demand Scan  Rank Web Threat  \n",
       "0                       11                   78               53  \n",
       "1                      138                  174              160  \n",
       "2                      187                  119              190  \n",
       "3                      141                  164              159  \n",
       "4                      187                  137              146  \n",
       "...                    ...                  ...              ...  \n",
       "77618                   40                   42               87  \n",
       "77619                  139                  171              100  \n",
       "77620                   68                   74              152  \n",
       "77621                   83                   92              114  \n",
       "77622                   64                  125              143  \n",
       "\n",
       "[77623 rows x 18 columns]"
      ]
     },
     "execution_count": 26,
     "metadata": {},
     "output_type": "execute_result"
    }
   ],
   "source": [
    "# Load data\n",
    "df = pd.read_csv('cyber_data.csv')\n",
    "# df = pd.read_csv('cve_cisa_epss_enriched_dataset.csv')\n",
    "\n",
    "df"
   ]
  },
  {
   "cell_type": "code",
   "execution_count": 24,
   "id": "ec79fac1",
   "metadata": {},
   "outputs": [
    {
     "data": {
      "application/vnd.microsoft.datawrangler.viewer.v0+json": {
       "columns": [
        {
         "name": "index",
         "rawType": "object",
         "type": "string"
        },
        {
         "name": "base_score",
         "rawType": "float64",
         "type": "float"
        },
        {
         "name": "exploitability_score",
         "rawType": "float64",
         "type": "float"
        },
        {
         "name": "impact_score",
         "rawType": "float64",
         "type": "float"
        },
        {
         "name": "epss_score",
         "rawType": "float64",
         "type": "float"
        },
        {
         "name": "epss_perc",
         "rawType": "float64",
         "type": "float"
        }
       ],
       "ref": "40be8bf4-afe3-4c7a-9125-51d1373fa76c",
       "rows": [
        [
         "count",
         "155852.0",
         "155852.0",
         "155852.0",
         "155852.0",
         "155852.0"
        ],
        [
         "mean",
         "7.14200651900521",
         "2.691608064060775",
         "4.304447167825886",
         "0.027664227472217234",
         "0.44942075950260507"
        ],
        [
         "std",
         "1.7018061242547935",
         "0.9397213599086343",
         "1.5338362184953167",
         "0.11619400785670139",
         "0.27422455970568194"
        ],
        [
         "min",
         "1.6",
         "0.1",
         "1.4",
         "1e-05",
         "1e-05"
        ],
        [
         "25%",
         "5.5",
         "1.8",
         "3.4",
         "0.00072",
         "0.2239275"
        ],
        [
         "50%",
         "7.5",
         "2.8",
         "3.6",
         "0.00206",
         "0.43042"
        ],
        [
         "75%",
         "8.8",
         "3.9",
         "5.9",
         "0.00529",
         "0.66212"
        ],
        [
         "max",
         "10.0",
         "3.9",
         "6.0",
         "0.94582",
         "1.0"
        ]
       ],
       "shape": {
        "columns": 5,
        "rows": 8
       }
      },
      "text/html": [
       "<div>\n",
       "<style scoped>\n",
       "    .dataframe tbody tr th:only-of-type {\n",
       "        vertical-align: middle;\n",
       "    }\n",
       "\n",
       "    .dataframe tbody tr th {\n",
       "        vertical-align: top;\n",
       "    }\n",
       "\n",
       "    .dataframe thead th {\n",
       "        text-align: right;\n",
       "    }\n",
       "</style>\n",
       "<table border=\"1\" class=\"dataframe\">\n",
       "  <thead>\n",
       "    <tr style=\"text-align: right;\">\n",
       "      <th></th>\n",
       "      <th>base_score</th>\n",
       "      <th>exploitability_score</th>\n",
       "      <th>impact_score</th>\n",
       "      <th>epss_score</th>\n",
       "      <th>epss_perc</th>\n",
       "    </tr>\n",
       "  </thead>\n",
       "  <tbody>\n",
       "    <tr>\n",
       "      <th>count</th>\n",
       "      <td>155852.000000</td>\n",
       "      <td>155852.000000</td>\n",
       "      <td>155852.000000</td>\n",
       "      <td>155852.000000</td>\n",
       "      <td>155852.000000</td>\n",
       "    </tr>\n",
       "    <tr>\n",
       "      <th>mean</th>\n",
       "      <td>7.142007</td>\n",
       "      <td>2.691608</td>\n",
       "      <td>4.304447</td>\n",
       "      <td>0.027664</td>\n",
       "      <td>0.449421</td>\n",
       "    </tr>\n",
       "    <tr>\n",
       "      <th>std</th>\n",
       "      <td>1.701806</td>\n",
       "      <td>0.939721</td>\n",
       "      <td>1.533836</td>\n",
       "      <td>0.116194</td>\n",
       "      <td>0.274225</td>\n",
       "    </tr>\n",
       "    <tr>\n",
       "      <th>min</th>\n",
       "      <td>1.600000</td>\n",
       "      <td>0.100000</td>\n",
       "      <td>1.400000</td>\n",
       "      <td>0.000010</td>\n",
       "      <td>0.000010</td>\n",
       "    </tr>\n",
       "    <tr>\n",
       "      <th>25%</th>\n",
       "      <td>5.500000</td>\n",
       "      <td>1.800000</td>\n",
       "      <td>3.400000</td>\n",
       "      <td>0.000720</td>\n",
       "      <td>0.223928</td>\n",
       "    </tr>\n",
       "    <tr>\n",
       "      <th>50%</th>\n",
       "      <td>7.500000</td>\n",
       "      <td>2.800000</td>\n",
       "      <td>3.600000</td>\n",
       "      <td>0.002060</td>\n",
       "      <td>0.430420</td>\n",
       "    </tr>\n",
       "    <tr>\n",
       "      <th>75%</th>\n",
       "      <td>8.800000</td>\n",
       "      <td>3.900000</td>\n",
       "      <td>5.900000</td>\n",
       "      <td>0.005290</td>\n",
       "      <td>0.662120</td>\n",
       "    </tr>\n",
       "    <tr>\n",
       "      <th>max</th>\n",
       "      <td>10.000000</td>\n",
       "      <td>3.900000</td>\n",
       "      <td>6.000000</td>\n",
       "      <td>0.945820</td>\n",
       "      <td>1.000000</td>\n",
       "    </tr>\n",
       "  </tbody>\n",
       "</table>\n",
       "</div>"
      ],
      "text/plain": [
       "          base_score  exploitability_score   impact_score     epss_score  \\\n",
       "count  155852.000000         155852.000000  155852.000000  155852.000000   \n",
       "mean        7.142007              2.691608       4.304447       0.027664   \n",
       "std         1.701806              0.939721       1.533836       0.116194   \n",
       "min         1.600000              0.100000       1.400000       0.000010   \n",
       "25%         5.500000              1.800000       3.400000       0.000720   \n",
       "50%         7.500000              2.800000       3.600000       0.002060   \n",
       "75%         8.800000              3.900000       5.900000       0.005290   \n",
       "max        10.000000              3.900000       6.000000       0.945820   \n",
       "\n",
       "           epss_perc  \n",
       "count  155852.000000  \n",
       "mean        0.449421  \n",
       "std         0.274225  \n",
       "min         0.000010  \n",
       "25%         0.223928  \n",
       "50%         0.430420  \n",
       "75%         0.662120  \n",
       "max         1.000000  "
      ]
     },
     "execution_count": 24,
     "metadata": {},
     "output_type": "execute_result"
    }
   ],
   "source": [
    "#summary statistics\n",
    "df.describe()"
   ]
  },
  {
   "cell_type": "code",
   "execution_count": 27,
   "id": "73e62068",
   "metadata": {},
   "outputs": [
    {
     "name": "stdout",
     "output_type": "stream",
     "text": [
      "<class 'pandas.core.frame.DataFrame'>\n",
      "RangeIndex: 77623 entries, 0 to 77622\n",
      "Data columns (total 18 columns):\n",
      " #   Column                Non-Null Count  Dtype  \n",
      "---  ------                --------------  -----  \n",
      " 0   AttackDate            77623 non-null  object \n",
      " 1   Country               77623 non-null  object \n",
      " 2   Spam                  62982 non-null  float64\n",
      " 3   Ransomware            52144 non-null  float64\n",
      " 4   Local Infection       74469 non-null  float64\n",
      " 5   Exploit               64264 non-null  float64\n",
      " 6   Malicious Mail        69184 non-null  float64\n",
      " 7   Network Attack        71532 non-null  float64\n",
      " 8   On Demand Scan        74231 non-null  float64\n",
      " 9   Web Threat            73892 non-null  float64\n",
      " 10  Rank Spam             77623 non-null  int64  \n",
      " 11  Rank Ransomware       77623 non-null  int64  \n",
      " 12  Rank Local Infection  77623 non-null  int64  \n",
      " 13  Rank Exploit          77623 non-null  int64  \n",
      " 14  Rank Malicious Mail   77623 non-null  int64  \n",
      " 15  Rank Network Attack   77623 non-null  int64  \n",
      " 16  Rank On Demand Scan   77623 non-null  int64  \n",
      " 17  Rank Web Threat       77623 non-null  int64  \n",
      "dtypes: float64(8), int64(8), object(2)\n",
      "memory usage: 10.7+ MB\n"
     ]
    }
   ],
   "source": [
    "#check total count and nulls counts\n",
    "df.info()"
   ]
  },
  {
   "cell_type": "code",
   "execution_count": 22,
   "id": "8c75e31a",
   "metadata": {},
   "outputs": [
    {
     "data": {
      "application/vnd.microsoft.datawrangler.viewer.v0+json": {
       "columns": [
        {
         "name": "AttackDate",
         "rawType": "object",
         "type": "string"
        },
        {
         "name": "count",
         "rawType": "int64",
         "type": "integer"
        }
       ],
       "ref": "d4852d1f-df5e-48b7-b9b6-1414b419870c",
       "rows": [
        [
         "14/10/2023 0:00",
         "205"
        ],
        [
         "11/12/2022 0:00",
         "205"
        ],
        [
         "21/10/2022 0:00",
         "205"
        ],
        [
         "14/08/2023 0:00",
         "204"
        ],
        [
         "13/08/2023 0:00",
         "204"
        ],
        [
         "18/10/2022 0:00",
         "204"
        ],
        [
         "06/09/2023 0:00",
         "204"
        ],
        [
         "28/09/2023 0:00",
         "204"
        ],
        [
         "23/12/2022 0:00",
         "203"
        ],
        [
         "04/12/2022 0:00",
         "203"
        ],
        [
         "18/09/2023 0:00",
         "203"
        ],
        [
         "07/09/2023 0:00",
         "203"
        ],
        [
         "20/05/2023 0:00",
         "203"
        ],
        [
         "19/05/2023 0:00",
         "203"
        ],
        [
         "18/05/2023 0:00",
         "203"
        ],
        [
         "26/10/2022 0:00",
         "203"
        ],
        [
         "10/08/2023 0:00",
         "203"
        ],
        [
         "22/12/2022 0:00",
         "203"
        ],
        [
         "27/02/2023 0:00",
         "203"
        ],
        [
         "03/12/2022 0:00",
         "202"
        ],
        [
         "05/11/2023 0:00",
         "202"
        ],
        [
         "18/10/2023 0:00",
         "202"
        ],
        [
         "17/10/2023 0:00",
         "202"
        ],
        [
         "07/11/2022 0:00",
         "202"
        ],
        [
         "05/11/2022 0:00",
         "202"
        ],
        [
         "07/11/2023 0:00",
         "202"
        ],
        [
         "06/03/2023 0:00",
         "202"
        ],
        [
         "05/03/2023 0:00",
         "202"
        ],
        [
         "07/03/2023 0:00",
         "202"
        ],
        [
         "20/12/2022 0:00",
         "202"
        ],
        [
         "06/06/2023 0:00",
         "202"
        ],
        [
         "07/07/2023 0:00",
         "202"
        ],
        [
         "06/07/2023 0:00",
         "202"
        ],
        [
         "12/02/2023 0:00",
         "202"
        ],
        [
         "05/06/2023 0:00",
         "202"
        ],
        [
         "20/02/2023 0:00",
         "202"
        ],
        [
         "11/02/2023 0:00",
         "202"
        ],
        [
         "14/05/2023 0:00",
         "202"
        ],
        [
         "13/04/2023 0:00",
         "202"
        ],
        [
         "05/04/2023 0:00",
         "202"
        ],
        [
         "17/10/2022 0:00",
         "202"
        ],
        [
         "12/12/2022 0:00",
         "202"
        ],
        [
         "13/12/2022 0:00",
         "202"
        ],
        [
         "03/07/2023 0:00",
         "202"
        ],
        [
         "15/08/2023 0:00",
         "202"
        ],
        [
         "05/09/2023 0:00",
         "202"
        ],
        [
         "09/12/2022 0:00",
         "202"
        ],
        [
         "07/12/2022 0:00",
         "202"
        ],
        [
         "19/10/2022 0:00",
         "201"
        ],
        [
         "06/04/2023 0:00",
         "201"
        ]
       ],
       "shape": {
        "columns": 1,
        "rows": 392
       }
      },
      "text/plain": [
       "AttackDate\n",
       "14/10/2023 0:00    205\n",
       "11/12/2022 0:00    205\n",
       "21/10/2022 0:00    205\n",
       "14/08/2023 0:00    204\n",
       "13/08/2023 0:00    204\n",
       "                  ... \n",
       "18/07/2023 0:00    193\n",
       "11/11/2023 0:00    193\n",
       "01/08/2023 0:00    193\n",
       "16/09/2023 0:00    192\n",
       "29/07/2023 0:00    185\n",
       "Name: count, Length: 392, dtype: int64"
      ]
     },
     "metadata": {},
     "output_type": "display_data"
    },
    {
     "data": {
      "application/vnd.microsoft.datawrangler.viewer.v0+json": {
       "columns": [
        {
         "name": "Country",
         "rawType": "object",
         "type": "string"
        },
        {
         "name": "count",
         "rawType": "int64",
         "type": "integer"
        }
       ],
       "ref": "56e54907-3cd3-4416-9e25-40c738aa4a74",
       "rows": [
        [
         "Arab Republic of Egypt",
         "392"
        ],
        [
         "Argentine Republic",
         "392"
        ],
        [
         "Bailiwick of Jersey",
         "392"
        ],
        [
         "Belize",
         "392"
        ],
        [
         "Barbados",
         "392"
        ],
        [
         "Bolivarian Republic of Venezuela",
         "392"
        ],
        [
         "Bosnia and Herzegovina",
         "392"
        ],
        [
         "Canada",
         "392"
        ],
        [
         "Burkina Faso",
         "392"
        ],
        [
         "Commonwealth of Australia",
         "392"
        ],
        [
         "Commonwealth of Puerto Rico",
         "392"
        ],
        [
         "Central African Republic",
         "392"
        ],
        [
         "Collectivity of Saint Martin",
         "392"
        ],
        [
         "Commonwealth of the Bahamas",
         "392"
        ],
        [
         "Congo (Democratic Republic of the)",
         "392"
        ],
        [
         "Czech Republic",
         "392"
        ],
        [
         "Co-operative Republic of Guyana",
         "392"
        ],
        [
         "Federative Republic of Brazil",
         "392"
        ],
        [
         "French Polynesia",
         "392"
        ],
        [
         "Dominican Republic",
         "392"
        ],
        [
         "Democratic Socialist Republic of Sri Lanka",
         "392"
        ],
        [
         "Federal Democratic Republic of Ethiopia",
         "392"
        ],
        [
         "Federal Republic of Nigeria",
         "392"
        ],
        [
         "Federal Republic of Germany",
         "392"
        ],
        [
         "Federal Democratic Republic of Nepal",
         "392"
        ],
        [
         "French Republic",
         "392"
        ],
        [
         "Federal Republic of Somalia",
         "392"
        ],
        [
         "Guiana",
         "392"
        ],
        [
         "Hashemite Kingdom of Jordan",
         "392"
        ],
        [
         "Guam",
         "392"
        ],
        [
         "Guadeloupe",
         "392"
        ],
        [
         "Grand Duchy of Luxembourg",
         "392"
        ],
        [
         "Georgia",
         "392"
        ],
        [
         "Republic of Albania",
         "392"
        ],
        [
         "People's Republic of Bangladesh",
         "392"
        ],
        [
         "People's Republic of China",
         "392"
        ],
        [
         "Plurinational State of Bolivia",
         "392"
        ],
        [
         "Lao People's Democratic Republic",
         "392"
        ],
        [
         "Lebanese Republic",
         "392"
        ],
        [
         "Hellenic Republic",
         "392"
        ],
        [
         "Hong Kong Special Administrative Region of the People's Republic of China",
         "392"
        ],
        [
         "Islamic Republic of Iran",
         "392"
        ],
        [
         "Hungary",
         "392"
        ],
        [
         "Independent State of Papua New Guinea",
         "392"
        ],
        [
         "Independent State of Samoa",
         "392"
        ],
        [
         "Islamic Republic of Mauritania",
         "392"
        ],
        [
         "Islamic Republic of Afghanistan",
         "392"
        ],
        [
         "Italian Republic",
         "392"
        ],
        [
         "Islamic Republic of Pakistan",
         "392"
        ],
        [
         "Kingdom of Morocco",
         "392"
        ]
       ],
       "shape": {
        "columns": 1,
        "rows": 225
       }
      },
      "text/plain": [
       "Country\n",
       "Arab Republic of Egypt                   392\n",
       "Argentine Republic                       392\n",
       "Bailiwick of Jersey                      392\n",
       "Belize                                   392\n",
       "Barbados                                 392\n",
       "                                        ... \n",
       "Virgin Islands of the United States        4\n",
       "State of Eritrea                           3\n",
       "Federated States of Micronesia             2\n",
       "Antarctica                                 2\n",
       "Democratic People's Republic of Korea      2\n",
       "Name: count, Length: 225, dtype: int64"
      ]
     },
     "metadata": {},
     "output_type": "display_data"
    },
    {
     "data": {
      "application/vnd.microsoft.datawrangler.viewer.v0+json": {
       "columns": [
        {
         "name": "Spam",
         "rawType": "float64",
         "type": "float"
        },
        {
         "name": "count",
         "rawType": "int64",
         "type": "integer"
        }
       ],
       "ref": "480dc5ee-de31-4c84-b8e7-f6ead882a2b4",
       "rows": [
        [
         "1e-05",
         "4698"
        ],
        [
         "2e-05",
         "2729"
        ],
        [
         "3e-05",
         "2046"
        ],
        [
         "4e-05",
         "1660"
        ],
        [
         "5e-05",
         "1359"
        ],
        [
         "6e-05",
         "1136"
        ],
        [
         "7e-05",
         "1068"
        ],
        [
         "8e-05",
         "874"
        ],
        [
         "0.0001",
         "843"
        ],
        [
         "9e-05",
         "808"
        ],
        [
         "0.00011",
         "714"
        ],
        [
         "0.00013",
         "637"
        ],
        [
         "0.00012",
         "628"
        ],
        [
         "0.00014",
         "616"
        ],
        [
         "0.00016",
         "557"
        ],
        [
         "0.00015",
         "537"
        ],
        [
         "0.00017",
         "509"
        ],
        [
         "0.00018",
         "470"
        ],
        [
         "0.0002",
         "465"
        ],
        [
         "0.00019",
         "445"
        ],
        [
         "0.00021",
         "437"
        ],
        [
         "0.00022",
         "416"
        ],
        [
         "0.00025",
         "372"
        ],
        [
         "0.00024",
         "342"
        ],
        [
         "0.00023",
         "328"
        ],
        [
         "0.00026",
         "310"
        ],
        [
         "0.00029",
         "307"
        ],
        [
         "0.00027",
         "289"
        ],
        [
         "0.0003",
         "288"
        ],
        [
         "0.00028",
         "286"
        ],
        [
         "0.00033",
         "243"
        ],
        [
         "0.00031",
         "242"
        ],
        [
         "0.00035",
         "241"
        ],
        [
         "0.00036",
         "239"
        ],
        [
         "0.00032",
         "232"
        ],
        [
         "0.00034",
         "224"
        ],
        [
         "0.00038",
         "223"
        ],
        [
         "0.00037",
         "215"
        ],
        [
         "0.00042",
         "212"
        ],
        [
         "0.00039",
         "204"
        ],
        [
         "0.0004",
         "194"
        ],
        [
         "0.00041",
         "190"
        ],
        [
         "0.00044",
         "187"
        ],
        [
         "0.00043",
         "185"
        ],
        [
         "0.00047",
         "184"
        ],
        [
         "0.00045",
         "177"
        ],
        [
         "0.00048",
         "167"
        ],
        [
         "0.00049",
         "165"
        ],
        [
         "0.00046",
         "162"
        ],
        [
         "0.00051",
         "162"
        ]
       ],
       "shape": {
        "columns": 1,
        "rows": 4139
       }
      },
      "text/plain": [
       "Spam\n",
       "0.00001    4698\n",
       "0.00002    2729\n",
       "0.00003    2046\n",
       "0.00004    1660\n",
       "0.00005    1359\n",
       "           ... \n",
       "0.04840       1\n",
       "0.17932       1\n",
       "0.08137       1\n",
       "0.19277       1\n",
       "0.03432       1\n",
       "Name: count, Length: 4139, dtype: int64"
      ]
     },
     "metadata": {},
     "output_type": "display_data"
    },
    {
     "data": {
      "application/vnd.microsoft.datawrangler.viewer.v0+json": {
       "columns": [
        {
         "name": "Ransomware",
         "rawType": "float64",
         "type": "float"
        },
        {
         "name": "count",
         "rawType": "int64",
         "type": "integer"
        }
       ],
       "ref": "5b842dea-cd77-4baa-8f63-cfe8ac33c896",
       "rows": [
        [
         "3e-05",
         "5973"
        ],
        [
         "4e-05",
         "4696"
        ],
        [
         "2e-05",
         "4550"
        ],
        [
         "6e-05",
         "3966"
        ],
        [
         "5e-05",
         "3925"
        ],
        [
         "7e-05",
         "2937"
        ],
        [
         "8e-05",
         "2517"
        ],
        [
         "9e-05",
         "2264"
        ],
        [
         "0.0001",
         "1846"
        ],
        [
         "0.00011",
         "1768"
        ],
        [
         "1e-05",
         "1756"
        ],
        [
         "0.00012",
         "1389"
        ],
        [
         "0.00013",
         "1129"
        ],
        [
         "0.00014",
         "1018"
        ],
        [
         "0.00016",
         "983"
        ],
        [
         "0.00015",
         "935"
        ],
        [
         "0.00018",
         "692"
        ],
        [
         "0.00017",
         "654"
        ],
        [
         "0.00019",
         "515"
        ],
        [
         "0.0002",
         "476"
        ],
        [
         "0.00021",
         "429"
        ],
        [
         "0.00022",
         "401"
        ],
        [
         "0.00025",
         "367"
        ],
        [
         "0.00023",
         "355"
        ],
        [
         "0.00024",
         "325"
        ],
        [
         "0.00026",
         "305"
        ],
        [
         "0.00027",
         "293"
        ],
        [
         "0.00028",
         "284"
        ],
        [
         "0.00029",
         "255"
        ],
        [
         "0.0003",
         "234"
        ],
        [
         "0.00032",
         "213"
        ],
        [
         "0.00037",
         "200"
        ],
        [
         "0.00031",
         "200"
        ],
        [
         "0.00033",
         "154"
        ],
        [
         "0.00036",
         "150"
        ],
        [
         "0.00034",
         "144"
        ],
        [
         "0.00035",
         "140"
        ],
        [
         "0.00038",
         "133"
        ],
        [
         "0.00039",
         "130"
        ],
        [
         "0.0004",
         "127"
        ],
        [
         "0.00044",
         "92"
        ],
        [
         "0.00046",
         "90"
        ],
        [
         "0.00042",
         "82"
        ],
        [
         "0.00066",
         "78"
        ],
        [
         "0.00041",
         "78"
        ],
        [
         "0.00057",
         "77"
        ],
        [
         "0.00048",
         "74"
        ],
        [
         "0.00043",
         "71"
        ],
        [
         "0.00072",
         "70"
        ],
        [
         "0.00053",
         "68"
        ]
       ],
       "shape": {
        "columns": 1,
        "rows": 161
       }
      },
      "text/plain": [
       "Ransomware\n",
       "0.00003    5973\n",
       "0.00004    4696\n",
       "0.00002    4550\n",
       "0.00006    3966\n",
       "0.00005    3925\n",
       "           ... \n",
       "0.00161       1\n",
       "0.00313       1\n",
       "0.00163       1\n",
       "0.00184       1\n",
       "0.00643       1\n",
       "Name: count, Length: 161, dtype: int64"
      ]
     },
     "metadata": {},
     "output_type": "display_data"
    },
    {
     "data": {
      "application/vnd.microsoft.datawrangler.viewer.v0+json": {
       "columns": [
        {
         "name": "Local Infection",
         "rawType": "float64",
         "type": "float"
        },
        {
         "name": "count",
         "rawType": "int64",
         "type": "integer"
        }
       ],
       "ref": "d9653d1f-f607-4091-9caf-f81975ea20e5",
       "rows": [
        [
         "0.00771",
         "83"
        ],
        [
         "0.00595",
         "78"
        ],
        [
         "0.0061",
         "77"
        ],
        [
         "0.00774",
         "75"
        ],
        [
         "0.01006",
         "74"
        ],
        [
         "0.0076",
         "73"
        ],
        [
         "0.007",
         "73"
        ],
        [
         "0.00721",
         "72"
        ],
        [
         "0.00655",
         "72"
        ],
        [
         "0.00754",
         "71"
        ],
        [
         "0.00733",
         "71"
        ],
        [
         "0.01027",
         "71"
        ],
        [
         "0.00782",
         "71"
        ],
        [
         "0.00889",
         "70"
        ],
        [
         "0.01036",
         "69"
        ],
        [
         "0.00738",
         "69"
        ],
        [
         "0.00656",
         "69"
        ],
        [
         "0.00699",
         "68"
        ],
        [
         "0.00681",
         "68"
        ],
        [
         "0.00657",
         "68"
        ],
        [
         "0.00697",
         "68"
        ],
        [
         "0.0072",
         "68"
        ],
        [
         "0.00767",
         "67"
        ],
        [
         "0.00821",
         "67"
        ],
        [
         "0.0062",
         "67"
        ],
        [
         "0.00671",
         "67"
        ],
        [
         "0.00725",
         "67"
        ],
        [
         "0.00784",
         "67"
        ],
        [
         "0.00773",
         "67"
        ],
        [
         "0.00692",
         "66"
        ],
        [
         "0.00876",
         "66"
        ],
        [
         "0.00722",
         "66"
        ],
        [
         "0.00633",
         "66"
        ],
        [
         "0.00653",
         "66"
        ],
        [
         "0.00658",
         "66"
        ],
        [
         "0.00906",
         "66"
        ],
        [
         "0.00846",
         "66"
        ],
        [
         "0.00679",
         "66"
        ],
        [
         "0.00998",
         "65"
        ],
        [
         "0.00861",
         "65"
        ],
        [
         "0.00611",
         "65"
        ],
        [
         "0.00959",
         "65"
        ],
        [
         "0.00624",
         "65"
        ],
        [
         "0.00894",
         "64"
        ],
        [
         "0.00598",
         "64"
        ],
        [
         "0.00909",
         "64"
        ],
        [
         "0.01025",
         "64"
        ],
        [
         "0.00686",
         "64"
        ],
        [
         "0.00716",
         "64"
        ],
        [
         "0.00628",
         "64"
        ]
       ],
       "shape": {
        "columns": 1,
        "rows": 4036
       }
      },
      "text/plain": [
       "Local Infection\n",
       "0.00771    83\n",
       "0.00595    78\n",
       "0.00610    77\n",
       "0.00774    75\n",
       "0.01006    74\n",
       "           ..\n",
       "0.04072     1\n",
       "0.03867     1\n",
       "0.04166     1\n",
       "0.04133     1\n",
       "0.00086     1\n",
       "Name: count, Length: 4036, dtype: int64"
      ]
     },
     "metadata": {},
     "output_type": "display_data"
    },
    {
     "data": {
      "application/vnd.microsoft.datawrangler.viewer.v0+json": {
       "columns": [
        {
         "name": "Exploit",
         "rawType": "float64",
         "type": "float"
        },
        {
         "name": "count",
         "rawType": "int64",
         "type": "integer"
        }
       ],
       "ref": "e333fedb-7652-4b5b-9be4-d3f9bc84b81c",
       "rows": [
        [
         "0.00015",
         "1195"
        ],
        [
         "0.00016",
         "1171"
        ],
        [
         "0.00013",
         "1147"
        ],
        [
         "0.00014",
         "1137"
        ],
        [
         "0.00011",
         "1102"
        ],
        [
         "0.00012",
         "1063"
        ],
        [
         "0.00017",
         "1040"
        ],
        [
         "0.00028",
         "1027"
        ],
        [
         "0.00018",
         "1027"
        ],
        [
         "0.00025",
         "1009"
        ],
        [
         "0.00021",
         "1002"
        ],
        [
         "0.00023",
         "1000"
        ],
        [
         "0.00031",
         "990"
        ],
        [
         "0.0002",
         "952"
        ],
        [
         "0.00027",
         "950"
        ],
        [
         "0.00022",
         "928"
        ],
        [
         "0.0003",
         "925"
        ],
        [
         "0.00039",
         "920"
        ],
        [
         "0.00032",
         "917"
        ],
        [
         "0.00019",
         "916"
        ],
        [
         "0.00035",
         "899"
        ],
        [
         "0.00038",
         "894"
        ],
        [
         "0.00036",
         "886"
        ],
        [
         "0.00029",
         "885"
        ],
        [
         "0.00024",
         "879"
        ],
        [
         "0.00041",
         "873"
        ],
        [
         "0.00034",
         "851"
        ],
        [
         "8e-05",
         "847"
        ],
        [
         "0.00026",
         "845"
        ],
        [
         "0.00037",
         "834"
        ],
        [
         "0.00042",
         "829"
        ],
        [
         "0.0004",
         "811"
        ],
        [
         "0.00033",
         "795"
        ],
        [
         "0.00045",
         "784"
        ],
        [
         "0.00043",
         "780"
        ],
        [
         "0.0001",
         "766"
        ],
        [
         "0.00048",
         "750"
        ],
        [
         "0.00047",
         "742"
        ],
        [
         "0.00044",
         "736"
        ],
        [
         "0.00051",
         "729"
        ],
        [
         "9e-05",
         "726"
        ],
        [
         "0.00049",
         "716"
        ],
        [
         "0.00053",
         "705"
        ],
        [
         "0.00046",
         "703"
        ],
        [
         "0.0005",
         "701"
        ],
        [
         "0.00056",
         "697"
        ],
        [
         "0.00055",
         "683"
        ],
        [
         "0.00052",
         "664"
        ],
        [
         "6e-05",
         "664"
        ],
        [
         "0.00054",
         "631"
        ]
       ],
       "shape": {
        "columns": 1,
        "rows": 332
       }
      },
      "text/plain": [
       "Exploit\n",
       "0.00015    1195\n",
       "0.00016    1171\n",
       "0.00013    1147\n",
       "0.00014    1137\n",
       "0.00011    1102\n",
       "           ... \n",
       "0.00232       1\n",
       "0.00367       1\n",
       "0.00411       1\n",
       "0.00363       1\n",
       "0.00316       1\n",
       "Name: count, Length: 332, dtype: int64"
      ]
     },
     "metadata": {},
     "output_type": "display_data"
    },
    {
     "data": {
      "application/vnd.microsoft.datawrangler.viewer.v0+json": {
       "columns": [
        {
         "name": "Malicious Mail",
         "rawType": "float64",
         "type": "float"
        },
        {
         "name": "count",
         "rawType": "int64",
         "type": "integer"
        }
       ],
       "ref": "5c2c14d7-f476-476d-a62a-c17347b867d4",
       "rows": [
        [
         "6e-05",
         "813"
        ],
        [
         "0.00021",
         "753"
        ],
        [
         "0.00011",
         "748"
        ],
        [
         "0.00014",
         "727"
        ],
        [
         "9e-05",
         "724"
        ],
        [
         "7e-05",
         "698"
        ],
        [
         "0.00013",
         "667"
        ],
        [
         "0.00012",
         "664"
        ],
        [
         "0.00017",
         "662"
        ],
        [
         "0.00028",
         "652"
        ],
        [
         "0.00015",
         "641"
        ],
        [
         "0.00031",
         "634"
        ],
        [
         "0.00025",
         "615"
        ],
        [
         "0.00018",
         "608"
        ],
        [
         "0.00016",
         "608"
        ],
        [
         "8e-05",
         "603"
        ],
        [
         "0.0001",
         "601"
        ],
        [
         "0.0002",
         "594"
        ],
        [
         "0.00022",
         "582"
        ],
        [
         "0.00027",
         "576"
        ],
        [
         "0.00029",
         "562"
        ],
        [
         "0.00023",
         "556"
        ],
        [
         "0.0003",
         "544"
        ],
        [
         "3e-05",
         "540"
        ],
        [
         "0.00032",
         "538"
        ],
        [
         "0.0004",
         "525"
        ],
        [
         "0.00024",
         "513"
        ],
        [
         "0.00019",
         "511"
        ],
        [
         "0.00026",
         "510"
        ],
        [
         "0.00036",
         "509"
        ],
        [
         "5e-05",
         "506"
        ],
        [
         "0.00038",
         "493"
        ],
        [
         "0.00034",
         "491"
        ],
        [
         "0.00041",
         "488"
        ],
        [
         "0.00033",
         "487"
        ],
        [
         "0.00037",
         "481"
        ],
        [
         "4e-05",
         "481"
        ],
        [
         "0.00039",
         "470"
        ],
        [
         "0.00035",
         "457"
        ],
        [
         "0.00042",
         "441"
        ],
        [
         "0.00055",
         "439"
        ],
        [
         "0.00046",
         "436"
        ],
        [
         "0.00044",
         "433"
        ],
        [
         "0.00043",
         "423"
        ],
        [
         "0.00056",
         "422"
        ],
        [
         "0.00057",
         "418"
        ],
        [
         "0.00053",
         "416"
        ],
        [
         "0.00047",
         "414"
        ],
        [
         "0.00052",
         "410"
        ],
        [
         "0.00049",
         "402"
        ]
       ],
       "shape": {
        "columns": 1,
        "rows": 1125
       }
      },
      "text/plain": [
       "Malicious Mail\n",
       "0.00006    813\n",
       "0.00021    753\n",
       "0.00011    748\n",
       "0.00014    727\n",
       "0.00009    724\n",
       "          ... \n",
       "0.01366      1\n",
       "0.01274      1\n",
       "0.01350      1\n",
       "0.00849      1\n",
       "0.01143      1\n",
       "Name: count, Length: 1125, dtype: int64"
      ]
     },
     "metadata": {},
     "output_type": "display_data"
    },
    {
     "data": {
      "application/vnd.microsoft.datawrangler.viewer.v0+json": {
       "columns": [
        {
         "name": "Network Attack",
         "rawType": "float64",
         "type": "float"
        },
        {
         "name": "count",
         "rawType": "int64",
         "type": "integer"
        }
       ],
       "ref": "4dda84e5-cd8b-4880-9aa5-35675923a05b",
       "rows": [
        [
         "0.00055",
         "471"
        ],
        [
         "0.00058",
         "440"
        ],
        [
         "0.00063",
         "404"
        ],
        [
         "0.00083",
         "401"
        ],
        [
         "0.0006",
         "399"
        ],
        [
         "0.00054",
         "399"
        ],
        [
         "0.00056",
         "394"
        ],
        [
         "0.00047",
         "393"
        ],
        [
         "0.00053",
         "392"
        ],
        [
         "0.00077",
         "390"
        ],
        [
         "0.00075",
         "381"
        ],
        [
         "0.00076",
         "380"
        ],
        [
         "0.00079",
         "379"
        ],
        [
         "0.00082",
         "377"
        ],
        [
         "0.00059",
         "377"
        ],
        [
         "0.00057",
         "371"
        ],
        [
         "0.00078",
         "366"
        ],
        [
         "0.0004",
         "361"
        ],
        [
         "0.00066",
         "360"
        ],
        [
         "0.00064",
         "356"
        ],
        [
         "0.00038",
         "354"
        ],
        [
         "0.00091",
         "354"
        ],
        [
         "0.00072",
         "352"
        ],
        [
         "0.00067",
         "352"
        ],
        [
         "0.00081",
         "348"
        ],
        [
         "0.00046",
         "346"
        ],
        [
         "0.00041",
         "343"
        ],
        [
         "0.00062",
         "341"
        ],
        [
         "0.00086",
         "340"
        ],
        [
         "0.00071",
         "339"
        ],
        [
         "0.00065",
         "335"
        ],
        [
         "0.0005",
         "335"
        ],
        [
         "0.00048",
         "333"
        ],
        [
         "0.00039",
         "333"
        ],
        [
         "0.0009",
         "332"
        ],
        [
         "0.00088",
         "332"
        ],
        [
         "0.00069",
         "332"
        ],
        [
         "0.0007",
         "331"
        ],
        [
         "0.0008",
         "330"
        ],
        [
         "0.00043",
         "329"
        ],
        [
         "0.00051",
         "327"
        ],
        [
         "0.00085",
         "326"
        ],
        [
         "0.00061",
         "326"
        ],
        [
         "0.00052",
         "325"
        ],
        [
         "0.00095",
         "320"
        ],
        [
         "0.00073",
         "320"
        ],
        [
         "0.0003",
         "318"
        ],
        [
         "0.00096",
         "316"
        ],
        [
         "0.00036",
         "316"
        ],
        [
         "0.00074",
         "315"
        ]
       ],
       "shape": {
        "columns": 1,
        "rows": 2012
       }
      },
      "text/plain": [
       "Network Attack\n",
       "0.00055    471\n",
       "0.00058    440\n",
       "0.00063    404\n",
       "0.00083    401\n",
       "0.00060    399\n",
       "          ... \n",
       "0.01836      1\n",
       "0.02255      1\n",
       "0.01257      1\n",
       "0.02238      1\n",
       "0.02410      1\n",
       "Name: count, Length: 2012, dtype: int64"
      ]
     },
     "metadata": {},
     "output_type": "display_data"
    },
    {
     "data": {
      "application/vnd.microsoft.datawrangler.viewer.v0+json": {
       "columns": [
        {
         "name": "On Demand Scan",
         "rawType": "float64",
         "type": "float"
        },
        {
         "name": "count",
         "rawType": "int64",
         "type": "integer"
        }
       ],
       "ref": "fbf15506-f1fe-43a9-b94b-47b08b0c04e1",
       "rows": [
        [
         "0.00483",
         "99"
        ],
        [
         "0.00512",
         "98"
        ],
        [
         "0.00391",
         "92"
        ],
        [
         "0.00474",
         "91"
        ],
        [
         "0.00552",
         "91"
        ],
        [
         "0.00523",
         "90"
        ],
        [
         "0.00544",
         "88"
        ],
        [
         "0.00601",
         "88"
        ],
        [
         "0.00515",
         "88"
        ],
        [
         "0.0054",
         "87"
        ],
        [
         "0.00509",
         "87"
        ],
        [
         "0.00553",
         "86"
        ],
        [
         "0.00466",
         "86"
        ],
        [
         "0.00548",
         "86"
        ],
        [
         "0.00534",
         "85"
        ],
        [
         "0.00503",
         "85"
        ],
        [
         "0.00479",
         "85"
        ],
        [
         "0.00662",
         "85"
        ],
        [
         "0.00615",
         "85"
        ],
        [
         "0.00493",
         "84"
        ],
        [
         "0.00562",
         "84"
        ],
        [
         "0.00524",
         "84"
        ],
        [
         "0.00406",
         "83"
        ],
        [
         "0.00535",
         "83"
        ],
        [
         "0.00416",
         "83"
        ],
        [
         "0.00505",
         "82"
        ],
        [
         "0.00529",
         "82"
        ],
        [
         "0.00546",
         "82"
        ],
        [
         "0.0043",
         "82"
        ],
        [
         "0.00538",
         "82"
        ],
        [
         "0.00611",
         "81"
        ],
        [
         "0.00507",
         "81"
        ],
        [
         "0.00475",
         "81"
        ],
        [
         "0.00425",
         "81"
        ],
        [
         "0.00456",
         "81"
        ],
        [
         "0.00477",
         "81"
        ],
        [
         "0.00485",
         "81"
        ],
        [
         "0.00458",
         "81"
        ],
        [
         "0.00633",
         "80"
        ],
        [
         "0.00596",
         "80"
        ],
        [
         "0.00758",
         "80"
        ],
        [
         "0.0053",
         "80"
        ],
        [
         "0.00433",
         "80"
        ],
        [
         "0.00573",
         "79"
        ],
        [
         "0.00912",
         "79"
        ],
        [
         "0.00666",
         "79"
        ],
        [
         "0.00459",
         "79"
        ],
        [
         "0.00451",
         "78"
        ],
        [
         "0.00543",
         "78"
        ],
        [
         "0.00737",
         "78"
        ]
       ],
       "shape": {
        "columns": 1,
        "rows": 3012
       }
      },
      "text/plain": [
       "On Demand Scan\n",
       "0.00483    99\n",
       "0.00512    98\n",
       "0.00391    92\n",
       "0.00474    91\n",
       "0.00552    91\n",
       "           ..\n",
       "0.03480     1\n",
       "0.02911     1\n",
       "0.02825     1\n",
       "0.02737     1\n",
       "0.02687     1\n",
       "Name: count, Length: 3012, dtype: int64"
      ]
     },
     "metadata": {},
     "output_type": "display_data"
    },
    {
     "data": {
      "application/vnd.microsoft.datawrangler.viewer.v0+json": {
       "columns": [
        {
         "name": "Web Threat",
         "rawType": "float64",
         "type": "float"
        },
        {
         "name": "count",
         "rawType": "int64",
         "type": "integer"
        }
       ],
       "ref": "dda7420b-0319-4c53-b1f8-08f80774dfa6",
       "rows": [
        [
         "0.01231",
         "94"
        ],
        [
         "0.01247",
         "92"
        ],
        [
         "0.01302",
         "90"
        ],
        [
         "0.01186",
         "88"
        ],
        [
         "0.01162",
         "88"
        ],
        [
         "0.01239",
         "88"
        ],
        [
         "0.01225",
         "86"
        ],
        [
         "0.01153",
         "86"
        ],
        [
         "0.01175",
         "85"
        ],
        [
         "0.01295",
         "85"
        ],
        [
         "0.01033",
         "85"
        ],
        [
         "0.01089",
         "84"
        ],
        [
         "0.01233",
         "83"
        ],
        [
         "0.01189",
         "83"
        ],
        [
         "0.01158",
         "83"
        ],
        [
         "0.01269",
         "83"
        ],
        [
         "0.0116",
         "83"
        ],
        [
         "0.00986",
         "83"
        ],
        [
         "0.01227",
         "82"
        ],
        [
         "0.01151",
         "82"
        ],
        [
         "0.01097",
         "82"
        ],
        [
         "0.01254",
         "82"
        ],
        [
         "0.01094",
         "81"
        ],
        [
         "0.01287",
         "81"
        ],
        [
         "0.01342",
         "81"
        ],
        [
         "0.01314",
         "81"
        ],
        [
         "0.01221",
         "80"
        ],
        [
         "0.0109",
         "80"
        ],
        [
         "0.01294",
         "80"
        ],
        [
         "0.00968",
         "80"
        ],
        [
         "0.01134",
         "79"
        ],
        [
         "0.01253",
         "79"
        ],
        [
         "0.01285",
         "79"
        ],
        [
         "0.01238",
         "79"
        ],
        [
         "0.01299",
         "79"
        ],
        [
         "0.01222",
         "78"
        ],
        [
         "0.0125",
         "78"
        ],
        [
         "0.01104",
         "78"
        ],
        [
         "0.01293",
         "78"
        ],
        [
         "0.01241",
         "78"
        ],
        [
         "0.01183",
         "78"
        ],
        [
         "0.01168",
         "78"
        ],
        [
         "0.01076",
         "78"
        ],
        [
         "0.01289",
         "77"
        ],
        [
         "0.01255",
         "77"
        ],
        [
         "0.01116",
         "77"
        ],
        [
         "0.01249",
         "77"
        ],
        [
         "0.01243",
         "77"
        ],
        [
         "0.0122",
         "77"
        ],
        [
         "0.01352",
         "77"
        ]
       ],
       "shape": {
        "columns": 1,
        "rows": 2904
       }
      },
      "text/plain": [
       "Web Threat\n",
       "0.01231    94\n",
       "0.01247    92\n",
       "0.01302    90\n",
       "0.01186    88\n",
       "0.01162    88\n",
       "           ..\n",
       "0.03065     1\n",
       "0.02773     1\n",
       "0.02984     1\n",
       "0.02781     1\n",
       "0.03428     1\n",
       "Name: count, Length: 2904, dtype: int64"
      ]
     },
     "metadata": {},
     "output_type": "display_data"
    }
   ],
   "source": [
    "#check columns that can be encoded\n",
    "for i in df.columns:\n",
    "    if df[i].dtype == 'int64':\n",
    "        pass\n",
    "    else:\n",
    "        display(df[i].value_counts())"
   ]
  },
  {
   "cell_type": "markdown",
   "id": "d133856b",
   "metadata": {},
   "source": [
    "##### Feature Engineering"
   ]
  },
  {
   "cell_type": "markdown",
   "id": "cd7daaac",
   "metadata": {},
   "source": [
    "##### Model Building and Training"
   ]
  },
  {
   "cell_type": "markdown",
   "id": "7372795a",
   "metadata": {},
   "source": [
    "##### Evaluation and Iteration"
   ]
  }
 ],
 "metadata": {
  "kernelspec": {
   "display_name": "ds-ai-ml-projects",
   "language": "python",
   "name": "ds-ai-ml-projects"
  },
  "language_info": {
   "codemirror_mode": {
    "name": "ipython",
    "version": 3
   },
   "file_extension": ".py",
   "mimetype": "text/x-python",
   "name": "python",
   "nbconvert_exporter": "python",
   "pygments_lexer": "ipython3",
   "version": "3.11.9"
  }
 },
 "nbformat": 4,
 "nbformat_minor": 5
}
