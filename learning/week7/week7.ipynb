{
 "cells": [
  {
   "cell_type": "markdown",
   "id": "d356c855",
   "metadata": {},
   "source": [
    "# Week 8: Advanced Regression"
   ]
  },
  {
   "cell_type": "markdown",
   "id": "984bbb5c",
   "metadata": {},
   "source": [
    "Complex regression types like Polynomial, Ridge, Lasso, Elastic Net, etc."
   ]
  },
  {
   "cell_type": "markdown",
   "id": "44adee81",
   "metadata": {},
   "source": [
    "https://www.geeksforgeeks.org/machine-learning/ml-different-regression-types/"
   ]
  }
 ],
 "metadata": {
  "language_info": {
   "name": "python"
  }
 },
 "nbformat": 4,
 "nbformat_minor": 5
}
