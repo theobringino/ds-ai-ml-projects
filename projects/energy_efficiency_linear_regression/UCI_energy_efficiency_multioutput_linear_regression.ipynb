{
 "cells": [
  {
   "cell_type": "markdown",
   "id": "2df068b7",
   "metadata": {},
   "source": [
    "UC Irvine - Energy Efficiency Multi-Output Linear Regression\n",
    "\n",
    "This project is a deep dive into the findings from my earlier baseline regression work on the UC Irvine Energy Efficiency dataset.\n",
    "\n",
    "In the first project, I compared separate linear regression models (one for heating load, one for cooling load) with a multi-output model trained jointly on both targets. The evaluation metrics (MSE, RMSE, R²) were almost identical, but the visualizations told a deeper story:\n",
    "- Heating Load residuals shifted downward, showing increased variability compared to the separate model.\n",
    "- Heating Load predictions shifted upward, suggesting less stability when modeled alongside cooling load.\n",
    "- Cooling Load remained largely unchanged, reinforcing that cooling efficiency is more stable and less affected by joint modeling.\n",
    "\n",
    "These differences highlighted an important insight: building designs appear to be optimized more for cooling efficiency than heating efficiency. Cooling load remained steady, while heating load absorbed most of the trade-off when modeled together.\n",
    "\n",
    "Because of these findings, I wanted to separate this analysis into its own project. Here, I expand on the role of multi-output regression — not just as a technique, but as a way to uncover how interdependent targets can reveal hidden trade-offs in building design."
   ]
  }
 ],
 "metadata": {
  "language_info": {
   "name": "python"
  }
 },
 "nbformat": 4,
 "nbformat_minor": 5
}
