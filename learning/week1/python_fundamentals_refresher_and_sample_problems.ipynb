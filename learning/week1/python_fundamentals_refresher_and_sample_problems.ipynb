{
 "cells": [
  {
   "cell_type": "markdown",
   "id": "6d15640e",
   "metadata": {},
   "source": [
    "# Python Basics \n",
    "\n",
    "This will be a separate refresher which serves as proof that I've learned Python in the past and I still know Python to this day. This will cover the basics of Python as well as sample problems that showcases the usage of the fundamentals. \n",
    "\n",
    "While all items are not demonstrated here, I will try to implement them as I go thus this notebook will be updated every time I want to showcase something."
   ]
  },
  {
   "cell_type": "code",
   "execution_count": 2,
   "id": "8fd65396",
   "metadata": {},
   "outputs": [
    {
     "name": "stdout",
     "output_type": "stream",
     "text": [
      "Hello, world!\n"
     ]
    }
   ],
   "source": [
    "print(\"Hello, world!\")"
   ]
  },
  {
   "cell_type": "code",
   "execution_count": 4,
   "id": "b7cd8c5a",
   "metadata": {},
   "outputs": [
    {
     "name": "stdout",
     "output_type": "stream",
     "text": [
      "3.11.9 (tags/v3.11.9:de54cf5, Apr  2 2024, 10:12:12) [MSC v.1938 64 bit (AMD64)]\n"
     ]
    }
   ],
   "source": [
    "import sys\n",
    "print(sys.version)"
   ]
  },
  {
   "cell_type": "markdown",
   "id": "a2135362",
   "metadata": {},
   "source": [
    "## Problem # 1 Overview\n",
    "\n",
    "**Goal:** Demonstrate core Python programming concepts through a simple number comparison program.\n",
    "\n",
    "**Skills Showcased:**\n",
    "- User input handling and type casting\n",
    "- Use of `range` objects and loop iteration\n",
    "- Conditional statements (`if`, `elif`, `else`)\n",
    "- Functions for code organization\n",
    "- Fundamental control structures such as `while` loops\n",
    "- Error handling with `try` / `except`\n",
    "\n",
    "**Note:** This is a self-created sample problem inspired by identity systems to practice basic logic and flow control.\n",
    "\n",
    "\n",
    "**How it works:**\n",
    "1. The user defines a reference range and a comparison range.\n",
    "2. Each number in the comparison range is evaluated against all numbers in the reference range.\n",
    "3. The program prints whether each reference number is greater than, equal to, or less than the comparison number.\n",
    "4. For each comparison number, it outputs how many reference numbers are greater.\n"
   ]
  },
  {
   "cell_type": "code",
   "execution_count": null,
   "id": "74d65dcd",
   "metadata": {},
   "outputs": [],
   "source": [
    "# Single-line comment example: Compare each number in a comparison range to a set of reference numbers.\n",
    "\"\"\"\n",
    "Multiline comment example:\n",
    "This function takes two ranges (reference and comparison).\n",
    "It checks whether each reference number is greater than, equal to, or less than each comparison number.\n",
    "The program also counts how many reference numbers are greater than the comparison number.\n",
    "\"\"\"\n",
    "\n",
    "def compare_to_ref_range(reference_range, comparison_range):\n",
    "    \n",
    "    for y in comparison_range:\n",
    "        greater_nums = []\n",
    "        print(f\"Comparing values against {y}:\")\n",
    "        for i in reference_range:\n",
    "            if (i > y):\n",
    "                # print(f\"{i} is greater than {y}\")\n",
    "                # greater_nums.append(i)\n",
    "                greater_nums = [i for i in reference_range if i > y]\n",
    "            elif (i == y):\n",
    "                # print(\"Same number\")\n",
    "                continue\n",
    "            else:\n",
    "                # print(f\"{i} is less than {y}\")\n",
    "                continue\n",
    "            \n",
    "        print(f\"There are {len(greater_nums)} numbers bigger than {y}: {greater_nums}\".upper())\n",
    "        if y == comparison_range[-1]:\n",
    "            print(\"=\"*100)\n",
    "        else:\n",
    "            print(\"-\"*100)\n"
   ]
  },
  {
   "cell_type": "code",
   "execution_count": 35,
   "id": "2306ccc5",
   "metadata": {},
   "outputs": [
    {
     "name": "stdout",
     "output_type": "stream",
     "text": [
      "Your reference range is from 1 to 10.\n",
      "Your comparison range is from 1 to 5.\n",
      "====================================================================================================\n",
      "Comparing values against 1:\n",
      "THERE ARE 9 NUMBERS BIGGER THAN 1: [2, 3, 4, 5, 6, 7, 8, 9, 10]\n",
      "----------------------------------------------------------------------------------------------------\n",
      "Comparing values against 2:\n",
      "THERE ARE 8 NUMBERS BIGGER THAN 2: [3, 4, 5, 6, 7, 8, 9, 10]\n",
      "----------------------------------------------------------------------------------------------------\n",
      "Comparing values against 3:\n",
      "THERE ARE 7 NUMBERS BIGGER THAN 3: [4, 5, 6, 7, 8, 9, 10]\n",
      "----------------------------------------------------------------------------------------------------\n",
      "Comparing values against 4:\n",
      "THERE ARE 6 NUMBERS BIGGER THAN 4: [5, 6, 7, 8, 9, 10]\n",
      "----------------------------------------------------------------------------------------------------\n",
      "Comparing values against 5:\n",
      "THERE ARE 5 NUMBERS BIGGER THAN 5: [6, 7, 8, 9, 10]\n",
      "====================================================================================================\n"
     ]
    }
   ],
   "source": [
    "from IPython.display import clear_output\n",
    "while True:\n",
    "    try:\n",
    "        ref_min = int(input(\"Input reference minimum: \"))\n",
    "        ref_max = int(input(\"Input reference maximum: \"))\n",
    "        comp_min = int(input(\"Input comparison minimum: \"))\n",
    "        comp_max = int(input(\"Input comparison maximum: \"))\n",
    "        reference = range(ref_min, ref_max + 1)\n",
    "        comparison = range(comp_min, comp_max + 1)\n",
    "    except ValueError:\n",
    "        print(\"Numbers are only accepted. Please input numbers only.\")\n",
    "        clear_output(wait=True)\n",
    "        continue\n",
    "\n",
    "    print(f\"Your reference range is from {ref_min} to {ref_max}.\")\n",
    "    print(f\"Your comparison range is from {comp_min} to {comp_max}.\")\n",
    "    print(\"=\" * 100)\n",
    "    if ref_max < ref_min:\n",
    "        print(f\"Reference range maximum {ref_max} is less than the minimum {ref_min}\")\n",
    "        continue\n",
    "    elif comp_max < comp_min:\n",
    "        print(f\"Comparison range maximum {comp_max} is less than the minimum {comp_min}\")\n",
    "        continue\n",
    "    else:\n",
    "        compare_to_ref_range(reference, comparison)\n",
    "        break"
   ]
  },
  {
   "cell_type": "code",
   "execution_count": 36,
   "id": "85d7a75f",
   "metadata": {},
   "outputs": [
    {
     "name": "stdout",
     "output_type": "stream",
     "text": [
      "Recursion Example Results:\n",
      "1\n",
      "3\n",
      "6\n",
      "10\n",
      "15\n",
      "21\n"
     ]
    },
    {
     "data": {
      "text/plain": [
       "21"
      ]
     },
     "execution_count": 36,
     "metadata": {},
     "output_type": "execute_result"
    }
   ],
   "source": [
    "def tri_recursion(k):\n",
    "  if(k > 0):\n",
    "    result = k + tri_recursion(k - 1)\n",
    "    print(result)\n",
    "  else:\n",
    "    result = 0\n",
    "  return result\n",
    "\n",
    "print(\"Recursion Example Results:\")\n",
    "tri_recursion(6)"
   ]
  }
 ],
 "metadata": {
  "kernelspec": {
   "display_name": "Python 3",
   "language": "python",
   "name": "python3"
  },
  "language_info": {
   "codemirror_mode": {
    "name": "ipython",
    "version": 3
   },
   "file_extension": ".py",
   "mimetype": "text/x-python",
   "name": "python",
   "nbconvert_exporter": "python",
   "pygments_lexer": "ipython3",
   "version": "3.11.9"
  }
 },
 "nbformat": 4,
 "nbformat_minor": 5
}
