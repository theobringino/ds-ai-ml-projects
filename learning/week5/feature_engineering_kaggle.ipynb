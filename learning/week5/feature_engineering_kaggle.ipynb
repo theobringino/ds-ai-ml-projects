{
 "cells": [
  {
   "cell_type": "markdown",
   "id": "a17b64ce",
   "metadata": {},
   "source": [
    "# Feature Engineering Lab"
   ]
  },
  {
   "cell_type": "markdown",
   "id": "424e6418",
   "metadata": {},
   "source": [
    "This lab will be the testing area for feature engineering. I will be using the titanic dataset for ease of use. Notes will be in the notes file."
   ]
  },
  {
   "cell_type": "markdown",
   "id": "65df0068",
   "metadata": {},
   "source": [
    "### Complete case Analysis"
   ]
  },
  {
   "cell_type": "code",
   "execution_count": 28,
   "id": "9a9dc2b3",
   "metadata": {},
   "outputs": [],
   "source": [
    "import numpy as np # linear algebra\n",
    "import pandas as pd # data processing, CSV file I/O (e.g. pd.read_csv)\n",
    "import matplotlib.pyplot as plt # for data visualization\n",
    "import seaborn as sns # for statistical data visualization\n",
    "import pylab \n",
    "import scipy.stats as stats\n",
    "import datetime\n",
    "import warnings\n",
    "from sklearn.model_selection import train_test_split\n",
    "warnings.filterwarnings('ignore')\n",
    "%matplotlib inline"
   ]
  },
  {
   "cell_type": "code",
   "execution_count": 5,
   "id": "d4793e86",
   "metadata": {},
   "outputs": [
    {
     "data": {
      "application/vnd.microsoft.datawrangler.viewer.v0+json": {
       "columns": [
        {
         "name": "index",
         "rawType": "int64",
         "type": "integer"
        },
        {
         "name": "PassengerId",
         "rawType": "int64",
         "type": "integer"
        },
        {
         "name": "Survived",
         "rawType": "int64",
         "type": "integer"
        },
        {
         "name": "Pclass",
         "rawType": "int64",
         "type": "integer"
        },
        {
         "name": "Name",
         "rawType": "object",
         "type": "string"
        },
        {
         "name": "Sex",
         "rawType": "object",
         "type": "string"
        },
        {
         "name": "Age",
         "rawType": "float64",
         "type": "float"
        },
        {
         "name": "SibSp",
         "rawType": "int64",
         "type": "integer"
        },
        {
         "name": "Parch",
         "rawType": "int64",
         "type": "integer"
        },
        {
         "name": "Ticket",
         "rawType": "object",
         "type": "string"
        },
        {
         "name": "Fare",
         "rawType": "float64",
         "type": "float"
        },
        {
         "name": "Cabin",
         "rawType": "object",
         "type": "unknown"
        },
        {
         "name": "Embarked",
         "rawType": "object",
         "type": "unknown"
        }
       ],
       "ref": "4a05622b-f2b6-4c90-a7b4-bbb98e086c90",
       "rows": [
        [
         "0",
         "1",
         "0",
         "3",
         "Braund, Mr. Owen Harris",
         "male",
         "22.0",
         "1",
         "0",
         "A/5 21171",
         "7.25",
         null,
         "S"
        ],
        [
         "1",
         "2",
         "1",
         "1",
         "Cumings, Mrs. John Bradley (Florence Briggs Thayer)",
         "female",
         "38.0",
         "1",
         "0",
         "PC 17599",
         "71.2833",
         "C85",
         "C"
        ],
        [
         "2",
         "3",
         "1",
         "3",
         "Heikkinen, Miss. Laina",
         "female",
         "26.0",
         "0",
         "0",
         "STON/O2. 3101282",
         "7.925",
         null,
         "S"
        ],
        [
         "3",
         "4",
         "1",
         "1",
         "Futrelle, Mrs. Jacques Heath (Lily May Peel)",
         "female",
         "35.0",
         "1",
         "0",
         "113803",
         "53.1",
         "C123",
         "S"
        ],
        [
         "4",
         "5",
         "0",
         "3",
         "Allen, Mr. William Henry",
         "male",
         "35.0",
         "0",
         "0",
         "373450",
         "8.05",
         null,
         "S"
        ],
        [
         "5",
         "6",
         "0",
         "3",
         "Moran, Mr. James",
         "male",
         null,
         "0",
         "0",
         "330877",
         "8.4583",
         null,
         "Q"
        ],
        [
         "6",
         "7",
         "0",
         "1",
         "McCarthy, Mr. Timothy J",
         "male",
         "54.0",
         "0",
         "0",
         "17463",
         "51.8625",
         "E46",
         "S"
        ],
        [
         "7",
         "8",
         "0",
         "3",
         "Palsson, Master. Gosta Leonard",
         "male",
         "2.0",
         "3",
         "1",
         "349909",
         "21.075",
         null,
         "S"
        ],
        [
         "8",
         "9",
         "1",
         "3",
         "Johnson, Mrs. Oscar W (Elisabeth Vilhelmina Berg)",
         "female",
         "27.0",
         "0",
         "2",
         "347742",
         "11.1333",
         null,
         "S"
        ],
        [
         "9",
         "10",
         "1",
         "2",
         "Nasser, Mrs. Nicholas (Adele Achem)",
         "female",
         "14.0",
         "1",
         "0",
         "237736",
         "30.0708",
         null,
         "C"
        ],
        [
         "10",
         "11",
         "1",
         "3",
         "Sandstrom, Miss. Marguerite Rut",
         "female",
         "4.0",
         "1",
         "1",
         "PP 9549",
         "16.7",
         "G6",
         "S"
        ],
        [
         "11",
         "12",
         "1",
         "1",
         "Bonnell, Miss. Elizabeth",
         "female",
         "58.0",
         "0",
         "0",
         "113783",
         "26.55",
         "C103",
         "S"
        ],
        [
         "12",
         "13",
         "0",
         "3",
         "Saundercock, Mr. William Henry",
         "male",
         "20.0",
         "0",
         "0",
         "A/5. 2151",
         "8.05",
         null,
         "S"
        ],
        [
         "13",
         "14",
         "0",
         "3",
         "Andersson, Mr. Anders Johan",
         "male",
         "39.0",
         "1",
         "5",
         "347082",
         "31.275",
         null,
         "S"
        ],
        [
         "14",
         "15",
         "0",
         "3",
         "Vestrom, Miss. Hulda Amanda Adolfina",
         "female",
         "14.0",
         "0",
         "0",
         "350406",
         "7.8542",
         null,
         "S"
        ],
        [
         "15",
         "16",
         "1",
         "2",
         "Hewlett, Mrs. (Mary D Kingcome) ",
         "female",
         "55.0",
         "0",
         "0",
         "248706",
         "16.0",
         null,
         "S"
        ],
        [
         "16",
         "17",
         "0",
         "3",
         "Rice, Master. Eugene",
         "male",
         "2.0",
         "4",
         "1",
         "382652",
         "29.125",
         null,
         "Q"
        ],
        [
         "17",
         "18",
         "1",
         "2",
         "Williams, Mr. Charles Eugene",
         "male",
         null,
         "0",
         "0",
         "244373",
         "13.0",
         null,
         "S"
        ],
        [
         "18",
         "19",
         "0",
         "3",
         "Vander Planke, Mrs. Julius (Emelia Maria Vandemoortele)",
         "female",
         "31.0",
         "1",
         "0",
         "345763",
         "18.0",
         null,
         "S"
        ],
        [
         "19",
         "20",
         "1",
         "3",
         "Masselmani, Mrs. Fatima",
         "female",
         null,
         "0",
         "0",
         "2649",
         "7.225",
         null,
         "C"
        ],
        [
         "20",
         "21",
         "0",
         "2",
         "Fynney, Mr. Joseph J",
         "male",
         "35.0",
         "0",
         "0",
         "239865",
         "26.0",
         null,
         "S"
        ],
        [
         "21",
         "22",
         "1",
         "2",
         "Beesley, Mr. Lawrence",
         "male",
         "34.0",
         "0",
         "0",
         "248698",
         "13.0",
         "D56",
         "S"
        ],
        [
         "22",
         "23",
         "1",
         "3",
         "McGowan, Miss. Anna \"Annie\"",
         "female",
         "15.0",
         "0",
         "0",
         "330923",
         "8.0292",
         null,
         "Q"
        ],
        [
         "23",
         "24",
         "1",
         "1",
         "Sloper, Mr. William Thompson",
         "male",
         "28.0",
         "0",
         "0",
         "113788",
         "35.5",
         "A6",
         "S"
        ],
        [
         "24",
         "25",
         "0",
         "3",
         "Palsson, Miss. Torborg Danira",
         "female",
         "8.0",
         "3",
         "1",
         "349909",
         "21.075",
         null,
         "S"
        ],
        [
         "25",
         "26",
         "1",
         "3",
         "Asplund, Mrs. Carl Oscar (Selma Augusta Emilia Johansson)",
         "female",
         "38.0",
         "1",
         "5",
         "347077",
         "31.3875",
         null,
         "S"
        ],
        [
         "26",
         "27",
         "0",
         "3",
         "Emir, Mr. Farred Chehab",
         "male",
         null,
         "0",
         "0",
         "2631",
         "7.225",
         null,
         "C"
        ],
        [
         "27",
         "28",
         "0",
         "1",
         "Fortune, Mr. Charles Alexander",
         "male",
         "19.0",
         "3",
         "2",
         "19950",
         "263.0",
         "C23 C25 C27",
         "S"
        ],
        [
         "28",
         "29",
         "1",
         "3",
         "O'Dwyer, Miss. Ellen \"Nellie\"",
         "female",
         null,
         "0",
         "0",
         "330959",
         "7.8792",
         null,
         "Q"
        ],
        [
         "29",
         "30",
         "0",
         "3",
         "Todoroff, Mr. Lalio",
         "male",
         null,
         "0",
         "0",
         "349216",
         "7.8958",
         null,
         "S"
        ],
        [
         "30",
         "31",
         "0",
         "1",
         "Uruchurtu, Don. Manuel E",
         "male",
         "40.0",
         "0",
         "0",
         "PC 17601",
         "27.7208",
         null,
         "C"
        ],
        [
         "31",
         "32",
         "1",
         "1",
         "Spencer, Mrs. William Augustus (Marie Eugenie)",
         "female",
         null,
         "1",
         "0",
         "PC 17569",
         "146.5208",
         "B78",
         "C"
        ],
        [
         "32",
         "33",
         "1",
         "3",
         "Glynn, Miss. Mary Agatha",
         "female",
         null,
         "0",
         "0",
         "335677",
         "7.75",
         null,
         "Q"
        ],
        [
         "33",
         "34",
         "0",
         "2",
         "Wheadon, Mr. Edward H",
         "male",
         "66.0",
         "0",
         "0",
         "C.A. 24579",
         "10.5",
         null,
         "S"
        ],
        [
         "34",
         "35",
         "0",
         "1",
         "Meyer, Mr. Edgar Joseph",
         "male",
         "28.0",
         "1",
         "0",
         "PC 17604",
         "82.1708",
         null,
         "C"
        ],
        [
         "35",
         "36",
         "0",
         "1",
         "Holverson, Mr. Alexander Oskar",
         "male",
         "42.0",
         "1",
         "0",
         "113789",
         "52.0",
         null,
         "S"
        ],
        [
         "36",
         "37",
         "1",
         "3",
         "Mamee, Mr. Hanna",
         "male",
         null,
         "0",
         "0",
         "2677",
         "7.2292",
         null,
         "C"
        ],
        [
         "37",
         "38",
         "0",
         "3",
         "Cann, Mr. Ernest Charles",
         "male",
         "21.0",
         "0",
         "0",
         "A./5. 2152",
         "8.05",
         null,
         "S"
        ],
        [
         "38",
         "39",
         "0",
         "3",
         "Vander Planke, Miss. Augusta Maria",
         "female",
         "18.0",
         "2",
         "0",
         "345764",
         "18.0",
         null,
         "S"
        ],
        [
         "39",
         "40",
         "1",
         "3",
         "Nicola-Yarred, Miss. Jamila",
         "female",
         "14.0",
         "1",
         "0",
         "2651",
         "11.2417",
         null,
         "C"
        ],
        [
         "40",
         "41",
         "0",
         "3",
         "Ahlin, Mrs. Johan (Johanna Persdotter Larsson)",
         "female",
         "40.0",
         "1",
         "0",
         "7546",
         "9.475",
         null,
         "S"
        ],
        [
         "41",
         "42",
         "0",
         "2",
         "Turpin, Mrs. William John Robert (Dorothy Ann Wonnacott)",
         "female",
         "27.0",
         "1",
         "0",
         "11668",
         "21.0",
         null,
         "S"
        ],
        [
         "42",
         "43",
         "0",
         "3",
         "Kraeff, Mr. Theodor",
         "male",
         null,
         "0",
         "0",
         "349253",
         "7.8958",
         null,
         "C"
        ],
        [
         "43",
         "44",
         "1",
         "2",
         "Laroche, Miss. Simonne Marie Anne Andree",
         "female",
         "3.0",
         "1",
         "2",
         "SC/Paris 2123",
         "41.5792",
         null,
         "C"
        ],
        [
         "44",
         "45",
         "1",
         "3",
         "Devaney, Miss. Margaret Delia",
         "female",
         "19.0",
         "0",
         "0",
         "330958",
         "7.8792",
         null,
         "Q"
        ],
        [
         "45",
         "46",
         "0",
         "3",
         "Rogers, Mr. William John",
         "male",
         null,
         "0",
         "0",
         "S.C./A.4. 23567",
         "8.05",
         null,
         "S"
        ],
        [
         "46",
         "47",
         "0",
         "3",
         "Lennon, Mr. Denis",
         "male",
         null,
         "1",
         "0",
         "370371",
         "15.5",
         null,
         "Q"
        ],
        [
         "47",
         "48",
         "1",
         "3",
         "O'Driscoll, Miss. Bridget",
         "female",
         null,
         "0",
         "0",
         "14311",
         "7.75",
         null,
         "Q"
        ],
        [
         "48",
         "49",
         "0",
         "3",
         "Samaan, Mr. Youssef",
         "male",
         null,
         "2",
         "0",
         "2662",
         "21.6792",
         null,
         "C"
        ],
        [
         "49",
         "50",
         "0",
         "3",
         "Arnold-Franchi, Mrs. Josef (Josefine Franchi)",
         "female",
         "18.0",
         "1",
         "0",
         "349237",
         "17.8",
         null,
         "S"
        ]
       ],
       "shape": {
        "columns": 12,
        "rows": 891
       }
      },
      "text/html": [
       "<div>\n",
       "<style scoped>\n",
       "    .dataframe tbody tr th:only-of-type {\n",
       "        vertical-align: middle;\n",
       "    }\n",
       "\n",
       "    .dataframe tbody tr th {\n",
       "        vertical-align: top;\n",
       "    }\n",
       "\n",
       "    .dataframe thead th {\n",
       "        text-align: right;\n",
       "    }\n",
       "</style>\n",
       "<table border=\"1\" class=\"dataframe\">\n",
       "  <thead>\n",
       "    <tr style=\"text-align: right;\">\n",
       "      <th></th>\n",
       "      <th>PassengerId</th>\n",
       "      <th>Survived</th>\n",
       "      <th>Pclass</th>\n",
       "      <th>Name</th>\n",
       "      <th>Sex</th>\n",
       "      <th>Age</th>\n",
       "      <th>SibSp</th>\n",
       "      <th>Parch</th>\n",
       "      <th>Ticket</th>\n",
       "      <th>Fare</th>\n",
       "      <th>Cabin</th>\n",
       "      <th>Embarked</th>\n",
       "    </tr>\n",
       "  </thead>\n",
       "  <tbody>\n",
       "    <tr>\n",
       "      <th>0</th>\n",
       "      <td>1</td>\n",
       "      <td>0</td>\n",
       "      <td>3</td>\n",
       "      <td>Braund, Mr. Owen Harris</td>\n",
       "      <td>male</td>\n",
       "      <td>22.0</td>\n",
       "      <td>1</td>\n",
       "      <td>0</td>\n",
       "      <td>A/5 21171</td>\n",
       "      <td>7.2500</td>\n",
       "      <td>NaN</td>\n",
       "      <td>S</td>\n",
       "    </tr>\n",
       "    <tr>\n",
       "      <th>1</th>\n",
       "      <td>2</td>\n",
       "      <td>1</td>\n",
       "      <td>1</td>\n",
       "      <td>Cumings, Mrs. John Bradley (Florence Briggs Th...</td>\n",
       "      <td>female</td>\n",
       "      <td>38.0</td>\n",
       "      <td>1</td>\n",
       "      <td>0</td>\n",
       "      <td>PC 17599</td>\n",
       "      <td>71.2833</td>\n",
       "      <td>C85</td>\n",
       "      <td>C</td>\n",
       "    </tr>\n",
       "    <tr>\n",
       "      <th>2</th>\n",
       "      <td>3</td>\n",
       "      <td>1</td>\n",
       "      <td>3</td>\n",
       "      <td>Heikkinen, Miss. Laina</td>\n",
       "      <td>female</td>\n",
       "      <td>26.0</td>\n",
       "      <td>0</td>\n",
       "      <td>0</td>\n",
       "      <td>STON/O2. 3101282</td>\n",
       "      <td>7.9250</td>\n",
       "      <td>NaN</td>\n",
       "      <td>S</td>\n",
       "    </tr>\n",
       "    <tr>\n",
       "      <th>3</th>\n",
       "      <td>4</td>\n",
       "      <td>1</td>\n",
       "      <td>1</td>\n",
       "      <td>Futrelle, Mrs. Jacques Heath (Lily May Peel)</td>\n",
       "      <td>female</td>\n",
       "      <td>35.0</td>\n",
       "      <td>1</td>\n",
       "      <td>0</td>\n",
       "      <td>113803</td>\n",
       "      <td>53.1000</td>\n",
       "      <td>C123</td>\n",
       "      <td>S</td>\n",
       "    </tr>\n",
       "    <tr>\n",
       "      <th>4</th>\n",
       "      <td>5</td>\n",
       "      <td>0</td>\n",
       "      <td>3</td>\n",
       "      <td>Allen, Mr. William Henry</td>\n",
       "      <td>male</td>\n",
       "      <td>35.0</td>\n",
       "      <td>0</td>\n",
       "      <td>0</td>\n",
       "      <td>373450</td>\n",
       "      <td>8.0500</td>\n",
       "      <td>NaN</td>\n",
       "      <td>S</td>\n",
       "    </tr>\n",
       "    <tr>\n",
       "      <th>...</th>\n",
       "      <td>...</td>\n",
       "      <td>...</td>\n",
       "      <td>...</td>\n",
       "      <td>...</td>\n",
       "      <td>...</td>\n",
       "      <td>...</td>\n",
       "      <td>...</td>\n",
       "      <td>...</td>\n",
       "      <td>...</td>\n",
       "      <td>...</td>\n",
       "      <td>...</td>\n",
       "      <td>...</td>\n",
       "    </tr>\n",
       "    <tr>\n",
       "      <th>886</th>\n",
       "      <td>887</td>\n",
       "      <td>0</td>\n",
       "      <td>2</td>\n",
       "      <td>Montvila, Rev. Juozas</td>\n",
       "      <td>male</td>\n",
       "      <td>27.0</td>\n",
       "      <td>0</td>\n",
       "      <td>0</td>\n",
       "      <td>211536</td>\n",
       "      <td>13.0000</td>\n",
       "      <td>NaN</td>\n",
       "      <td>S</td>\n",
       "    </tr>\n",
       "    <tr>\n",
       "      <th>887</th>\n",
       "      <td>888</td>\n",
       "      <td>1</td>\n",
       "      <td>1</td>\n",
       "      <td>Graham, Miss. Margaret Edith</td>\n",
       "      <td>female</td>\n",
       "      <td>19.0</td>\n",
       "      <td>0</td>\n",
       "      <td>0</td>\n",
       "      <td>112053</td>\n",
       "      <td>30.0000</td>\n",
       "      <td>B42</td>\n",
       "      <td>S</td>\n",
       "    </tr>\n",
       "    <tr>\n",
       "      <th>888</th>\n",
       "      <td>889</td>\n",
       "      <td>0</td>\n",
       "      <td>3</td>\n",
       "      <td>Johnston, Miss. Catherine Helen \"Carrie\"</td>\n",
       "      <td>female</td>\n",
       "      <td>NaN</td>\n",
       "      <td>1</td>\n",
       "      <td>2</td>\n",
       "      <td>W./C. 6607</td>\n",
       "      <td>23.4500</td>\n",
       "      <td>NaN</td>\n",
       "      <td>S</td>\n",
       "    </tr>\n",
       "    <tr>\n",
       "      <th>889</th>\n",
       "      <td>890</td>\n",
       "      <td>1</td>\n",
       "      <td>1</td>\n",
       "      <td>Behr, Mr. Karl Howell</td>\n",
       "      <td>male</td>\n",
       "      <td>26.0</td>\n",
       "      <td>0</td>\n",
       "      <td>0</td>\n",
       "      <td>111369</td>\n",
       "      <td>30.0000</td>\n",
       "      <td>C148</td>\n",
       "      <td>C</td>\n",
       "    </tr>\n",
       "    <tr>\n",
       "      <th>890</th>\n",
       "      <td>891</td>\n",
       "      <td>0</td>\n",
       "      <td>3</td>\n",
       "      <td>Dooley, Mr. Patrick</td>\n",
       "      <td>male</td>\n",
       "      <td>32.0</td>\n",
       "      <td>0</td>\n",
       "      <td>0</td>\n",
       "      <td>370376</td>\n",
       "      <td>7.7500</td>\n",
       "      <td>NaN</td>\n",
       "      <td>Q</td>\n",
       "    </tr>\n",
       "  </tbody>\n",
       "</table>\n",
       "<p>891 rows × 12 columns</p>\n",
       "</div>"
      ],
      "text/plain": [
       "     PassengerId  Survived  Pclass  \\\n",
       "0              1         0       3   \n",
       "1              2         1       1   \n",
       "2              3         1       3   \n",
       "3              4         1       1   \n",
       "4              5         0       3   \n",
       "..           ...       ...     ...   \n",
       "886          887         0       2   \n",
       "887          888         1       1   \n",
       "888          889         0       3   \n",
       "889          890         1       1   \n",
       "890          891         0       3   \n",
       "\n",
       "                                                  Name     Sex   Age  SibSp  \\\n",
       "0                              Braund, Mr. Owen Harris    male  22.0      1   \n",
       "1    Cumings, Mrs. John Bradley (Florence Briggs Th...  female  38.0      1   \n",
       "2                               Heikkinen, Miss. Laina  female  26.0      0   \n",
       "3         Futrelle, Mrs. Jacques Heath (Lily May Peel)  female  35.0      1   \n",
       "4                             Allen, Mr. William Henry    male  35.0      0   \n",
       "..                                                 ...     ...   ...    ...   \n",
       "886                              Montvila, Rev. Juozas    male  27.0      0   \n",
       "887                       Graham, Miss. Margaret Edith  female  19.0      0   \n",
       "888           Johnston, Miss. Catherine Helen \"Carrie\"  female   NaN      1   \n",
       "889                              Behr, Mr. Karl Howell    male  26.0      0   \n",
       "890                                Dooley, Mr. Patrick    male  32.0      0   \n",
       "\n",
       "     Parch            Ticket     Fare Cabin Embarked  \n",
       "0        0         A/5 21171   7.2500   NaN        S  \n",
       "1        0          PC 17599  71.2833   C85        C  \n",
       "2        0  STON/O2. 3101282   7.9250   NaN        S  \n",
       "3        0            113803  53.1000  C123        S  \n",
       "4        0            373450   8.0500   NaN        S  \n",
       "..     ...               ...      ...   ...      ...  \n",
       "886      0            211536  13.0000   NaN        S  \n",
       "887      0            112053  30.0000   B42        S  \n",
       "888      2        W./C. 6607  23.4500   NaN        S  \n",
       "889      0            111369  30.0000  C148        C  \n",
       "890      0            370376   7.7500   NaN        Q  \n",
       "\n",
       "[891 rows x 12 columns]"
      ]
     },
     "execution_count": 5,
     "metadata": {},
     "output_type": "execute_result"
    }
   ],
   "source": [
    "titanic = pd.read_csv('train.csv')\n",
    "titanic "
   ]
  },
  {
   "cell_type": "code",
   "execution_count": null,
   "id": "630c5a22",
   "metadata": {},
   "outputs": [
    {
     "data": {
      "application/vnd.microsoft.datawrangler.viewer.v0+json": {
       "columns": [
        {
         "name": "index",
         "rawType": "object",
         "type": "string"
        },
        {
         "name": "0",
         "rawType": "float64",
         "type": "float"
        }
       ],
       "ref": "b3dd05fe-d6e3-476e-bf7b-b86f7434f39b",
       "rows": [
        [
         "PassengerId",
         "0.0"
        ],
        [
         "Survived",
         "0.0"
        ],
        [
         "Pclass",
         "0.0"
        ],
        [
         "Name",
         "0.0"
        ],
        [
         "Sex",
         "0.0"
        ],
        [
         "Age",
         "0.19865319865319866"
        ],
        [
         "SibSp",
         "0.0"
        ],
        [
         "Parch",
         "0.0"
        ],
        [
         "Ticket",
         "0.0"
        ],
        [
         "Fare",
         "0.0"
        ],
        [
         "Cabin",
         "0.7710437710437711"
        ],
        [
         "Embarked",
         "0.002244668911335578"
        ]
       ],
       "shape": {
        "columns": 1,
        "rows": 12
       }
      },
      "text/plain": [
       "PassengerId    0.000000\n",
       "Survived       0.000000\n",
       "Pclass         0.000000\n",
       "Name           0.000000\n",
       "Sex            0.000000\n",
       "Age            0.198653\n",
       "SibSp          0.000000\n",
       "Parch          0.000000\n",
       "Ticket         0.000000\n",
       "Fare           0.000000\n",
       "Cabin          0.771044\n",
       "Embarked       0.002245\n",
       "dtype: float64"
      ]
     },
     "execution_count": 14,
     "metadata": {},
     "output_type": "execute_result"
    }
   ],
   "source": [
    "data_cca = titanic.copy()\n",
    "data_cca.isnull().mean()"
   ]
  },
  {
   "cell_type": "code",
   "execution_count": 15,
   "id": "9b548662",
   "metadata": {},
   "outputs": [
    {
     "name": "stdout",
     "output_type": "stream",
     "text": [
      "Count of rows with values on all variables are 183 out of 891.\n",
      "A percentage difference of 0.2053872053872054 is observed.\n"
     ]
    }
   ],
   "source": [
    "# Check if CCA can be applied\n",
    "complete_vals = data_cca.dropna().shape[0]\n",
    "count_all = data_cca.shape[0]\n",
    "\n",
    "percentage_complete = complete_vals / float(count_all)\n",
    "print(f\"Count of rows with values on all variables are {complete_vals} out of {count_all}.\")\n",
    "print(f\"A percentage difference of {percentage_complete} is observed.\")\n",
    "      "
   ]
  },
  {
   "cell_type": "markdown",
   "id": "9bb23fee",
   "metadata": {},
   "source": [
    "Given this, it is not suitable to use CCA here as 20% of the observations will be dropped resulting to a reduced dataset with complete observations.\n",
    "\n",
    "\n",
    "---"
   ]
  },
  {
   "cell_type": "markdown",
   "id": "29d151f2",
   "metadata": {},
   "source": [
    "### Mean/Median/Mode Imputation\n",
    "Naming it here as ct for 'central tendency' haha"
   ]
  },
  {
   "cell_type": "code",
   "execution_count": 32,
   "id": "71407e25",
   "metadata": {},
   "outputs": [
    {
     "data": {
      "application/vnd.microsoft.datawrangler.viewer.v0+json": {
       "columns": [
        {
         "name": "index",
         "rawType": "object",
         "type": "string"
        },
        {
         "name": "0",
         "rawType": "float64",
         "type": "float"
        }
       ],
       "ref": "31ccf7dc-412e-4e91-a692-3cc8d174ff40",
       "rows": [
        [
         "PassengerId",
         "0.0"
        ],
        [
         "Survived",
         "0.0"
        ],
        [
         "Pclass",
         "0.0"
        ],
        [
         "Name",
         "0.0"
        ],
        [
         "Sex",
         "0.0"
        ],
        [
         "Age",
         "19.865319865319865"
        ],
        [
         "SibSp",
         "0.0"
        ],
        [
         "Parch",
         "0.0"
        ],
        [
         "Ticket",
         "0.0"
        ],
        [
         "Fare",
         "0.0"
        ],
        [
         "Cabin",
         "77.10437710437711"
        ],
        [
         "Embarked",
         "0.22446689113355783"
        ]
       ],
       "shape": {
        "columns": 1,
        "rows": 12
       }
      },
      "text/plain": [
       "PassengerId     0.000000\n",
       "Survived        0.000000\n",
       "Pclass          0.000000\n",
       "Name            0.000000\n",
       "Sex             0.000000\n",
       "Age            19.865320\n",
       "SibSp           0.000000\n",
       "Parch           0.000000\n",
       "Ticket          0.000000\n",
       "Fare            0.000000\n",
       "Cabin          77.104377\n",
       "Embarked        0.224467\n",
       "dtype: float64"
      ]
     },
     "execution_count": 32,
     "metadata": {},
     "output_type": "execute_result"
    }
   ],
   "source": [
    "data_ct = titanic.copy()\n",
    "data_ct.isnull().mean()*100"
   ]
  },
  {
   "cell_type": "markdown",
   "id": "4b3eb230",
   "metadata": {},
   "source": [
    "Here above, we can see the list of variables and the percentage of missing or null fields on those columns. \n",
    "\n",
    "We can see that Age has about 19.87% of missing values, cabin with 77.10%, and embarked with 0.22%\n",
    "\n",
    "Since age is a continuous variable, lets check the distribution here first."
   ]
  },
  {
   "cell_type": "code",
   "execution_count": 24,
   "id": "e6632719",
   "metadata": {},
   "outputs": [
    {
     "data": {
      "text/plain": [
       "Text(0.5, 0, 'Age')"
      ]
     },
     "execution_count": 24,
     "metadata": {},
     "output_type": "execute_result"
    },
    {
     "data": {
      "image/png": "[encoded data removed]",
      "text/plain": [
       "<Figure size 1200x800 with 1 Axes>"
      ]
     },
     "metadata": {},
     "output_type": "display_data"
    }
   ],
   "source": [
    "plt.figure(figsize = (12, 8))\n",
    "fig = data_ct['Age'].hist(bins = 10)\n",
    "fig.set_ylabel('No. of Passengers')\n",
    "fig.set_xlabel('Age')"
   ]
  },
  {
   "cell_type": "markdown",
   "id": "f34864be",
   "metadata": {},
   "source": [
    "Since the age distributon is skewed, we will use the median imputation here. Following the notes, we will first split the data to the training at test sets. Imputation will be done in the training then propagated onto the test set."
   ]
  },
  {
   "cell_type": "code",
   "execution_count": null,
   "id": "e456b189",
   "metadata": {},
   "outputs": [
    {
     "data": {
      "text/plain": [
       "((623, 12), (268, 12))"
      ]
     },
     "execution_count": 33,
     "metadata": {},
     "output_type": "execute_result"
    }
   ],
   "source": [
    "X_train, X_test, y_train, y_test = train_test_split(data_ct, data_ct['Survived'],\n",
    "                                                    test_size = 0.3, \n",
    "                                                    random_state = 0)\n",
    "\n",
    "X_train.shape, X_test.shape"
   ]
  },
  {
   "cell_type": "code",
   "execution_count": 34,
   "id": "10d044b3",
   "metadata": {},
   "outputs": [
    {
     "name": "stdout",
     "output_type": "stream",
     "text": [
      "29.0\n"
     ]
    }
   ],
   "source": [
    "# Get the median\n",
    "median = X_train['Age'].median()\n",
    "print(median)"
   ]
  },
  {
   "cell_type": "code",
   "execution_count": 35,
   "id": "a9611531",
   "metadata": {},
   "outputs": [],
   "source": [
    "# Impute the missing values in Age in both train and test sets\n",
    "\n",
    "for i in [X_train, X_test]:\n",
    "    i['Age'].fillna(median, inplace = True)"
   ]
  },
  {
   "cell_type": "code",
   "execution_count": 36,
   "id": "3bf30e03",
   "metadata": {},
   "outputs": [
    {
     "name": "stdout",
     "output_type": "stream",
     "text": [
      "0\n",
      "0\n"
     ]
    }
   ],
   "source": [
    "# Check for missing values in age after imputation\n",
    "for i in [X_train, X_test]:\n",
    "    print(i['Age'].isnull().sum())"
   ]
  },
  {
   "cell_type": "markdown",
   "id": "b3bb5bee",
   "metadata": {},
   "source": [
    "After imputing the mean in both the train and test sets, we can see that there are no missing values now for Age."
   ]
  },
  {
   "cell_type": "markdown",
   "id": "89f0ba08",
   "metadata": {},
   "source": [
    "### Random Sample Imputation\n"
   ]
  },
  {
   "cell_type": "code",
   "execution_count": 41,
   "id": "b041bc07",
   "metadata": {},
   "outputs": [
    {
     "data": {
      "application/vnd.microsoft.datawrangler.viewer.v0+json": {
       "columns": [
        {
         "name": "index",
         "rawType": "object",
         "type": "string"
        },
        {
         "name": "0",
         "rawType": "float64",
         "type": "float"
        }
       ],
       "ref": "670f486a-a3c9-40a2-b09e-b777027450c8",
       "rows": [
        [
         "PassengerId",
         "0.0"
        ],
        [
         "Survived",
         "0.0"
        ],
        [
         "Pclass",
         "0.0"
        ],
        [
         "Name",
         "0.0"
        ],
        [
         "Sex",
         "0.0"
        ],
        [
         "Age",
         "19.865319865319865"
        ],
        [
         "SibSp",
         "0.0"
        ],
        [
         "Parch",
         "0.0"
        ],
        [
         "Ticket",
         "0.0"
        ],
        [
         "Fare",
         "0.0"
        ],
        [
         "Cabin",
         "77.10437710437711"
        ],
        [
         "Embarked",
         "0.22446689113355783"
        ]
       ],
       "shape": {
        "columns": 1,
        "rows": 12
       }
      },
      "text/plain": [
       "PassengerId     0.000000\n",
       "Survived        0.000000\n",
       "Pclass          0.000000\n",
       "Name            0.000000\n",
       "Sex             0.000000\n",
       "Age            19.865320\n",
       "SibSp           0.000000\n",
       "Parch           0.000000\n",
       "Ticket          0.000000\n",
       "Fare            0.000000\n",
       "Cabin          77.104377\n",
       "Embarked        0.224467\n",
       "dtype: float64"
      ]
     },
     "execution_count": 41,
     "metadata": {},
     "output_type": "execute_result"
    }
   ],
   "source": [
    "data_rsi = titanic.copy()\n",
    "data_rsi.isnull().mean()*100"
   ]
  },
  {
   "cell_type": "code",
   "execution_count": 42,
   "id": "66182be1",
   "metadata": {},
   "outputs": [
    {
     "data": {
      "text/plain": [
       "((623, 12), (268, 12))"
      ]
     },
     "execution_count": 42,
     "metadata": {},
     "output_type": "execute_result"
    }
   ],
   "source": [
    "#Imputation is to be done over the training set and then propagated to the test set. \n",
    "#This means that we will get the random sample from the train set\n",
    "#And fill the missiung values in the train set and test set using that value\n",
    "\n",
    "X_train, X_test, y_train, y_test = train_test_split(data_rsi, data_rsi['Survived'],\n",
    "                                                    test_size = 0.3,\n",
    "                                                    random_state = 0)\n",
    "X_train.shape, X_test.shape"
   ]
  },
  {
   "cell_type": "code",
   "execution_count": 51,
   "id": "fa10e017",
   "metadata": {},
   "outputs": [],
   "source": [
    "#Create a function to impute \n",
    "def impute_nulls(df, var, median):\n",
    "    df[var + '_median'] = df[var].fillna(median)\n",
    "    df[var + '_zero'] = df[var].fillna(0)\n",
    "\n",
    "    #random sampling for var\n",
    "    df[var + 'random'] = df[var]\n",
    "\n",
    "    #extract random sample from X_train to fill missing values\n",
    "    rand_sample = X_train[var].dropna().sample(df[var].isnull().sum(),\n",
    "                                               random_state = 0)\n",
    "    \n",
    "    #get the index to merge dataset\n",
    "    rand_sample.index = df[df[var].isnull()].index\n",
    "    df.loc[df[var].isnull(), var + '_random'] = rand_sample\n",
    "\n",
    "    #finally, fill using random-sample\n",
    "    df[var + '_rand_sample'] = df[var].fillna(rand_sample, inplace = True)"
   ]
  },
  {
   "cell_type": "code",
   "execution_count": 52,
   "id": "d90bd66d",
   "metadata": {},
   "outputs": [
    {
     "data": {
      "text/plain": [
       "np.int64(0)"
      ]
     },
     "execution_count": 52,
     "metadata": {},
     "output_type": "execute_result"
    }
   ],
   "source": [
    "impute_nulls(X_train, 'Age', median)\n",
    "X_train['Age'].isnull().sum()"
   ]
  },
  {
   "cell_type": "code",
   "execution_count": 53,
   "id": "4bcda431",
   "metadata": {},
   "outputs": [
    {
     "data": {
      "text/plain": [
       "np.int64(0)"
      ]
     },
     "execution_count": 53,
     "metadata": {},
     "output_type": "execute_result"
    }
   ],
   "source": [
    "impute_nulls(X_test, 'Age', median)\n",
    "X_test['Age'].isnull().sum()"
   ]
  },
  {
   "cell_type": "markdown",
   "id": "13f7abdb",
   "metadata": {},
   "source": [
    "### Replacement by Arbitrary  Value"
   ]
  },
  {
   "cell_type": "code",
   "execution_count": null,
   "id": "21340c24",
   "metadata": {},
   "outputs": [],
   "source": [
    "data_arbi = titanic.copy()"
   ]
  },
  {
   "cell_type": "code",
   "execution_count": 55,
   "id": "fa2ec3f3",
   "metadata": {},
   "outputs": [
    {
     "data": {
      "text/plain": [
       "((623, 12), (268, 12))"
      ]
     },
     "execution_count": 55,
     "metadata": {},
     "output_type": "execute_result"
    }
   ],
   "source": [
    "X_train, X_test, y_train, y_test = train_test_split(data_arbi,\n",
    "                                                    data_arbi['Survived'],\n",
    "                                                    test_size = 0.3,\n",
    "                                                    random_state = 0)\n",
    "X_train.shape, X_test.shape"
   ]
  },
  {
   "cell_type": "code",
   "execution_count": 63,
   "id": "5b999b81",
   "metadata": {},
   "outputs": [],
   "source": [
    "#create a function to impute\n",
    "# here since we decided to impute NAs with 0 or 100, this is valid\n",
    "# these are not frequent in the original distribution and are at the tails\n",
    "\n",
    "def impute_nulls_arbi(df, var):\n",
    "    df[var + '_zero'] = df[var].fillna(0)\n",
    "    df[var + '_hundred'] = df[var].fillna(100)"
   ]
  },
  {
   "cell_type": "code",
   "execution_count": 66,
   "id": "aaf0887e",
   "metadata": {},
   "outputs": [
    {
     "name": "stdout",
     "output_type": "stream",
     "text": [
      "X_train:\n",
      "0\n",
      "0\n",
      "X_test:\n",
      "0\n",
      "0\n"
     ]
    }
   ],
   "source": [
    "impute_nulls_arbi(X_train, 'Age')\n",
    "impute_nulls_arbi(X_test, 'Age')\n",
    "print(\"X_train:\")\n",
    "print(X_train['Age_zero'].isnull().sum())\n",
    "print(X_train['Age_hundred'].isnull().sum())\n",
    "print(\"X_test:\")\n",
    "print(X_test['Age_zero'].isnull().sum())\n",
    "print(X_test['Age_hundred'].isnull().sum())"
   ]
  },
  {
   "cell_type": "markdown",
   "id": "acacf5ad",
   "metadata": {},
   "source": [
    "### End of Distribution Imputation"
   ]
  },
  {
   "cell_type": "code",
   "execution_count": 76,
   "id": "36f483b3",
   "metadata": {},
   "outputs": [],
   "source": [
    "data_eod = titanic.copy()"
   ]
  },
  {
   "cell_type": "code",
   "execution_count": 68,
   "id": "b78d8d05",
   "metadata": {},
   "outputs": [
    {
     "data": {
      "text/plain": [
       "((623, 12), (268, 12))"
      ]
     },
     "execution_count": 68,
     "metadata": {},
     "output_type": "execute_result"
    }
   ],
   "source": [
    "X_train, X_test, y_train, y_test = train_test_split(data_eod,\n",
    "                                                    data_eod['Survived'],\n",
    "                                                    test_size = 0.3,\n",
    "                                                    random_state = 0)\n",
    "\n",
    "X_train.shape, X_test.shape"
   ]
  },
  {
   "cell_type": "code",
   "execution_count": 70,
   "id": "a114072c",
   "metadata": {},
   "outputs": [
    {
     "data": {
      "text/plain": [
       "<Axes: >"
      ]
     },
     "execution_count": 70,
     "metadata": {},
     "output_type": "execute_result"
    },
    {
     "data": {
      "image/png": "[encoded data removed]",
      "text/plain": [
       "<Figure size 1200x800 with 1 Axes>"
      ]
     },
     "metadata": {},
     "output_type": "display_data"
    }
   ],
   "source": [
    "plt.figure(figsize=(12,8))\n",
    "X_train['Age'].hist(bins = 50)"
   ]
  },
  {
   "cell_type": "code",
   "execution_count": 72,
   "id": "bc2ba100",
   "metadata": {},
   "outputs": [
    {
     "data": {
      "text/plain": [
       "np.float64(73.43632005918369)"
      ]
     },
     "execution_count": 72,
     "metadata": {},
     "output_type": "execute_result"
    }
   ],
   "source": [
    "#Get the far end of the distribution\n",
    "X_train['Age'].mean()+3*X_train['Age'].std()"
   ]
  },
  {
   "cell_type": "code",
   "execution_count": 78,
   "id": "426f3b95",
   "metadata": {},
   "outputs": [
    {
     "data": {
      "text/plain": [
       "<Axes: xlabel='Age'>"
      ]
     },
     "execution_count": 78,
     "metadata": {},
     "output_type": "execute_result"
    },
    {
     "data": {
      "image/png": "[encoded data removed]",
      "text/plain": [
       "<Figure size 1200x800 with 1 Axes>"
      ]
     },
     "metadata": {},
     "output_type": "display_data"
    }
   ],
   "source": [
    "#Check for outliers, these will be masked when we replace NA by values at the far end\n",
    "plt.figure(figsize=(12,8))\n",
    "sns.boxplot(x = 'Age', data=data_eod)"
   ]
  },
  {
   "cell_type": "code",
   "execution_count": 79,
   "id": "34c049b2",
   "metadata": {},
   "outputs": [],
   "source": [
    "#create a function to impute the end of distribution\n",
    "def impute_na_eod(df, var, median, extreme):\n",
    "    df[var + '_far_end'] = df[var].fillna(extreme)\n",
    "    df[var].fillna(median, inplace = True)"
   ]
  },
  {
   "cell_type": "code",
   "execution_count": 83,
   "id": "2f4165d7",
   "metadata": {},
   "outputs": [
    {
     "name": "stdout",
     "output_type": "stream",
     "text": [
      "0\n",
      "0\n"
     ]
    }
   ],
   "source": [
    "impute_na_eod(X_train,\n",
    "              'Age',\n",
    "              X_train['Age'].median(),\n",
    "              X_train['Age'].mean()+ 3 * X_train['Age'].std()\n",
    "              )\n",
    "\n",
    "impute_na_eod(X_test,\n",
    "              'Age',\n",
    "              X_train['Age'].median(),\n",
    "              X_train['Age'].mean()+ 3 * X_train['Age'].std()\n",
    "              )\n",
    "\n",
    "print(X_train['Age_far_end'].isnull().sum())\n",
    "print(X_test['Age_far_end'].isnull().sum())"
   ]
  },
  {
   "cell_type": "markdown",
   "id": "54c90f95",
   "metadata": {},
   "source": [
    "### Missing Value Indicator"
   ]
  },
  {
   "cell_type": "code",
   "execution_count": 84,
   "id": "d6e8767f",
   "metadata": {},
   "outputs": [],
   "source": [
    "data_mvi = titanic.copy()"
   ]
  },
  {
   "cell_type": "code",
   "execution_count": 85,
   "id": "dac2ca22",
   "metadata": {},
   "outputs": [
    {
     "data": {
      "text/plain": [
       "((623, 12), (268, 12))"
      ]
     },
     "execution_count": 85,
     "metadata": {},
     "output_type": "execute_result"
    }
   ],
   "source": [
    "X_train, X_test, y_train, y_test = train_test_split(data_mvi,\n",
    "                                                    data_mvi['Survived'],\n",
    "                                                    test_size = 0.3,\n",
    "                                                    random_state = 0\n",
    "                                                    )\n",
    "\n",
    "X_train.shape, X_test.shape"
   ]
  },
  {
   "cell_type": "code",
   "execution_count": null,
   "id": "2d492299",
   "metadata": {},
   "outputs": [
    {
     "data": {
      "application/vnd.microsoft.datawrangler.viewer.v0+json": {
       "columns": [
        {
         "name": "index",
         "rawType": "int64",
         "type": "integer"
        },
        {
         "name": "PassengerId",
         "rawType": "int64",
         "type": "integer"
        },
        {
         "name": "Survived",
         "rawType": "int64",
         "type": "integer"
        },
        {
         "name": "Pclass",
         "rawType": "int64",
         "type": "integer"
        },
        {
         "name": "Name",
         "rawType": "object",
         "type": "string"
        },
        {
         "name": "Sex",
         "rawType": "object",
         "type": "string"
        },
        {
         "name": "Age",
         "rawType": "float64",
         "type": "float"
        },
        {
         "name": "SibSp",
         "rawType": "int64",
         "type": "integer"
        },
        {
         "name": "Parch",
         "rawType": "int64",
         "type": "integer"
        },
        {
         "name": "Ticket",
         "rawType": "object",
         "type": "string"
        },
        {
         "name": "Fare",
         "rawType": "float64",
         "type": "float"
        },
        {
         "name": "Cabin",
         "rawType": "object",
         "type": "unknown"
        },
        {
         "name": "Embarked",
         "rawType": "object",
         "type": "string"
        },
        {
         "name": "Age_NA",
         "rawType": "int64",
         "type": "integer"
        }
       ],
       "ref": "57ebff29-e736-49d6-93bc-07f0c4dcd282",
       "rows": [
        [
         "857",
         "858",
         "1",
         "1",
         "Daly, Mr. Peter Denis ",
         "male",
         "51.0",
         "0",
         "0",
         "113055",
         "26.55",
         "E17",
         "S",
         "0"
        ],
        [
         "52",
         "53",
         "1",
         "1",
         "Harper, Mrs. Henry Sleeper (Myna Haxtun)",
         "female",
         "49.0",
         "1",
         "0",
         "PC 17572",
         "76.7292",
         "D33",
         "C",
         "0"
        ],
        [
         "386",
         "387",
         "0",
         "3",
         "Goodwin, Master. Sidney Leonard",
         "male",
         "1.0",
         "5",
         "2",
         "CA 2144",
         "46.9",
         null,
         "S",
         "0"
        ],
        [
         "124",
         "125",
         "0",
         "1",
         "White, Mr. Percival Wayland",
         "male",
         "54.0",
         "0",
         "1",
         "35281",
         "77.2875",
         "D26",
         "S",
         "0"
        ],
        [
         "578",
         "579",
         "0",
         "3",
         "Caram, Mrs. Joseph (Maria Elias)",
         "female",
         null,
         "1",
         "0",
         "2689",
         "14.4583",
         null,
         "C",
         "1"
        ]
       ],
       "shape": {
        "columns": 13,
        "rows": 5
       }
      },
      "text/html": [
       "<div>\n",
       "<style scoped>\n",
       "    .dataframe tbody tr th:only-of-type {\n",
       "        vertical-align: middle;\n",
       "    }\n",
       "\n",
       "    .dataframe tbody tr th {\n",
       "        vertical-align: top;\n",
       "    }\n",
       "\n",
       "    .dataframe thead th {\n",
       "        text-align: right;\n",
       "    }\n",
       "</style>\n",
       "<table border=\"1\" class=\"dataframe\">\n",
       "  <thead>\n",
       "    <tr style=\"text-align: right;\">\n",
       "      <th></th>\n",
       "      <th>PassengerId</th>\n",
       "      <th>Survived</th>\n",
       "      <th>Pclass</th>\n",
       "      <th>Name</th>\n",
       "      <th>Sex</th>\n",
       "      <th>Age</th>\n",
       "      <th>SibSp</th>\n",
       "      <th>Parch</th>\n",
       "      <th>Ticket</th>\n",
       "      <th>Fare</th>\n",
       "      <th>Cabin</th>\n",
       "      <th>Embarked</th>\n",
       "      <th>Age_NA</th>\n",
       "    </tr>\n",
       "  </thead>\n",
       "  <tbody>\n",
       "    <tr>\n",
       "      <th>857</th>\n",
       "      <td>858</td>\n",
       "      <td>1</td>\n",
       "      <td>1</td>\n",
       "      <td>Daly, Mr. Peter Denis</td>\n",
       "      <td>male</td>\n",
       "      <td>51.0</td>\n",
       "      <td>0</td>\n",
       "      <td>0</td>\n",
       "      <td>113055</td>\n",
       "      <td>26.5500</td>\n",
       "      <td>E17</td>\n",
       "      <td>S</td>\n",
       "      <td>0</td>\n",
       "    </tr>\n",
       "    <tr>\n",
       "      <th>52</th>\n",
       "      <td>53</td>\n",
       "      <td>1</td>\n",
       "      <td>1</td>\n",
       "      <td>Harper, Mrs. Henry Sleeper (Myna Haxtun)</td>\n",
       "      <td>female</td>\n",
       "      <td>49.0</td>\n",
       "      <td>1</td>\n",
       "      <td>0</td>\n",
       "      <td>PC 17572</td>\n",
       "      <td>76.7292</td>\n",
       "      <td>D33</td>\n",
       "      <td>C</td>\n",
       "      <td>0</td>\n",
       "    </tr>\n",
       "    <tr>\n",
       "      <th>386</th>\n",
       "      <td>387</td>\n",
       "      <td>0</td>\n",
       "      <td>3</td>\n",
       "      <td>Goodwin, Master. Sidney Leonard</td>\n",
       "      <td>male</td>\n",
       "      <td>1.0</td>\n",
       "      <td>5</td>\n",
       "      <td>2</td>\n",
       "      <td>CA 2144</td>\n",
       "      <td>46.9000</td>\n",
       "      <td>NaN</td>\n",
       "      <td>S</td>\n",
       "      <td>0</td>\n",
       "    </tr>\n",
       "    <tr>\n",
       "      <th>124</th>\n",
       "      <td>125</td>\n",
       "      <td>0</td>\n",
       "      <td>1</td>\n",
       "      <td>White, Mr. Percival Wayland</td>\n",
       "      <td>male</td>\n",
       "      <td>54.0</td>\n",
       "      <td>0</td>\n",
       "      <td>1</td>\n",
       "      <td>35281</td>\n",
       "      <td>77.2875</td>\n",
       "      <td>D26</td>\n",
       "      <td>S</td>\n",
       "      <td>0</td>\n",
       "    </tr>\n",
       "    <tr>\n",
       "      <th>578</th>\n",
       "      <td>579</td>\n",
       "      <td>0</td>\n",
       "      <td>3</td>\n",
       "      <td>Caram, Mrs. Joseph (Maria Elias)</td>\n",
       "      <td>female</td>\n",
       "      <td>NaN</td>\n",
       "      <td>1</td>\n",
       "      <td>0</td>\n",
       "      <td>2689</td>\n",
       "      <td>14.4583</td>\n",
       "      <td>NaN</td>\n",
       "      <td>C</td>\n",
       "      <td>1</td>\n",
       "    </tr>\n",
       "  </tbody>\n",
       "</table>\n",
       "</div>"
      ],
      "text/plain": [
       "     PassengerId  Survived  Pclass                                      Name  \\\n",
       "857          858         1       1                    Daly, Mr. Peter Denis    \n",
       "52            53         1       1  Harper, Mrs. Henry Sleeper (Myna Haxtun)   \n",
       "386          387         0       3           Goodwin, Master. Sidney Leonard   \n",
       "124          125         0       1               White, Mr. Percival Wayland   \n",
       "578          579         0       3          Caram, Mrs. Joseph (Maria Elias)   \n",
       "\n",
       "        Sex   Age  SibSp  Parch    Ticket     Fare Cabin Embarked  Age_NA  \n",
       "857    male  51.0      0      0    113055  26.5500   E17        S       0  \n",
       "52   female  49.0      1      0  PC 17572  76.7292   D33        C       0  \n",
       "386    male   1.0      5      2   CA 2144  46.9000   NaN        S       0  \n",
       "124    male  54.0      0      1     35281  77.2875   D26        S       0  \n",
       "578  female   NaN      1      0      2689  14.4583   NaN        C       1  "
      ]
     },
     "execution_count": 86,
     "metadata": {},
     "output_type": "execute_result"
    }
   ],
   "source": [
    "# Create new variables that indicate missingness\n",
    "\n",
    "for i in [X_train, X_test]:\n",
    "    i['Age_NA'] = np.where(i['Age'].isnull(), 1, 0)\n",
    "\n",
    "X_train.head()"
   ]
  },
  {
   "cell_type": "code",
   "execution_count": 87,
   "id": "002d1bbf",
   "metadata": {},
   "outputs": [
    {
     "data": {
      "text/plain": [
       "(np.float64(29.915338645418327), np.float64(29.0))"
      ]
     },
     "execution_count": 87,
     "metadata": {},
     "output_type": "execute_result"
    }
   ],
   "source": [
    "#Check mean and median if they are similar, if they are the same,\n",
    "#  replace the nulls with median\n",
    "\n",
    "X_train['Age'].mean(), X_train['Age'].median()"
   ]
  },
  {
   "cell_type": "code",
   "execution_count": 88,
   "id": "5cba699b",
   "metadata": {},
   "outputs": [
    {
     "data": {
      "application/vnd.microsoft.datawrangler.viewer.v0+json": {
       "columns": [
        {
         "name": "index",
         "rawType": "int64",
         "type": "integer"
        },
        {
         "name": "PassengerId",
         "rawType": "int64",
         "type": "integer"
        },
        {
         "name": "Survived",
         "rawType": "int64",
         "type": "integer"
        },
        {
         "name": "Pclass",
         "rawType": "int64",
         "type": "integer"
        },
        {
         "name": "Name",
         "rawType": "object",
         "type": "string"
        },
        {
         "name": "Sex",
         "rawType": "object",
         "type": "string"
        },
        {
         "name": "Age",
         "rawType": "float64",
         "type": "float"
        },
        {
         "name": "SibSp",
         "rawType": "int64",
         "type": "integer"
        },
        {
         "name": "Parch",
         "rawType": "int64",
         "type": "integer"
        },
        {
         "name": "Ticket",
         "rawType": "object",
         "type": "string"
        },
        {
         "name": "Fare",
         "rawType": "float64",
         "type": "float"
        },
        {
         "name": "Cabin",
         "rawType": "object",
         "type": "unknown"
        },
        {
         "name": "Embarked",
         "rawType": "object",
         "type": "string"
        },
        {
         "name": "Age_NA",
         "rawType": "int64",
         "type": "integer"
        }
       ],
       "ref": "1fbc63f5-1aeb-48de-b417-10c187a725f3",
       "rows": [
        [
         "857",
         "858",
         "1",
         "1",
         "Daly, Mr. Peter Denis ",
         "male",
         "51.0",
         "0",
         "0",
         "113055",
         "26.55",
         "E17",
         "S",
         "0"
        ],
        [
         "52",
         "53",
         "1",
         "1",
         "Harper, Mrs. Henry Sleeper (Myna Haxtun)",
         "female",
         "49.0",
         "1",
         "0",
         "PC 17572",
         "76.7292",
         "D33",
         "C",
         "0"
        ],
        [
         "386",
         "387",
         "0",
         "3",
         "Goodwin, Master. Sidney Leonard",
         "male",
         "1.0",
         "5",
         "2",
         "CA 2144",
         "46.9",
         null,
         "S",
         "0"
        ],
        [
         "124",
         "125",
         "0",
         "1",
         "White, Mr. Percival Wayland",
         "male",
         "54.0",
         "0",
         "1",
         "35281",
         "77.2875",
         "D26",
         "S",
         "0"
        ],
        [
         "578",
         "579",
         "0",
         "3",
         "Caram, Mrs. Joseph (Maria Elias)",
         "female",
         "29.0",
         "1",
         "0",
         "2689",
         "14.4583",
         null,
         "C",
         "1"
        ]
       ],
       "shape": {
        "columns": 13,
        "rows": 5
       }
      },
      "text/html": [
       "<div>\n",
       "<style scoped>\n",
       "    .dataframe tbody tr th:only-of-type {\n",
       "        vertical-align: middle;\n",
       "    }\n",
       "\n",
       "    .dataframe tbody tr th {\n",
       "        vertical-align: top;\n",
       "    }\n",
       "\n",
       "    .dataframe thead th {\n",
       "        text-align: right;\n",
       "    }\n",
       "</style>\n",
       "<table border=\"1\" class=\"dataframe\">\n",
       "  <thead>\n",
       "    <tr style=\"text-align: right;\">\n",
       "      <th></th>\n",
       "      <th>PassengerId</th>\n",
       "      <th>Survived</th>\n",
       "      <th>Pclass</th>\n",
       "      <th>Name</th>\n",
       "      <th>Sex</th>\n",
       "      <th>Age</th>\n",
       "      <th>SibSp</th>\n",
       "      <th>Parch</th>\n",
       "      <th>Ticket</th>\n",
       "      <th>Fare</th>\n",
       "      <th>Cabin</th>\n",
       "      <th>Embarked</th>\n",
       "      <th>Age_NA</th>\n",
       "    </tr>\n",
       "  </thead>\n",
       "  <tbody>\n",
       "    <tr>\n",
       "      <th>857</th>\n",
       "      <td>858</td>\n",
       "      <td>1</td>\n",
       "      <td>1</td>\n",
       "      <td>Daly, Mr. Peter Denis</td>\n",
       "      <td>male</td>\n",
       "      <td>51.0</td>\n",
       "      <td>0</td>\n",
       "      <td>0</td>\n",
       "      <td>113055</td>\n",
       "      <td>26.5500</td>\n",
       "      <td>E17</td>\n",
       "      <td>S</td>\n",
       "      <td>0</td>\n",
       "    </tr>\n",
       "    <tr>\n",
       "      <th>52</th>\n",
       "      <td>53</td>\n",
       "      <td>1</td>\n",
       "      <td>1</td>\n",
       "      <td>Harper, Mrs. Henry Sleeper (Myna Haxtun)</td>\n",
       "      <td>female</td>\n",
       "      <td>49.0</td>\n",
       "      <td>1</td>\n",
       "      <td>0</td>\n",
       "      <td>PC 17572</td>\n",
       "      <td>76.7292</td>\n",
       "      <td>D33</td>\n",
       "      <td>C</td>\n",
       "      <td>0</td>\n",
       "    </tr>\n",
       "    <tr>\n",
       "      <th>386</th>\n",
       "      <td>387</td>\n",
       "      <td>0</td>\n",
       "      <td>3</td>\n",
       "      <td>Goodwin, Master. Sidney Leonard</td>\n",
       "      <td>male</td>\n",
       "      <td>1.0</td>\n",
       "      <td>5</td>\n",
       "      <td>2</td>\n",
       "      <td>CA 2144</td>\n",
       "      <td>46.9000</td>\n",
       "      <td>NaN</td>\n",
       "      <td>S</td>\n",
       "      <td>0</td>\n",
       "    </tr>\n",
       "    <tr>\n",
       "      <th>124</th>\n",
       "      <td>125</td>\n",
       "      <td>0</td>\n",
       "      <td>1</td>\n",
       "      <td>White, Mr. Percival Wayland</td>\n",
       "      <td>male</td>\n",
       "      <td>54.0</td>\n",
       "      <td>0</td>\n",
       "      <td>1</td>\n",
       "      <td>35281</td>\n",
       "      <td>77.2875</td>\n",
       "      <td>D26</td>\n",
       "      <td>S</td>\n",
       "      <td>0</td>\n",
       "    </tr>\n",
       "    <tr>\n",
       "      <th>578</th>\n",
       "      <td>579</td>\n",
       "      <td>0</td>\n",
       "      <td>3</td>\n",
       "      <td>Caram, Mrs. Joseph (Maria Elias)</td>\n",
       "      <td>female</td>\n",
       "      <td>29.0</td>\n",
       "      <td>1</td>\n",
       "      <td>0</td>\n",
       "      <td>2689</td>\n",
       "      <td>14.4583</td>\n",
       "      <td>NaN</td>\n",
       "      <td>C</td>\n",
       "      <td>1</td>\n",
       "    </tr>\n",
       "  </tbody>\n",
       "</table>\n",
       "</div>"
      ],
      "text/plain": [
       "     PassengerId  Survived  Pclass                                      Name  \\\n",
       "857          858         1       1                    Daly, Mr. Peter Denis    \n",
       "52            53         1       1  Harper, Mrs. Henry Sleeper (Myna Haxtun)   \n",
       "386          387         0       3           Goodwin, Master. Sidney Leonard   \n",
       "124          125         0       1               White, Mr. Percival Wayland   \n",
       "578          579         0       3          Caram, Mrs. Joseph (Maria Elias)   \n",
       "\n",
       "        Sex   Age  SibSp  Parch    Ticket     Fare Cabin Embarked  Age_NA  \n",
       "857    male  51.0      0      0    113055  26.5500   E17        S       0  \n",
       "52   female  49.0      1      0  PC 17572  76.7292   D33        C       0  \n",
       "386    male   1.0      5      2   CA 2144  46.9000   NaN        S       0  \n",
       "124    male  54.0      0      1     35281  77.2875   D26        S       0  \n",
       "578  female  29.0      1      0      2689  14.4583   NaN        C       1  "
      ]
     },
     "execution_count": 88,
     "metadata": {},
     "output_type": "execute_result"
    }
   ],
   "source": [
    "for i in [X_train, X_test]:\n",
    "    i['Age'].fillna(i['Age'].median(), inplace = True)\n",
    "\n",
    "X_train.head()"
   ]
  },
  {
   "cell_type": "markdown",
   "id": "2127433f",
   "metadata": {},
   "source": [
    "## Categorical Encoding\n"
   ]
  },
  {
   "cell_type": "code",
   "execution_count": 7,
   "id": "b1ea930e",
   "metadata": {},
   "outputs": [
    {
     "data": {
      "application/vnd.microsoft.datawrangler.viewer.v0+json": {
       "columns": [
        {
         "name": "index",
         "rawType": "int64",
         "type": "integer"
        },
        {
         "name": "PassengerId",
         "rawType": "int64",
         "type": "integer"
        },
        {
         "name": "Survived",
         "rawType": "int64",
         "type": "integer"
        },
        {
         "name": "Pclass",
         "rawType": "int64",
         "type": "integer"
        },
        {
         "name": "Name",
         "rawType": "object",
         "type": "string"
        },
        {
         "name": "Sex",
         "rawType": "object",
         "type": "string"
        },
        {
         "name": "Age",
         "rawType": "float64",
         "type": "float"
        },
        {
         "name": "SibSp",
         "rawType": "int64",
         "type": "integer"
        },
        {
         "name": "Parch",
         "rawType": "int64",
         "type": "integer"
        },
        {
         "name": "Ticket",
         "rawType": "object",
         "type": "string"
        },
        {
         "name": "Fare",
         "rawType": "float64",
         "type": "float"
        },
        {
         "name": "Cabin",
         "rawType": "object",
         "type": "unknown"
        },
        {
         "name": "Embarked",
         "rawType": "object",
         "type": "unknown"
        }
       ],
       "ref": "aca9d70d-4d57-44de-ad43-281d562fbdac",
       "rows": [
        [
         "0",
         "1",
         "0",
         "3",
         "Braund, Mr. Owen Harris",
         "male",
         "22.0",
         "1",
         "0",
         "A/5 21171",
         "7.25",
         null,
         "S"
        ],
        [
         "1",
         "2",
         "1",
         "1",
         "Cumings, Mrs. John Bradley (Florence Briggs Thayer)",
         "female",
         "38.0",
         "1",
         "0",
         "PC 17599",
         "71.2833",
         "C85",
         "C"
        ],
        [
         "2",
         "3",
         "1",
         "3",
         "Heikkinen, Miss. Laina",
         "female",
         "26.0",
         "0",
         "0",
         "STON/O2. 3101282",
         "7.925",
         null,
         "S"
        ],
        [
         "3",
         "4",
         "1",
         "1",
         "Futrelle, Mrs. Jacques Heath (Lily May Peel)",
         "female",
         "35.0",
         "1",
         "0",
         "113803",
         "53.1",
         "C123",
         "S"
        ],
        [
         "4",
         "5",
         "0",
         "3",
         "Allen, Mr. William Henry",
         "male",
         "35.0",
         "0",
         "0",
         "373450",
         "8.05",
         null,
         "S"
        ],
        [
         "5",
         "6",
         "0",
         "3",
         "Moran, Mr. James",
         "male",
         null,
         "0",
         "0",
         "330877",
         "8.4583",
         null,
         "Q"
        ],
        [
         "6",
         "7",
         "0",
         "1",
         "McCarthy, Mr. Timothy J",
         "male",
         "54.0",
         "0",
         "0",
         "17463",
         "51.8625",
         "E46",
         "S"
        ],
        [
         "7",
         "8",
         "0",
         "3",
         "Palsson, Master. Gosta Leonard",
         "male",
         "2.0",
         "3",
         "1",
         "349909",
         "21.075",
         null,
         "S"
        ],
        [
         "8",
         "9",
         "1",
         "3",
         "Johnson, Mrs. Oscar W (Elisabeth Vilhelmina Berg)",
         "female",
         "27.0",
         "0",
         "2",
         "347742",
         "11.1333",
         null,
         "S"
        ],
        [
         "9",
         "10",
         "1",
         "2",
         "Nasser, Mrs. Nicholas (Adele Achem)",
         "female",
         "14.0",
         "1",
         "0",
         "237736",
         "30.0708",
         null,
         "C"
        ],
        [
         "10",
         "11",
         "1",
         "3",
         "Sandstrom, Miss. Marguerite Rut",
         "female",
         "4.0",
         "1",
         "1",
         "PP 9549",
         "16.7",
         "G6",
         "S"
        ],
        [
         "11",
         "12",
         "1",
         "1",
         "Bonnell, Miss. Elizabeth",
         "female",
         "58.0",
         "0",
         "0",
         "113783",
         "26.55",
         "C103",
         "S"
        ],
        [
         "12",
         "13",
         "0",
         "3",
         "Saundercock, Mr. William Henry",
         "male",
         "20.0",
         "0",
         "0",
         "A/5. 2151",
         "8.05",
         null,
         "S"
        ],
        [
         "13",
         "14",
         "0",
         "3",
         "Andersson, Mr. Anders Johan",
         "male",
         "39.0",
         "1",
         "5",
         "347082",
         "31.275",
         null,
         "S"
        ],
        [
         "14",
         "15",
         "0",
         "3",
         "Vestrom, Miss. Hulda Amanda Adolfina",
         "female",
         "14.0",
         "0",
         "0",
         "350406",
         "7.8542",
         null,
         "S"
        ],
        [
         "15",
         "16",
         "1",
         "2",
         "Hewlett, Mrs. (Mary D Kingcome) ",
         "female",
         "55.0",
         "0",
         "0",
         "248706",
         "16.0",
         null,
         "S"
        ],
        [
         "16",
         "17",
         "0",
         "3",
         "Rice, Master. Eugene",
         "male",
         "2.0",
         "4",
         "1",
         "382652",
         "29.125",
         null,
         "Q"
        ],
        [
         "17",
         "18",
         "1",
         "2",
         "Williams, Mr. Charles Eugene",
         "male",
         null,
         "0",
         "0",
         "244373",
         "13.0",
         null,
         "S"
        ],
        [
         "18",
         "19",
         "0",
         "3",
         "Vander Planke, Mrs. Julius (Emelia Maria Vandemoortele)",
         "female",
         "31.0",
         "1",
         "0",
         "345763",
         "18.0",
         null,
         "S"
        ],
        [
         "19",
         "20",
         "1",
         "3",
         "Masselmani, Mrs. Fatima",
         "female",
         null,
         "0",
         "0",
         "2649",
         "7.225",
         null,
         "C"
        ],
        [
         "20",
         "21",
         "0",
         "2",
         "Fynney, Mr. Joseph J",
         "male",
         "35.0",
         "0",
         "0",
         "239865",
         "26.0",
         null,
         "S"
        ],
        [
         "21",
         "22",
         "1",
         "2",
         "Beesley, Mr. Lawrence",
         "male",
         "34.0",
         "0",
         "0",
         "248698",
         "13.0",
         "D56",
         "S"
        ],
        [
         "22",
         "23",
         "1",
         "3",
         "McGowan, Miss. Anna \"Annie\"",
         "female",
         "15.0",
         "0",
         "0",
         "330923",
         "8.0292",
         null,
         "Q"
        ],
        [
         "23",
         "24",
         "1",
         "1",
         "Sloper, Mr. William Thompson",
         "male",
         "28.0",
         "0",
         "0",
         "113788",
         "35.5",
         "A6",
         "S"
        ],
        [
         "24",
         "25",
         "0",
         "3",
         "Palsson, Miss. Torborg Danira",
         "female",
         "8.0",
         "3",
         "1",
         "349909",
         "21.075",
         null,
         "S"
        ],
        [
         "25",
         "26",
         "1",
         "3",
         "Asplund, Mrs. Carl Oscar (Selma Augusta Emilia Johansson)",
         "female",
         "38.0",
         "1",
         "5",
         "347077",
         "31.3875",
         null,
         "S"
        ],
        [
         "26",
         "27",
         "0",
         "3",
         "Emir, Mr. Farred Chehab",
         "male",
         null,
         "0",
         "0",
         "2631",
         "7.225",
         null,
         "C"
        ],
        [
         "27",
         "28",
         "0",
         "1",
         "Fortune, Mr. Charles Alexander",
         "male",
         "19.0",
         "3",
         "2",
         "19950",
         "263.0",
         "C23 C25 C27",
         "S"
        ],
        [
         "28",
         "29",
         "1",
         "3",
         "O'Dwyer, Miss. Ellen \"Nellie\"",
         "female",
         null,
         "0",
         "0",
         "330959",
         "7.8792",
         null,
         "Q"
        ],
        [
         "29",
         "30",
         "0",
         "3",
         "Todoroff, Mr. Lalio",
         "male",
         null,
         "0",
         "0",
         "349216",
         "7.8958",
         null,
         "S"
        ],
        [
         "30",
         "31",
         "0",
         "1",
         "Uruchurtu, Don. Manuel E",
         "male",
         "40.0",
         "0",
         "0",
         "PC 17601",
         "27.7208",
         null,
         "C"
        ],
        [
         "31",
         "32",
         "1",
         "1",
         "Spencer, Mrs. William Augustus (Marie Eugenie)",
         "female",
         null,
         "1",
         "0",
         "PC 17569",
         "146.5208",
         "B78",
         "C"
        ],
        [
         "32",
         "33",
         "1",
         "3",
         "Glynn, Miss. Mary Agatha",
         "female",
         null,
         "0",
         "0",
         "335677",
         "7.75",
         null,
         "Q"
        ],
        [
         "33",
         "34",
         "0",
         "2",
         "Wheadon, Mr. Edward H",
         "male",
         "66.0",
         "0",
         "0",
         "C.A. 24579",
         "10.5",
         null,
         "S"
        ],
        [
         "34",
         "35",
         "0",
         "1",
         "Meyer, Mr. Edgar Joseph",
         "male",
         "28.0",
         "1",
         "0",
         "PC 17604",
         "82.1708",
         null,
         "C"
        ],
        [
         "35",
         "36",
         "0",
         "1",
         "Holverson, Mr. Alexander Oskar",
         "male",
         "42.0",
         "1",
         "0",
         "113789",
         "52.0",
         null,
         "S"
        ],
        [
         "36",
         "37",
         "1",
         "3",
         "Mamee, Mr. Hanna",
         "male",
         null,
         "0",
         "0",
         "2677",
         "7.2292",
         null,
         "C"
        ],
        [
         "37",
         "38",
         "0",
         "3",
         "Cann, Mr. Ernest Charles",
         "male",
         "21.0",
         "0",
         "0",
         "A./5. 2152",
         "8.05",
         null,
         "S"
        ],
        [
         "38",
         "39",
         "0",
         "3",
         "Vander Planke, Miss. Augusta Maria",
         "female",
         "18.0",
         "2",
         "0",
         "345764",
         "18.0",
         null,
         "S"
        ],
        [
         "39",
         "40",
         "1",
         "3",
         "Nicola-Yarred, Miss. Jamila",
         "female",
         "14.0",
         "1",
         "0",
         "2651",
         "11.2417",
         null,
         "C"
        ],
        [
         "40",
         "41",
         "0",
         "3",
         "Ahlin, Mrs. Johan (Johanna Persdotter Larsson)",
         "female",
         "40.0",
         "1",
         "0",
         "7546",
         "9.475",
         null,
         "S"
        ],
        [
         "41",
         "42",
         "0",
         "2",
         "Turpin, Mrs. William John Robert (Dorothy Ann Wonnacott)",
         "female",
         "27.0",
         "1",
         "0",
         "11668",
         "21.0",
         null,
         "S"
        ],
        [
         "42",
         "43",
         "0",
         "3",
         "Kraeff, Mr. Theodor",
         "male",
         null,
         "0",
         "0",
         "349253",
         "7.8958",
         null,
         "C"
        ],
        [
         "43",
         "44",
         "1",
         "2",
         "Laroche, Miss. Simonne Marie Anne Andree",
         "female",
         "3.0",
         "1",
         "2",
         "SC/Paris 2123",
         "41.5792",
         null,
         "C"
        ],
        [
         "44",
         "45",
         "1",
         "3",
         "Devaney, Miss. Margaret Delia",
         "female",
         "19.0",
         "0",
         "0",
         "330958",
         "7.8792",
         null,
         "Q"
        ],
        [
         "45",
         "46",
         "0",
         "3",
         "Rogers, Mr. William John",
         "male",
         null,
         "0",
         "0",
         "S.C./A.4. 23567",
         "8.05",
         null,
         "S"
        ],
        [
         "46",
         "47",
         "0",
         "3",
         "Lennon, Mr. Denis",
         "male",
         null,
         "1",
         "0",
         "370371",
         "15.5",
         null,
         "Q"
        ],
        [
         "47",
         "48",
         "1",
         "3",
         "O'Driscoll, Miss. Bridget",
         "female",
         null,
         "0",
         "0",
         "14311",
         "7.75",
         null,
         "Q"
        ],
        [
         "48",
         "49",
         "0",
         "3",
         "Samaan, Mr. Youssef",
         "male",
         null,
         "2",
         "0",
         "2662",
         "21.6792",
         null,
         "C"
        ],
        [
         "49",
         "50",
         "0",
         "3",
         "Arnold-Franchi, Mrs. Josef (Josefine Franchi)",
         "female",
         "18.0",
         "1",
         "0",
         "349237",
         "17.8",
         null,
         "S"
        ]
       ],
       "shape": {
        "columns": 12,
        "rows": 891
       }
      },
      "text/html": [
       "<div>\n",
       "<style scoped>\n",
       "    .dataframe tbody tr th:only-of-type {\n",
       "        vertical-align: middle;\n",
       "    }\n",
       "\n",
       "    .dataframe tbody tr th {\n",
       "        vertical-align: top;\n",
       "    }\n",
       "\n",
       "    .dataframe thead th {\n",
       "        text-align: right;\n",
       "    }\n",
       "</style>\n",
       "<table border=\"1\" class=\"dataframe\">\n",
       "  <thead>\n",
       "    <tr style=\"text-align: right;\">\n",
       "      <th></th>\n",
       "      <th>PassengerId</th>\n",
       "      <th>Survived</th>\n",
       "      <th>Pclass</th>\n",
       "      <th>Name</th>\n",
       "      <th>Sex</th>\n",
       "      <th>Age</th>\n",
       "      <th>SibSp</th>\n",
       "      <th>Parch</th>\n",
       "      <th>Ticket</th>\n",
       "      <th>Fare</th>\n",
       "      <th>Cabin</th>\n",
       "      <th>Embarked</th>\n",
       "    </tr>\n",
       "  </thead>\n",
       "  <tbody>\n",
       "    <tr>\n",
       "      <th>0</th>\n",
       "      <td>1</td>\n",
       "      <td>0</td>\n",
       "      <td>3</td>\n",
       "      <td>Braund, Mr. Owen Harris</td>\n",
       "      <td>male</td>\n",
       "      <td>22.0</td>\n",
       "      <td>1</td>\n",
       "      <td>0</td>\n",
       "      <td>A/5 21171</td>\n",
       "      <td>7.2500</td>\n",
       "      <td>NaN</td>\n",
       "      <td>S</td>\n",
       "    </tr>\n",
       "    <tr>\n",
       "      <th>1</th>\n",
       "      <td>2</td>\n",
       "      <td>1</td>\n",
       "      <td>1</td>\n",
       "      <td>Cumings, Mrs. John Bradley (Florence Briggs Th...</td>\n",
       "      <td>female</td>\n",
       "      <td>38.0</td>\n",
       "      <td>1</td>\n",
       "      <td>0</td>\n",
       "      <td>PC 17599</td>\n",
       "      <td>71.2833</td>\n",
       "      <td>C85</td>\n",
       "      <td>C</td>\n",
       "    </tr>\n",
       "    <tr>\n",
       "      <th>2</th>\n",
       "      <td>3</td>\n",
       "      <td>1</td>\n",
       "      <td>3</td>\n",
       "      <td>Heikkinen, Miss. Laina</td>\n",
       "      <td>female</td>\n",
       "      <td>26.0</td>\n",
       "      <td>0</td>\n",
       "      <td>0</td>\n",
       "      <td>STON/O2. 3101282</td>\n",
       "      <td>7.9250</td>\n",
       "      <td>NaN</td>\n",
       "      <td>S</td>\n",
       "    </tr>\n",
       "    <tr>\n",
       "      <th>3</th>\n",
       "      <td>4</td>\n",
       "      <td>1</td>\n",
       "      <td>1</td>\n",
       "      <td>Futrelle, Mrs. Jacques Heath (Lily May Peel)</td>\n",
       "      <td>female</td>\n",
       "      <td>35.0</td>\n",
       "      <td>1</td>\n",
       "      <td>0</td>\n",
       "      <td>113803</td>\n",
       "      <td>53.1000</td>\n",
       "      <td>C123</td>\n",
       "      <td>S</td>\n",
       "    </tr>\n",
       "    <tr>\n",
       "      <th>4</th>\n",
       "      <td>5</td>\n",
       "      <td>0</td>\n",
       "      <td>3</td>\n",
       "      <td>Allen, Mr. William Henry</td>\n",
       "      <td>male</td>\n",
       "      <td>35.0</td>\n",
       "      <td>0</td>\n",
       "      <td>0</td>\n",
       "      <td>373450</td>\n",
       "      <td>8.0500</td>\n",
       "      <td>NaN</td>\n",
       "      <td>S</td>\n",
       "    </tr>\n",
       "    <tr>\n",
       "      <th>...</th>\n",
       "      <td>...</td>\n",
       "      <td>...</td>\n",
       "      <td>...</td>\n",
       "      <td>...</td>\n",
       "      <td>...</td>\n",
       "      <td>...</td>\n",
       "      <td>...</td>\n",
       "      <td>...</td>\n",
       "      <td>...</td>\n",
       "      <td>...</td>\n",
       "      <td>...</td>\n",
       "      <td>...</td>\n",
       "    </tr>\n",
       "    <tr>\n",
       "      <th>886</th>\n",
       "      <td>887</td>\n",
       "      <td>0</td>\n",
       "      <td>2</td>\n",
       "      <td>Montvila, Rev. Juozas</td>\n",
       "      <td>male</td>\n",
       "      <td>27.0</td>\n",
       "      <td>0</td>\n",
       "      <td>0</td>\n",
       "      <td>211536</td>\n",
       "      <td>13.0000</td>\n",
       "      <td>NaN</td>\n",
       "      <td>S</td>\n",
       "    </tr>\n",
       "    <tr>\n",
       "      <th>887</th>\n",
       "      <td>888</td>\n",
       "      <td>1</td>\n",
       "      <td>1</td>\n",
       "      <td>Graham, Miss. Margaret Edith</td>\n",
       "      <td>female</td>\n",
       "      <td>19.0</td>\n",
       "      <td>0</td>\n",
       "      <td>0</td>\n",
       "      <td>112053</td>\n",
       "      <td>30.0000</td>\n",
       "      <td>B42</td>\n",
       "      <td>S</td>\n",
       "    </tr>\n",
       "    <tr>\n",
       "      <th>888</th>\n",
       "      <td>889</td>\n",
       "      <td>0</td>\n",
       "      <td>3</td>\n",
       "      <td>Johnston, Miss. Catherine Helen \"Carrie\"</td>\n",
       "      <td>female</td>\n",
       "      <td>NaN</td>\n",
       "      <td>1</td>\n",
       "      <td>2</td>\n",
       "      <td>W./C. 6607</td>\n",
       "      <td>23.4500</td>\n",
       "      <td>NaN</td>\n",
       "      <td>S</td>\n",
       "    </tr>\n",
       "    <tr>\n",
       "      <th>889</th>\n",
       "      <td>890</td>\n",
       "      <td>1</td>\n",
       "      <td>1</td>\n",
       "      <td>Behr, Mr. Karl Howell</td>\n",
       "      <td>male</td>\n",
       "      <td>26.0</td>\n",
       "      <td>0</td>\n",
       "      <td>0</td>\n",
       "      <td>111369</td>\n",
       "      <td>30.0000</td>\n",
       "      <td>C148</td>\n",
       "      <td>C</td>\n",
       "    </tr>\n",
       "    <tr>\n",
       "      <th>890</th>\n",
       "      <td>891</td>\n",
       "      <td>0</td>\n",
       "      <td>3</td>\n",
       "      <td>Dooley, Mr. Patrick</td>\n",
       "      <td>male</td>\n",
       "      <td>32.0</td>\n",
       "      <td>0</td>\n",
       "      <td>0</td>\n",
       "      <td>370376</td>\n",
       "      <td>7.7500</td>\n",
       "      <td>NaN</td>\n",
       "      <td>Q</td>\n",
       "    </tr>\n",
       "  </tbody>\n",
       "</table>\n",
       "<p>891 rows × 12 columns</p>\n",
       "</div>"
      ],
      "text/plain": [
       "     PassengerId  Survived  Pclass  \\\n",
       "0              1         0       3   \n",
       "1              2         1       1   \n",
       "2              3         1       3   \n",
       "3              4         1       1   \n",
       "4              5         0       3   \n",
       "..           ...       ...     ...   \n",
       "886          887         0       2   \n",
       "887          888         1       1   \n",
       "888          889         0       3   \n",
       "889          890         1       1   \n",
       "890          891         0       3   \n",
       "\n",
       "                                                  Name     Sex   Age  SibSp  \\\n",
       "0                              Braund, Mr. Owen Harris    male  22.0      1   \n",
       "1    Cumings, Mrs. John Bradley (Florence Briggs Th...  female  38.0      1   \n",
       "2                               Heikkinen, Miss. Laina  female  26.0      0   \n",
       "3         Futrelle, Mrs. Jacques Heath (Lily May Peel)  female  35.0      1   \n",
       "4                             Allen, Mr. William Henry    male  35.0      0   \n",
       "..                                                 ...     ...   ...    ...   \n",
       "886                              Montvila, Rev. Juozas    male  27.0      0   \n",
       "887                       Graham, Miss. Margaret Edith  female  19.0      0   \n",
       "888           Johnston, Miss. Catherine Helen \"Carrie\"  female   NaN      1   \n",
       "889                              Behr, Mr. Karl Howell    male  26.0      0   \n",
       "890                                Dooley, Mr. Patrick    male  32.0      0   \n",
       "\n",
       "     Parch            Ticket     Fare Cabin Embarked  \n",
       "0        0         A/5 21171   7.2500   NaN        S  \n",
       "1        0          PC 17599  71.2833   C85        C  \n",
       "2        0  STON/O2. 3101282   7.9250   NaN        S  \n",
       "3        0            113803  53.1000  C123        S  \n",
       "4        0            373450   8.0500   NaN        S  \n",
       "..     ...               ...      ...   ...      ...  \n",
       "886      0            211536  13.0000   NaN        S  \n",
       "887      0            112053  30.0000   B42        S  \n",
       "888      2        W./C. 6607  23.4500   NaN        S  \n",
       "889      0            111369  30.0000  C148        C  \n",
       "890      0            370376   7.7500   NaN        Q  \n",
       "\n",
       "[891 rows x 12 columns]"
      ]
     },
     "execution_count": 7,
     "metadata": {},
     "output_type": "execute_result"
    }
   ],
   "source": [
    "data_ce = titanic.copy()\n",
    "data_ce"
   ]
  },
  {
   "cell_type": "markdown",
   "id": "dc05057a",
   "metadata": {},
   "source": [
    "#### One-Hot Encoding (OHE)"
   ]
  },
  {
   "cell_type": "code",
   "execution_count": 8,
   "id": "dbc90690",
   "metadata": {},
   "outputs": [],
   "source": [
    "data_ce_ohe = data_ce.copy()"
   ]
  },
  {
   "cell_type": "code",
   "execution_count": 10,
   "id": "127c4cf2",
   "metadata": {},
   "outputs": [
    {
     "data": {
      "application/vnd.microsoft.datawrangler.viewer.v0+json": {
       "columns": [
        {
         "name": "index",
         "rawType": "int64",
         "type": "integer"
        },
        {
         "name": "Sex",
         "rawType": "object",
         "type": "string"
        }
       ],
       "ref": "427a8d22-db94-46c1-a178-338a926ce376",
       "rows": [
        [
         "0",
         "male"
        ],
        [
         "1",
         "female"
        ],
        [
         "2",
         "female"
        ],
        [
         "3",
         "female"
        ],
        [
         "4",
         "male"
        ]
       ],
       "shape": {
        "columns": 1,
        "rows": 5
       }
      },
      "text/plain": [
       "0      male\n",
       "1    female\n",
       "2    female\n",
       "3    female\n",
       "4      male\n",
       "Name: Sex, dtype: object"
      ]
     },
     "execution_count": 10,
     "metadata": {},
     "output_type": "execute_result"
    }
   ],
   "source": [
    "data_ce_ohe['Sex'].head()"
   ]
  },
  {
   "cell_type": "code",
   "execution_count": 11,
   "id": "9122ad41",
   "metadata": {},
   "outputs": [
    {
     "data": {
      "application/vnd.microsoft.datawrangler.viewer.v0+json": {
       "columns": [
        {
         "name": "index",
         "rawType": "int64",
         "type": "integer"
        },
        {
         "name": "female",
         "rawType": "bool",
         "type": "boolean"
        },
        {
         "name": "male",
         "rawType": "bool",
         "type": "boolean"
        }
       ],
       "ref": "67ad6842-4207-45bf-9e77-c8b4ea13c4a2",
       "rows": [
        [
         "0",
         "False",
         "True"
        ],
        [
         "1",
         "True",
         "False"
        ],
        [
         "2",
         "True",
         "False"
        ],
        [
         "3",
         "True",
         "False"
        ],
        [
         "4",
         "False",
         "True"
        ]
       ],
       "shape": {
        "columns": 2,
        "rows": 5
       }
      },
      "text/html": [
       "<div>\n",
       "<style scoped>\n",
       "    .dataframe tbody tr th:only-of-type {\n",
       "        vertical-align: middle;\n",
       "    }\n",
       "\n",
       "    .dataframe tbody tr th {\n",
       "        vertical-align: top;\n",
       "    }\n",
       "\n",
       "    .dataframe thead th {\n",
       "        text-align: right;\n",
       "    }\n",
       "</style>\n",
       "<table border=\"1\" class=\"dataframe\">\n",
       "  <thead>\n",
       "    <tr style=\"text-align: right;\">\n",
       "      <th></th>\n",
       "      <th>female</th>\n",
       "      <th>male</th>\n",
       "    </tr>\n",
       "  </thead>\n",
       "  <tbody>\n",
       "    <tr>\n",
       "      <th>0</th>\n",
       "      <td>False</td>\n",
       "      <td>True</td>\n",
       "    </tr>\n",
       "    <tr>\n",
       "      <th>1</th>\n",
       "      <td>True</td>\n",
       "      <td>False</td>\n",
       "    </tr>\n",
       "    <tr>\n",
       "      <th>2</th>\n",
       "      <td>True</td>\n",
       "      <td>False</td>\n",
       "    </tr>\n",
       "    <tr>\n",
       "      <th>3</th>\n",
       "      <td>True</td>\n",
       "      <td>False</td>\n",
       "    </tr>\n",
       "    <tr>\n",
       "      <th>4</th>\n",
       "      <td>False</td>\n",
       "      <td>True</td>\n",
       "    </tr>\n",
       "  </tbody>\n",
       "</table>\n",
       "</div>"
      ],
      "text/plain": [
       "   female   male\n",
       "0   False   True\n",
       "1    True  False\n",
       "2    True  False\n",
       "3    True  False\n",
       "4   False   True"
      ]
     },
     "execution_count": 11,
     "metadata": {},
     "output_type": "execute_result"
    }
   ],
   "source": [
    "# We use get_dummies for one hot encoding\n",
    "pd.get_dummies(data_ce_ohe['Sex']).head()"
   ]
  },
  {
   "cell_type": "code",
   "execution_count": null,
   "id": "1cef6226",
   "metadata": {},
   "outputs": [
    {
     "data": {
      "application/vnd.microsoft.datawrangler.viewer.v0+json": {
       "columns": [
        {
         "name": "index",
         "rawType": "int64",
         "type": "integer"
        },
        {
         "name": "Sex",
         "rawType": "object",
         "type": "string"
        },
        {
         "name": "female",
         "rawType": "bool",
         "type": "boolean"
        },
        {
         "name": "male",
         "rawType": "bool",
         "type": "boolean"
        }
       ],
       "ref": "1a4b2e01-c190-4034-876c-dca8f1bbfa22",
       "rows": [
        [
         "0",
         "male",
         "False",
         "True"
        ],
        [
         "1",
         "female",
         "True",
         "False"
        ],
        [
         "2",
         "female",
         "True",
         "False"
        ],
        [
         "3",
         "female",
         "True",
         "False"
        ],
        [
         "4",
         "male",
         "False",
         "True"
        ]
       ],
       "shape": {
        "columns": 3,
        "rows": 5
       }
      },
      "text/html": [
       "<div>\n",
       "<style scoped>\n",
       "    .dataframe tbody tr th:only-of-type {\n",
       "        vertical-align: middle;\n",
       "    }\n",
       "\n",
       "    .dataframe tbody tr th {\n",
       "        vertical-align: top;\n",
       "    }\n",
       "\n",
       "    .dataframe thead th {\n",
       "        text-align: right;\n",
       "    }\n",
       "</style>\n",
       "<table border=\"1\" class=\"dataframe\">\n",
       "  <thead>\n",
       "    <tr style=\"text-align: right;\">\n",
       "      <th></th>\n",
       "      <th>Sex</th>\n",
       "      <th>female</th>\n",
       "      <th>male</th>\n",
       "    </tr>\n",
       "  </thead>\n",
       "  <tbody>\n",
       "    <tr>\n",
       "      <th>0</th>\n",
       "      <td>male</td>\n",
       "      <td>False</td>\n",
       "      <td>True</td>\n",
       "    </tr>\n",
       "    <tr>\n",
       "      <th>1</th>\n",
       "      <td>female</td>\n",
       "      <td>True</td>\n",
       "      <td>False</td>\n",
       "    </tr>\n",
       "    <tr>\n",
       "      <th>2</th>\n",
       "      <td>female</td>\n",
       "      <td>True</td>\n",
       "      <td>False</td>\n",
       "    </tr>\n",
       "    <tr>\n",
       "      <th>3</th>\n",
       "      <td>female</td>\n",
       "      <td>True</td>\n",
       "      <td>False</td>\n",
       "    </tr>\n",
       "    <tr>\n",
       "      <th>4</th>\n",
       "      <td>male</td>\n",
       "      <td>False</td>\n",
       "      <td>True</td>\n",
       "    </tr>\n",
       "  </tbody>\n",
       "</table>\n",
       "</div>"
      ],
      "text/plain": [
       "      Sex  female   male\n",
       "0    male   False   True\n",
       "1  female    True  False\n",
       "2  female    True  False\n",
       "3  female    True  False\n",
       "4    male   False   True"
      ]
     },
     "execution_count": 14,
     "metadata": {},
     "output_type": "execute_result"
    }
   ],
   "source": [
    "#since we only have 2 labels in this category, any between female and male can be used\n",
    "pd.concat([data_ce_ohe['Sex'], pd.get_dummies(data_ce_ohe['Sex'])], axis = 1).head()\n"
   ]
  },
  {
   "cell_type": "code",
   "execution_count": 15,
   "id": "fb2e4da2",
   "metadata": {},
   "outputs": [
    {
     "data": {
      "application/vnd.microsoft.datawrangler.viewer.v0+json": {
       "columns": [
        {
         "name": "index",
         "rawType": "int64",
         "type": "integer"
        },
        {
         "name": "male",
         "rawType": "bool",
         "type": "boolean"
        }
       ],
       "ref": "501abb76-82a1-48c2-a80d-8205a25e407e",
       "rows": [
        [
         "0",
         "True"
        ],
        [
         "1",
         "False"
        ],
        [
         "2",
         "False"
        ],
        [
         "3",
         "False"
        ],
        [
         "4",
         "True"
        ]
       ],
       "shape": {
        "columns": 1,
        "rows": 5
       }
      },
      "text/html": [
       "<div>\n",
       "<style scoped>\n",
       "    .dataframe tbody tr th:only-of-type {\n",
       "        vertical-align: middle;\n",
       "    }\n",
       "\n",
       "    .dataframe tbody tr th {\n",
       "        vertical-align: top;\n",
       "    }\n",
       "\n",
       "    .dataframe thead th {\n",
       "        text-align: right;\n",
       "    }\n",
       "</style>\n",
       "<table border=\"1\" class=\"dataframe\">\n",
       "  <thead>\n",
       "    <tr style=\"text-align: right;\">\n",
       "      <th></th>\n",
       "      <th>male</th>\n",
       "    </tr>\n",
       "  </thead>\n",
       "  <tbody>\n",
       "    <tr>\n",
       "      <th>0</th>\n",
       "      <td>True</td>\n",
       "    </tr>\n",
       "    <tr>\n",
       "      <th>1</th>\n",
       "      <td>False</td>\n",
       "    </tr>\n",
       "    <tr>\n",
       "      <th>2</th>\n",
       "      <td>False</td>\n",
       "    </tr>\n",
       "    <tr>\n",
       "      <th>3</th>\n",
       "      <td>False</td>\n",
       "    </tr>\n",
       "    <tr>\n",
       "      <th>4</th>\n",
       "      <td>True</td>\n",
       "    </tr>\n",
       "  </tbody>\n",
       "</table>\n",
       "</div>"
      ],
      "text/plain": [
       "    male\n",
       "0   True\n",
       "1  False\n",
       "2  False\n",
       "3  False\n",
       "4   True"
      ]
     },
     "execution_count": 15,
     "metadata": {},
     "output_type": "execute_result"
    }
   ],
   "source": [
    "# get k-1 labels only\n",
    "pd.get_dummies(data_ce_ohe['Sex'],\n",
    "               drop_first = True\n",
    "               ).head()"
   ]
  },
  {
   "cell_type": "code",
   "execution_count": 18,
   "id": "f7e650c7",
   "metadata": {},
   "outputs": [
    {
     "name": "stdout",
     "output_type": "stream",
     "text": [
      "['S' 'C' 'Q' nan]\n"
     ]
    },
    {
     "data": {
      "application/vnd.microsoft.datawrangler.viewer.v0+json": {
       "columns": [
        {
         "name": "index",
         "rawType": "int64",
         "type": "integer"
        },
        {
         "name": "Embarked",
         "rawType": "object",
         "type": "string"
        }
       ],
       "ref": "9efbdc76-75ab-405f-8e1d-aa3aafce8a32",
       "rows": [
        [
         "0",
         "S"
        ],
        [
         "1",
         "C"
        ],
        [
         "2",
         "S"
        ],
        [
         "3",
         "S"
        ],
        [
         "4",
         "S"
        ]
       ],
       "shape": {
        "columns": 1,
        "rows": 5
       }
      },
      "text/plain": [
       "0    S\n",
       "1    C\n",
       "2    S\n",
       "3    S\n",
       "4    S\n",
       "Name: Embarked, dtype: object"
      ]
     },
     "execution_count": 18,
     "metadata": {},
     "output_type": "execute_result"
    }
   ],
   "source": [
    "#for vars with multiple labels\n",
    "print(data_ce_ohe['Embarked'].unique())\n",
    "data_ce_ohe['Embarked'].head()"
   ]
  },
  {
   "cell_type": "code",
   "execution_count": 19,
   "id": "fb7aaa4b",
   "metadata": {},
   "outputs": [
    {
     "data": {
      "application/vnd.microsoft.datawrangler.viewer.v0+json": {
       "columns": [
        {
         "name": "index",
         "rawType": "int64",
         "type": "integer"
        },
        {
         "name": "C",
         "rawType": "bool",
         "type": "boolean"
        },
        {
         "name": "Q",
         "rawType": "bool",
         "type": "boolean"
        },
        {
         "name": "S",
         "rawType": "bool",
         "type": "boolean"
        }
       ],
       "ref": "2c1e9212-6017-414f-9142-23900681880f",
       "rows": [
        [
         "0",
         "False",
         "False",
         "True"
        ],
        [
         "1",
         "True",
         "False",
         "False"
        ],
        [
         "2",
         "False",
         "False",
         "True"
        ],
        [
         "3",
         "False",
         "False",
         "True"
        ],
        [
         "4",
         "False",
         "False",
         "True"
        ]
       ],
       "shape": {
        "columns": 3,
        "rows": 5
       }
      },
      "text/html": [
       "<div>\n",
       "<style scoped>\n",
       "    .dataframe tbody tr th:only-of-type {\n",
       "        vertical-align: middle;\n",
       "    }\n",
       "\n",
       "    .dataframe tbody tr th {\n",
       "        vertical-align: top;\n",
       "    }\n",
       "\n",
       "    .dataframe thead th {\n",
       "        text-align: right;\n",
       "    }\n",
       "</style>\n",
       "<table border=\"1\" class=\"dataframe\">\n",
       "  <thead>\n",
       "    <tr style=\"text-align: right;\">\n",
       "      <th></th>\n",
       "      <th>C</th>\n",
       "      <th>Q</th>\n",
       "      <th>S</th>\n",
       "    </tr>\n",
       "  </thead>\n",
       "  <tbody>\n",
       "    <tr>\n",
       "      <th>0</th>\n",
       "      <td>False</td>\n",
       "      <td>False</td>\n",
       "      <td>True</td>\n",
       "    </tr>\n",
       "    <tr>\n",
       "      <th>1</th>\n",
       "      <td>True</td>\n",
       "      <td>False</td>\n",
       "      <td>False</td>\n",
       "    </tr>\n",
       "    <tr>\n",
       "      <th>2</th>\n",
       "      <td>False</td>\n",
       "      <td>False</td>\n",
       "      <td>True</td>\n",
       "    </tr>\n",
       "    <tr>\n",
       "      <th>3</th>\n",
       "      <td>False</td>\n",
       "      <td>False</td>\n",
       "      <td>True</td>\n",
       "    </tr>\n",
       "    <tr>\n",
       "      <th>4</th>\n",
       "      <td>False</td>\n",
       "      <td>False</td>\n",
       "      <td>True</td>\n",
       "    </tr>\n",
       "  </tbody>\n",
       "</table>\n",
       "</div>"
      ],
      "text/plain": [
       "       C      Q      S\n",
       "0  False  False   True\n",
       "1   True  False  False\n",
       "2  False  False   True\n",
       "3  False  False   True\n",
       "4  False  False   True"
      ]
     },
     "execution_count": 19,
     "metadata": {},
     "output_type": "execute_result"
    }
   ],
   "source": [
    "pd.get_dummies(data_ce_ohe['Embarked']).head()"
   ]
  },
  {
   "cell_type": "code",
   "execution_count": 20,
   "id": "f99827b7",
   "metadata": {},
   "outputs": [
    {
     "data": {
      "application/vnd.microsoft.datawrangler.viewer.v0+json": {
       "columns": [
        {
         "name": "index",
         "rawType": "int64",
         "type": "integer"
        },
        {
         "name": "Q",
         "rawType": "bool",
         "type": "boolean"
        },
        {
         "name": "S",
         "rawType": "bool",
         "type": "boolean"
        }
       ],
       "ref": "0c63ff6b-76dd-4635-b0ca-2112a372b3f4",
       "rows": [
        [
         "0",
         "False",
         "True"
        ],
        [
         "1",
         "False",
         "False"
        ],
        [
         "2",
         "False",
         "True"
        ],
        [
         "3",
         "False",
         "True"
        ],
        [
         "4",
         "False",
         "True"
        ]
       ],
       "shape": {
        "columns": 2,
        "rows": 5
       }
      },
      "text/html": [
       "<div>\n",
       "<style scoped>\n",
       "    .dataframe tbody tr th:only-of-type {\n",
       "        vertical-align: middle;\n",
       "    }\n",
       "\n",
       "    .dataframe tbody tr th {\n",
       "        vertical-align: top;\n",
       "    }\n",
       "\n",
       "    .dataframe thead th {\n",
       "        text-align: right;\n",
       "    }\n",
       "</style>\n",
       "<table border=\"1\" class=\"dataframe\">\n",
       "  <thead>\n",
       "    <tr style=\"text-align: right;\">\n",
       "      <th></th>\n",
       "      <th>Q</th>\n",
       "      <th>S</th>\n",
       "    </tr>\n",
       "  </thead>\n",
       "  <tbody>\n",
       "    <tr>\n",
       "      <th>0</th>\n",
       "      <td>False</td>\n",
       "      <td>True</td>\n",
       "    </tr>\n",
       "    <tr>\n",
       "      <th>1</th>\n",
       "      <td>False</td>\n",
       "      <td>False</td>\n",
       "    </tr>\n",
       "    <tr>\n",
       "      <th>2</th>\n",
       "      <td>False</td>\n",
       "      <td>True</td>\n",
       "    </tr>\n",
       "    <tr>\n",
       "      <th>3</th>\n",
       "      <td>False</td>\n",
       "      <td>True</td>\n",
       "    </tr>\n",
       "    <tr>\n",
       "      <th>4</th>\n",
       "      <td>False</td>\n",
       "      <td>True</td>\n",
       "    </tr>\n",
       "  </tbody>\n",
       "</table>\n",
       "</div>"
      ],
      "text/plain": [
       "       Q      S\n",
       "0  False   True\n",
       "1  False  False\n",
       "2  False   True\n",
       "3  False   True\n",
       "4  False   True"
      ]
     },
     "execution_count": 20,
     "metadata": {},
     "output_type": "execute_result"
    }
   ],
   "source": [
    "# to get k-1 for embarked\n",
    "pd.get_dummies(data_ce_ohe['Embarked'],\n",
    "               drop_first = True\n",
    "               ).head()"
   ]
  },
  {
   "cell_type": "markdown",
   "id": "aa184df9",
   "metadata": {},
   "source": [
    "### Count and Frequency Encoding"
   ]
  },
  {
   "cell_type": "code",
   "execution_count": 21,
   "id": "a7a08cda",
   "metadata": {},
   "outputs": [],
   "source": [
    "df_train_cfe = pd.read_csv('train.csv')\n",
    "df_test_cfe = pd.read_csv('test.csv')"
   ]
  },
  {
   "cell_type": "code",
   "execution_count": 22,
   "id": "fc92b749",
   "metadata": {},
   "outputs": [
    {
     "data": {
      "application/vnd.microsoft.datawrangler.viewer.v0+json": {
       "columns": [
        {
         "name": "index",
         "rawType": "int64",
         "type": "integer"
        },
        {
         "name": "PassengerId",
         "rawType": "int64",
         "type": "integer"
        },
        {
         "name": "Survived",
         "rawType": "int64",
         "type": "integer"
        },
        {
         "name": "Pclass",
         "rawType": "int64",
         "type": "integer"
        },
        {
         "name": "Name",
         "rawType": "object",
         "type": "string"
        },
        {
         "name": "Sex",
         "rawType": "object",
         "type": "string"
        },
        {
         "name": "Age",
         "rawType": "float64",
         "type": "float"
        },
        {
         "name": "SibSp",
         "rawType": "int64",
         "type": "integer"
        },
        {
         "name": "Parch",
         "rawType": "int64",
         "type": "integer"
        },
        {
         "name": "Ticket",
         "rawType": "object",
         "type": "string"
        },
        {
         "name": "Fare",
         "rawType": "float64",
         "type": "float"
        },
        {
         "name": "Cabin",
         "rawType": "object",
         "type": "unknown"
        },
        {
         "name": "Embarked",
         "rawType": "object",
         "type": "string"
        }
       ],
       "ref": "d6ffddde-1558-4fe6-95db-2ac1e3d1b0b1",
       "rows": [
        [
         "0",
         "1",
         "0",
         "3",
         "Braund, Mr. Owen Harris",
         "male",
         "22.0",
         "1",
         "0",
         "A/5 21171",
         "7.25",
         null,
         "S"
        ],
        [
         "1",
         "2",
         "1",
         "1",
         "Cumings, Mrs. John Bradley (Florence Briggs Thayer)",
         "female",
         "38.0",
         "1",
         "0",
         "PC 17599",
         "71.2833",
         "C85",
         "C"
        ],
        [
         "2",
         "3",
         "1",
         "3",
         "Heikkinen, Miss. Laina",
         "female",
         "26.0",
         "0",
         "0",
         "STON/O2. 3101282",
         "7.925",
         null,
         "S"
        ],
        [
         "3",
         "4",
         "1",
         "1",
         "Futrelle, Mrs. Jacques Heath (Lily May Peel)",
         "female",
         "35.0",
         "1",
         "0",
         "113803",
         "53.1",
         "C123",
         "S"
        ],
        [
         "4",
         "5",
         "0",
         "3",
         "Allen, Mr. William Henry",
         "male",
         "35.0",
         "0",
         "0",
         "373450",
         "8.05",
         null,
         "S"
        ]
       ],
       "shape": {
        "columns": 12,
        "rows": 5
       }
      },
      "text/html": [
       "<div>\n",
       "<style scoped>\n",
       "    .dataframe tbody tr th:only-of-type {\n",
       "        vertical-align: middle;\n",
       "    }\n",
       "\n",
       "    .dataframe tbody tr th {\n",
       "        vertical-align: top;\n",
       "    }\n",
       "\n",
       "    .dataframe thead th {\n",
       "        text-align: right;\n",
       "    }\n",
       "</style>\n",
       "<table border=\"1\" class=\"dataframe\">\n",
       "  <thead>\n",
       "    <tr style=\"text-align: right;\">\n",
       "      <th></th>\n",
       "      <th>PassengerId</th>\n",
       "      <th>Survived</th>\n",
       "      <th>Pclass</th>\n",
       "      <th>Name</th>\n",
       "      <th>Sex</th>\n",
       "      <th>Age</th>\n",
       "      <th>SibSp</th>\n",
       "      <th>Parch</th>\n",
       "      <th>Ticket</th>\n",
       "      <th>Fare</th>\n",
       "      <th>Cabin</th>\n",
       "      <th>Embarked</th>\n",
       "    </tr>\n",
       "  </thead>\n",
       "  <tbody>\n",
       "    <tr>\n",
       "      <th>0</th>\n",
       "      <td>1</td>\n",
       "      <td>0</td>\n",
       "      <td>3</td>\n",
       "      <td>Braund, Mr. Owen Harris</td>\n",
       "      <td>male</td>\n",
       "      <td>22.0</td>\n",
       "      <td>1</td>\n",
       "      <td>0</td>\n",
       "      <td>A/5 21171</td>\n",
       "      <td>7.2500</td>\n",
       "      <td>NaN</td>\n",
       "      <td>S</td>\n",
       "    </tr>\n",
       "    <tr>\n",
       "      <th>1</th>\n",
       "      <td>2</td>\n",
       "      <td>1</td>\n",
       "      <td>1</td>\n",
       "      <td>Cumings, Mrs. John Bradley (Florence Briggs Th...</td>\n",
       "      <td>female</td>\n",
       "      <td>38.0</td>\n",
       "      <td>1</td>\n",
       "      <td>0</td>\n",
       "      <td>PC 17599</td>\n",
       "      <td>71.2833</td>\n",
       "      <td>C85</td>\n",
       "      <td>C</td>\n",
       "    </tr>\n",
       "    <tr>\n",
       "      <th>2</th>\n",
       "      <td>3</td>\n",
       "      <td>1</td>\n",
       "      <td>3</td>\n",
       "      <td>Heikkinen, Miss. Laina</td>\n",
       "      <td>female</td>\n",
       "      <td>26.0</td>\n",
       "      <td>0</td>\n",
       "      <td>0</td>\n",
       "      <td>STON/O2. 3101282</td>\n",
       "      <td>7.9250</td>\n",
       "      <td>NaN</td>\n",
       "      <td>S</td>\n",
       "    </tr>\n",
       "    <tr>\n",
       "      <th>3</th>\n",
       "      <td>4</td>\n",
       "      <td>1</td>\n",
       "      <td>1</td>\n",
       "      <td>Futrelle, Mrs. Jacques Heath (Lily May Peel)</td>\n",
       "      <td>female</td>\n",
       "      <td>35.0</td>\n",
       "      <td>1</td>\n",
       "      <td>0</td>\n",
       "      <td>113803</td>\n",
       "      <td>53.1000</td>\n",
       "      <td>C123</td>\n",
       "      <td>S</td>\n",
       "    </tr>\n",
       "    <tr>\n",
       "      <th>4</th>\n",
       "      <td>5</td>\n",
       "      <td>0</td>\n",
       "      <td>3</td>\n",
       "      <td>Allen, Mr. William Henry</td>\n",
       "      <td>male</td>\n",
       "      <td>35.0</td>\n",
       "      <td>0</td>\n",
       "      <td>0</td>\n",
       "      <td>373450</td>\n",
       "      <td>8.0500</td>\n",
       "      <td>NaN</td>\n",
       "      <td>S</td>\n",
       "    </tr>\n",
       "  </tbody>\n",
       "</table>\n",
       "</div>"
      ],
      "text/plain": [
       "   PassengerId  Survived  Pclass  \\\n",
       "0            1         0       3   \n",
       "1            2         1       1   \n",
       "2            3         1       3   \n",
       "3            4         1       1   \n",
       "4            5         0       3   \n",
       "\n",
       "                                                Name     Sex   Age  SibSp  \\\n",
       "0                            Braund, Mr. Owen Harris    male  22.0      1   \n",
       "1  Cumings, Mrs. John Bradley (Florence Briggs Th...  female  38.0      1   \n",
       "2                             Heikkinen, Miss. Laina  female  26.0      0   \n",
       "3       Futrelle, Mrs. Jacques Heath (Lily May Peel)  female  35.0      1   \n",
       "4                           Allen, Mr. William Henry    male  35.0      0   \n",
       "\n",
       "   Parch            Ticket     Fare Cabin Embarked  \n",
       "0      0         A/5 21171   7.2500   NaN        S  \n",
       "1      0          PC 17599  71.2833   C85        C  \n",
       "2      0  STON/O2. 3101282   7.9250   NaN        S  \n",
       "3      0            113803  53.1000  C123        S  \n",
       "4      0            373450   8.0500   NaN        S  "
      ]
     },
     "execution_count": 22,
     "metadata": {},
     "output_type": "execute_result"
    }
   ],
   "source": [
    "df_train_cfe.head()"
   ]
  },
  {
   "cell_type": "code",
   "execution_count": 23,
   "id": "cfb968f2",
   "metadata": {},
   "outputs": [
    {
     "name": "stdout",
     "output_type": "stream",
     "text": [
      "Name :  891  labels\n",
      "Sex :  2  labels\n",
      "Age :  89  labels\n",
      "SibSp :  7  labels\n",
      "Parch :  7  labels\n",
      "Ticket :  681  labels\n"
     ]
    }
   ],
   "source": [
    "for col in df_train_cfe.columns[3:9]:\n",
    "    print(col, ': ', len(df_train_cfe[col].unique()), ' labels')"
   ]
  },
  {
   "cell_type": "code",
   "execution_count": 31,
   "id": "f6e0b0d3",
   "metadata": {},
   "outputs": [
    {
     "name": "stdout",
     "output_type": "stream",
     "text": [
      "['Name', 'Sex', 'Age', 'SibSp', 'Parch', 'Ticket']\n"
     ]
    },
    {
     "data": {
      "text/plain": [
       "((623, 6), (268, 6))"
      ]
     },
     "execution_count": 31,
     "metadata": {},
     "output_type": "execute_result"
    }
   ],
   "source": [
    "cols_train_cfe = [i for i in df_train_cfe.columns[3:9]]\n",
    "print(cols_train_cfe)\n",
    "\n",
    "X_train, X_test, y_train, y_test = train_test_split(df_train_cfe[cols_train_cfe],\n",
    "                                                    df_train_cfe['Survived'],\n",
    "                                                    test_size = 0.3,\n",
    "                                                    random_state = 0\n",
    "                                                                 )\n",
    "\n",
    "X_train.shape, X_test.shape"
   ]
  },
  {
   "cell_type": "code",
   "execution_count": 36,
   "id": "25efdd5a",
   "metadata": {},
   "outputs": [
    {
     "data": {
      "text/plain": [
       "{'CA. 2343': 7,\n",
       " '347082': 6,\n",
       " '1601': 5,\n",
       " '4133': 4,\n",
       " '382652': 4,\n",
       " 'S.O.C. 14879': 4,\n",
       " 'W./C. 6608': 4,\n",
       " 'CA 2144': 4,\n",
       " '19950': 3,\n",
       " 'C.A. 34651': 3,\n",
       " '2666': 3,\n",
       " '29106': 3,\n",
       " '113760': 3,\n",
       " '363291': 3,\n",
       " 'PC 17760': 3,\n",
       " '349909': 3,\n",
       " 'SC/Paris 2123': 3,\n",
       " '113781': 3,\n",
       " '24160': 3,\n",
       " '345773': 3,\n",
       " '110152': 3,\n",
       " 'C.A. 31921': 3,\n",
       " '347077': 3,\n",
       " '376564': 2,\n",
       " '110465': 2,\n",
       " 'PC 17761': 2,\n",
       " '250647': 2,\n",
       " '2668': 2,\n",
       " '347080': 2,\n",
       " '11668': 2,\n",
       " '11751': 2,\n",
       " '17421': 2,\n",
       " '248738': 2,\n",
       " 'PC 17593': 2,\n",
       " '2653': 2,\n",
       " '231919': 2,\n",
       " '17474': 2,\n",
       " '3101295': 2,\n",
       " 'WE/P 5735': 2,\n",
       " '230080': 2,\n",
       " '19877': 2,\n",
       " '243847': 2,\n",
       " '113572': 2,\n",
       " '35273': 2,\n",
       " 'W./C. 6607': 2,\n",
       " '113789': 2,\n",
       " '371110': 2,\n",
       " '370365': 2,\n",
       " '2699': 2,\n",
       " '13507': 2,\n",
       " '7534': 2,\n",
       " 'A/4 48871': 2,\n",
       " '113776': 2,\n",
       " '29750': 2,\n",
       " '13502': 2,\n",
       " '113803': 2,\n",
       " '250655': 2,\n",
       " 'PC 17477': 2,\n",
       " '347088': 2,\n",
       " 'PC 17755': 2,\n",
       " '19943': 2,\n",
       " '364849': 2,\n",
       " '17453': 2,\n",
       " '113806': 2,\n",
       " 'S.O./P.P. 3': 2,\n",
       " '2908': 2,\n",
       " 'PC 17757': 2,\n",
       " '239853': 2,\n",
       " '230136': 2,\n",
       " 'PC 17611': 2,\n",
       " '54636': 2,\n",
       " 'PC 17582': 2,\n",
       " 'LINE': 2,\n",
       " 'PC 17485': 2,\n",
       " '35281': 2,\n",
       " 'PC 17572': 2,\n",
       " '345572': 1,\n",
       " '113055': 1,\n",
       " '382651': 1,\n",
       " '371060': 1,\n",
       " '330959': 1,\n",
       " '2659': 1,\n",
       " '2926': 1,\n",
       " 'A.5. 18509': 1,\n",
       " '350042': 1,\n",
       " 'PC 17596': 1,\n",
       " '349225': 1,\n",
       " '367655': 1,\n",
       " 'A/5. 3336': 1,\n",
       " '349253': 1,\n",
       " '111428': 1,\n",
       " '111240': 1,\n",
       " '229236': 1,\n",
       " 'W./C. 14263': 1,\n",
       " '248706': 1,\n",
       " '350036': 1,\n",
       " '3474': 1,\n",
       " 'SOTON/OQ 392089': 1,\n",
       " 'STON/O2. 3101290': 1,\n",
       " 'SOTON/OQ 392086': 1,\n",
       " '17764': 1,\n",
       " 'P/PP 3381': 1,\n",
       " '4138': 1,\n",
       " 'C.A. 5547': 1,\n",
       " '364516': 1,\n",
       " 'STON/O 2. 3101294': 1,\n",
       " '250649': 1,\n",
       " '2661': 1,\n",
       " '349213': 1,\n",
       " '244367': 1,\n",
       " '11813': 1,\n",
       " '368323': 1,\n",
       " '330923': 1,\n",
       " 'SOTON/OQ 392082': 1,\n",
       " '2647': 1,\n",
       " '343276': 1,\n",
       " 'A/4. 39886': 1,\n",
       " '367231': 1,\n",
       " '349221': 1,\n",
       " '226593': 1,\n",
       " '3101276': 1,\n",
       " '3101298': 1,\n",
       " '345769': 1,\n",
       " '113051': 1,\n",
       " '17463': 1,\n",
       " '19928': 1,\n",
       " '12233': 1,\n",
       " '349245': 1,\n",
       " '349257': 1,\n",
       " 'SC/PARIS 2149': 1,\n",
       " '347064': 1,\n",
       " 'SOTON/O.Q. 3101310': 1,\n",
       " 'C.A. 33595': 1,\n",
       " '111320': 1,\n",
       " '312992': 1,\n",
       " 'SC/PARIS 2167': 1,\n",
       " '234604': 1,\n",
       " '29104': 1,\n",
       " '347054': 1,\n",
       " '19952': 1,\n",
       " '349254': 1,\n",
       " '315082': 1,\n",
       " '2629': 1,\n",
       " '7545': 1,\n",
       " '347470': 1,\n",
       " '349243': 1,\n",
       " '250653': 1,\n",
       " 'STON/O 2. 3101280': 1,\n",
       " 'A/5. 3337': 1,\n",
       " '13049': 1,\n",
       " '341826': 1,\n",
       " 'PC 17610': 1,\n",
       " '113767': 1,\n",
       " 'PC 17604': 1,\n",
       " '12749': 1,\n",
       " '347087': 1,\n",
       " '19996': 1,\n",
       " '110413': 1,\n",
       " '113501': 1,\n",
       " '226875': 1,\n",
       " 'PC 17482': 1,\n",
       " '3101277': 1,\n",
       " '370371': 1,\n",
       " 'A/5 21171': 1,\n",
       " '26360': 1,\n",
       " '345764': 1,\n",
       " '343275': 1,\n",
       " 'PC 17474': 1,\n",
       " 'SOTON/O2 3101272': 1,\n",
       " 'PC 17483': 1,\n",
       " 'PC 17754': 1,\n",
       " 'PC 17609': 1,\n",
       " '3101278': 1,\n",
       " '233866': 1,\n",
       " '28134': 1,\n",
       " '347071': 1,\n",
       " '315098': 1,\n",
       " '350035': 1,\n",
       " '237565': 1,\n",
       " '250646': 1,\n",
       " '349249': 1,\n",
       " '36963': 1,\n",
       " 'S.C./PARIS 2079': 1,\n",
       " '28551': 1,\n",
       " '364511': 1,\n",
       " '349234': 1,\n",
       " '112050': 1,\n",
       " '228414': 1,\n",
       " '219533': 1,\n",
       " '312991': 1,\n",
       " '13509': 1,\n",
       " '2620': 1,\n",
       " '315089': 1,\n",
       " '28665': 1,\n",
       " '349224': 1,\n",
       " 'C.A. 6212': 1,\n",
       " '250652': 1,\n",
       " '11769': 1,\n",
       " '2631': 1,\n",
       " '350048': 1,\n",
       " 'C 7076': 1,\n",
       " '2623': 1,\n",
       " '349256': 1,\n",
       " '350050': 1,\n",
       " 'SC/PARIS 2133': 1,\n",
       " '2651': 1,\n",
       " '345765': 1,\n",
       " '2691': 1,\n",
       " '243880': 1,\n",
       " '376566': 1,\n",
       " 'PC 17612': 1,\n",
       " '6563': 1,\n",
       " '28206': 1,\n",
       " '345783': 1,\n",
       " 'C.A. 29178': 1,\n",
       " 'C.A. 29395': 1,\n",
       " '211536': 1,\n",
       " '350034': 1,\n",
       " 'PC 17597': 1,\n",
       " '349201': 1,\n",
       " 'A/5 3902': 1,\n",
       " '110813': 1,\n",
       " '2700': 1,\n",
       " 'STON/O 2. 3101288': 1,\n",
       " '345779': 1,\n",
       " '111426': 1,\n",
       " '343095': 1,\n",
       " '315096': 1,\n",
       " 'A/5 2817': 1,\n",
       " '315090': 1,\n",
       " '350026': 1,\n",
       " '349228': 1,\n",
       " '113784': 1,\n",
       " '349910': 1,\n",
       " '367226': 1,\n",
       " 'STON/O2. 3101271': 1,\n",
       " 'PP 4348': 1,\n",
       " '2685': 1,\n",
       " '330909': 1,\n",
       " '27042': 1,\n",
       " '5727': 1,\n",
       " '230433': 1,\n",
       " '370372': 1,\n",
       " '350417': 1,\n",
       " 'SOTON/OQ 392076': 1,\n",
       " '324669': 1,\n",
       " '392091': 1,\n",
       " '36864': 1,\n",
       " '350060': 1,\n",
       " 'F.C.C. 13528': 1,\n",
       " 'SOTON/O.Q. 3101306': 1,\n",
       " 'W.E.P. 5734': 1,\n",
       " '230434': 1,\n",
       " '16966': 1,\n",
       " 'STON/O 2. 3101273': 1,\n",
       " '9234': 1,\n",
       " '2686': 1,\n",
       " '364848': 1,\n",
       " '28213': 1,\n",
       " '36209': 1,\n",
       " 'SC/AH Basle 541': 1,\n",
       " 'STON/O 2. 3101289': 1,\n",
       " 'C.A. 31026': 1,\n",
       " '28425': 1,\n",
       " '12460': 1,\n",
       " '244361': 1,\n",
       " 'A/5. 851': 1,\n",
       " '349237': 1,\n",
       " '370377': 1,\n",
       " 'PC 17592': 1,\n",
       " '315084': 1,\n",
       " '349203': 1,\n",
       " '3411': 1,\n",
       " '234360': 1,\n",
       " '34218': 1,\n",
       " '373450': 1,\n",
       " 'C.A. 37671': 1,\n",
       " '345778': 1,\n",
       " '113796': 1,\n",
       " 'W/C 14208': 1,\n",
       " 'PC 17600': 1,\n",
       " '113786': 1,\n",
       " '364850': 1,\n",
       " '65304': 1,\n",
       " '367228': 1,\n",
       " '315093': 1,\n",
       " '28424': 1,\n",
       " 'PC 17569': 1,\n",
       " 'STON/O 2. 3101285': 1,\n",
       " 'STON/O 2. 3101292': 1,\n",
       " '349214': 1,\n",
       " '345777': 1,\n",
       " '371362': 1,\n",
       " '36928': 1,\n",
       " '349240': 1,\n",
       " '28403': 1,\n",
       " '695': 1,\n",
       " '347464': 1,\n",
       " '2003': 1,\n",
       " '323592': 1,\n",
       " '113056': 1,\n",
       " '347073': 1,\n",
       " '237671': 1,\n",
       " '11755': 1,\n",
       " '234818': 1,\n",
       " 'CA. 2314': 1,\n",
       " '347742': 1,\n",
       " 'STON/O 2. 3101269': 1,\n",
       " '335097': 1,\n",
       " '113059': 1,\n",
       " 'STON/O 2. 3101274': 1,\n",
       " 'C.A. 2315': 1,\n",
       " '28664': 1,\n",
       " '111361': 1,\n",
       " '347063': 1,\n",
       " '358585': 1,\n",
       " '343120': 1,\n",
       " '113050': 1,\n",
       " '248698': 1,\n",
       " '349248': 1,\n",
       " 'W./C. 14258': 1,\n",
       " '113787': 1,\n",
       " '370370': 1,\n",
       " '111369': 1,\n",
       " '65303': 1,\n",
       " '8475': 1,\n",
       " '17464': 1,\n",
       " '2627': 1,\n",
       " '349216': 1,\n",
       " '370373': 1,\n",
       " '350043': 1,\n",
       " '220367': 1,\n",
       " '349209': 1,\n",
       " '315151': 1,\n",
       " '392096': 1,\n",
       " '2223': 1,\n",
       " '370129': 1,\n",
       " 'C.A. 2673': 1,\n",
       " '250644': 1,\n",
       " '11752': 1,\n",
       " '349247': 1,\n",
       " '29108': 1,\n",
       " '347078': 1,\n",
       " 'C 7077': 1,\n",
       " '386525': 1,\n",
       " 'PC 17318': 1,\n",
       " 'C 4001': 1,\n",
       " 'PC 17475': 1,\n",
       " 'STON/O 2. 3101275': 1,\n",
       " '362316': 1,\n",
       " 'A/5 3536': 1,\n",
       " '350029': 1,\n",
       " '13568': 1,\n",
       " '349210': 1,\n",
       " '250648': 1,\n",
       " '363294': 1,\n",
       " 'STON/O 2. 3101286': 1,\n",
       " 'SC/PARIS 2146': 1,\n",
       " '2680': 1,\n",
       " 'PP 9549': 1,\n",
       " '312993': 1,\n",
       " 'SOTON/O.Q. 392078': 1,\n",
       " '248747': 1,\n",
       " '330958': 1,\n",
       " 'C.A. 24579': 1,\n",
       " '237442': 1,\n",
       " '11767': 1,\n",
       " '370375': 1,\n",
       " '330979': 1,\n",
       " '113505': 1,\n",
       " '2665': 1,\n",
       " '315088': 1,\n",
       " '347061': 1,\n",
       " 'STON/O2. 3101283': 1,\n",
       " 'S.P. 3464': 1,\n",
       " 'C.A. 29566': 1,\n",
       " '364499': 1,\n",
       " '345781': 1,\n",
       " '113773': 1,\n",
       " 'A/5 21174': 1,\n",
       " 'A/5. 13032': 1,\n",
       " '239855': 1,\n",
       " '11753': 1,\n",
       " '363592': 1,\n",
       " '3101296': 1,\n",
       " 'A.5. 11206': 1,\n",
       " '244310': 1,\n",
       " 'A/S 2816': 1,\n",
       " '33638': 1,\n",
       " '244270': 1,\n",
       " '236171': 1,\n",
       " '111427': 1,\n",
       " 'A4. 54510': 1,\n",
       " '345364': 1,\n",
       " '349206': 1,\n",
       " '367232': 1,\n",
       " '113028': 1,\n",
       " '36947': 1,\n",
       " '315153': 1,\n",
       " '65306': 1,\n",
       " 'A./5. 3235': 1,\n",
       " '345774': 1,\n",
       " '336439': 1,\n",
       " '36967': 1,\n",
       " '364500': 1,\n",
       " 'SW/PP 751': 1,\n",
       " '2693': 1,\n",
       " '2649': 1,\n",
       " '113804': 1,\n",
       " '349222': 1,\n",
       " '236852': 1,\n",
       " '384461': 1,\n",
       " '2664': 1,\n",
       " '364506': 1,\n",
       " 'A/4. 20589': 1,\n",
       " '233639': 1,\n",
       " '27267': 1,\n",
       " 'SC/AH 29037': 1,\n",
       " '349218': 1,\n",
       " '112277': 1,\n",
       " '218629': 1,\n",
       " '394140': 1,\n",
       " '2677': 1,\n",
       " '113783': 1,\n",
       " 'PC 17758': 1,\n",
       " '345767': 1,\n",
       " '335677': 1,\n",
       " 'PC 17590': 1,\n",
       " '383121': 1,\n",
       " '3101267': 1,\n",
       " '374910': 1,\n",
       " '4579': 1,\n",
       " '349246': 1,\n",
       " 'PC 17585': 1,\n",
       " 'SC/Paris 2163': 1,\n",
       " '27849': 1,\n",
       " '347085': 1,\n",
       " '14313': 1,\n",
       " 'PC 17473': 1,\n",
       " '11765': 1,\n",
       " '113807': 1,\n",
       " '2674': 1,\n",
       " '113788': 1,\n",
       " '348121': 1,\n",
       " '349241': 1,\n",
       " '113503': 1,\n",
       " '244278': 1,\n",
       " 'SOTON/O.Q. 3101305': 1,\n",
       " '112052': 1,\n",
       " 'SO/C 14885': 1,\n",
       " '2628': 1,\n",
       " '29105': 1,\n",
       " '14311': 1,\n",
       " '113798': 1,\n",
       " 'SOTON/O.Q. 3101307': 1,\n",
       " '365222': 1,\n",
       " 'A/5 21173': 1,\n",
       " '239865': 1,\n",
       " '347062': 1,\n",
       " '372622': 1,\n",
       " '315097': 1,\n",
       " '244252': 1,\n",
       " '248733': 1,\n",
       " '28220': 1,\n",
       " '31027': 1,\n",
       " '244373': 1,\n",
       " '248731': 1,\n",
       " '2690': 1,\n",
       " '349204': 1,\n",
       " '347060': 1,\n",
       " '347076': 1,\n",
       " 'SOTON/O2 3101287': 1,\n",
       " '349219': 1,\n",
       " '2697': 1,\n",
       " '11967': 1,\n",
       " '110564': 1,\n",
       " '330932': 1,\n",
       " '347466': 1,\n",
       " '2689': 1,\n",
       " '334912': 1,\n",
       " '350046': 1,\n",
       " 'PC 17756': 1,\n",
       " 'PC 17476': 1,\n",
       " '330980': 1,\n",
       " '237736': 1,\n",
       " '250643': 1,\n",
       " '220845': 1,\n",
       " '347089': 1,\n",
       " 'C.A. 33111': 1,\n",
       " '350407': 1,\n",
       " 'F.C.C. 13529': 1,\n",
       " '244358': 1,\n",
       " '2694': 1,\n",
       " '349912': 1,\n",
       " 'PC 17595': 1,\n",
       " '349244': 1,\n",
       " '237798': 1,\n",
       " 'C.A. 17248': 1,\n",
       " '35852': 1,\n",
       " '17466': 1,\n",
       " '113510': 1,\n",
       " '367230': 1,\n",
       " '374887': 1,\n",
       " 'W./C. 6609': 1,\n",
       " '330919': 1,\n",
       " 'C 17369': 1,\n",
       " 'SOTON/OQ 392090': 1,\n",
       " 'A/5. 2151': 1,\n",
       " 'PC 17558': 1,\n",
       " 'C.A. 33112': 1}"
      ]
     },
     "execution_count": 36,
     "metadata": {},
     "output_type": "execute_result"
    }
   ],
   "source": [
    "X_train['Ticket'].value_counts().to_dict()"
   ]
  },
  {
   "cell_type": "code",
   "execution_count": 37,
   "id": "35862247",
   "metadata": {},
   "outputs": [
    {
     "data": {
      "application/vnd.microsoft.datawrangler.viewer.v0+json": {
       "columns": [
        {
         "name": "index",
         "rawType": "int64",
         "type": "integer"
        },
        {
         "name": "Name",
         "rawType": "object",
         "type": "string"
        },
        {
         "name": "Sex",
         "rawType": "object",
         "type": "string"
        },
        {
         "name": "Age",
         "rawType": "float64",
         "type": "float"
        },
        {
         "name": "SibSp",
         "rawType": "int64",
         "type": "integer"
        },
        {
         "name": "Parch",
         "rawType": "int64",
         "type": "integer"
        },
        {
         "name": "Ticket",
         "rawType": "object",
         "type": "string"
        }
       ],
       "ref": "dd6663a3-b463-45bb-a801-80776b877384",
       "rows": [
        [
         "857",
         "Daly, Mr. Peter Denis ",
         "male",
         "51.0",
         "0",
         "0",
         "113055"
        ],
        [
         "52",
         "Harper, Mrs. Henry Sleeper (Myna Haxtun)",
         "female",
         "49.0",
         "1",
         "0",
         "PC 17572"
        ],
        [
         "386",
         "Goodwin, Master. Sidney Leonard",
         "male",
         "1.0",
         "5",
         "2",
         "CA 2144"
        ],
        [
         "124",
         "White, Mr. Percival Wayland",
         "male",
         "54.0",
         "0",
         "1",
         "35281"
        ],
        [
         "578",
         "Caram, Mrs. Joseph (Maria Elias)",
         "female",
         null,
         "1",
         "0",
         "2689"
        ]
       ],
       "shape": {
        "columns": 6,
        "rows": 5
       }
      },
      "text/html": [
       "<div>\n",
       "<style scoped>\n",
       "    .dataframe tbody tr th:only-of-type {\n",
       "        vertical-align: middle;\n",
       "    }\n",
       "\n",
       "    .dataframe tbody tr th {\n",
       "        vertical-align: top;\n",
       "    }\n",
       "\n",
       "    .dataframe thead th {\n",
       "        text-align: right;\n",
       "    }\n",
       "</style>\n",
       "<table border=\"1\" class=\"dataframe\">\n",
       "  <thead>\n",
       "    <tr style=\"text-align: right;\">\n",
       "      <th></th>\n",
       "      <th>Name</th>\n",
       "      <th>Sex</th>\n",
       "      <th>Age</th>\n",
       "      <th>SibSp</th>\n",
       "      <th>Parch</th>\n",
       "      <th>Ticket</th>\n",
       "    </tr>\n",
       "  </thead>\n",
       "  <tbody>\n",
       "    <tr>\n",
       "      <th>857</th>\n",
       "      <td>Daly, Mr. Peter Denis</td>\n",
       "      <td>male</td>\n",
       "      <td>51.0</td>\n",
       "      <td>0</td>\n",
       "      <td>0</td>\n",
       "      <td>113055</td>\n",
       "    </tr>\n",
       "    <tr>\n",
       "      <th>52</th>\n",
       "      <td>Harper, Mrs. Henry Sleeper (Myna Haxtun)</td>\n",
       "      <td>female</td>\n",
       "      <td>49.0</td>\n",
       "      <td>1</td>\n",
       "      <td>0</td>\n",
       "      <td>PC 17572</td>\n",
       "    </tr>\n",
       "    <tr>\n",
       "      <th>386</th>\n",
       "      <td>Goodwin, Master. Sidney Leonard</td>\n",
       "      <td>male</td>\n",
       "      <td>1.0</td>\n",
       "      <td>5</td>\n",
       "      <td>2</td>\n",
       "      <td>CA 2144</td>\n",
       "    </tr>\n",
       "    <tr>\n",
       "      <th>124</th>\n",
       "      <td>White, Mr. Percival Wayland</td>\n",
       "      <td>male</td>\n",
       "      <td>54.0</td>\n",
       "      <td>0</td>\n",
       "      <td>1</td>\n",
       "      <td>35281</td>\n",
       "    </tr>\n",
       "    <tr>\n",
       "      <th>578</th>\n",
       "      <td>Caram, Mrs. Joseph (Maria Elias)</td>\n",
       "      <td>female</td>\n",
       "      <td>NaN</td>\n",
       "      <td>1</td>\n",
       "      <td>0</td>\n",
       "      <td>2689</td>\n",
       "    </tr>\n",
       "  </tbody>\n",
       "</table>\n",
       "</div>"
      ],
      "text/plain": [
       "                                         Name     Sex   Age  SibSp  Parch  \\\n",
       "857                    Daly, Mr. Peter Denis     male  51.0      0      0   \n",
       "52   Harper, Mrs. Henry Sleeper (Myna Haxtun)  female  49.0      1      0   \n",
       "386           Goodwin, Master. Sidney Leonard    male   1.0      5      2   \n",
       "124               White, Mr. Percival Wayland    male  54.0      0      1   \n",
       "578          Caram, Mrs. Joseph (Maria Elias)  female   NaN      1      0   \n",
       "\n",
       "       Ticket  \n",
       "857    113055  \n",
       "52   PC 17572  \n",
       "386   CA 2144  \n",
       "124     35281  \n",
       "578      2689  "
      ]
     },
     "execution_count": 37,
     "metadata": {},
     "output_type": "execute_result"
    }
   ],
   "source": [
    "X_train.head()"
   ]
  },
  {
   "cell_type": "code",
   "execution_count": 41,
   "id": "921c8f57",
   "metadata": {},
   "outputs": [
    {
     "data": {
      "text/plain": [
       "{'CA. 2343': 7,\n",
       " '347082': 6,\n",
       " '1601': 5,\n",
       " '4133': 4,\n",
       " '382652': 4,\n",
       " 'S.O.C. 14879': 4,\n",
       " 'W./C. 6608': 4,\n",
       " 'CA 2144': 4,\n",
       " '19950': 3,\n",
       " 'C.A. 34651': 3,\n",
       " '2666': 3,\n",
       " '29106': 3,\n",
       " '113760': 3,\n",
       " '363291': 3,\n",
       " 'PC 17760': 3,\n",
       " '349909': 3,\n",
       " 'SC/Paris 2123': 3,\n",
       " '113781': 3,\n",
       " '24160': 3,\n",
       " '345773': 3,\n",
       " '110152': 3,\n",
       " 'C.A. 31921': 3,\n",
       " '347077': 3,\n",
       " '376564': 2,\n",
       " '110465': 2,\n",
       " 'PC 17761': 2,\n",
       " '250647': 2,\n",
       " '2668': 2,\n",
       " '347080': 2,\n",
       " '11668': 2,\n",
       " '11751': 2,\n",
       " '17421': 2,\n",
       " '248738': 2,\n",
       " 'PC 17593': 2,\n",
       " '2653': 2,\n",
       " '231919': 2,\n",
       " '17474': 2,\n",
       " '3101295': 2,\n",
       " 'WE/P 5735': 2,\n",
       " '230080': 2,\n",
       " '19877': 2,\n",
       " '243847': 2,\n",
       " '113572': 2,\n",
       " '35273': 2,\n",
       " 'W./C. 6607': 2,\n",
       " '113789': 2,\n",
       " '371110': 2,\n",
       " '370365': 2,\n",
       " '2699': 2,\n",
       " '13507': 2,\n",
       " '7534': 2,\n",
       " 'A/4 48871': 2,\n",
       " '113776': 2,\n",
       " '29750': 2,\n",
       " '13502': 2,\n",
       " '113803': 2,\n",
       " '250655': 2,\n",
       " 'PC 17477': 2,\n",
       " '347088': 2,\n",
       " 'PC 17755': 2,\n",
       " '19943': 2,\n",
       " '364849': 2,\n",
       " '17453': 2,\n",
       " '113806': 2,\n",
       " 'S.O./P.P. 3': 2,\n",
       " '2908': 2,\n",
       " 'PC 17757': 2,\n",
       " '239853': 2,\n",
       " '230136': 2,\n",
       " 'PC 17611': 2,\n",
       " '54636': 2,\n",
       " 'PC 17582': 2,\n",
       " 'LINE': 2,\n",
       " 'PC 17485': 2,\n",
       " '35281': 2,\n",
       " 'PC 17572': 2,\n",
       " '345572': 1,\n",
       " '113055': 1,\n",
       " '382651': 1,\n",
       " '371060': 1,\n",
       " '330959': 1,\n",
       " '2659': 1,\n",
       " '2926': 1,\n",
       " 'A.5. 18509': 1,\n",
       " '350042': 1,\n",
       " 'PC 17596': 1,\n",
       " '349225': 1,\n",
       " '367655': 1,\n",
       " 'A/5. 3336': 1,\n",
       " '349253': 1,\n",
       " '111428': 1,\n",
       " '111240': 1,\n",
       " '229236': 1,\n",
       " 'W./C. 14263': 1,\n",
       " '248706': 1,\n",
       " '350036': 1,\n",
       " '3474': 1,\n",
       " 'SOTON/OQ 392089': 1,\n",
       " 'STON/O2. 3101290': 1,\n",
       " 'SOTON/OQ 392086': 1,\n",
       " '17764': 1,\n",
       " 'P/PP 3381': 1,\n",
       " '4138': 1,\n",
       " 'C.A. 5547': 1,\n",
       " '364516': 1,\n",
       " 'STON/O 2. 3101294': 1,\n",
       " '250649': 1,\n",
       " '2661': 1,\n",
       " '349213': 1,\n",
       " '244367': 1,\n",
       " '11813': 1,\n",
       " '368323': 1,\n",
       " '330923': 1,\n",
       " 'SOTON/OQ 392082': 1,\n",
       " '2647': 1,\n",
       " '343276': 1,\n",
       " 'A/4. 39886': 1,\n",
       " '367231': 1,\n",
       " '349221': 1,\n",
       " '226593': 1,\n",
       " '3101276': 1,\n",
       " '3101298': 1,\n",
       " '345769': 1,\n",
       " '113051': 1,\n",
       " '17463': 1,\n",
       " '19928': 1,\n",
       " '12233': 1,\n",
       " '349245': 1,\n",
       " '349257': 1,\n",
       " 'SC/PARIS 2149': 1,\n",
       " '347064': 1,\n",
       " 'SOTON/O.Q. 3101310': 1,\n",
       " 'C.A. 33595': 1,\n",
       " '111320': 1,\n",
       " '312992': 1,\n",
       " 'SC/PARIS 2167': 1,\n",
       " '234604': 1,\n",
       " '29104': 1,\n",
       " '347054': 1,\n",
       " '19952': 1,\n",
       " '349254': 1,\n",
       " '315082': 1,\n",
       " '2629': 1,\n",
       " '7545': 1,\n",
       " '347470': 1,\n",
       " '349243': 1,\n",
       " '250653': 1,\n",
       " 'STON/O 2. 3101280': 1,\n",
       " 'A/5. 3337': 1,\n",
       " '13049': 1,\n",
       " '341826': 1,\n",
       " 'PC 17610': 1,\n",
       " '113767': 1,\n",
       " 'PC 17604': 1,\n",
       " '12749': 1,\n",
       " '347087': 1,\n",
       " '19996': 1,\n",
       " '110413': 1,\n",
       " '113501': 1,\n",
       " '226875': 1,\n",
       " 'PC 17482': 1,\n",
       " '3101277': 1,\n",
       " '370371': 1,\n",
       " 'A/5 21171': 1,\n",
       " '26360': 1,\n",
       " '345764': 1,\n",
       " '343275': 1,\n",
       " 'PC 17474': 1,\n",
       " 'SOTON/O2 3101272': 1,\n",
       " 'PC 17483': 1,\n",
       " 'PC 17754': 1,\n",
       " 'PC 17609': 1,\n",
       " '3101278': 1,\n",
       " '233866': 1,\n",
       " '28134': 1,\n",
       " '347071': 1,\n",
       " '315098': 1,\n",
       " '350035': 1,\n",
       " '237565': 1,\n",
       " '250646': 1,\n",
       " '349249': 1,\n",
       " '36963': 1,\n",
       " 'S.C./PARIS 2079': 1,\n",
       " '28551': 1,\n",
       " '364511': 1,\n",
       " '349234': 1,\n",
       " '112050': 1,\n",
       " '228414': 1,\n",
       " '219533': 1,\n",
       " '312991': 1,\n",
       " '13509': 1,\n",
       " '2620': 1,\n",
       " '315089': 1,\n",
       " '28665': 1,\n",
       " '349224': 1,\n",
       " 'C.A. 6212': 1,\n",
       " '250652': 1,\n",
       " '11769': 1,\n",
       " '2631': 1,\n",
       " '350048': 1,\n",
       " 'C 7076': 1,\n",
       " '2623': 1,\n",
       " '349256': 1,\n",
       " '350050': 1,\n",
       " 'SC/PARIS 2133': 1,\n",
       " '2651': 1,\n",
       " '345765': 1,\n",
       " '2691': 1,\n",
       " '243880': 1,\n",
       " '376566': 1,\n",
       " 'PC 17612': 1,\n",
       " '6563': 1,\n",
       " '28206': 1,\n",
       " '345783': 1,\n",
       " 'C.A. 29178': 1,\n",
       " 'C.A. 29395': 1,\n",
       " '211536': 1,\n",
       " '350034': 1,\n",
       " 'PC 17597': 1,\n",
       " '349201': 1,\n",
       " 'A/5 3902': 1,\n",
       " '110813': 1,\n",
       " '2700': 1,\n",
       " 'STON/O 2. 3101288': 1,\n",
       " '345779': 1,\n",
       " '111426': 1,\n",
       " '343095': 1,\n",
       " '315096': 1,\n",
       " 'A/5 2817': 1,\n",
       " '315090': 1,\n",
       " '350026': 1,\n",
       " '349228': 1,\n",
       " '113784': 1,\n",
       " '349910': 1,\n",
       " '367226': 1,\n",
       " 'STON/O2. 3101271': 1,\n",
       " 'PP 4348': 1,\n",
       " '2685': 1,\n",
       " '330909': 1,\n",
       " '27042': 1,\n",
       " '5727': 1,\n",
       " '230433': 1,\n",
       " '370372': 1,\n",
       " '350417': 1,\n",
       " 'SOTON/OQ 392076': 1,\n",
       " '324669': 1,\n",
       " '392091': 1,\n",
       " '36864': 1,\n",
       " '350060': 1,\n",
       " 'F.C.C. 13528': 1,\n",
       " 'SOTON/O.Q. 3101306': 1,\n",
       " 'W.E.P. 5734': 1,\n",
       " '230434': 1,\n",
       " '16966': 1,\n",
       " 'STON/O 2. 3101273': 1,\n",
       " '9234': 1,\n",
       " '2686': 1,\n",
       " '364848': 1,\n",
       " '28213': 1,\n",
       " '36209': 1,\n",
       " 'SC/AH Basle 541': 1,\n",
       " 'STON/O 2. 3101289': 1,\n",
       " 'C.A. 31026': 1,\n",
       " '28425': 1,\n",
       " '12460': 1,\n",
       " '244361': 1,\n",
       " 'A/5. 851': 1,\n",
       " '349237': 1,\n",
       " '370377': 1,\n",
       " 'PC 17592': 1,\n",
       " '315084': 1,\n",
       " '349203': 1,\n",
       " '3411': 1,\n",
       " '234360': 1,\n",
       " '34218': 1,\n",
       " '373450': 1,\n",
       " 'C.A. 37671': 1,\n",
       " '345778': 1,\n",
       " '113796': 1,\n",
       " 'W/C 14208': 1,\n",
       " 'PC 17600': 1,\n",
       " '113786': 1,\n",
       " '364850': 1,\n",
       " '65304': 1,\n",
       " '367228': 1,\n",
       " '315093': 1,\n",
       " '28424': 1,\n",
       " 'PC 17569': 1,\n",
       " 'STON/O 2. 3101285': 1,\n",
       " 'STON/O 2. 3101292': 1,\n",
       " '349214': 1,\n",
       " '345777': 1,\n",
       " '371362': 1,\n",
       " '36928': 1,\n",
       " '349240': 1,\n",
       " '28403': 1,\n",
       " '695': 1,\n",
       " '347464': 1,\n",
       " '2003': 1,\n",
       " '323592': 1,\n",
       " '113056': 1,\n",
       " '347073': 1,\n",
       " '237671': 1,\n",
       " '11755': 1,\n",
       " '234818': 1,\n",
       " 'CA. 2314': 1,\n",
       " '347742': 1,\n",
       " 'STON/O 2. 3101269': 1,\n",
       " '335097': 1,\n",
       " '113059': 1,\n",
       " 'STON/O 2. 3101274': 1,\n",
       " 'C.A. 2315': 1,\n",
       " '28664': 1,\n",
       " '111361': 1,\n",
       " '347063': 1,\n",
       " '358585': 1,\n",
       " '343120': 1,\n",
       " '113050': 1,\n",
       " '248698': 1,\n",
       " '349248': 1,\n",
       " 'W./C. 14258': 1,\n",
       " '113787': 1,\n",
       " '370370': 1,\n",
       " '111369': 1,\n",
       " '65303': 1,\n",
       " '8475': 1,\n",
       " '17464': 1,\n",
       " '2627': 1,\n",
       " '349216': 1,\n",
       " '370373': 1,\n",
       " '350043': 1,\n",
       " '220367': 1,\n",
       " '349209': 1,\n",
       " '315151': 1,\n",
       " '392096': 1,\n",
       " '2223': 1,\n",
       " '370129': 1,\n",
       " 'C.A. 2673': 1,\n",
       " '250644': 1,\n",
       " '11752': 1,\n",
       " '349247': 1,\n",
       " '29108': 1,\n",
       " '347078': 1,\n",
       " 'C 7077': 1,\n",
       " '386525': 1,\n",
       " 'PC 17318': 1,\n",
       " 'C 4001': 1,\n",
       " 'PC 17475': 1,\n",
       " 'STON/O 2. 3101275': 1,\n",
       " '362316': 1,\n",
       " 'A/5 3536': 1,\n",
       " '350029': 1,\n",
       " '13568': 1,\n",
       " '349210': 1,\n",
       " '250648': 1,\n",
       " '363294': 1,\n",
       " 'STON/O 2. 3101286': 1,\n",
       " 'SC/PARIS 2146': 1,\n",
       " '2680': 1,\n",
       " 'PP 9549': 1,\n",
       " '312993': 1,\n",
       " 'SOTON/O.Q. 392078': 1,\n",
       " '248747': 1,\n",
       " '330958': 1,\n",
       " 'C.A. 24579': 1,\n",
       " '237442': 1,\n",
       " '11767': 1,\n",
       " '370375': 1,\n",
       " '330979': 1,\n",
       " '113505': 1,\n",
       " '2665': 1,\n",
       " '315088': 1,\n",
       " '347061': 1,\n",
       " 'STON/O2. 3101283': 1,\n",
       " 'S.P. 3464': 1,\n",
       " 'C.A. 29566': 1,\n",
       " '364499': 1,\n",
       " '345781': 1,\n",
       " '113773': 1,\n",
       " 'A/5 21174': 1,\n",
       " 'A/5. 13032': 1,\n",
       " '239855': 1,\n",
       " '11753': 1,\n",
       " '363592': 1,\n",
       " '3101296': 1,\n",
       " 'A.5. 11206': 1,\n",
       " '244310': 1,\n",
       " 'A/S 2816': 1,\n",
       " '33638': 1,\n",
       " '244270': 1,\n",
       " '236171': 1,\n",
       " '111427': 1,\n",
       " 'A4. 54510': 1,\n",
       " '345364': 1,\n",
       " '349206': 1,\n",
       " '367232': 1,\n",
       " '113028': 1,\n",
       " '36947': 1,\n",
       " '315153': 1,\n",
       " '65306': 1,\n",
       " 'A./5. 3235': 1,\n",
       " '345774': 1,\n",
       " '336439': 1,\n",
       " '36967': 1,\n",
       " '364500': 1,\n",
       " 'SW/PP 751': 1,\n",
       " '2693': 1,\n",
       " '2649': 1,\n",
       " '113804': 1,\n",
       " '349222': 1,\n",
       " '236852': 1,\n",
       " '384461': 1,\n",
       " '2664': 1,\n",
       " '364506': 1,\n",
       " 'A/4. 20589': 1,\n",
       " '233639': 1,\n",
       " '27267': 1,\n",
       " 'SC/AH 29037': 1,\n",
       " '349218': 1,\n",
       " '112277': 1,\n",
       " '218629': 1,\n",
       " '394140': 1,\n",
       " '2677': 1,\n",
       " '113783': 1,\n",
       " 'PC 17758': 1,\n",
       " '345767': 1,\n",
       " '335677': 1,\n",
       " 'PC 17590': 1,\n",
       " '383121': 1,\n",
       " '3101267': 1,\n",
       " '374910': 1,\n",
       " '4579': 1,\n",
       " '349246': 1,\n",
       " 'PC 17585': 1,\n",
       " 'SC/Paris 2163': 1,\n",
       " '27849': 1,\n",
       " '347085': 1,\n",
       " '14313': 1,\n",
       " 'PC 17473': 1,\n",
       " '11765': 1,\n",
       " '113807': 1,\n",
       " '2674': 1,\n",
       " '113788': 1,\n",
       " '348121': 1,\n",
       " '349241': 1,\n",
       " '113503': 1,\n",
       " '244278': 1,\n",
       " 'SOTON/O.Q. 3101305': 1,\n",
       " '112052': 1,\n",
       " 'SO/C 14885': 1,\n",
       " '2628': 1,\n",
       " '29105': 1,\n",
       " '14311': 1,\n",
       " '113798': 1,\n",
       " 'SOTON/O.Q. 3101307': 1,\n",
       " '365222': 1,\n",
       " 'A/5 21173': 1,\n",
       " '239865': 1,\n",
       " '347062': 1,\n",
       " '372622': 1,\n",
       " '315097': 1,\n",
       " '244252': 1,\n",
       " '248733': 1,\n",
       " '28220': 1,\n",
       " '31027': 1,\n",
       " '244373': 1,\n",
       " '248731': 1,\n",
       " '2690': 1,\n",
       " '349204': 1,\n",
       " '347060': 1,\n",
       " '347076': 1,\n",
       " 'SOTON/O2 3101287': 1,\n",
       " '349219': 1,\n",
       " '2697': 1,\n",
       " '11967': 1,\n",
       " '110564': 1,\n",
       " '330932': 1,\n",
       " '347466': 1,\n",
       " '2689': 1,\n",
       " '334912': 1,\n",
       " '350046': 1,\n",
       " 'PC 17756': 1,\n",
       " 'PC 17476': 1,\n",
       " '330980': 1,\n",
       " '237736': 1,\n",
       " '250643': 1,\n",
       " '220845': 1,\n",
       " '347089': 1,\n",
       " 'C.A. 33111': 1,\n",
       " '350407': 1,\n",
       " 'F.C.C. 13529': 1,\n",
       " '244358': 1,\n",
       " '2694': 1,\n",
       " '349912': 1,\n",
       " 'PC 17595': 1,\n",
       " '349244': 1,\n",
       " '237798': 1,\n",
       " 'C.A. 17248': 1,\n",
       " '35852': 1,\n",
       " '17466': 1,\n",
       " '113510': 1,\n",
       " '367230': 1,\n",
       " '374887': 1,\n",
       " 'W./C. 6609': 1,\n",
       " '330919': 1,\n",
       " 'C 17369': 1,\n",
       " 'SOTON/OQ 392090': 1,\n",
       " 'A/5. 2151': 1,\n",
       " 'PC 17558': 1,\n",
       " 'C.A. 33112': 1}"
      ]
     },
     "execution_count": 41,
     "metadata": {},
     "output_type": "execute_result"
    }
   ],
   "source": [
    "X_frequency_map = X_train['Ticket'].value_counts().to_dict()\n",
    "X_frequency_map"
   ]
  },
  {
   "cell_type": "code",
   "execution_count": 42,
   "id": "f15e252e",
   "metadata": {},
   "outputs": [
    {
     "data": {
      "application/vnd.microsoft.datawrangler.viewer.v0+json": {
       "columns": [
        {
         "name": "index",
         "rawType": "int64",
         "type": "integer"
        },
        {
         "name": "Name",
         "rawType": "object",
         "type": "string"
        },
        {
         "name": "Sex",
         "rawType": "object",
         "type": "string"
        },
        {
         "name": "Age",
         "rawType": "float64",
         "type": "float"
        },
        {
         "name": "SibSp",
         "rawType": "int64",
         "type": "integer"
        },
        {
         "name": "Parch",
         "rawType": "int64",
         "type": "integer"
        },
        {
         "name": "Ticket",
         "rawType": "int64",
         "type": "integer"
        }
       ],
       "ref": "71328add-9393-4a4a-966b-7919e2e3386f",
       "rows": [
        [
         "857",
         "Daly, Mr. Peter Denis ",
         "male",
         "51.0",
         "0",
         "0",
         "1"
        ],
        [
         "52",
         "Harper, Mrs. Henry Sleeper (Myna Haxtun)",
         "female",
         "49.0",
         "1",
         "0",
         "2"
        ],
        [
         "386",
         "Goodwin, Master. Sidney Leonard",
         "male",
         "1.0",
         "5",
         "2",
         "4"
        ],
        [
         "124",
         "White, Mr. Percival Wayland",
         "male",
         "54.0",
         "0",
         "1",
         "2"
        ],
        [
         "578",
         "Caram, Mrs. Joseph (Maria Elias)",
         "female",
         null,
         "1",
         "0",
         "1"
        ]
       ],
       "shape": {
        "columns": 6,
        "rows": 5
       }
      },
      "text/html": [
       "<div>\n",
       "<style scoped>\n",
       "    .dataframe tbody tr th:only-of-type {\n",
       "        vertical-align: middle;\n",
       "    }\n",
       "\n",
       "    .dataframe tbody tr th {\n",
       "        vertical-align: top;\n",
       "    }\n",
       "\n",
       "    .dataframe thead th {\n",
       "        text-align: right;\n",
       "    }\n",
       "</style>\n",
       "<table border=\"1\" class=\"dataframe\">\n",
       "  <thead>\n",
       "    <tr style=\"text-align: right;\">\n",
       "      <th></th>\n",
       "      <th>Name</th>\n",
       "      <th>Sex</th>\n",
       "      <th>Age</th>\n",
       "      <th>SibSp</th>\n",
       "      <th>Parch</th>\n",
       "      <th>Ticket</th>\n",
       "    </tr>\n",
       "  </thead>\n",
       "  <tbody>\n",
       "    <tr>\n",
       "      <th>857</th>\n",
       "      <td>Daly, Mr. Peter Denis</td>\n",
       "      <td>male</td>\n",
       "      <td>51.0</td>\n",
       "      <td>0</td>\n",
       "      <td>0</td>\n",
       "      <td>1</td>\n",
       "    </tr>\n",
       "    <tr>\n",
       "      <th>52</th>\n",
       "      <td>Harper, Mrs. Henry Sleeper (Myna Haxtun)</td>\n",
       "      <td>female</td>\n",
       "      <td>49.0</td>\n",
       "      <td>1</td>\n",
       "      <td>0</td>\n",
       "      <td>2</td>\n",
       "    </tr>\n",
       "    <tr>\n",
       "      <th>386</th>\n",
       "      <td>Goodwin, Master. Sidney Leonard</td>\n",
       "      <td>male</td>\n",
       "      <td>1.0</td>\n",
       "      <td>5</td>\n",
       "      <td>2</td>\n",
       "      <td>4</td>\n",
       "    </tr>\n",
       "    <tr>\n",
       "      <th>124</th>\n",
       "      <td>White, Mr. Percival Wayland</td>\n",
       "      <td>male</td>\n",
       "      <td>54.0</td>\n",
       "      <td>0</td>\n",
       "      <td>1</td>\n",
       "      <td>2</td>\n",
       "    </tr>\n",
       "    <tr>\n",
       "      <th>578</th>\n",
       "      <td>Caram, Mrs. Joseph (Maria Elias)</td>\n",
       "      <td>female</td>\n",
       "      <td>NaN</td>\n",
       "      <td>1</td>\n",
       "      <td>0</td>\n",
       "      <td>1</td>\n",
       "    </tr>\n",
       "  </tbody>\n",
       "</table>\n",
       "</div>"
      ],
      "text/plain": [
       "                                         Name     Sex   Age  SibSp  Parch  \\\n",
       "857                    Daly, Mr. Peter Denis     male  51.0      0      0   \n",
       "52   Harper, Mrs. Henry Sleeper (Myna Haxtun)  female  49.0      1      0   \n",
       "386           Goodwin, Master. Sidney Leonard    male   1.0      5      2   \n",
       "124               White, Mr. Percival Wayland    male  54.0      0      1   \n",
       "578          Caram, Mrs. Joseph (Maria Elias)  female   NaN      1      0   \n",
       "\n",
       "     Ticket  \n",
       "857       1  \n",
       "52        2  \n",
       "386       4  \n",
       "124       2  \n",
       "578       1  "
      ]
     },
     "execution_count": 42,
     "metadata": {},
     "output_type": "execute_result"
    }
   ],
   "source": [
    "X_train['Ticket'] = X_train['Ticket'].map(X_frequency_map)\n",
    "X_test['Ticket'] = X_test['Ticket'].map(X_frequency_map)\n",
    "X_train.head()"
   ]
  },
  {
   "cell_type": "markdown",
   "id": "f75583c5",
   "metadata": {},
   "source": [
    "### Target/Mean Encoding"
   ]
  },
  {
   "cell_type": "code",
   "execution_count": 53,
   "id": "4775c8ef",
   "metadata": {},
   "outputs": [
    {
     "data": {
      "application/vnd.microsoft.datawrangler.viewer.v0+json": {
       "columns": [
        {
         "name": "index",
         "rawType": "int64",
         "type": "integer"
        },
        {
         "name": "PassengerId",
         "rawType": "int64",
         "type": "integer"
        },
        {
         "name": "Survived",
         "rawType": "int64",
         "type": "integer"
        },
        {
         "name": "Pclass",
         "rawType": "int64",
         "type": "integer"
        },
        {
         "name": "Name",
         "rawType": "object",
         "type": "string"
        },
        {
         "name": "Sex",
         "rawType": "object",
         "type": "string"
        },
        {
         "name": "Age",
         "rawType": "float64",
         "type": "float"
        },
        {
         "name": "SibSp",
         "rawType": "int64",
         "type": "integer"
        },
        {
         "name": "Parch",
         "rawType": "int64",
         "type": "integer"
        },
        {
         "name": "Ticket",
         "rawType": "object",
         "type": "string"
        },
        {
         "name": "Fare",
         "rawType": "float64",
         "type": "float"
        },
        {
         "name": "Cabin",
         "rawType": "object",
         "type": "unknown"
        },
        {
         "name": "Embarked",
         "rawType": "object",
         "type": "string"
        }
       ],
       "ref": "57777d45-14df-42a9-8fa5-611467db9497",
       "rows": [
        [
         "0",
         "1",
         "0",
         "3",
         "Braund, Mr. Owen Harris",
         "male",
         "22.0",
         "1",
         "0",
         "A/5 21171",
         "7.25",
         null,
         "S"
        ],
        [
         "1",
         "2",
         "1",
         "1",
         "Cumings, Mrs. John Bradley (Florence Briggs Thayer)",
         "female",
         "38.0",
         "1",
         "0",
         "PC 17599",
         "71.2833",
         "C85",
         "C"
        ],
        [
         "2",
         "3",
         "1",
         "3",
         "Heikkinen, Miss. Laina",
         "female",
         "26.0",
         "0",
         "0",
         "STON/O2. 3101282",
         "7.925",
         null,
         "S"
        ],
        [
         "3",
         "4",
         "1",
         "1",
         "Futrelle, Mrs. Jacques Heath (Lily May Peel)",
         "female",
         "35.0",
         "1",
         "0",
         "113803",
         "53.1",
         "C123",
         "S"
        ],
        [
         "4",
         "5",
         "0",
         "3",
         "Allen, Mr. William Henry",
         "male",
         "35.0",
         "0",
         "0",
         "373450",
         "8.05",
         null,
         "S"
        ]
       ],
       "shape": {
        "columns": 12,
        "rows": 5
       }
      },
      "text/html": [
       "<div>\n",
       "<style scoped>\n",
       "    .dataframe tbody tr th:only-of-type {\n",
       "        vertical-align: middle;\n",
       "    }\n",
       "\n",
       "    .dataframe tbody tr th {\n",
       "        vertical-align: top;\n",
       "    }\n",
       "\n",
       "    .dataframe thead th {\n",
       "        text-align: right;\n",
       "    }\n",
       "</style>\n",
       "<table border=\"1\" class=\"dataframe\">\n",
       "  <thead>\n",
       "    <tr style=\"text-align: right;\">\n",
       "      <th></th>\n",
       "      <th>PassengerId</th>\n",
       "      <th>Survived</th>\n",
       "      <th>Pclass</th>\n",
       "      <th>Name</th>\n",
       "      <th>Sex</th>\n",
       "      <th>Age</th>\n",
       "      <th>SibSp</th>\n",
       "      <th>Parch</th>\n",
       "      <th>Ticket</th>\n",
       "      <th>Fare</th>\n",
       "      <th>Cabin</th>\n",
       "      <th>Embarked</th>\n",
       "    </tr>\n",
       "  </thead>\n",
       "  <tbody>\n",
       "    <tr>\n",
       "      <th>0</th>\n",
       "      <td>1</td>\n",
       "      <td>0</td>\n",
       "      <td>3</td>\n",
       "      <td>Braund, Mr. Owen Harris</td>\n",
       "      <td>male</td>\n",
       "      <td>22.0</td>\n",
       "      <td>1</td>\n",
       "      <td>0</td>\n",
       "      <td>A/5 21171</td>\n",
       "      <td>7.2500</td>\n",
       "      <td>NaN</td>\n",
       "      <td>S</td>\n",
       "    </tr>\n",
       "    <tr>\n",
       "      <th>1</th>\n",
       "      <td>2</td>\n",
       "      <td>1</td>\n",
       "      <td>1</td>\n",
       "      <td>Cumings, Mrs. John Bradley (Florence Briggs Th...</td>\n",
       "      <td>female</td>\n",
       "      <td>38.0</td>\n",
       "      <td>1</td>\n",
       "      <td>0</td>\n",
       "      <td>PC 17599</td>\n",
       "      <td>71.2833</td>\n",
       "      <td>C85</td>\n",
       "      <td>C</td>\n",
       "    </tr>\n",
       "    <tr>\n",
       "      <th>2</th>\n",
       "      <td>3</td>\n",
       "      <td>1</td>\n",
       "      <td>3</td>\n",
       "      <td>Heikkinen, Miss. Laina</td>\n",
       "      <td>female</td>\n",
       "      <td>26.0</td>\n",
       "      <td>0</td>\n",
       "      <td>0</td>\n",
       "      <td>STON/O2. 3101282</td>\n",
       "      <td>7.9250</td>\n",
       "      <td>NaN</td>\n",
       "      <td>S</td>\n",
       "    </tr>\n",
       "    <tr>\n",
       "      <th>3</th>\n",
       "      <td>4</td>\n",
       "      <td>1</td>\n",
       "      <td>1</td>\n",
       "      <td>Futrelle, Mrs. Jacques Heath (Lily May Peel)</td>\n",
       "      <td>female</td>\n",
       "      <td>35.0</td>\n",
       "      <td>1</td>\n",
       "      <td>0</td>\n",
       "      <td>113803</td>\n",
       "      <td>53.1000</td>\n",
       "      <td>C123</td>\n",
       "      <td>S</td>\n",
       "    </tr>\n",
       "    <tr>\n",
       "      <th>4</th>\n",
       "      <td>5</td>\n",
       "      <td>0</td>\n",
       "      <td>3</td>\n",
       "      <td>Allen, Mr. William Henry</td>\n",
       "      <td>male</td>\n",
       "      <td>35.0</td>\n",
       "      <td>0</td>\n",
       "      <td>0</td>\n",
       "      <td>373450</td>\n",
       "      <td>8.0500</td>\n",
       "      <td>NaN</td>\n",
       "      <td>S</td>\n",
       "    </tr>\n",
       "  </tbody>\n",
       "</table>\n",
       "</div>"
      ],
      "text/plain": [
       "   PassengerId  Survived  Pclass  \\\n",
       "0            1         0       3   \n",
       "1            2         1       1   \n",
       "2            3         1       3   \n",
       "3            4         1       1   \n",
       "4            5         0       3   \n",
       "\n",
       "                                                Name     Sex   Age  SibSp  \\\n",
       "0                            Braund, Mr. Owen Harris    male  22.0      1   \n",
       "1  Cumings, Mrs. John Bradley (Florence Briggs Th...  female  38.0      1   \n",
       "2                             Heikkinen, Miss. Laina  female  26.0      0   \n",
       "3       Futrelle, Mrs. Jacques Heath (Lily May Peel)  female  35.0      1   \n",
       "4                           Allen, Mr. William Henry    male  35.0      0   \n",
       "\n",
       "   Parch            Ticket     Fare Cabin Embarked  \n",
       "0      0         A/5 21171   7.2500   NaN        S  \n",
       "1      0          PC 17599  71.2833   C85        C  \n",
       "2      0  STON/O2. 3101282   7.9250   NaN        S  \n",
       "3      0            113803  53.1000  C123        S  \n",
       "4      0            373450   8.0500   NaN        S  "
      ]
     },
     "execution_count": 53,
     "metadata": {},
     "output_type": "execute_result"
    }
   ],
   "source": [
    "data_tme = pd.read_csv('train.csv')\n",
    "data_tme.head()"
   ]
  },
  {
   "cell_type": "code",
   "execution_count": 54,
   "id": "04685490",
   "metadata": {},
   "outputs": [
    {
     "name": "stdout",
     "output_type": "stream",
     "text": [
      "148\n",
      "None\n"
     ]
    },
    {
     "data": {
      "application/vnd.microsoft.datawrangler.viewer.v0+json": {
       "columns": [
        {
         "name": "index",
         "rawType": "int64",
         "type": "integer"
        },
        {
         "name": "PassengerId",
         "rawType": "int64",
         "type": "integer"
        },
        {
         "name": "Survived",
         "rawType": "int64",
         "type": "integer"
        },
        {
         "name": "Pclass",
         "rawType": "int64",
         "type": "integer"
        },
        {
         "name": "Name",
         "rawType": "object",
         "type": "string"
        },
        {
         "name": "Sex",
         "rawType": "object",
         "type": "string"
        },
        {
         "name": "Age",
         "rawType": "object",
         "type": "unknown"
        },
        {
         "name": "SibSp",
         "rawType": "int64",
         "type": "integer"
        },
        {
         "name": "Parch",
         "rawType": "int64",
         "type": "integer"
        },
        {
         "name": "Ticket",
         "rawType": "object",
         "type": "string"
        },
        {
         "name": "Fare",
         "rawType": "float64",
         "type": "float"
        },
        {
         "name": "Cabin",
         "rawType": "object",
         "type": "string"
        },
        {
         "name": "Embarked",
         "rawType": "object",
         "type": "string"
        }
       ],
       "ref": "02c31932-e17e-40cc-8281-53556faca808",
       "rows": [
        [
         "0",
         "1",
         "0",
         "3",
         "Braund, Mr. Owen Harris",
         "male",
         "22.0",
         "1",
         "0",
         "A/5 21171",
         "7.25",
         "Missing",
         "S"
        ],
        [
         "1",
         "2",
         "1",
         "1",
         "Cumings, Mrs. John Bradley (Florence Briggs Thayer)",
         "female",
         "38.0",
         "1",
         "0",
         "PC 17599",
         "71.2833",
         "C85",
         "C"
        ],
        [
         "2",
         "3",
         "1",
         "3",
         "Heikkinen, Miss. Laina",
         "female",
         "26.0",
         "0",
         "0",
         "STON/O2. 3101282",
         "7.925",
         "Missing",
         "S"
        ],
        [
         "3",
         "4",
         "1",
         "1",
         "Futrelle, Mrs. Jacques Heath (Lily May Peel)",
         "female",
         "35.0",
         "1",
         "0",
         "113803",
         "53.1",
         "C123",
         "S"
        ],
        [
         "4",
         "5",
         "0",
         "3",
         "Allen, Mr. William Henry",
         "male",
         "35.0",
         "0",
         "0",
         "373450",
         "8.05",
         "Missing",
         "S"
        ]
       ],
       "shape": {
        "columns": 12,
        "rows": 5
       }
      },
      "text/html": [
       "<div>\n",
       "<style scoped>\n",
       "    .dataframe tbody tr th:only-of-type {\n",
       "        vertical-align: middle;\n",
       "    }\n",
       "\n",
       "    .dataframe tbody tr th {\n",
       "        vertical-align: top;\n",
       "    }\n",
       "\n",
       "    .dataframe thead th {\n",
       "        text-align: right;\n",
       "    }\n",
       "</style>\n",
       "<table border=\"1\" class=\"dataframe\">\n",
       "  <thead>\n",
       "    <tr style=\"text-align: right;\">\n",
       "      <th></th>\n",
       "      <th>PassengerId</th>\n",
       "      <th>Survived</th>\n",
       "      <th>Pclass</th>\n",
       "      <th>Name</th>\n",
       "      <th>Sex</th>\n",
       "      <th>Age</th>\n",
       "      <th>SibSp</th>\n",
       "      <th>Parch</th>\n",
       "      <th>Ticket</th>\n",
       "      <th>Fare</th>\n",
       "      <th>Cabin</th>\n",
       "      <th>Embarked</th>\n",
       "    </tr>\n",
       "  </thead>\n",
       "  <tbody>\n",
       "    <tr>\n",
       "      <th>0</th>\n",
       "      <td>1</td>\n",
       "      <td>0</td>\n",
       "      <td>3</td>\n",
       "      <td>Braund, Mr. Owen Harris</td>\n",
       "      <td>male</td>\n",
       "      <td>22.0</td>\n",
       "      <td>1</td>\n",
       "      <td>0</td>\n",
       "      <td>A/5 21171</td>\n",
       "      <td>7.2500</td>\n",
       "      <td>Missing</td>\n",
       "      <td>S</td>\n",
       "    </tr>\n",
       "    <tr>\n",
       "      <th>1</th>\n",
       "      <td>2</td>\n",
       "      <td>1</td>\n",
       "      <td>1</td>\n",
       "      <td>Cumings, Mrs. John Bradley (Florence Briggs Th...</td>\n",
       "      <td>female</td>\n",
       "      <td>38.0</td>\n",
       "      <td>1</td>\n",
       "      <td>0</td>\n",
       "      <td>PC 17599</td>\n",
       "      <td>71.2833</td>\n",
       "      <td>C85</td>\n",
       "      <td>C</td>\n",
       "    </tr>\n",
       "    <tr>\n",
       "      <th>2</th>\n",
       "      <td>3</td>\n",
       "      <td>1</td>\n",
       "      <td>3</td>\n",
       "      <td>Heikkinen, Miss. Laina</td>\n",
       "      <td>female</td>\n",
       "      <td>26.0</td>\n",
       "      <td>0</td>\n",
       "      <td>0</td>\n",
       "      <td>STON/O2. 3101282</td>\n",
       "      <td>7.9250</td>\n",
       "      <td>Missing</td>\n",
       "      <td>S</td>\n",
       "    </tr>\n",
       "    <tr>\n",
       "      <th>3</th>\n",
       "      <td>4</td>\n",
       "      <td>1</td>\n",
       "      <td>1</td>\n",
       "      <td>Futrelle, Mrs. Jacques Heath (Lily May Peel)</td>\n",
       "      <td>female</td>\n",
       "      <td>35.0</td>\n",
       "      <td>1</td>\n",
       "      <td>0</td>\n",
       "      <td>113803</td>\n",
       "      <td>53.1000</td>\n",
       "      <td>C123</td>\n",
       "      <td>S</td>\n",
       "    </tr>\n",
       "    <tr>\n",
       "      <th>4</th>\n",
       "      <td>5</td>\n",
       "      <td>0</td>\n",
       "      <td>3</td>\n",
       "      <td>Allen, Mr. William Henry</td>\n",
       "      <td>male</td>\n",
       "      <td>35.0</td>\n",
       "      <td>0</td>\n",
       "      <td>0</td>\n",
       "      <td>373450</td>\n",
       "      <td>8.0500</td>\n",
       "      <td>Missing</td>\n",
       "      <td>S</td>\n",
       "    </tr>\n",
       "  </tbody>\n",
       "</table>\n",
       "</div>"
      ],
      "text/plain": [
       "   PassengerId  Survived  Pclass  \\\n",
       "0            1         0       3   \n",
       "1            2         1       1   \n",
       "2            3         1       3   \n",
       "3            4         1       1   \n",
       "4            5         0       3   \n",
       "\n",
       "                                                Name     Sex   Age  SibSp  \\\n",
       "0                            Braund, Mr. Owen Harris    male  22.0      1   \n",
       "1  Cumings, Mrs. John Bradley (Florence Briggs Th...  female  38.0      1   \n",
       "2                             Heikkinen, Miss. Laina  female  26.0      0   \n",
       "3       Futrelle, Mrs. Jacques Heath (Lily May Peel)  female  35.0      1   \n",
       "4                           Allen, Mr. William Henry    male  35.0      0   \n",
       "\n",
       "   Parch            Ticket     Fare    Cabin Embarked  \n",
       "0      0         A/5 21171   7.2500  Missing        S  \n",
       "1      0          PC 17599  71.2833      C85        C  \n",
       "2      0  STON/O2. 3101282   7.9250  Missing        S  \n",
       "3      0            113803  53.1000     C123        S  \n",
       "4      0            373450   8.0500  Missing        S  "
      ]
     },
     "execution_count": 54,
     "metadata": {},
     "output_type": "execute_result"
    }
   ],
   "source": [
    "data_tme.fillna('Missing', inplace = True)\n",
    "\n",
    "print(print(len(data_tme['Cabin'].unique())))\n",
    "data_tme.head()"
   ]
  },
  {
   "cell_type": "code",
   "execution_count": 55,
   "id": "033ce44f",
   "metadata": {},
   "outputs": [
    {
     "name": "stdout",
     "output_type": "stream",
     "text": [
      "148\n",
      "['M' 'C' 'E' 'G' 'D' 'A' 'B' 'F' 'T']\n",
      "9\n"
     ]
    },
    {
     "data": {
      "application/vnd.microsoft.datawrangler.viewer.v0+json": {
       "columns": [
        {
         "name": "index",
         "rawType": "int64",
         "type": "integer"
        },
        {
         "name": "PassengerId",
         "rawType": "int64",
         "type": "integer"
        },
        {
         "name": "Survived",
         "rawType": "int64",
         "type": "integer"
        },
        {
         "name": "Pclass",
         "rawType": "int64",
         "type": "integer"
        },
        {
         "name": "Name",
         "rawType": "object",
         "type": "string"
        },
        {
         "name": "Sex",
         "rawType": "object",
         "type": "string"
        },
        {
         "name": "Age",
         "rawType": "object",
         "type": "unknown"
        },
        {
         "name": "SibSp",
         "rawType": "int64",
         "type": "integer"
        },
        {
         "name": "Parch",
         "rawType": "int64",
         "type": "integer"
        },
        {
         "name": "Ticket",
         "rawType": "object",
         "type": "string"
        },
        {
         "name": "Fare",
         "rawType": "float64",
         "type": "float"
        },
        {
         "name": "Cabin",
         "rawType": "object",
         "type": "string"
        },
        {
         "name": "Embarked",
         "rawType": "object",
         "type": "string"
        }
       ],
       "ref": "e4c206d0-ef4c-4625-ac3f-b851f9a421e3",
       "rows": [
        [
         "0",
         "1",
         "0",
         "3",
         "Braund, Mr. Owen Harris",
         "male",
         "22.0",
         "1",
         "0",
         "A/5 21171",
         "7.25",
         "M",
         "S"
        ],
        [
         "1",
         "2",
         "1",
         "1",
         "Cumings, Mrs. John Bradley (Florence Briggs Thayer)",
         "female",
         "38.0",
         "1",
         "0",
         "PC 17599",
         "71.2833",
         "C",
         "C"
        ],
        [
         "2",
         "3",
         "1",
         "3",
         "Heikkinen, Miss. Laina",
         "female",
         "26.0",
         "0",
         "0",
         "STON/O2. 3101282",
         "7.925",
         "M",
         "S"
        ],
        [
         "3",
         "4",
         "1",
         "1",
         "Futrelle, Mrs. Jacques Heath (Lily May Peel)",
         "female",
         "35.0",
         "1",
         "0",
         "113803",
         "53.1",
         "C",
         "S"
        ],
        [
         "4",
         "5",
         "0",
         "3",
         "Allen, Mr. William Henry",
         "male",
         "35.0",
         "0",
         "0",
         "373450",
         "8.05",
         "M",
         "S"
        ]
       ],
       "shape": {
        "columns": 12,
        "rows": 5
       }
      },
      "text/html": [
       "<div>\n",
       "<style scoped>\n",
       "    .dataframe tbody tr th:only-of-type {\n",
       "        vertical-align: middle;\n",
       "    }\n",
       "\n",
       "    .dataframe tbody tr th {\n",
       "        vertical-align: top;\n",
       "    }\n",
       "\n",
       "    .dataframe thead th {\n",
       "        text-align: right;\n",
       "    }\n",
       "</style>\n",
       "<table border=\"1\" class=\"dataframe\">\n",
       "  <thead>\n",
       "    <tr style=\"text-align: right;\">\n",
       "      <th></th>\n",
       "      <th>PassengerId</th>\n",
       "      <th>Survived</th>\n",
       "      <th>Pclass</th>\n",
       "      <th>Name</th>\n",
       "      <th>Sex</th>\n",
       "      <th>Age</th>\n",
       "      <th>SibSp</th>\n",
       "      <th>Parch</th>\n",
       "      <th>Ticket</th>\n",
       "      <th>Fare</th>\n",
       "      <th>Cabin</th>\n",
       "      <th>Embarked</th>\n",
       "    </tr>\n",
       "  </thead>\n",
       "  <tbody>\n",
       "    <tr>\n",
       "      <th>0</th>\n",
       "      <td>1</td>\n",
       "      <td>0</td>\n",
       "      <td>3</td>\n",
       "      <td>Braund, Mr. Owen Harris</td>\n",
       "      <td>male</td>\n",
       "      <td>22.0</td>\n",
       "      <td>1</td>\n",
       "      <td>0</td>\n",
       "      <td>A/5 21171</td>\n",
       "      <td>7.2500</td>\n",
       "      <td>M</td>\n",
       "      <td>S</td>\n",
       "    </tr>\n",
       "    <tr>\n",
       "      <th>1</th>\n",
       "      <td>2</td>\n",
       "      <td>1</td>\n",
       "      <td>1</td>\n",
       "      <td>Cumings, Mrs. John Bradley (Florence Briggs Th...</td>\n",
       "      <td>female</td>\n",
       "      <td>38.0</td>\n",
       "      <td>1</td>\n",
       "      <td>0</td>\n",
       "      <td>PC 17599</td>\n",
       "      <td>71.2833</td>\n",
       "      <td>C</td>\n",
       "      <td>C</td>\n",
       "    </tr>\n",
       "    <tr>\n",
       "      <th>2</th>\n",
       "      <td>3</td>\n",
       "      <td>1</td>\n",
       "      <td>3</td>\n",
       "      <td>Heikkinen, Miss. Laina</td>\n",
       "      <td>female</td>\n",
       "      <td>26.0</td>\n",
       "      <td>0</td>\n",
       "      <td>0</td>\n",
       "      <td>STON/O2. 3101282</td>\n",
       "      <td>7.9250</td>\n",
       "      <td>M</td>\n",
       "      <td>S</td>\n",
       "    </tr>\n",
       "    <tr>\n",
       "      <th>3</th>\n",
       "      <td>4</td>\n",
       "      <td>1</td>\n",
       "      <td>1</td>\n",
       "      <td>Futrelle, Mrs. Jacques Heath (Lily May Peel)</td>\n",
       "      <td>female</td>\n",
       "      <td>35.0</td>\n",
       "      <td>1</td>\n",
       "      <td>0</td>\n",
       "      <td>113803</td>\n",
       "      <td>53.1000</td>\n",
       "      <td>C</td>\n",
       "      <td>S</td>\n",
       "    </tr>\n",
       "    <tr>\n",
       "      <th>4</th>\n",
       "      <td>5</td>\n",
       "      <td>0</td>\n",
       "      <td>3</td>\n",
       "      <td>Allen, Mr. William Henry</td>\n",
       "      <td>male</td>\n",
       "      <td>35.0</td>\n",
       "      <td>0</td>\n",
       "      <td>0</td>\n",
       "      <td>373450</td>\n",
       "      <td>8.0500</td>\n",
       "      <td>M</td>\n",
       "      <td>S</td>\n",
       "    </tr>\n",
       "  </tbody>\n",
       "</table>\n",
       "</div>"
      ],
      "text/plain": [
       "   PassengerId  Survived  Pclass  \\\n",
       "0            1         0       3   \n",
       "1            2         1       1   \n",
       "2            3         1       3   \n",
       "3            4         1       1   \n",
       "4            5         0       3   \n",
       "\n",
       "                                                Name     Sex   Age  SibSp  \\\n",
       "0                            Braund, Mr. Owen Harris    male  22.0      1   \n",
       "1  Cumings, Mrs. John Bradley (Florence Briggs Th...  female  38.0      1   \n",
       "2                             Heikkinen, Miss. Laina  female  26.0      0   \n",
       "3       Futrelle, Mrs. Jacques Heath (Lily May Peel)  female  35.0      1   \n",
       "4                           Allen, Mr. William Henry    male  35.0      0   \n",
       "\n",
       "   Parch            Ticket     Fare Cabin Embarked  \n",
       "0      0         A/5 21171   7.2500     M        S  \n",
       "1      0          PC 17599  71.2833     C        C  \n",
       "2      0  STON/O2. 3101282   7.9250     M        S  \n",
       "3      0            113803  53.1000     C        S  \n",
       "4      0            373450   8.0500     M        S  "
      ]
     },
     "execution_count": 55,
     "metadata": {},
     "output_type": "execute_result"
    }
   ],
   "source": [
    "print(len(data_tme['Cabin'].unique()))\n",
    "data_tme['Cabin'] = data_tme['Cabin'].astype(str).str[0]\n",
    "\n",
    "print(data_tme['Cabin'].unique())\n",
    "print(len(data_tme['Cabin'].unique()))\n",
    "data_tme.head()\n",
    "\n"
   ]
  },
  {
   "cell_type": "code",
   "execution_count": 57,
   "id": "91f8a00d",
   "metadata": {},
   "outputs": [
    {
     "data": {
      "text/plain": [
       "((623, 2), (268, 2))"
      ]
     },
     "execution_count": 57,
     "metadata": {},
     "output_type": "execute_result"
    }
   ],
   "source": [
    "X_train, X_test, y_train, y_test = train_test_split(\n",
    "                                                    data_tme[['Cabin', 'Survived']],\n",
    "                                                    data_tme['Survived'],\n",
    "                                                    test_size = 0.3,\n",
    "                                                    random_state = 0\n",
    "                                                    )\n",
    "\n",
    "X_train.shape, X_test.shape"
   ]
  },
  {
   "cell_type": "code",
   "execution_count": 58,
   "id": "5dd0e342",
   "metadata": {},
   "outputs": [
    {
     "data": {
      "application/vnd.microsoft.datawrangler.viewer.v0+json": {
       "columns": [
        {
         "name": "Cabin",
         "rawType": "object",
         "type": "string"
        },
        {
         "name": "Survived",
         "rawType": "float64",
         "type": "float"
        }
       ],
       "ref": "4533273a-1d51-462a-9171-956563c9bb98",
       "rows": [
        [
         "A",
         "0.42857142857142855"
        ],
        [
         "B",
         "0.7741935483870968"
        ],
        [
         "C",
         "0.5714285714285714"
        ],
        [
         "D",
         "0.6923076923076923"
        ],
        [
         "E",
         "0.7407407407407407"
        ],
        [
         "F",
         "0.6666666666666666"
        ],
        [
         "G",
         "0.5"
        ],
        [
         "M",
         "0.3036093418259023"
        ],
        [
         "T",
         "0.0"
        ]
       ],
       "shape": {
        "columns": 1,
        "rows": 9
       }
      },
      "text/plain": [
       "Cabin\n",
       "A    0.428571\n",
       "B    0.774194\n",
       "C    0.571429\n",
       "D    0.692308\n",
       "E    0.740741\n",
       "F    0.666667\n",
       "G    0.500000\n",
       "M    0.303609\n",
       "T    0.000000\n",
       "Name: Survived, dtype: float64"
      ]
     },
     "execution_count": 58,
     "metadata": {},
     "output_type": "execute_result"
    }
   ],
   "source": [
    "#target freq for each label\n",
    "X_train.groupby(['Cabin'])['Survived'].mean()"
   ]
  },
  {
   "cell_type": "code",
   "execution_count": 60,
   "id": "4caf2293",
   "metadata": {},
   "outputs": [
    {
     "data": {
      "text/plain": [
       "{'A': 0.42857142857142855,\n",
       " 'B': 0.7741935483870968,\n",
       " 'C': 0.5714285714285714,\n",
       " 'D': 0.6923076923076923,\n",
       " 'E': 0.7407407407407407,\n",
       " 'F': 0.6666666666666666,\n",
       " 'G': 0.5,\n",
       " 'M': 0.3036093418259023,\n",
       " 'T': 0.0}"
      ]
     },
     "execution_count": 60,
     "metadata": {},
     "output_type": "execute_result"
    }
   ],
   "source": [
    "ord_lab = X_train.groupby(['Cabin'])['Survived'].mean().to_dict()\n",
    "ord_lab"
   ]
  },
  {
   "cell_type": "code",
   "execution_count": 62,
   "id": "dc1cb727",
   "metadata": {},
   "outputs": [
    {
     "data": {
      "application/vnd.microsoft.datawrangler.viewer.v0+json": {
       "columns": [
        {
         "name": "index",
         "rawType": "int64",
         "type": "integer"
        },
        {
         "name": "Cabin",
         "rawType": "object",
         "type": "string"
        },
        {
         "name": "Survived",
         "rawType": "int64",
         "type": "integer"
        },
        {
         "name": "Cabin_ordered",
         "rawType": "float64",
         "type": "float"
        }
       ],
       "ref": "1c2ac02b-ba53-4179-b98d-b96b8fb3c986",
       "rows": [
        [
         "857",
         "E",
         "1",
         "0.7407407407407407"
        ],
        [
         "52",
         "D",
         "1",
         "0.6923076923076923"
        ],
        [
         "386",
         "M",
         "0",
         "0.3036093418259023"
        ],
        [
         "124",
         "D",
         "0",
         "0.6923076923076923"
        ],
        [
         "578",
         "M",
         "0",
         "0.3036093418259023"
        ]
       ],
       "shape": {
        "columns": 3,
        "rows": 5
       }
      },
      "text/html": [
       "<div>\n",
       "<style scoped>\n",
       "    .dataframe tbody tr th:only-of-type {\n",
       "        vertical-align: middle;\n",
       "    }\n",
       "\n",
       "    .dataframe tbody tr th {\n",
       "        vertical-align: top;\n",
       "    }\n",
       "\n",
       "    .dataframe thead th {\n",
       "        text-align: right;\n",
       "    }\n",
       "</style>\n",
       "<table border=\"1\" class=\"dataframe\">\n",
       "  <thead>\n",
       "    <tr style=\"text-align: right;\">\n",
       "      <th></th>\n",
       "      <th>Cabin</th>\n",
       "      <th>Survived</th>\n",
       "      <th>Cabin_ordered</th>\n",
       "    </tr>\n",
       "  </thead>\n",
       "  <tbody>\n",
       "    <tr>\n",
       "      <th>857</th>\n",
       "      <td>E</td>\n",
       "      <td>1</td>\n",
       "      <td>0.740741</td>\n",
       "    </tr>\n",
       "    <tr>\n",
       "      <th>52</th>\n",
       "      <td>D</td>\n",
       "      <td>1</td>\n",
       "      <td>0.692308</td>\n",
       "    </tr>\n",
       "    <tr>\n",
       "      <th>386</th>\n",
       "      <td>M</td>\n",
       "      <td>0</td>\n",
       "      <td>0.303609</td>\n",
       "    </tr>\n",
       "    <tr>\n",
       "      <th>124</th>\n",
       "      <td>D</td>\n",
       "      <td>0</td>\n",
       "      <td>0.692308</td>\n",
       "    </tr>\n",
       "    <tr>\n",
       "      <th>578</th>\n",
       "      <td>M</td>\n",
       "      <td>0</td>\n",
       "      <td>0.303609</td>\n",
       "    </tr>\n",
       "  </tbody>\n",
       "</table>\n",
       "</div>"
      ],
      "text/plain": [
       "    Cabin  Survived  Cabin_ordered\n",
       "857     E         1       0.740741\n",
       "52      D         1       0.692308\n",
       "386     M         0       0.303609\n",
       "124     D         0       0.692308\n",
       "578     M         0       0.303609"
      ]
     },
     "execution_count": 62,
     "metadata": {},
     "output_type": "execute_result"
    }
   ],
   "source": [
    "X_train['Cabin_ordered'] = X_train['Cabin'].map(ord_lab)\n",
    "X_test['Cabin_ordered'] = X_test['Cabin'].map(ord_lab)\n",
    "X_train.head()"
   ]
  },
  {
   "cell_type": "code",
   "execution_count": 63,
   "id": "a30a9229",
   "metadata": {},
   "outputs": [
    {
     "data": {
      "text/plain": [
       "Text(0, 0.5, 'Survived')"
      ]
     },
     "execution_count": 63,
     "metadata": {},
     "output_type": "execute_result"
    },
    {
     "data": {
      "image/png": "[encoded data removed]",
      "text/plain": [
       "<Figure size 800x600 with 1 Axes>"
      ]
     },
     "metadata": {},
     "output_type": "display_data"
    }
   ],
   "source": [
    "# plot the original variable\n",
    "\n",
    "fig = plt.figure(figsize=(8,6))\n",
    "fig = X_train.groupby(['Cabin'])['Survived'].mean().plot()\n",
    "fig.set_title('Normal relationship between variable and target')\n",
    "fig.set_ylabel('Survived')"
   ]
  },
  {
   "cell_type": "code",
   "execution_count": 64,
   "id": "db760075",
   "metadata": {},
   "outputs": [
    {
     "data": {
      "text/plain": [
       "Text(0, 0.5, 'Survived')"
      ]
     },
     "execution_count": 64,
     "metadata": {},
     "output_type": "execute_result"
    },
    {
     "data": {
      "image/png": "[encoded data removed]",
      "text/plain": [
       "<Figure size 800x600 with 1 Axes>"
      ]
     },
     "metadata": {},
     "output_type": "display_data"
    }
   ],
   "source": [
    "# plot the transformed result: the monotonic variable\n",
    "\n",
    "fig = plt.figure(figsize=(8,6))\n",
    "fig = X_train.groupby(['Cabin_ordered'])['Survived'].mean().plot()\n",
    "fig.set_title('Monotonic relationship between variable and target')\n",
    "fig.set_ylabel('Survived')"
   ]
  },
  {
   "cell_type": "markdown",
   "id": "21ea7a42",
   "metadata": {},
   "source": [
    "### Weight of Evidence (WOE)"
   ]
  },
  {
   "cell_type": "code",
   "execution_count": 65,
   "id": "9095e13d",
   "metadata": {},
   "outputs": [
    {
     "data": {
      "application/vnd.microsoft.datawrangler.viewer.v0+json": {
       "columns": [
        {
         "name": "index",
         "rawType": "int64",
         "type": "integer"
        },
        {
         "name": "Cabin",
         "rawType": "object",
         "type": "string"
        },
        {
         "name": "Survived",
         "rawType": "int64",
         "type": "integer"
        },
        {
         "name": "Cabin_ordered",
         "rawType": "float64",
         "type": "float"
        }
       ],
       "ref": "8cce8890-2efc-4b06-a2e8-1b2db5f398cf",
       "rows": [
        [
         "857",
         "E",
         "1",
         "0.7407407407407407"
        ],
        [
         "52",
         "D",
         "1",
         "0.6923076923076923"
        ],
        [
         "386",
         "M",
         "0",
         "0.3036093418259023"
        ],
        [
         "124",
         "D",
         "0",
         "0.6923076923076923"
        ],
        [
         "578",
         "M",
         "0",
         "0.3036093418259023"
        ]
       ],
       "shape": {
        "columns": 3,
        "rows": 5
       }
      },
      "text/html": [
       "<div>\n",
       "<style scoped>\n",
       "    .dataframe tbody tr th:only-of-type {\n",
       "        vertical-align: middle;\n",
       "    }\n",
       "\n",
       "    .dataframe tbody tr th {\n",
       "        vertical-align: top;\n",
       "    }\n",
       "\n",
       "    .dataframe thead th {\n",
       "        text-align: right;\n",
       "    }\n",
       "</style>\n",
       "<table border=\"1\" class=\"dataframe\">\n",
       "  <thead>\n",
       "    <tr style=\"text-align: right;\">\n",
       "      <th></th>\n",
       "      <th>Cabin</th>\n",
       "      <th>Survived</th>\n",
       "      <th>Cabin_ordered</th>\n",
       "    </tr>\n",
       "  </thead>\n",
       "  <tbody>\n",
       "    <tr>\n",
       "      <th>857</th>\n",
       "      <td>E</td>\n",
       "      <td>1</td>\n",
       "      <td>0.740741</td>\n",
       "    </tr>\n",
       "    <tr>\n",
       "      <th>52</th>\n",
       "      <td>D</td>\n",
       "      <td>1</td>\n",
       "      <td>0.692308</td>\n",
       "    </tr>\n",
       "    <tr>\n",
       "      <th>386</th>\n",
       "      <td>M</td>\n",
       "      <td>0</td>\n",
       "      <td>0.303609</td>\n",
       "    </tr>\n",
       "    <tr>\n",
       "      <th>124</th>\n",
       "      <td>D</td>\n",
       "      <td>0</td>\n",
       "      <td>0.692308</td>\n",
       "    </tr>\n",
       "    <tr>\n",
       "      <th>578</th>\n",
       "      <td>M</td>\n",
       "      <td>0</td>\n",
       "      <td>0.303609</td>\n",
       "    </tr>\n",
       "  </tbody>\n",
       "</table>\n",
       "</div>"
      ],
      "text/plain": [
       "    Cabin  Survived  Cabin_ordered\n",
       "857     E         1       0.740741\n",
       "52      D         1       0.692308\n",
       "386     M         0       0.303609\n",
       "124     D         0       0.692308\n",
       "578     M         0       0.303609"
      ]
     },
     "execution_count": 65,
     "metadata": {},
     "output_type": "execute_result"
    }
   ],
   "source": [
    "X_train.head()"
   ]
  },
  {
   "cell_type": "code",
   "execution_count": 66,
   "id": "b4eb6b5e",
   "metadata": {},
   "outputs": [
    {
     "data": {
      "application/vnd.microsoft.datawrangler.viewer.v0+json": {
       "columns": [
        {
         "name": "Cabin",
         "rawType": "object",
         "type": "string"
        },
        {
         "name": "Survived",
         "rawType": "float64",
         "type": "float"
        }
       ],
       "ref": "5c7cf315-ac91-4d45-9be2-c909966c4b7f",
       "rows": [
        [
         "A",
         "0.42857142857142855"
        ],
        [
         "B",
         "0.7741935483870968"
        ],
        [
         "C",
         "0.5714285714285714"
        ],
        [
         "D",
         "0.6923076923076923"
        ],
        [
         "E",
         "0.7407407407407407"
        ],
        [
         "F",
         "0.6666666666666666"
        ],
        [
         "G",
         "0.5"
        ],
        [
         "M",
         "0.3036093418259023"
        ],
        [
         "T",
         "0.0"
        ]
       ],
       "shape": {
        "columns": 1,
        "rows": 9
       }
      },
      "text/plain": [
       "Cabin\n",
       "A    0.428571\n",
       "B    0.774194\n",
       "C    0.571429\n",
       "D    0.692308\n",
       "E    0.740741\n",
       "F    0.666667\n",
       "G    0.500000\n",
       "M    0.303609\n",
       "T    0.000000\n",
       "Name: Survived, dtype: float64"
      ]
     },
     "execution_count": 66,
     "metadata": {},
     "output_type": "execute_result"
    }
   ],
   "source": [
    "X_train.groupby(['Cabin'])['Survived'].mean()"
   ]
  },
  {
   "cell_type": "code",
   "execution_count": 67,
   "id": "126ee4d1",
   "metadata": {},
   "outputs": [
    {
     "data": {
      "application/vnd.microsoft.datawrangler.viewer.v0+json": {
       "columns": [
        {
         "name": "Cabin",
         "rawType": "object",
         "type": "string"
        },
        {
         "name": "Survived",
         "rawType": "float64",
         "type": "float"
        }
       ],
       "ref": "543d22d5-c230-41a0-a2da-84975571fcfa",
       "rows": [
        [
         "A",
         "0.42857142857142855"
        ],
        [
         "B",
         "0.7741935483870968"
        ],
        [
         "C",
         "0.5714285714285714"
        ],
        [
         "D",
         "0.6923076923076923"
        ],
        [
         "E",
         "0.7407407407407407"
        ],
        [
         "F",
         "0.6666666666666666"
        ],
        [
         "G",
         "0.5"
        ],
        [
         "M",
         "0.3036093418259023"
        ],
        [
         "T",
         "0.0"
        ]
       ],
       "shape": {
        "columns": 1,
        "rows": 9
       }
      },
      "text/html": [
       "<div>\n",
       "<style scoped>\n",
       "    .dataframe tbody tr th:only-of-type {\n",
       "        vertical-align: middle;\n",
       "    }\n",
       "\n",
       "    .dataframe tbody tr th {\n",
       "        vertical-align: top;\n",
       "    }\n",
       "\n",
       "    .dataframe thead th {\n",
       "        text-align: right;\n",
       "    }\n",
       "</style>\n",
       "<table border=\"1\" class=\"dataframe\">\n",
       "  <thead>\n",
       "    <tr style=\"text-align: right;\">\n",
       "      <th></th>\n",
       "      <th>Survived</th>\n",
       "    </tr>\n",
       "    <tr>\n",
       "      <th>Cabin</th>\n",
       "      <th></th>\n",
       "    </tr>\n",
       "  </thead>\n",
       "  <tbody>\n",
       "    <tr>\n",
       "      <th>A</th>\n",
       "      <td>0.428571</td>\n",
       "    </tr>\n",
       "    <tr>\n",
       "      <th>B</th>\n",
       "      <td>0.774194</td>\n",
       "    </tr>\n",
       "    <tr>\n",
       "      <th>C</th>\n",
       "      <td>0.571429</td>\n",
       "    </tr>\n",
       "    <tr>\n",
       "      <th>D</th>\n",
       "      <td>0.692308</td>\n",
       "    </tr>\n",
       "    <tr>\n",
       "      <th>E</th>\n",
       "      <td>0.740741</td>\n",
       "    </tr>\n",
       "    <tr>\n",
       "      <th>F</th>\n",
       "      <td>0.666667</td>\n",
       "    </tr>\n",
       "    <tr>\n",
       "      <th>G</th>\n",
       "      <td>0.500000</td>\n",
       "    </tr>\n",
       "    <tr>\n",
       "      <th>M</th>\n",
       "      <td>0.303609</td>\n",
       "    </tr>\n",
       "    <tr>\n",
       "      <th>T</th>\n",
       "      <td>0.000000</td>\n",
       "    </tr>\n",
       "  </tbody>\n",
       "</table>\n",
       "</div>"
      ],
      "text/plain": [
       "       Survived\n",
       "Cabin          \n",
       "A      0.428571\n",
       "B      0.774194\n",
       "C      0.571429\n",
       "D      0.692308\n",
       "E      0.740741\n",
       "F      0.666667\n",
       "G      0.500000\n",
       "M      0.303609\n",
       "T      0.000000"
      ]
     },
     "execution_count": 67,
     "metadata": {},
     "output_type": "execute_result"
    }
   ],
   "source": [
    "prob_df = X_train.groupby(['Cabin'])['Survived'].mean()\n",
    "prob_df = pd.DataFrame(prob_df)\n",
    "prob_df"
   ]
  },
  {
   "cell_type": "code",
   "execution_count": 68,
   "id": "749abd11",
   "metadata": {},
   "outputs": [
    {
     "data": {
      "application/vnd.microsoft.datawrangler.viewer.v0+json": {
       "columns": [
        {
         "name": "Cabin",
         "rawType": "object",
         "type": "string"
        },
        {
         "name": "Survived",
         "rawType": "float64",
         "type": "float"
        },
        {
         "name": "Died",
         "rawType": "float64",
         "type": "float"
        }
       ],
       "ref": "1d12724e-d6fb-4b2e-8af2-058d91e1a6fb",
       "rows": [
        [
         "A",
         "0.42857142857142855",
         "0.5714285714285714"
        ],
        [
         "B",
         "0.7741935483870968",
         "0.22580645161290325"
        ],
        [
         "C",
         "0.5714285714285714",
         "0.4285714285714286"
        ],
        [
         "D",
         "0.6923076923076923",
         "0.3076923076923077"
        ],
        [
         "E",
         "0.7407407407407407",
         "0.2592592592592593"
        ],
        [
         "F",
         "0.6666666666666666",
         "0.33333333333333337"
        ],
        [
         "G",
         "0.5",
         "0.5"
        ],
        [
         "M",
         "0.3036093418259023",
         "0.6963906581740977"
        ],
        [
         "T",
         "0.0",
         "1.0"
        ]
       ],
       "shape": {
        "columns": 2,
        "rows": 9
       }
      },
      "text/html": [
       "<div>\n",
       "<style scoped>\n",
       "    .dataframe tbody tr th:only-of-type {\n",
       "        vertical-align: middle;\n",
       "    }\n",
       "\n",
       "    .dataframe tbody tr th {\n",
       "        vertical-align: top;\n",
       "    }\n",
       "\n",
       "    .dataframe thead th {\n",
       "        text-align: right;\n",
       "    }\n",
       "</style>\n",
       "<table border=\"1\" class=\"dataframe\">\n",
       "  <thead>\n",
       "    <tr style=\"text-align: right;\">\n",
       "      <th></th>\n",
       "      <th>Survived</th>\n",
       "      <th>Died</th>\n",
       "    </tr>\n",
       "    <tr>\n",
       "      <th>Cabin</th>\n",
       "      <th></th>\n",
       "      <th></th>\n",
       "    </tr>\n",
       "  </thead>\n",
       "  <tbody>\n",
       "    <tr>\n",
       "      <th>A</th>\n",
       "      <td>0.428571</td>\n",
       "      <td>0.571429</td>\n",
       "    </tr>\n",
       "    <tr>\n",
       "      <th>B</th>\n",
       "      <td>0.774194</td>\n",
       "      <td>0.225806</td>\n",
       "    </tr>\n",
       "    <tr>\n",
       "      <th>C</th>\n",
       "      <td>0.571429</td>\n",
       "      <td>0.428571</td>\n",
       "    </tr>\n",
       "    <tr>\n",
       "      <th>D</th>\n",
       "      <td>0.692308</td>\n",
       "      <td>0.307692</td>\n",
       "    </tr>\n",
       "    <tr>\n",
       "      <th>E</th>\n",
       "      <td>0.740741</td>\n",
       "      <td>0.259259</td>\n",
       "    </tr>\n",
       "    <tr>\n",
       "      <th>F</th>\n",
       "      <td>0.666667</td>\n",
       "      <td>0.333333</td>\n",
       "    </tr>\n",
       "    <tr>\n",
       "      <th>G</th>\n",
       "      <td>0.500000</td>\n",
       "      <td>0.500000</td>\n",
       "    </tr>\n",
       "    <tr>\n",
       "      <th>M</th>\n",
       "      <td>0.303609</td>\n",
       "      <td>0.696391</td>\n",
       "    </tr>\n",
       "    <tr>\n",
       "      <th>T</th>\n",
       "      <td>0.000000</td>\n",
       "      <td>1.000000</td>\n",
       "    </tr>\n",
       "  </tbody>\n",
       "</table>\n",
       "</div>"
      ],
      "text/plain": [
       "       Survived      Died\n",
       "Cabin                    \n",
       "A      0.428571  0.571429\n",
       "B      0.774194  0.225806\n",
       "C      0.571429  0.428571\n",
       "D      0.692308  0.307692\n",
       "E      0.740741  0.259259\n",
       "F      0.666667  0.333333\n",
       "G      0.500000  0.500000\n",
       "M      0.303609  0.696391\n",
       "T      0.000000  1.000000"
      ]
     },
     "execution_count": 68,
     "metadata": {},
     "output_type": "execute_result"
    }
   ],
   "source": [
    "prob_df = X_train.groupby(['Cabin'])['Survived'].mean()\n",
    "prob_df = pd.DataFrame(prob_df)\n",
    "prob_df['Died'] = 1-prob_df.Survived\n",
    "prob_df"
   ]
  },
  {
   "cell_type": "code",
   "execution_count": 69,
   "id": "ae0533a9",
   "metadata": {},
   "outputs": [
    {
     "data": {
      "application/vnd.microsoft.datawrangler.viewer.v0+json": {
       "columns": [
        {
         "name": "Cabin",
         "rawType": "object",
         "type": "string"
        },
        {
         "name": "Survived",
         "rawType": "float64",
         "type": "float"
        },
        {
         "name": "Died",
         "rawType": "float64",
         "type": "float"
        }
       ],
       "ref": "eb7f6e37-17f8-4e74-aba0-33e2bb5638ad",
       "rows": [
        [
         "A",
         "0.42857142857142855",
         "0.5714285714285714"
        ],
        [
         "B",
         "0.7741935483870968",
         "0.22580645161290325"
        ],
        [
         "C",
         "0.5714285714285714",
         "0.4285714285714286"
        ],
        [
         "D",
         "0.6923076923076923",
         "0.3076923076923077"
        ],
        [
         "E",
         "0.7407407407407407",
         "0.2592592592592593"
        ],
        [
         "F",
         "0.6666666666666666",
         "0.33333333333333337"
        ],
        [
         "G",
         "0.5",
         "0.5"
        ],
        [
         "M",
         "0.3036093418259023",
         "0.6963906581740977"
        ],
        [
         "T",
         "1e-05",
         "1.0"
        ]
       ],
       "shape": {
        "columns": 2,
        "rows": 9
       }
      },
      "text/html": [
       "<div>\n",
       "<style scoped>\n",
       "    .dataframe tbody tr th:only-of-type {\n",
       "        vertical-align: middle;\n",
       "    }\n",
       "\n",
       "    .dataframe tbody tr th {\n",
       "        vertical-align: top;\n",
       "    }\n",
       "\n",
       "    .dataframe thead th {\n",
       "        text-align: right;\n",
       "    }\n",
       "</style>\n",
       "<table border=\"1\" class=\"dataframe\">\n",
       "  <thead>\n",
       "    <tr style=\"text-align: right;\">\n",
       "      <th></th>\n",
       "      <th>Survived</th>\n",
       "      <th>Died</th>\n",
       "    </tr>\n",
       "    <tr>\n",
       "      <th>Cabin</th>\n",
       "      <th></th>\n",
       "      <th></th>\n",
       "    </tr>\n",
       "  </thead>\n",
       "  <tbody>\n",
       "    <tr>\n",
       "      <th>A</th>\n",
       "      <td>0.428571</td>\n",
       "      <td>0.571429</td>\n",
       "    </tr>\n",
       "    <tr>\n",
       "      <th>B</th>\n",
       "      <td>0.774194</td>\n",
       "      <td>0.225806</td>\n",
       "    </tr>\n",
       "    <tr>\n",
       "      <th>C</th>\n",
       "      <td>0.571429</td>\n",
       "      <td>0.428571</td>\n",
       "    </tr>\n",
       "    <tr>\n",
       "      <th>D</th>\n",
       "      <td>0.692308</td>\n",
       "      <td>0.307692</td>\n",
       "    </tr>\n",
       "    <tr>\n",
       "      <th>E</th>\n",
       "      <td>0.740741</td>\n",
       "      <td>0.259259</td>\n",
       "    </tr>\n",
       "    <tr>\n",
       "      <th>F</th>\n",
       "      <td>0.666667</td>\n",
       "      <td>0.333333</td>\n",
       "    </tr>\n",
       "    <tr>\n",
       "      <th>G</th>\n",
       "      <td>0.500000</td>\n",
       "      <td>0.500000</td>\n",
       "    </tr>\n",
       "    <tr>\n",
       "      <th>M</th>\n",
       "      <td>0.303609</td>\n",
       "      <td>0.696391</td>\n",
       "    </tr>\n",
       "    <tr>\n",
       "      <th>T</th>\n",
       "      <td>0.000010</td>\n",
       "      <td>1.000000</td>\n",
       "    </tr>\n",
       "  </tbody>\n",
       "</table>\n",
       "</div>"
      ],
      "text/plain": [
       "       Survived      Died\n",
       "Cabin                    \n",
       "A      0.428571  0.571429\n",
       "B      0.774194  0.225806\n",
       "C      0.571429  0.428571\n",
       "D      0.692308  0.307692\n",
       "E      0.740741  0.259259\n",
       "F      0.666667  0.333333\n",
       "G      0.500000  0.500000\n",
       "M      0.303609  0.696391\n",
       "T      0.000010  1.000000"
      ]
     },
     "execution_count": 69,
     "metadata": {},
     "output_type": "execute_result"
    }
   ],
   "source": [
    "# since the log of zero is not defined, let's set this number to something small and non-zero\n",
    "\n",
    "prob_df.loc[prob_df.Survived == 0, 'Survived'] = 0.00001\n",
    "prob_df"
   ]
  },
  {
   "cell_type": "code",
   "execution_count": 79,
   "id": "c67d8b11",
   "metadata": {},
   "outputs": [
    {
     "name": "stdout",
     "output_type": "stream",
     "text": [
      "A -0.2876820724517809\n",
      "B 1.232143681292632\n",
      "C 0.28768207245178085\n",
      "D 0.8109302162163288\n",
      "E 1.0498221244986774\n",
      "F 0.6931471805599452\n",
      "G 0.0\n",
      "M -0.8301689781242366\n",
      "T -11.512925464970229\n"
     ]
    },
    {
     "data": {
      "application/vnd.microsoft.datawrangler.viewer.v0+json": {
       "columns": [
        {
         "name": "Cabin",
         "rawType": "object",
         "type": "string"
        },
        {
         "name": "Survived",
         "rawType": "float64",
         "type": "float"
        },
        {
         "name": "Died",
         "rawType": "float64",
         "type": "float"
        },
        {
         "name": "WoE",
         "rawType": "float64",
         "type": "float"
        }
       ],
       "ref": "c9cd7e16-f9cf-4bfa-a566-07eb6cdbf328",
       "rows": [
        [
         "A",
         "0.42857142857142855",
         "0.5714285714285714",
         "-0.2876820724517809"
        ],
        [
         "B",
         "0.7741935483870968",
         "0.22580645161290325",
         "1.232143681292632"
        ],
        [
         "C",
         "0.5714285714285714",
         "0.4285714285714286",
         "0.28768207245178085"
        ],
        [
         "D",
         "0.6923076923076923",
         "0.3076923076923077",
         "0.8109302162163288"
        ],
        [
         "E",
         "0.7407407407407407",
         "0.2592592592592593",
         "1.0498221244986774"
        ],
        [
         "F",
         "0.6666666666666666",
         "0.33333333333333337",
         "0.6931471805599452"
        ],
        [
         "G",
         "0.5",
         "0.5",
         "0.0"
        ],
        [
         "M",
         "0.3036093418259023",
         "0.6963906581740977",
         "-0.8301689781242366"
        ],
        [
         "T",
         "1e-05",
         "1.0",
         "-11.512925464970229"
        ]
       ],
       "shape": {
        "columns": 3,
        "rows": 9
       }
      },
      "text/html": [
       "<div>\n",
       "<style scoped>\n",
       "    .dataframe tbody tr th:only-of-type {\n",
       "        vertical-align: middle;\n",
       "    }\n",
       "\n",
       "    .dataframe tbody tr th {\n",
       "        vertical-align: top;\n",
       "    }\n",
       "\n",
       "    .dataframe thead th {\n",
       "        text-align: right;\n",
       "    }\n",
       "</style>\n",
       "<table border=\"1\" class=\"dataframe\">\n",
       "  <thead>\n",
       "    <tr style=\"text-align: right;\">\n",
       "      <th></th>\n",
       "      <th>Survived</th>\n",
       "      <th>Died</th>\n",
       "      <th>WoE</th>\n",
       "    </tr>\n",
       "    <tr>\n",
       "      <th>Cabin</th>\n",
       "      <th></th>\n",
       "      <th></th>\n",
       "      <th></th>\n",
       "    </tr>\n",
       "  </thead>\n",
       "  <tbody>\n",
       "    <tr>\n",
       "      <th>A</th>\n",
       "      <td>0.428571</td>\n",
       "      <td>0.571429</td>\n",
       "      <td>-0.287682</td>\n",
       "    </tr>\n",
       "    <tr>\n",
       "      <th>B</th>\n",
       "      <td>0.774194</td>\n",
       "      <td>0.225806</td>\n",
       "      <td>1.232144</td>\n",
       "    </tr>\n",
       "    <tr>\n",
       "      <th>C</th>\n",
       "      <td>0.571429</td>\n",
       "      <td>0.428571</td>\n",
       "      <td>0.287682</td>\n",
       "    </tr>\n",
       "    <tr>\n",
       "      <th>D</th>\n",
       "      <td>0.692308</td>\n",
       "      <td>0.307692</td>\n",
       "      <td>0.810930</td>\n",
       "    </tr>\n",
       "    <tr>\n",
       "      <th>E</th>\n",
       "      <td>0.740741</td>\n",
       "      <td>0.259259</td>\n",
       "      <td>1.049822</td>\n",
       "    </tr>\n",
       "    <tr>\n",
       "      <th>F</th>\n",
       "      <td>0.666667</td>\n",
       "      <td>0.333333</td>\n",
       "      <td>0.693147</td>\n",
       "    </tr>\n",
       "    <tr>\n",
       "      <th>G</th>\n",
       "      <td>0.500000</td>\n",
       "      <td>0.500000</td>\n",
       "      <td>0.000000</td>\n",
       "    </tr>\n",
       "    <tr>\n",
       "      <th>M</th>\n",
       "      <td>0.303609</td>\n",
       "      <td>0.696391</td>\n",
       "      <td>-0.830169</td>\n",
       "    </tr>\n",
       "    <tr>\n",
       "      <th>T</th>\n",
       "      <td>0.000010</td>\n",
       "      <td>1.000000</td>\n",
       "      <td>-11.512925</td>\n",
       "    </tr>\n",
       "  </tbody>\n",
       "</table>\n",
       "</div>"
      ],
      "text/plain": [
       "       Survived      Died        WoE\n",
       "Cabin                               \n",
       "A      0.428571  0.571429  -0.287682\n",
       "B      0.774194  0.225806   1.232144\n",
       "C      0.571429  0.428571   0.287682\n",
       "D      0.692308  0.307692   0.810930\n",
       "E      0.740741  0.259259   1.049822\n",
       "F      0.666667  0.333333   0.693147\n",
       "G      0.500000  0.500000   0.000000\n",
       "M      0.303609  0.696391  -0.830169\n",
       "T      0.000010  1.000000 -11.512925"
      ]
     },
     "execution_count": 79,
     "metadata": {},
     "output_type": "execute_result"
    }
   ],
   "source": [
    "prob_df['WoE'] = np.log(prob_df.Survived/prob_df.Died)\n",
    "WoE_dict = prob_df['WoE'].to_dict()\n",
    "for i,x in WoE_dict.items():\n",
    "    print(i,x)\n",
    "prob_df"
   ]
  },
  {
   "cell_type": "code",
   "execution_count": 80,
   "id": "656106d9",
   "metadata": {},
   "outputs": [
    {
     "data": {
      "application/vnd.microsoft.datawrangler.viewer.v0+json": {
       "columns": [
        {
         "name": "index",
         "rawType": "int64",
         "type": "integer"
        },
        {
         "name": "Cabin",
         "rawType": "object",
         "type": "string"
        },
        {
         "name": "Survived",
         "rawType": "int64",
         "type": "integer"
        },
        {
         "name": "Cabin_ordered",
         "rawType": "float64",
         "type": "float"
        }
       ],
       "ref": "00e5b758-e7fe-48ae-9907-7d5454e374af",
       "rows": [
        [
         "857",
         "E",
         "1",
         "1.0498221244986774"
        ],
        [
         "52",
         "D",
         "1",
         "0.8109302162163288"
        ],
        [
         "386",
         "M",
         "0",
         "-0.8301689781242366"
        ],
        [
         "124",
         "D",
         "0",
         "0.8109302162163288"
        ],
        [
         "578",
         "M",
         "0",
         "-0.8301689781242366"
        ]
       ],
       "shape": {
        "columns": 3,
        "rows": 5
       }
      },
      "text/html": [
       "<div>\n",
       "<style scoped>\n",
       "    .dataframe tbody tr th:only-of-type {\n",
       "        vertical-align: middle;\n",
       "    }\n",
       "\n",
       "    .dataframe tbody tr th {\n",
       "        vertical-align: top;\n",
       "    }\n",
       "\n",
       "    .dataframe thead th {\n",
       "        text-align: right;\n",
       "    }\n",
       "</style>\n",
       "<table border=\"1\" class=\"dataframe\">\n",
       "  <thead>\n",
       "    <tr style=\"text-align: right;\">\n",
       "      <th></th>\n",
       "      <th>Cabin</th>\n",
       "      <th>Survived</th>\n",
       "      <th>Cabin_ordered</th>\n",
       "    </tr>\n",
       "  </thead>\n",
       "  <tbody>\n",
       "    <tr>\n",
       "      <th>857</th>\n",
       "      <td>E</td>\n",
       "      <td>1</td>\n",
       "      <td>1.049822</td>\n",
       "    </tr>\n",
       "    <tr>\n",
       "      <th>52</th>\n",
       "      <td>D</td>\n",
       "      <td>1</td>\n",
       "      <td>0.810930</td>\n",
       "    </tr>\n",
       "    <tr>\n",
       "      <th>386</th>\n",
       "      <td>M</td>\n",
       "      <td>0</td>\n",
       "      <td>-0.830169</td>\n",
       "    </tr>\n",
       "    <tr>\n",
       "      <th>124</th>\n",
       "      <td>D</td>\n",
       "      <td>0</td>\n",
       "      <td>0.810930</td>\n",
       "    </tr>\n",
       "    <tr>\n",
       "      <th>578</th>\n",
       "      <td>M</td>\n",
       "      <td>0</td>\n",
       "      <td>-0.830169</td>\n",
       "    </tr>\n",
       "  </tbody>\n",
       "</table>\n",
       "</div>"
      ],
      "text/plain": [
       "    Cabin  Survived  Cabin_ordered\n",
       "857     E         1       1.049822\n",
       "52      D         1       0.810930\n",
       "386     M         0      -0.830169\n",
       "124     D         0       0.810930\n",
       "578     M         0      -0.830169"
      ]
     },
     "execution_count": 80,
     "metadata": {},
     "output_type": "execute_result"
    }
   ],
   "source": [
    "X_train['Cabin_ordered'] = X_train.Cabin.map(WoE_dict)\n",
    "X_test['Cabin_ordered'] = X_test.Cabin.map(WoE_dict)\n",
    "X_train.head()"
   ]
  },
  {
   "cell_type": "code",
   "execution_count": 81,
   "id": "c34e9f4a",
   "metadata": {},
   "outputs": [
    {
     "data": {
      "text/plain": [
       "Text(0, 0.5, 'Survived')"
      ]
     },
     "execution_count": 81,
     "metadata": {},
     "output_type": "execute_result"
    },
    {
     "data": {
      "image/png": "[encoded data removed]",
      "text/plain": [
       "<Figure size 800x600 with 1 Axes>"
      ]
     },
     "metadata": {},
     "output_type": "display_data"
    }
   ],
   "source": [
    "fig = plt.figure(figsize=(8,6))\n",
    "fig = X_train.groupby(['Cabin'])['Survived'].mean().plot()\n",
    "fig.set_title('Normal relationship between variable and target')\n",
    "fig.set_ylabel('Survived')"
   ]
  },
  {
   "cell_type": "code",
   "execution_count": 82,
   "id": "9aa6c8c0",
   "metadata": {},
   "outputs": [
    {
     "data": {
      "text/plain": [
       "Text(0, 0.5, 'Survived')"
      ]
     },
     "execution_count": 82,
     "metadata": {},
     "output_type": "execute_result"
    },
    {
     "data": {
      "image/png": "[encoded data removed]",
      "text/plain": [
       "<Figure size 800x600 with 1 Axes>"
      ]
     },
     "metadata": {},
     "output_type": "display_data"
    }
   ],
   "source": [
    "# plot the transformed result: the monotonic variable\n",
    "\n",
    "fig = plt.figure(figsize=(8,6))\n",
    "fig = X_train.groupby(['Cabin_ordered'])['Survived'].mean().plot()\n",
    "fig.set_title('Monotonic relationship between variable and target')\n",
    "fig.set_ylabel('Survived')"
   ]
  }
 ],
 "metadata": {
  "kernelspec": {
   "display_name": "ds-ai-ml-projects",
   "language": "python",
   "name": "ds-ai-ml-projects"
  },
  "language_info": {
   "codemirror_mode": {
    "name": "ipython",
    "version": 3
   },
   "file_extension": ".py",
   "mimetype": "text/x-python",
   "name": "python",
   "nbconvert_exporter": "python",
   "pygments_lexer": "ipython3",
   "version": "3.11.9"
  }
 },
 "nbformat": 4,
 "nbformat_minor": 5
}
