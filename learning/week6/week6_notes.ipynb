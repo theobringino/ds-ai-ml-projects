{
 "cells": [
  {
   "cell_type": "markdown",
   "id": "1e0a8013",
   "metadata": {},
   "source": [
    "# Linux and Bash Fundamentals"
   ]
  },
  {
   "cell_type": "markdown",
   "id": "4b11e09f",
   "metadata": {},
   "source": [
    "## Linux Fundamentals Part 1\n",
    "\n",
    "https://tryhackme.com/module/linux-fundamentals"
   ]
  },
  {
   "cell_type": "markdown",
   "id": "3621eb44",
   "metadata": {},
   "source": [
    "Linux is a lot more lightweight than other operationg systems such as Windows.\n",
    "\n",
    "Lionux powers things such as:\n",
    "1. Websites that you visit\n",
    "2. Car entertainment/control panels\n",
    "3. Point of Sale (PoS) systems such as checkout tills and registers in shops\n",
    "4. Critical infrastructures such as traffic light controllers or industrial sensors\n"
   ]
  },
  {
   "cell_type": "markdown",
   "id": "57cb188d",
   "metadata": {},
   "source": [
    "Linux is an umbrella term for multiple OS or operating systems that are based on UNIX (another os). Since Linux is open-sources, there are multiple variants which are suited best in system they are going to be used for.\n",
    "\n",
    "Ex. Ubuntu and Debian. Ubuntu can be ran as a server or a fully fledged desktop. Ubuntu servers can run on system with 512 mb oof RAM. There are also many distributions or version of Linux like Windows (7, 9, and 10)\n",
    "\n",
    "First Linux Operating System kernel was released in 1991 by Linus Torvalds. The initial version, released in September 1991, was made available for download as source code to anyone who wanted to use and modify it, fostering the development of this open-source operating system. \n",
    "\n",
    "Linux has no GUI or Graphical User Interface, or what is also known as a desktop environment that we can use to interact with the machine (unless it has been installed). A large part of interacting with these systems is using the \"Terminal\"."
   ]
  },
  {
   "cell_type": "markdown",
   "id": "59a82cff",
   "metadata": {},
   "source": [
    "### Commands and what they do:\n",
    "\n",
    "- echo : output any text that we provide\n",
    "- whoami : find out who the user we're currently logged in as"
   ]
  },
  {
   "cell_type": "markdown",
   "id": "e1b1dfb0",
   "metadata": {},
   "source": [
    "### Interacting with the file system"
   ]
  },
  {
   "cell_type": "markdown",
   "id": "da659acf",
   "metadata": {},
   "source": [
    "- ls : listing\n",
    "- cd : change directory\n",
    "- cat : concatenate\n",
    "- pwd : print working directory"
   ]
  },
  {
   "cell_type": "markdown",
   "id": "2b6fe739",
   "metadata": {},
   "source": [
    "ls: listing\n",
    "\n",
    "lists directory and shows the contents of any files or folders\n",
    "\n"
   ]
  },
  {
   "cell_type": "markdown",
   "id": "2977cebf",
   "metadata": {},
   "source": [
    "cd : change directory \n",
    "\n",
    "use this to change or move from one directory to another \n"
   ]
  },
  {
   "cell_type": "markdown",
   "id": "50b5c2bd",
   "metadata": {},
   "source": [
    "cat : outputting the contents of the file \n",
    "\n",
    "use this to print/concatenate/output the contents of the files "
   ]
  },
  {
   "cell_type": "markdown",
   "id": "cc431f31",
   "metadata": {},
   "source": [
    "1. Used \"ls\" to let us know what files are available in the \"Documents\" folder of this machine. In this case, it is called \"todo.txt\".\n",
    "2. We have then used cat todo.txt to concatenate/output the contents of this \"todo.txt\" file, where the contents are \"Here's something important for me to do later!\"\n",
    "\n",
    "\n",
    "Pro tip: You can use cat to output the contents of a file within directories without having to navigate to it by using cat and the name of the directory. I.e. cat /home/ubuntu/Documents/todo.txt"
   ]
  },
  {
   "cell_type": "markdown",
   "id": "d6a8c354",
   "metadata": {},
   "source": [
    "pwd : print working directory\n",
    "\n",
    "print full path to current working directory\n"
   ]
  },
  {
   "cell_type": "markdown",
   "id": "116cef52",
   "metadata": {},
   "source": [
    "find : can be used to find the file path and file for as long as you know the file name\n",
    "\n",
    "syntax is \n",
    "\n",
    "find -m filename\n",
    "\n",
    "can also use wildcards to  search for all items using *\n",
    "\n",
    "example: find -name *.txt\n",
    "\n",
    "will output all txt files "
   ]
  },
  {
   "cell_type": "markdown",
   "id": "caf3c16b",
   "metadata": {},
   "source": [
    "grep :  allows us to search the contents of files for specific values that we are looking for\n",
    "\n",
    "We can use grep to search the entire contents of this file for any entries of the value that we are searching for.\n",
    "\n",
    "Going with the example of a web server's access log, we want to see everything that the IP address \"81.143.211.90\" has visited (note that this is fictional)\n",
    "\n",
    "grep \"81.143.211.90\" access.log\n",
    "\n"
   ]
  },
  {
   "cell_type": "markdown",
   "id": "7e0935d9",
   "metadata": {},
   "source": [
    "### Introduction to Shell Operators"
   ]
  },
  {
   "cell_type": "markdown",
   "id": "5bcd97c3",
   "metadata": {},
   "source": [
    "& : This operator allows you to run commands in the background of your terminal.\n",
    "\n",
    "&& : This operator allows you to combine multiple commands together in one line of your terminal.\n",
    "\n",
    "' > : This operator is a redirector - meaning that we can take the output from a command (such as using cat to output a file) and direct it elsewhere.\n",
    "\n",
    "' >> : This operator does the same function of the > operator but appends the output rather than replacing (meaning nothing is overwritten)."
   ]
  },
  {
   "cell_type": "markdown",
   "id": "88f29781",
   "metadata": {},
   "source": [
    "Operator &\n",
    "\n",
    "This operator allows us to execute commands in the background. For example, let's say we want to copy a large file. This will obviously take quite a long time and will leave us unable to do anything else until the file successfully copies.\n",
    "\n",
    "The \"&\" shell operator allows us to execute a command and have it run in the background (such as this file copy) allowing us to do other things!"
   ]
  },
  {
   "cell_type": "markdown",
   "id": "1b3c2f66",
   "metadata": {},
   "source": [
    "Operator \"&&\"\n",
    "\n",
    "This shell operator is a bit misleading in the sense of how familiar is to its partner \"&\". Unlike the \"&\" operator, we can use \"&&\" to make a list of commands to run for example command1 && command2. However, it's worth noting that command2 will only run if command1 was successful."
   ]
  },
  {
   "cell_type": "markdown",
   "id": "44d8c46d",
   "metadata": {},
   "source": [
    "Operator \">\"\n",
    "\n",
    "This operator is what's known as an output redirector. What this essentially means is that we take the output from a command we run and send that output to somewhere else."
   ]
  },
  {
   "cell_type": "markdown",
   "id": "41d17de1",
   "metadata": {},
   "source": [
    "Operator \">>\"\n",
    "\n",
    "This operator is also an output redirector like in the previous operator (>) we discussed. However, what makes this operator different is that rather than overwriting any contents within a file, for example, it instead just puts the output at the end.\n",
    "\n",
    "Following on with our previous example where we have the file \"welcome\" that has the contents of \"hey\". If were to use echo to add \"hello\" to the file using the > operator, the file will now only have \"hello\" and not \"hey\".\n",
    "\n",
    "\n",
    "The >> operator allows to append the output to the bottom of the file — rather than replacing the contents"
   ]
  },
  {
   "cell_type": "markdown",
   "id": "da03010f",
   "metadata": {},
   "source": [
    "## Linux Fundamentals Part 2\n",
    "https://www.youtube.com/watch?v=7Zt2Mp2IeBI&ab_channel=TryHackMe"
   ]
  },
  {
   "cell_type": "markdown",
   "id": "1fe98383",
   "metadata": {},
   "source": [
    "### Secure Shell or SSH\n",
    "\n",
    "- Secure shell or SSH for short is a protocol and is the common means of connecting to and interacting with the command line of a remote Linux machine.\n",
    "- It is a protocol between devices in an encrypted form. Using cryptography, any input we send in a human-readable format is encrypted for travelling over a network, where it is unencrypted once it reaches the remote machine.\n",
    "- SSH allows us to remotely execute commands on another device remotely.\n",
    "- Any data sent between the devices is encrypted when it is sent over a network such as the internet.\n"
   ]
  },
  {
   "cell_type": "markdown",
   "id": "7bafe942",
   "metadata": {},
   "source": [
    "Login to your linux machine using SSH\n",
    "\n",
    "code is\n",
    "\n",
    "ssh username@{ipaddress}\n",
    "\n",
    "this will prompt a a fingerprint login which will require you to enter your password "
   ]
  },
  {
   "cell_type": "markdown",
   "id": "820e5c0c",
   "metadata": {},
   "source": [
    "ctrl + l clears terminal screen"
   ]
  },
  {
   "cell_type": "markdown",
   "id": "8f31b052",
   "metadata": {},
   "source": [
    "## Introduction to Flags and Switches"
   ]
  },
  {
   "cell_type": "markdown",
   "id": "e3f32de2",
   "metadata": {},
   "source": [
    "Majority of commands allow for arguments to be provided and these arguments are identified by a hyphen and certain keyword known as flags or switches.\n",
    "\n",
    "When using a command, unless otherwise specified, it will perform its default behavior\n",
    "\n",
    "Flags can extend the behavior of commands\n",
    "\n",
    "ex. when running ls, it wont show hidden files. to show these, add the '-a' argument which is short for --all and this display all hidden files.\n",
    "\n",
    "Commands that accept these will also have a --help option, this list all possible options that the command accepts, provides a brief description, and examples of how to use it. Using --help combined with a command will show what can be added as a flag. The page displayed is a formatted output of what is called the man page or short for manual.\n",
    "\n",
    "Manual pages are a great source of information for both system commands and applications and are both available on a Linux machine which is accesible on the machine itself, or online. To access this documentation, we can use the man command and provide the command to view the manual pages for that command \n",
    "\n",
    "ex. man ls shows the manual for the ls or listing command.\n",
    "\n",
    "To navigate the manual page, use the down arrow key. \n",
    "\n",
    "to display the output in a human readable way, add the -h flag \n",
    "\n",
    "\n",
    "\n",
    "\n"
   ]
  },
  {
   "cell_type": "markdown",
   "id": "219f6073",
   "metadata": {},
   "source": [
    "## File system Interaction Continued "
   ]
  },
  {
   "cell_type": "markdown",
   "id": "e640a4b7",
   "metadata": {},
   "source": [
    "Previously we covered how to:\n",
    "- list the contents = ls\n",
    "- find the contents, of folders = find\n",
    "- navigate the filesystem = cd\n",
    "\n",
    "This section will cover how to:\n",
    "- create files and folders\n",
    "- move files and folders\n",
    "- delete files and folders"
   ]
  },
  {
   "cell_type": "markdown",
   "id": "a068481f",
   "metadata": {},
   "source": [
    "Commands are as follows, command = full name = purpose:\n",
    "- touch = touch = create file\n",
    "- mkdir = make directory = create a folder\n",
    "- cp = copy = copy a file or folder\n",
    "- mv = move = move a file or folder\n",
    "- rm = remove = remove a file or folder\n",
    "- file = file = determine the type of a file\n",
    "\n",
    "In all of these commands, we can use or provide the full file paths like we did with 'cat' \n"
   ]
  },
  {
   "cell_type": "markdown",
   "id": "005dc5df",
   "metadata": {},
   "source": [
    "Following is a list of few important Linux/Unix commands.\n",
    "\n",
    "- cat -- Display File Contents\n",
    "- cd -- Changes Directory to dirname\n",
    "- chgrp --  Change file group\n",
    "- chmod\t-- Changing Permissions\n",
    "- cp  -- Copy source file into destination\n",
    "- file -- Determine file type\n",
    "- find -- Find files\n",
    "- grep -- Search files for regular expressions.\n",
    "- head -- Display first few lines of a file\n",
    "- ln  -- Create softlink on oldname\n",
    "- ls  -- Display information about file type.\n",
    "- mkdir --  Create a new directory dirname\n",
    "- more --  Display data in paginated form.\n",
    "- mv\t -- Move (Rename) a oldname to newname.\n",
    "- pwd -- Print current working directory.\n",
    "- rm  -- Remove (Delete) filename\n",
    "- rmdir -- Delete an existing directory provided it is empty.\n",
    "- tail -- Prints last few lines in a file.\n",
    "- touch -- Update access and modification time of a file."
   ]
  },
  {
   "cell_type": "markdown",
   "id": "c7ff1a10",
   "metadata": {},
   "source": [
    "#### Creating Files and Folders (touch, mkdir)"
   ]
  },
  {
   "cell_type": "markdown",
   "id": "30602cde",
   "metadata": {},
   "source": [
    "##### Creating Files\n",
    "touch takes one argument which is the filename of the file we will create so\n",
    "- touch note.txt creates note.txt\n",
    "\n",
    "##### Creating folders\n",
    "mkdir takes one argument also which will be the folder name of the folder created\n",
    "- mdkir folder1 creates folder1 folder\n",
    "\n",
    "##### Removing files or folders\n",
    "\n",
    "rm removes files or folders. For folders or directories, you need to add the -R switch alongside the name of the directory to be removed\n",
    "\n",
    "ex. \n",
    "\n",
    "- File deletion: rm note.txt\n",
    "- folder deletion: rm -R folder1\n",
    "\n"
   ]
  },
  {
   "cell_type": "markdown",
   "id": "6d286b45",
   "metadata": {},
   "source": [
    "### Copying and Moving Files and Folders (cp , mv)\n",
    "\n",
    "cp copies the entire contents of the existing file into the new file.\n",
    "\n",
    "Copying using cp requires two arguments\n",
    "- cp as the command\n",
    "- name of the existing file as the first argument\n",
    "- name of the new file we want to assign when copying\n",
    "\n",
    "ex. cp note note2\n",
    "\n",
    "\n",
    "Moving a file also takes two arguments just like the cp command. However, rather than copying and/or creating a new file, mv will merge or modify the second file that we provide as an argument. Not only can you use mv to move a file to a new folder but we can also use mv to rename a file or folder\n",
    "\n",
    "ex. mv note2 note3\n",
    "\n",
    "This will rename the note2 file to note3 and this file will contain all the contents of note2\n",
    "\n",
    "\n",
    "\n"
   ]
  },
  {
   "cell_type": "markdown",
   "id": "7f8fb2cc",
   "metadata": {},
   "source": [
    "Determining file type\n",
    "\n",
    "To determine the file type of a file use:\n",
    "\n",
    "file filename \n",
    "\n",
    "and this will output the filename: and a confirmation on the file type of the file\n",
    "\n"
   ]
  },
  {
   "cell_type": "markdown",
   "id": "ed37ac16",
   "metadata": {},
   "source": [
    "### Permissions 101"
   ]
  },
  {
   "attachments": {
    "image.png": {
     "image/png": "[encoded data removed]"
    }
   },
   "cell_type": "markdown",
   "id": "c74d7f35",
   "metadata": {},
   "source": [
    "ls -l will output columns and the first three will show us the:\n",
    "\n",
    "if the first column starts with a -r its a file and if it starts with d then its a folder/directory\n",
    "\n",
    "file owner in column 3\n",
    "\n",
    "group owner in column 4\n",
    "\n",
    "first column shows us what can be done to it and it has a couple of characteristics that determine both what it is that and who we can do with it as such as:\n",
    "\n",
    "rwx: \n",
    "- read \n",
    "- write\n",
    "- execute\n",
    "\n",
    "ex. -rwxrwxrwx can be separated to  - rwx rwx rwx\n",
    "\n",
    "- the dash or - indicates the file type, if its a dash or - then its a file and if its then its a directory\n",
    "- first rwx is the read, write and execute permissions for the file owner\n",
    "- second rwx is the read, write, and execute permission for the group owner of the file\n",
    "- third and last rwx is the read, write and execute permissions for all other users.\n",
    "\n",
    "![rwx.png](attachment:image.png)\n",
    "\n",
    "where there is a dash in place of the letters, that permission is not available for that user group\n",
    "\n",
    "\n",
    "\n",
    "\n"
   ]
  },
  {
   "cell_type": "markdown",
   "id": "2bea706b",
   "metadata": {},
   "source": [
    "The differences between users and groups:\n",
    "\n",
    "Permissions are granular in Linux, meaning that while a user technically owns a file, if the permissions have been set, then a group of users can also have either the same or a different set of permissions to the exact same file without affecting the file owner itself\n",
    "\n",
    "To switch between users:\n",
    "\n",
    "use 'su' command \n",
    "\n",
    "unless you are the root user or are using root permission through sudo, then you are required to provide two items to facilitate the transition of user accounts:\n",
    "- the user we which to switch to\n",
    "- user's password\n",
    "\n",
    "\n",
    "we can also use -l or --login switch here. if the switch is provided when using su, a shell is started that is much similar to the actual user logging into the system, we enherit a lot more of the properties of the new user such as the environment variables and the likes\n",
    "\n",
    "for ex. when you se su to switch to user w2 through 'su -l user2' , the new session drops you back to the previous user's home directory meaning it automatically drops to the home directory\n",
    "\n",
    "\n",
    "\n",
    "\n"
   ]
  },
  {
   "cell_type": "markdown",
   "id": "e4309ef2",
   "metadata": {},
   "source": [
    "## Common Directories\n",
    "\n",
    "/etc \n",
    "- this root directory is one of the most important root directories in your system. the etc folder or etcetera is a commonplace location to store system files that are used by your operation system\n",
    "\n",
    "- sudoers file conttains thelist of the users or grouups that have permission to runn sudo or a set of commands as a root user\n",
    "- passwd and shadow file sotres the password for each user in the encrypted formatting called sha512\n",
    "\n",
    "/var \n",
    "var directory or short for variable data is one of the main folders found on a linux install, this stores the data that is frequently accessed or written by services or applications running on the system \n",
    "\n",
    "ex. log files from running services and applications are stored in /var/log or other data that is not necessarily associated with a specific user , databases and the like\n",
    "\n",
    "/root\n",
    "\n",
    "unlike the /home directory, the /root directory is actually the home for root system user. this user will also have their data in a directory such as /home/root by default\n",
    "\n",
    "/tmp\n",
    "\n",
    "unique root found in the linux install, short for temporary, this directory is volatile  and is used to store data taht is only needed to be accessed once or twice, once the computer is restarted, the contents gets wiped out\n",
    "\n",
    "what's useful here for pentesting is that any user can write to this folder by default, meaning once we have access to the machine, it serves as a good place to store things like our enumeration scripts.\n",
    "\n",
    "\n",
    "\n"
   ]
  },
  {
   "cell_type": "markdown",
   "id": "9253b709",
   "metadata": {},
   "source": [
    "# Linux Fundamentals Part 3 "
   ]
  },
  {
   "cell_type": "markdown",
   "id": "225a5f83",
   "metadata": {},
   "source": [
    "### Terminal Text Editors"
   ]
  },
  {
   "cell_type": "markdown",
   "id": "880d8ba8",
   "metadata": {},
   "source": [
    "Terminal text editors such as nano and VIM can be used as this can handle multiple lines and sorts while echo and pipe operators such as > and >>, cannot handle multiple lines unless we append."
   ]
  },
  {
   "cell_type": "markdown",
   "id": "26a043ad",
   "metadata": {},
   "source": [
    "#### Nano\n",
    "To get started with Nano or to create/edit a file, simply use 'nano filename' and replace the filename with the name you wish to create or edit. Once the command is entered, nano will launch.\n",
    "\n",
    "\n",
    "To navigate each line, use the up and down key and press enter to start a new line.\n",
    "\n",
    "Nano has a features that are easy to remember and covers most things in a text generator:\n",
    "- searching for a text\n",
    "- copying and pasting\n",
    "- jumping to a line number\n",
    "- finding out what line number you are on\n",
    "\n",
    "To use these features, press the Ctrl key which will be represented as ^ in Linux so for example: to exit nano use Ctrl + X\n",
    "\n",
    "\n"
   ]
  },
  {
   "cell_type": "markdown",
   "id": "1fc923af",
   "metadata": {},
   "source": [
    "#### VIM\n",
    "\n",
    "VIM is a much more advanced text editor, some VIM benefits are:\n",
    "- Customisable - you can modify kb shortcuts to be of your choosing\n",
    "- Syntax highlighting useful if you are writing or maintaining code \n",
    "- VIM works on all terminals where nano may not be installed\n",
    "- Lots of resources that can be used such as cheatsheets, tutorials and etc.\n"
   ]
  },
  {
   "cell_type": "markdown",
   "id": "ef2e48e9",
   "metadata": {},
   "source": [
    "### General / Useful Utilities\n",
    "\n",
    "wget - allows us to download files from the web via HTTP as if you were accessing the file in your web browser. To use this:\n",
    "\n",
    "wget link directory/file_name\n"
   ]
  },
  {
   "cell_type": "markdown",
   "id": "a402312e",
   "metadata": {},
   "source": [
    "### Transferring files from your host  - SCP (SSH)\n",
    "\n",
    "Secure copy or SCP is a means of securely copying files. Unlike the regular cp command, SCP allows to transfer files between two computers using the SSH protocol to provide both authentication and encryption.\n",
    "\n",
    "We can copy from a remote system to the local system or vice versa.\n",
    "\n",
    "Ex. \n",
    "\n",
    "scp important.txt remote_sytem@ipaddress: location where this will be transferred\n",
    "\n",
    "Now to transfer from remote to local \n",
    "\n",
    "scp remote_system@ipaddress: location where this will be transferred filename"
   ]
  },
  {
   "cell_type": "markdown",
   "id": "649fcaa7",
   "metadata": {},
   "source": [
    "### Serving file from your host - WEB \n",
    "\n",
    "Ubuntu machines come pre-packaged with python3. Python has a module called HTTPServer which turns the computer into a quick and easy web server we can use to serve our own files which can be downloaded by others using curl and wget \n",
    "\n",
    "HTTPServer wil serve the files in the directory that you run the command but this can be changed by providing options that can be found in the manual pages.\n",
    "\n",
    "To run the module, run 'python3 -m http.server' . After this, we can use wget to dowbnload the file using the computer's IP Address and the name of the file. Updog can be used since its more advanced."
   ]
  },
  {
   "cell_type": "markdown",
   "id": "e2d27418",
   "metadata": {},
   "source": [
    "### Processes 101\n"
   ]
  },
  {
   "cell_type": "markdown",
   "id": "1ccadcbd",
   "metadata": {},
   "source": [
    "Processes are the programs that are running on your machine. These are managed by th kernel, where each process will have an ID associated with it also known as PID. The PID increments for the order in which the process start meaning the 5th process will have a PID of 5 and so on and so forth.\n",
    "\n",
    "To view the list of running processes, you can run the ps command and this also shows the user's session and some additional information such as the status code, session it is running, how much usage time of the CPU it is using and the name of the actual program or command being executed.\n",
    "\n",
    "To see the processes run by other users and those that don't run from a session (system processes), add aux to the command so: ps aux\n",
    "\n",
    "Another useful command is the 'top' command that gives realtime statistics about the processes running in the system instead of a one time view. These will refresh every 10 seconds but will also refresh when you use the arrow keys to browse various rows\n"
   ]
  },
  {
   "cell_type": "markdown",
   "id": "edcd5734",
   "metadata": {},
   "source": [
    "##### Managing Processes\n",
    "\n",
    "Signals can be sent to deal with processes such as terminating it. There are a variety of types of signals that correlate to exactly how cleanly the process is dealt with by the kernel. To kill a command, use the 'kill' command and the associate PID we want to kill so 'kill 123' if we want to terminate PID 123. Below are the types of signals:\n",
    "- SIGTERM - kill the process but allow it to do some cleanup tasks beforehand\n",
    "- SIGKILL - kill the process and will not do any cleanup after\n",
    "- SIGSTOP - stop/suspend the process"
   ]
  },
  {
   "cell_type": "markdown",
   "id": "78868cfd",
   "metadata": {},
   "source": [
    "##### How do processes start?\n",
    "\n",
    "The OS uses namespaces to split up the resources available on the computer such as RAM, CPU, and others, Processes within their specific namespace will have access to a certain amount of computing power but it is still a small portion of what is actually available to every process overall.\n",
    "\n",
    "Namespaces are also great for security as process are isoldated for another. Only those in the same namespace will be able to see each other.\n",
    "\n",
    "A process with an ID of 0 is a process that is started when the system boots. The process is the system's init on Ubuntu such as systems which is used to provide a way of managing a user's processes and sits between the OS and the user. This is the process that is the manager.\n",
    "\n",
    "systemd is one of the first processes that starts once a system boots and initializes. Any program or software that we will start is a child process of systemd meaning it is controlled by systemd but will run its own process.\n"
   ]
  },
  {
   "cell_type": "markdown",
   "id": "079780ae",
   "metadata": {},
   "source": [
    "##### Getting processes/services to start on boot\n",
    "\n",
    "web servers, database servers or file transfer servers should start on boot. to create a command so that is starts on boot:\n",
    "\n",
    "systemctl - command that allows us to interact with systemd process/daemon and it follows the format of \n",
    "\n",
    "systemctl [option] [command]\n",
    "\n",
    "For example, if ww want to tell apache to startup\n",
    "\n",
    "systemctl start apache2, to stop swap start with stop. We have 4 options here:\n",
    "- Start\n",
    "- Stop\n",
    "- Enable - start on boot up of the system\n",
    "- Disable\n",
    "\n"
   ]
  },
  {
   "cell_type": "markdown",
   "id": "8f04ad4c",
   "metadata": {},
   "source": [
    "### Introduction to Backgrounding and Foregrounding in Linux\n",
    "\n",
    "#### Backgrounding a process\n",
    "Processes can run in two states: Background and Foreground.\n",
    "\n",
    "echo = runs in foreground of the terminal as it is the only command provided that hasn't been told to run in the background. Echo is a good example as the output appears in the foreground but not in the background. adding & to the command will yield the ID of the echo process rather than the output as it is running in the background.\n",
    "\n",
    "This is great for copying files because we can run the command in the background and continue on with whatever other commands we wish to execute without waiting for the file to finish copying first \n",
    "\n",
    "When executing scripts, rather than relying on the & operator, we can use Ctrl + Z on our keyboard to background a process. This is an effective way of pausing the execution of a script or command. meaning it sends the process to the background and will not occupy the foreground.\n",
    "\n",
    "#### Foregrounding a process\n",
    "\n",
    "to confirm if something is running in the background use ps aux\n",
    "\n",
    "to bring something from the background to the foreground, use fg \n",
    "\n"
   ]
  },
  {
   "cell_type": "markdown",
   "id": "72aae7ed",
   "metadata": {},
   "source": [
    "### Maintaining your system: Automation\n",
    "\n",
    "cron processes and crontabs \n",
    "\n",
    "crontab is one of the processes that is started during boot which is responsible for facilitating and managing cron jobs. it is a special file with formatting that is recognized by the cron process to exevute each line step by step. crontabs require 6 specific values:\n",
    "\n",
    "VALUE - Description\n",
    "\n",
    "- MIN - What minute to execute at\n",
    "- HOUR - What hour to execute at \n",
    "- DOM - What day of the month to execute at \n",
    "- MON - What month of the year to execute at\n",
    "- DOW - What day of the week to execute at\n",
    "- CMD - The actual command that will be executed\n",
    "\n",
    "Crontabs support the wildcard or asterisk * if we do not wish to provide a value for that speicif field. Crontab generator or Cron guru allows to generate the formatting\n",
    "\n",
    "Crontabs can be edited using the command crontab -e where you can select an editor like nano to edit your crontab"
   ]
  },
  {
   "cell_type": "markdown",
   "id": "20c285fc",
   "metadata": {},
   "source": [
    "### Maintaining your system: Package Management\n",
    "\n",
    "#### Introducing packages and Software Repos \n",
    "\n",
    "When developers wish to submit software to the community, they must submit it to an apt repository and if this is approved, these programs and tools are released to the wild.\n",
    "\n",
    "When using ls command on Ubuntu 20.04 linux, these files serve as the gateway/registry\n",
    "\n",
    "to add additional repositories use 'add-apt-repository' or by listing another provider \n",
    "\n",
    "\n",
    "#### Managing your repositories (adding and removing )\n",
    "\n",
    "apt command is part of the package managments software also named apt. Apt contains a whole suite of tools that allows us to manage the packages and sources of our software and to install or remove software at the same time\n",
    "\n",
    "add-apt-repository command\n",
    "\n",
    "While you can install software through the use of package installers like dpkg. The benefits of apt means that when we update our system, the repo that contains the pieces ofthe software also gets checked for updates.\n",
    "\n",
    "When adding software, the integrity of what we download is guaranteed by the use of GPG or Gnu Privacy Guard keys. These keys are essentially a safety check from the developers saying here's our software. If the keys do not match up to what your system trusts and what the developers used then it will not be downloaded.\n",
    "\n",
    "Step by step how to add \n",
    "\n",
    "1. Download the GPG key and use apt-key to trust it \n",
    "\n",
    "wget -qo - link to software | sudo apt-key add -\n",
    "\n",
    "2. Add repo to apt sources list, good practice is to have a separate file for  every different community or 3rd party repo we add\n",
    "\n",
    "    - create a file [repo].list substituting repo with list by touch [repo].list\n",
    "    - now use nano or any text editor to add and save the repo into this new file \n",
    "    - run apt update so apt can recognize this new entry\n",
    "    - run apt install [repo] to install the software that is trusted\n",
    "\n",
    "Removing packages is as easy as reversing \n",
    "\n",
    "add-apt-repository --remove ppa:PPA_name/ppa command or by manually deleting the file that we did in step 2, once removed just run apt remove [software_name]\n",
    "\n"
   ]
  },
  {
   "cell_type": "markdown",
   "id": "595dde4d",
   "metadata": {},
   "source": [
    "### Maintaining your system: Logs\n"
   ]
  },
  {
   "cell_type": "markdown",
   "id": "3bdf8d1b",
   "metadata": {},
   "source": [
    "logging information is found in /var/log directory\n",
    "\n",
    "these files and folders contain logging information for applications and services runnin on your system. the OS is pretty good at automatically managing these logs in a process known as rotating \n",
    "\n",
    "these services and logs are a great way to monitor the health of your system and protecting it. not only that, but the logs for services such as a web server contain information about every single request - allowing developers or administrators to diagnose performance issues or investigate an intruder's activity. two types of log files below:\n",
    "- access log\n",
    "- error log\n",
    "\n",
    "there are logs that store information about how the OS is running itself and actions performed by users such as authentication attempts\n",
    "\n"
   ]
  },
  {
   "cell_type": "markdown",
   "id": "d7a25256",
   "metadata": {},
   "source": [
    "CHMOD and CHOWN in cybersecurity alonjg with activity and reflection"
   ]
  }
 ],
 "metadata": {
  "kernelspec": {
   "display_name": "ds-ai-ml-projects",
   "language": "python",
   "name": "ds-ai-ml-projects"
  },
  "language_info": {
   "name": "python",
   "version": "3.11.9"
  }
 },
 "nbformat": 4,
 "nbformat_minor": 5
}
