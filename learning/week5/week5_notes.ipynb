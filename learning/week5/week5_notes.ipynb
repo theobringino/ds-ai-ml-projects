{
 "cells": [
  {
   "cell_type": "markdown",
   "id": "4a88ae37",
   "metadata": {},
   "source": [
    "# Week 5 Notes\n",
    "### Primary Focus: Feature Engineering\n"
   ]
  },
  {
   "cell_type": "markdown",
   "id": "9566fa5c",
   "metadata": {},
   "source": [
    "##### What is Feature Engineering?\n",
    "[Reference: Kaggle](https://www.kaggle.com/code/prashant111/a-reference-guide-to-feature-engineering-methods#1.-Introduction-to-Feature-Engineering-)\n",
    "\n",
    "Feature Engineering is the process of using domain knowledge to extract features from raw data via data mining techniques to improve the performance of machine earning algorithms.\n",
    "\n",
    "Coming up with features is difficult, time-consuming and requires expert knowledge. \"Applied machine learning\" is basically feature engneering."
   ]
  }
 ],
 "metadata": {
  "language_info": {
   "name": "python"
  }
 },
 "nbformat": 4,
 "nbformat_minor": 5
}
