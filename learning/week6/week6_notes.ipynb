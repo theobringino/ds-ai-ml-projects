{
 "cells": [
  {
   "cell_type": "markdown",
   "id": "1e0a8013",
   "metadata": {},
   "source": [
    "# Linux and Bash Fundamentals"
   ]
  },
  {
   "cell_type": "markdown",
   "id": "4b11e09f",
   "metadata": {},
   "source": [
    "https://tryhackme.com/module/linux-fundamentals"
   ]
  },
  {
   "cell_type": "markdown",
   "id": "3621eb44",
   "metadata": {},
   "source": [
    "Linux is a lot more lightweight than other operationg systems such as Windows.\n",
    "\n",
    "Lionux powers things such as:\n",
    "1. Websites that you visit\n",
    "2. Car entertainment/control panels\n",
    "3. Point of Sale (PoS) systems such as checkout tills and registers in shops\n",
    "4. Critical infrastructures such as traffic light controllers or industrial sensors\n"
   ]
  },
  {
   "cell_type": "markdown",
   "id": "57cb188d",
   "metadata": {},
   "source": [
    "Linux is an umbrella term for multiple OS or operating systems that are based on UNIX (another os). Since Linux is open-sources, there are multiple variants which are suited best in system they are going to be used for.\n",
    "\n",
    "Ex. Ubuntu and Debian. Ubuntu can be ran as a server or a fully fledged desktop. Ubuntu servers can run on system with 512 mb oof RAM. There are also many distributions or version of Linux like Windows (7, 9, and 10)\n",
    "\n",
    "First Linux Operating System kernel was released in 1991 by Linus Torvalds. The initial version, released in September 1991, was made available for download as source code to anyone who wanted to use and modify it, fostering the development of this open-source operating system. \n",
    "\n",
    "Linux has no GUI or Graphical User Interface, or what is also known as a desktop environment that we can use to interact with the machine (unless it has been installed). A large part of interacting with these systems is using the \"Terminal\"."
   ]
  },
  {
   "cell_type": "markdown",
   "id": "59a82cff",
   "metadata": {},
   "source": [
    "### Commands and what they do:\n",
    "\n",
    "- echo : output any text that we provide\n",
    "- whoami : find out who the user we're currently logged in as"
   ]
  },
  {
   "cell_type": "markdown",
   "id": "e1b1dfb0",
   "metadata": {},
   "source": [
    "### Interacting with the file system"
   ]
  },
  {
   "cell_type": "markdown",
   "id": "da659acf",
   "metadata": {},
   "source": [
    "- ls : listing\n",
    "- cd : change directory\n",
    "- cat : concatenate\n",
    "- pwd : print working directory"
   ]
  },
  {
   "cell_type": "markdown",
   "id": "2b6fe739",
   "metadata": {},
   "source": [
    "ls: listing\n",
    "\n",
    "lists directory and shows the contents of any files or folders\n",
    "\n"
   ]
  },
  {
   "cell_type": "markdown",
   "id": "2977cebf",
   "metadata": {},
   "source": [
    "cd : change directory \n",
    "\n",
    "use this to change or move from one directory to another \n"
   ]
  },
  {
   "cell_type": "markdown",
   "id": "50b5c2bd",
   "metadata": {},
   "source": [
    "cat : outputting the contents of the file \n",
    "\n",
    "use this to print/concatenate/output the contents of the files "
   ]
  },
  {
   "cell_type": "markdown",
   "id": "cc431f31",
   "metadata": {},
   "source": [
    "1. Used \"ls\" to let us know what files are available in the \"Documents\" folder of this machine. In this case, it is called \"todo.txt\".\n",
    "2. We have then used cat todo.txt to concatenate/output the contents of this \"todo.txt\" file, where the contents are \"Here's something important for me to do later!\"\n",
    "\n",
    "\n",
    "Pro tip: You can use cat to output the contents of a file within directories without having to navigate to it by using cat and the name of the directory. I.e. cat /home/ubuntu/Documents/todo.txt"
   ]
  },
  {
   "cell_type": "markdown",
   "id": "d6a8c354",
   "metadata": {},
   "source": [
    "pwd : print working directory\n",
    "\n",
    "print full path to current working directory\n"
   ]
  },
  {
   "cell_type": "markdown",
   "id": "116cef52",
   "metadata": {},
   "source": [
    "find : can be used to find the file path and file for as long as you know the file name\n",
    "\n",
    "syntax is \n",
    "\n",
    "find -m filename\n",
    "\n",
    "can also use wildcards to  search for all items using *\n",
    "\n",
    "example: find -name *.txt\n",
    "\n",
    "will output all txt files "
   ]
  },
  {
   "cell_type": "markdown",
   "id": "caf3c16b",
   "metadata": {},
   "source": [
    "grep :  allows us to search the contents of files for specific values that we are looking for\n",
    "\n",
    "We can use grep to search the entire contents of this file for any entries of the value that we are searching for.\n",
    "\n",
    "Going with the example of a web server's access log, we want to see everything that the IP address \"81.143.211.90\" has visited (note that this is fictional)\n",
    "\n",
    "grep \"81.143.211.90\" access.log\n",
    "\n"
   ]
  }
 ],
 "metadata": {
  "language_info": {
   "name": "python"
  }
 },
 "nbformat": 4,
 "nbformat_minor": 5
}
