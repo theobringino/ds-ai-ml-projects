{
 "cells": [
  {
   "cell_type": "markdown",
   "id": "8385c3f2",
   "metadata": {},
   "source": [
    "Notes for week2"
   ]
  },
  {
   "cell_type": "code",
   "execution_count": 1,
   "id": "17a0ee88",
   "metadata": {},
   "outputs": [],
   "source": [
    "import pandas as pd"
   ]
  },
  {
   "cell_type": "code",
   "execution_count": 2,
   "id": "ce598415",
   "metadata": {},
   "outputs": [
    {
     "data": {
      "application/vnd.microsoft.datawrangler.viewer.v0+json": {
       "columns": [
        {
         "name": "index",
         "rawType": "int64",
         "type": "integer"
        },
        {
         "name": "Duration",
         "rawType": "int64",
         "type": "integer"
        },
        {
         "name": "Pulse",
         "rawType": "int64",
         "type": "integer"
        },
        {
         "name": "Maxpulse",
         "rawType": "int64",
         "type": "integer"
        },
        {
         "name": "Calories",
         "rawType": "float64",
         "type": "float"
        }
       ],
       "ref": "7e60c1e0-4434-4614-ae7e-32df513b4aa4",
       "rows": [
        [
         "0",
         "60",
         "110",
         "130",
         "409.1"
        ],
        [
         "1",
         "60",
         "117",
         "145",
         "479.0"
        ],
        [
         "2",
         "60",
         "103",
         "135",
         "340.0"
        ],
        [
         "3",
         "45",
         "109",
         "175",
         "282.4"
        ],
        [
         "4",
         "45",
         "117",
         "148",
         "406.0"
        ],
        [
         "5",
         "60",
         "102",
         "127",
         "300.0"
        ],
        [
         "6",
         "60",
         "110",
         "136",
         "374.0"
        ],
        [
         "7",
         "45",
         "104",
         "134",
         "253.3"
        ],
        [
         "8",
         "30",
         "109",
         "133",
         "195.1"
        ],
        [
         "9",
         "60",
         "98",
         "124",
         "269.0"
        ],
        [
         "10",
         "60",
         "103",
         "147",
         "329.3"
        ],
        [
         "11",
         "60",
         "100",
         "120",
         "250.7"
        ],
        [
         "12",
         "60",
         "106",
         "128",
         "345.3"
        ],
        [
         "13",
         "60",
         "104",
         "132",
         "379.3"
        ],
        [
         "14",
         "60",
         "98",
         "123",
         "275.0"
        ],
        [
         "15",
         "60",
         "98",
         "120",
         "215.2"
        ],
        [
         "16",
         "60",
         "100",
         "120",
         "300.0"
        ],
        [
         "17",
         "45",
         "90",
         "112",
         null
        ],
        [
         "18",
         "60",
         "103",
         "123",
         "323.0"
        ],
        [
         "19",
         "45",
         "97",
         "125",
         "243.0"
        ],
        [
         "20",
         "60",
         "108",
         "131",
         "364.2"
        ],
        [
         "21",
         "45",
         "100",
         "119",
         "282.0"
        ],
        [
         "22",
         "60",
         "130",
         "101",
         "300.0"
        ],
        [
         "23",
         "45",
         "105",
         "132",
         "246.0"
        ],
        [
         "24",
         "60",
         "102",
         "126",
         "334.5"
        ],
        [
         "25",
         "60",
         "100",
         "120",
         "250.0"
        ],
        [
         "26",
         "60",
         "92",
         "118",
         "241.0"
        ],
        [
         "27",
         "60",
         "103",
         "132",
         null
        ],
        [
         "28",
         "60",
         "100",
         "132",
         "280.0"
        ],
        [
         "29",
         "60",
         "102",
         "129",
         "380.3"
        ],
        [
         "30",
         "60",
         "92",
         "115",
         "243.0"
        ],
        [
         "31",
         "45",
         "90",
         "112",
         "180.1"
        ],
        [
         "32",
         "60",
         "101",
         "124",
         "299.0"
        ],
        [
         "33",
         "60",
         "93",
         "113",
         "223.0"
        ],
        [
         "34",
         "60",
         "107",
         "136",
         "361.0"
        ],
        [
         "35",
         "60",
         "114",
         "140",
         "415.0"
        ],
        [
         "36",
         "60",
         "102",
         "127",
         "300.0"
        ],
        [
         "37",
         "60",
         "100",
         "120",
         "300.0"
        ],
        [
         "38",
         "60",
         "100",
         "120",
         "300.0"
        ],
        [
         "39",
         "45",
         "104",
         "129",
         "266.0"
        ],
        [
         "40",
         "45",
         "90",
         "112",
         "180.1"
        ],
        [
         "41",
         "60",
         "98",
         "126",
         "286.0"
        ],
        [
         "42",
         "60",
         "100",
         "122",
         "329.4"
        ],
        [
         "43",
         "60",
         "111",
         "138",
         "400.0"
        ],
        [
         "44",
         "60",
         "111",
         "131",
         "397.0"
        ],
        [
         "45",
         "60",
         "99",
         "119",
         "273.0"
        ],
        [
         "46",
         "60",
         "109",
         "153",
         "387.6"
        ],
        [
         "47",
         "45",
         "111",
         "136",
         "300.0"
        ],
        [
         "48",
         "45",
         "108",
         "129",
         "298.0"
        ],
        [
         "49",
         "60",
         "111",
         "139",
         "397.6"
        ]
       ],
       "shape": {
        "columns": 4,
        "rows": 169
       }
      },
      "text/html": [
       "<div>\n",
       "<style scoped>\n",
       "    .dataframe tbody tr th:only-of-type {\n",
       "        vertical-align: middle;\n",
       "    }\n",
       "\n",
       "    .dataframe tbody tr th {\n",
       "        vertical-align: top;\n",
       "    }\n",
       "\n",
       "    .dataframe thead th {\n",
       "        text-align: right;\n",
       "    }\n",
       "</style>\n",
       "<table border=\"1\" class=\"dataframe\">\n",
       "  <thead>\n",
       "    <tr style=\"text-align: right;\">\n",
       "      <th></th>\n",
       "      <th>Duration</th>\n",
       "      <th>Pulse</th>\n",
       "      <th>Maxpulse</th>\n",
       "      <th>Calories</th>\n",
       "    </tr>\n",
       "  </thead>\n",
       "  <tbody>\n",
       "    <tr>\n",
       "      <th>0</th>\n",
       "      <td>60</td>\n",
       "      <td>110</td>\n",
       "      <td>130</td>\n",
       "      <td>409.1</td>\n",
       "    </tr>\n",
       "    <tr>\n",
       "      <th>1</th>\n",
       "      <td>60</td>\n",
       "      <td>117</td>\n",
       "      <td>145</td>\n",
       "      <td>479.0</td>\n",
       "    </tr>\n",
       "    <tr>\n",
       "      <th>2</th>\n",
       "      <td>60</td>\n",
       "      <td>103</td>\n",
       "      <td>135</td>\n",
       "      <td>340.0</td>\n",
       "    </tr>\n",
       "    <tr>\n",
       "      <th>3</th>\n",
       "      <td>45</td>\n",
       "      <td>109</td>\n",
       "      <td>175</td>\n",
       "      <td>282.4</td>\n",
       "    </tr>\n",
       "    <tr>\n",
       "      <th>4</th>\n",
       "      <td>45</td>\n",
       "      <td>117</td>\n",
       "      <td>148</td>\n",
       "      <td>406.0</td>\n",
       "    </tr>\n",
       "    <tr>\n",
       "      <th>...</th>\n",
       "      <td>...</td>\n",
       "      <td>...</td>\n",
       "      <td>...</td>\n",
       "      <td>...</td>\n",
       "    </tr>\n",
       "    <tr>\n",
       "      <th>164</th>\n",
       "      <td>60</td>\n",
       "      <td>105</td>\n",
       "      <td>140</td>\n",
       "      <td>290.8</td>\n",
       "    </tr>\n",
       "    <tr>\n",
       "      <th>165</th>\n",
       "      <td>60</td>\n",
       "      <td>110</td>\n",
       "      <td>145</td>\n",
       "      <td>300.0</td>\n",
       "    </tr>\n",
       "    <tr>\n",
       "      <th>166</th>\n",
       "      <td>60</td>\n",
       "      <td>115</td>\n",
       "      <td>145</td>\n",
       "      <td>310.2</td>\n",
       "    </tr>\n",
       "    <tr>\n",
       "      <th>167</th>\n",
       "      <td>75</td>\n",
       "      <td>120</td>\n",
       "      <td>150</td>\n",
       "      <td>320.4</td>\n",
       "    </tr>\n",
       "    <tr>\n",
       "      <th>168</th>\n",
       "      <td>75</td>\n",
       "      <td>125</td>\n",
       "      <td>150</td>\n",
       "      <td>330.4</td>\n",
       "    </tr>\n",
       "  </tbody>\n",
       "</table>\n",
       "<p>169 rows × 4 columns</p>\n",
       "</div>"
      ],
      "text/plain": [
       "     Duration  Pulse  Maxpulse  Calories\n",
       "0          60    110       130     409.1\n",
       "1          60    117       145     479.0\n",
       "2          60    103       135     340.0\n",
       "3          45    109       175     282.4\n",
       "4          45    117       148     406.0\n",
       "..        ...    ...       ...       ...\n",
       "164        60    105       140     290.8\n",
       "165        60    110       145     300.0\n",
       "166        60    115       145     310.2\n",
       "167        75    120       150     320.4\n",
       "168        75    125       150     330.4\n",
       "\n",
       "[169 rows x 4 columns]"
      ]
     },
     "execution_count": 2,
     "metadata": {},
     "output_type": "execute_result"
    }
   ],
   "source": [
    "df = pd.read_csv('data.csv')\n",
    "df"
   ]
  },
  {
   "cell_type": "code",
   "execution_count": null,
   "id": "b312c397",
   "metadata": {},
   "outputs": [],
   "source": [
    "#to create a categorical summary using groupby\n",
    "df.groupby('variable')[['variable to compare to1',\n",
    "                        'variable to compare to2'\n",
    "                        ]].agg(['min','mean','max'])\n",
    "#This checks for the relationship between the variable and the variables to compare to\n",
    "#We can also catch anomalies here\n",
    "#Groupby allows us to see categorical splits which is not seen in correlations (linear relationships only seen)\n",
    "# Best to use for categorical/discrete (or discrete numeric too) variables and .corr() or scatterplots for continuous variables\n",
    "# if continuous numeric,  bin first then group\n"
   ]
  },
  {
   "cell_type": "code",
   "execution_count": 3,
   "id": "5f77b70b",
   "metadata": {},
   "outputs": [
    {
     "data": {
      "application/vnd.microsoft.datawrangler.viewer.v0+json": {
       "columns": [
        {
         "name": "Duration",
         "rawType": "int64",
         "type": "integer"
        },
        {
         "name": "('Pulse', 'mean')",
         "rawType": "float64",
         "type": "float"
        }
       ],
       "ref": "66c75093-8e61-4aef-b54e-5c5225702aba",
       "rows": [
        [
         "15",
         "102.0"
        ],
        [
         "20",
         "125.0"
        ],
        [
         "25",
         "152.0"
        ],
        [
         "30",
         "109.8125"
        ],
        [
         "45",
         "107.48571428571428"
        ],
        [
         "60",
         "106.12658227848101"
        ],
        [
         "75",
         "122.5"
        ],
        [
         "80",
         "123.0"
        ],
        [
         "90",
         "93.75"
        ],
        [
         "120",
         "100.0"
        ],
        [
         "150",
         "101.5"
        ],
        [
         "160",
         "109.5"
        ],
        [
         "180",
         "93.66666666666667"
        ],
        [
         "210",
         "122.5"
        ],
        [
         "270",
         "100.0"
        ],
        [
         "300",
         "108.0"
        ]
       ],
       "shape": {
        "columns": 1,
        "rows": 16
       }
      },
      "text/html": [
       "<div>\n",
       "<style scoped>\n",
       "    .dataframe tbody tr th:only-of-type {\n",
       "        vertical-align: middle;\n",
       "    }\n",
       "\n",
       "    .dataframe tbody tr th {\n",
       "        vertical-align: top;\n",
       "    }\n",
       "\n",
       "    .dataframe thead tr th {\n",
       "        text-align: left;\n",
       "    }\n",
       "\n",
       "    .dataframe thead tr:last-of-type th {\n",
       "        text-align: right;\n",
       "    }\n",
       "</style>\n",
       "<table border=\"1\" class=\"dataframe\">\n",
       "  <thead>\n",
       "    <tr>\n",
       "      <th></th>\n",
       "      <th>Pulse</th>\n",
       "    </tr>\n",
       "    <tr>\n",
       "      <th></th>\n",
       "      <th>mean</th>\n",
       "    </tr>\n",
       "    <tr>\n",
       "      <th>Duration</th>\n",
       "      <th></th>\n",
       "    </tr>\n",
       "  </thead>\n",
       "  <tbody>\n",
       "    <tr>\n",
       "      <th>15</th>\n",
       "      <td>102.000000</td>\n",
       "    </tr>\n",
       "    <tr>\n",
       "      <th>20</th>\n",
       "      <td>125.000000</td>\n",
       "    </tr>\n",
       "    <tr>\n",
       "      <th>25</th>\n",
       "      <td>152.000000</td>\n",
       "    </tr>\n",
       "    <tr>\n",
       "      <th>30</th>\n",
       "      <td>109.812500</td>\n",
       "    </tr>\n",
       "    <tr>\n",
       "      <th>45</th>\n",
       "      <td>107.485714</td>\n",
       "    </tr>\n",
       "    <tr>\n",
       "      <th>60</th>\n",
       "      <td>106.126582</td>\n",
       "    </tr>\n",
       "    <tr>\n",
       "      <th>75</th>\n",
       "      <td>122.500000</td>\n",
       "    </tr>\n",
       "    <tr>\n",
       "      <th>80</th>\n",
       "      <td>123.000000</td>\n",
       "    </tr>\n",
       "    <tr>\n",
       "      <th>90</th>\n",
       "      <td>93.750000</td>\n",
       "    </tr>\n",
       "    <tr>\n",
       "      <th>120</th>\n",
       "      <td>100.000000</td>\n",
       "    </tr>\n",
       "    <tr>\n",
       "      <th>150</th>\n",
       "      <td>101.500000</td>\n",
       "    </tr>\n",
       "    <tr>\n",
       "      <th>160</th>\n",
       "      <td>109.500000</td>\n",
       "    </tr>\n",
       "    <tr>\n",
       "      <th>180</th>\n",
       "      <td>93.666667</td>\n",
       "    </tr>\n",
       "    <tr>\n",
       "      <th>210</th>\n",
       "      <td>122.500000</td>\n",
       "    </tr>\n",
       "    <tr>\n",
       "      <th>270</th>\n",
       "      <td>100.000000</td>\n",
       "    </tr>\n",
       "    <tr>\n",
       "      <th>300</th>\n",
       "      <td>108.000000</td>\n",
       "    </tr>\n",
       "  </tbody>\n",
       "</table>\n",
       "</div>"
      ],
      "text/plain": [
       "               Pulse\n",
       "                mean\n",
       "Duration            \n",
       "15        102.000000\n",
       "20        125.000000\n",
       "25        152.000000\n",
       "30        109.812500\n",
       "45        107.485714\n",
       "60        106.126582\n",
       "75        122.500000\n",
       "80        123.000000\n",
       "90         93.750000\n",
       "120       100.000000\n",
       "150       101.500000\n",
       "160       109.500000\n",
       "180        93.666667\n",
       "210       122.500000\n",
       "270       100.000000\n",
       "300       108.000000"
      ]
     },
     "execution_count": 3,
     "metadata": {},
     "output_type": "execute_result"
    }
   ],
   "source": [
    "df.groupby('Duration')[['Pulse']].agg(['mean'])"
   ]
  },
  {
   "cell_type": "code",
   "execution_count": 4,
   "id": "20657d3e",
   "metadata": {},
   "outputs": [
    {
     "data": {
      "application/vnd.microsoft.datawrangler.viewer.v0+json": {
       "columns": [
        {
         "name": "Duration",
         "rawType": "int64",
         "type": "integer"
        },
        {
         "name": "('Pulse', 'min')",
         "rawType": "int64",
         "type": "integer"
        }
       ],
       "ref": "69a31ba2-b4b6-4b0d-b171-8f58c255b22e",
       "rows": [
        [
         "15",
         "80"
        ],
        [
         "20",
         "83"
        ],
        [
         "25",
         "152"
        ],
        [
         "30",
         "80"
        ],
        [
         "45",
         "90"
        ],
        [
         "60",
         "92"
        ],
        [
         "75",
         "120"
        ],
        [
         "80",
         "123"
        ],
        [
         "90",
         "90"
        ],
        [
         "120",
         "100"
        ],
        [
         "150",
         "97"
        ],
        [
         "160",
         "109"
        ],
        [
         "180",
         "90"
        ],
        [
         "210",
         "108"
        ],
        [
         "270",
         "100"
        ],
        [
         "300",
         "108"
        ]
       ],
       "shape": {
        "columns": 1,
        "rows": 16
       }
      },
      "text/html": [
       "<div>\n",
       "<style scoped>\n",
       "    .dataframe tbody tr th:only-of-type {\n",
       "        vertical-align: middle;\n",
       "    }\n",
       "\n",
       "    .dataframe tbody tr th {\n",
       "        vertical-align: top;\n",
       "    }\n",
       "\n",
       "    .dataframe thead tr th {\n",
       "        text-align: left;\n",
       "    }\n",
       "\n",
       "    .dataframe thead tr:last-of-type th {\n",
       "        text-align: right;\n",
       "    }\n",
       "</style>\n",
       "<table border=\"1\" class=\"dataframe\">\n",
       "  <thead>\n",
       "    <tr>\n",
       "      <th></th>\n",
       "      <th>Pulse</th>\n",
       "    </tr>\n",
       "    <tr>\n",
       "      <th></th>\n",
       "      <th>min</th>\n",
       "    </tr>\n",
       "    <tr>\n",
       "      <th>Duration</th>\n",
       "      <th></th>\n",
       "    </tr>\n",
       "  </thead>\n",
       "  <tbody>\n",
       "    <tr>\n",
       "      <th>15</th>\n",
       "      <td>80</td>\n",
       "    </tr>\n",
       "    <tr>\n",
       "      <th>20</th>\n",
       "      <td>83</td>\n",
       "    </tr>\n",
       "    <tr>\n",
       "      <th>25</th>\n",
       "      <td>152</td>\n",
       "    </tr>\n",
       "    <tr>\n",
       "      <th>30</th>\n",
       "      <td>80</td>\n",
       "    </tr>\n",
       "    <tr>\n",
       "      <th>45</th>\n",
       "      <td>90</td>\n",
       "    </tr>\n",
       "    <tr>\n",
       "      <th>60</th>\n",
       "      <td>92</td>\n",
       "    </tr>\n",
       "    <tr>\n",
       "      <th>75</th>\n",
       "      <td>120</td>\n",
       "    </tr>\n",
       "    <tr>\n",
       "      <th>80</th>\n",
       "      <td>123</td>\n",
       "    </tr>\n",
       "    <tr>\n",
       "      <th>90</th>\n",
       "      <td>90</td>\n",
       "    </tr>\n",
       "    <tr>\n",
       "      <th>120</th>\n",
       "      <td>100</td>\n",
       "    </tr>\n",
       "    <tr>\n",
       "      <th>150</th>\n",
       "      <td>97</td>\n",
       "    </tr>\n",
       "    <tr>\n",
       "      <th>160</th>\n",
       "      <td>109</td>\n",
       "    </tr>\n",
       "    <tr>\n",
       "      <th>180</th>\n",
       "      <td>90</td>\n",
       "    </tr>\n",
       "    <tr>\n",
       "      <th>210</th>\n",
       "      <td>108</td>\n",
       "    </tr>\n",
       "    <tr>\n",
       "      <th>270</th>\n",
       "      <td>100</td>\n",
       "    </tr>\n",
       "    <tr>\n",
       "      <th>300</th>\n",
       "      <td>108</td>\n",
       "    </tr>\n",
       "  </tbody>\n",
       "</table>\n",
       "</div>"
      ],
      "text/plain": [
       "         Pulse\n",
       "           min\n",
       "Duration      \n",
       "15          80\n",
       "20          83\n",
       "25         152\n",
       "30          80\n",
       "45          90\n",
       "60          92\n",
       "75         120\n",
       "80         123\n",
       "90          90\n",
       "120        100\n",
       "150         97\n",
       "160        109\n",
       "180         90\n",
       "210        108\n",
       "270        100\n",
       "300        108"
      ]
     },
     "execution_count": 4,
     "metadata": {},
     "output_type": "execute_result"
    }
   ],
   "source": [
    "df.groupby('Duration')[['Pulse']].agg(['min'])"
   ]
  },
  {
   "cell_type": "code",
   "execution_count": 5,
   "id": "6a310cab",
   "metadata": {},
   "outputs": [
    {
     "data": {
      "application/vnd.microsoft.datawrangler.viewer.v0+json": {
       "columns": [
        {
         "name": "Duration",
         "rawType": "int64",
         "type": "integer"
        },
        {
         "name": "('Pulse', 'max')",
         "rawType": "int64",
         "type": "integer"
        }
       ],
       "ref": "5e6c53d1-6dd7-42a3-a89c-17cb97787888",
       "rows": [
        [
         "15",
         "124"
        ],
        [
         "20",
         "153"
        ],
        [
         "25",
         "152"
        ],
        [
         "30",
         "159"
        ],
        [
         "45",
         "149"
        ],
        [
         "60",
         "136"
        ],
        [
         "75",
         "125"
        ],
        [
         "80",
         "123"
        ],
        [
         "90",
         "100"
        ],
        [
         "120",
         "100"
        ],
        [
         "150",
         "107"
        ],
        [
         "160",
         "110"
        ],
        [
         "180",
         "101"
        ],
        [
         "210",
         "137"
        ],
        [
         "270",
         "100"
        ],
        [
         "300",
         "108"
        ]
       ],
       "shape": {
        "columns": 1,
        "rows": 16
       }
      },
      "text/html": [
       "<div>\n",
       "<style scoped>\n",
       "    .dataframe tbody tr th:only-of-type {\n",
       "        vertical-align: middle;\n",
       "    }\n",
       "\n",
       "    .dataframe tbody tr th {\n",
       "        vertical-align: top;\n",
       "    }\n",
       "\n",
       "    .dataframe thead tr th {\n",
       "        text-align: left;\n",
       "    }\n",
       "\n",
       "    .dataframe thead tr:last-of-type th {\n",
       "        text-align: right;\n",
       "    }\n",
       "</style>\n",
       "<table border=\"1\" class=\"dataframe\">\n",
       "  <thead>\n",
       "    <tr>\n",
       "      <th></th>\n",
       "      <th>Pulse</th>\n",
       "    </tr>\n",
       "    <tr>\n",
       "      <th></th>\n",
       "      <th>max</th>\n",
       "    </tr>\n",
       "    <tr>\n",
       "      <th>Duration</th>\n",
       "      <th></th>\n",
       "    </tr>\n",
       "  </thead>\n",
       "  <tbody>\n",
       "    <tr>\n",
       "      <th>15</th>\n",
       "      <td>124</td>\n",
       "    </tr>\n",
       "    <tr>\n",
       "      <th>20</th>\n",
       "      <td>153</td>\n",
       "    </tr>\n",
       "    <tr>\n",
       "      <th>25</th>\n",
       "      <td>152</td>\n",
       "    </tr>\n",
       "    <tr>\n",
       "      <th>30</th>\n",
       "      <td>159</td>\n",
       "    </tr>\n",
       "    <tr>\n",
       "      <th>45</th>\n",
       "      <td>149</td>\n",
       "    </tr>\n",
       "    <tr>\n",
       "      <th>60</th>\n",
       "      <td>136</td>\n",
       "    </tr>\n",
       "    <tr>\n",
       "      <th>75</th>\n",
       "      <td>125</td>\n",
       "    </tr>\n",
       "    <tr>\n",
       "      <th>80</th>\n",
       "      <td>123</td>\n",
       "    </tr>\n",
       "    <tr>\n",
       "      <th>90</th>\n",
       "      <td>100</td>\n",
       "    </tr>\n",
       "    <tr>\n",
       "      <th>120</th>\n",
       "      <td>100</td>\n",
       "    </tr>\n",
       "    <tr>\n",
       "      <th>150</th>\n",
       "      <td>107</td>\n",
       "    </tr>\n",
       "    <tr>\n",
       "      <th>160</th>\n",
       "      <td>110</td>\n",
       "    </tr>\n",
       "    <tr>\n",
       "      <th>180</th>\n",
       "      <td>101</td>\n",
       "    </tr>\n",
       "    <tr>\n",
       "      <th>210</th>\n",
       "      <td>137</td>\n",
       "    </tr>\n",
       "    <tr>\n",
       "      <th>270</th>\n",
       "      <td>100</td>\n",
       "    </tr>\n",
       "    <tr>\n",
       "      <th>300</th>\n",
       "      <td>108</td>\n",
       "    </tr>\n",
       "  </tbody>\n",
       "</table>\n",
       "</div>"
      ],
      "text/plain": [
       "         Pulse\n",
       "           max\n",
       "Duration      \n",
       "15         124\n",
       "20         153\n",
       "25         152\n",
       "30         159\n",
       "45         149\n",
       "60         136\n",
       "75         125\n",
       "80         123\n",
       "90         100\n",
       "120        100\n",
       "150        107\n",
       "160        110\n",
       "180        101\n",
       "210        137\n",
       "270        100\n",
       "300        108"
      ]
     },
     "execution_count": 5,
     "metadata": {},
     "output_type": "execute_result"
    }
   ],
   "source": [
    "df.groupby('Duration')[['Pulse']].agg(['max'])"
   ]
  }
 ],
 "metadata": {
  "kernelspec": {
   "display_name": "ds-ai-ml-projects",
   "language": "python",
   "name": "ds-ai-ml-projects"
  },
  "language_info": {
   "codemirror_mode": {
    "name": "ipython",
    "version": 3
   },
   "file_extension": ".py",
   "mimetype": "text/x-python",
   "name": "python",
   "nbconvert_exporter": "python",
   "pygments_lexer": "ipython3",
   "version": "3.11.9"
  }
 },
 "nbformat": 4,
 "nbformat_minor": 5
}
