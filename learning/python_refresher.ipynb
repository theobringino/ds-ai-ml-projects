{
 "cells": [
  {
   "cell_type": "markdown",
   "id": "6d15640e",
   "metadata": {},
   "source": [
    "### Python Basics "
   ]
  },
  {
   "cell_type": "markdown",
   "id": "598e5346",
   "metadata": {},
   "source": [
    "\n",
    "This will be a separate refresher which serves as proof that I've learned Python in the past and I still know Python to this day. This will cover the basics of Python as well as other "
   ]
  },
  {
   "cell_type": "code",
   "execution_count": 2,
   "id": "8fd65396",
   "metadata": {},
   "outputs": [
    {
     "name": "stdout",
     "output_type": "stream",
     "text": [
      "Hello, world!\n"
     ]
    }
   ],
   "source": [
    "print(\"Hello, world!\")"
   ]
  },
  {
   "cell_type": "code",
   "execution_count": 4,
   "id": "b7cd8c5a",
   "metadata": {},
   "outputs": [
    {
     "name": "stdout",
     "output_type": "stream",
     "text": [
      "3.11.9 (tags/v3.11.9:de54cf5, Apr  2 2024, 10:12:12) [MSC v.1938 64 bit (AMD64)]\n"
     ]
    }
   ],
   "source": [
    "import sys\n",
    "print(sys.version)"
   ]
  },
  {
   "cell_type": "markdown",
   "id": "30d6378e",
   "metadata": {},
   "source": [
    "### Sample Problem # 1"
   ]
  },
  {
   "cell_type": "markdown",
   "id": "a2135362",
   "metadata": {},
   "source": [
    "Goal is to showcase the following:\n",
    "- User input and type casting\n",
    "- Range objects and loops\n",
    "- Conditional statements (if, elif, else)\n",
    "- Functions and code organization"
   ]
  },
  {
   "cell_type": "code",
   "execution_count": null,
   "id": "74d65dcd",
   "metadata": {},
   "outputs": [],
   "source": [
    "#Noting here that this is a sample problem i've created haha\n",
    "#single-line comment sample: write a program that compares each number from a comparison range with a set of reference from a reference range.\n",
    "\n",
    "\"\"\"\n",
    "multiline comment sample:\n",
    "Write a code that compares each number from 1 to 10 with a set of reference values from 1 to 4.\n",
    "For each comparison, determine if the number is greater than, equal to, or less than the reference value. The goal is to practice:\n",
    "    Logical comparisons (>, ==, <)\n",
    "    Conditional statements (if, elif, else)\n",
    "    Nested loops\n",
    "    Variable assignments\n",
    "    Proper indentation and formatting in Python\n",
    "\"\"\"\n",
    "def compare_to_ref_range(reference_range, comparison_range):\n",
    "    for y in comparison_range:\n",
    "        for i in reference_range:\n",
    "            if (i > y):\n",
    "                print(f\"{i} is greater than {y}\")\n",
    "            elif (i == y):\n",
    "                print(\"Same number\")\n",
    "            else:\n",
    "                print(f\"{i} is less than {y}\")\n",
    "        print(\"-\"*100)\n"
   ]
  },
  {
   "cell_type": "code",
   "execution_count": 24,
   "id": "2306ccc5",
   "metadata": {},
   "outputs": [
    {
     "name": "stdout",
     "output_type": "stream",
     "text": [
      "Your reference range is from 1 to 5.\n",
      "Your comparison range is from 3 to 11.\n",
      "1 is less than 3\n",
      "2 is less than 3\n",
      "Same number\n",
      "4 is greater than 3\n",
      "5 is greater than 3\n",
      "----------------------------------------------------------------------------------------------------\n",
      "1 is less than 4\n",
      "2 is less than 4\n",
      "3 is less than 4\n",
      "Same number\n",
      "5 is greater than 4\n",
      "----------------------------------------------------------------------------------------------------\n",
      "1 is less than 5\n",
      "2 is less than 5\n",
      "3 is less than 5\n",
      "4 is less than 5\n",
      "Same number\n",
      "----------------------------------------------------------------------------------------------------\n",
      "1 is less than 6\n",
      "2 is less than 6\n",
      "3 is less than 6\n",
      "4 is less than 6\n",
      "5 is less than 6\n",
      "----------------------------------------------------------------------------------------------------\n",
      "1 is less than 7\n",
      "2 is less than 7\n",
      "3 is less than 7\n",
      "4 is less than 7\n",
      "5 is less than 7\n",
      "----------------------------------------------------------------------------------------------------\n",
      "1 is less than 8\n",
      "2 is less than 8\n",
      "3 is less than 8\n",
      "4 is less than 8\n",
      "5 is less than 8\n",
      "----------------------------------------------------------------------------------------------------\n",
      "1 is less than 9\n",
      "2 is less than 9\n",
      "3 is less than 9\n",
      "4 is less than 9\n",
      "5 is less than 9\n",
      "----------------------------------------------------------------------------------------------------\n",
      "1 is less than 10\n",
      "2 is less than 10\n",
      "3 is less than 10\n",
      "4 is less than 10\n",
      "5 is less than 10\n",
      "----------------------------------------------------------------------------------------------------\n",
      "1 is less than 11\n",
      "2 is less than 11\n",
      "3 is less than 11\n",
      "4 is less than 11\n",
      "5 is less than 11\n",
      "----------------------------------------------------------------------------------------------------\n"
     ]
    }
   ],
   "source": [
    "ref_min = int(input(\"Input reference minimum: \"))\n",
    "ref_max = int(input(\"Input reference maximum: \"))\n",
    "reference = range(ref_min, ref_max + 1)\n",
    "\n",
    "comp_min = int(input(\"Input comparison minimum: \"))\n",
    "comp_max = int(input(\"Input comparison maximum: \"))\n",
    "comparison = range(comp_min, comp_max + 1)\n",
    "\n",
    "print(f\"Your reference range is from {ref_min} to {ref_max}.\")\n",
    "print(f\"Your comparison range is from {comp_min} to {comp_max}.\")\n",
    "compare_to_ref_range(reference, comparison)"
   ]
  }
 ],
 "metadata": {
  "kernelspec": {
   "display_name": "Python 3",
   "language": "python",
   "name": "python3"
  },
  "language_info": {
   "codemirror_mode": {
    "name": "ipython",
    "version": 3
   },
   "file_extension": ".py",
   "mimetype": "text/x-python",
   "name": "python",
   "nbconvert_exporter": "python",
   "pygments_lexer": "ipython3",
   "version": "3.11.9"
  }
 },
 "nbformat": 4,
 "nbformat_minor": 5
}
