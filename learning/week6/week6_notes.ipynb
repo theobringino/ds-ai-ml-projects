{
 "cells": [
  {
   "cell_type": "markdown",
   "id": "1e0a8013",
   "metadata": {},
   "source": [
    "# Linux and Bash Fundamentals"
   ]
  },
  {
   "cell_type": "markdown",
   "id": "4b11e09f",
   "metadata": {},
   "source": [
    "## Linux Fundamentals Part 1\n",
    "\n",
    "https://tryhackme.com/module/linux-fundamentals"
   ]
  },
  {
   "cell_type": "markdown",
   "id": "3621eb44",
   "metadata": {},
   "source": [
    "Linux is a lot more lightweight than other operationg systems such as Windows.\n",
    "\n",
    "Lionux powers things such as:\n",
    "1. Websites that you visit\n",
    "2. Car entertainment/control panels\n",
    "3. Point of Sale (PoS) systems such as checkout tills and registers in shops\n",
    "4. Critical infrastructures such as traffic light controllers or industrial sensors\n"
   ]
  },
  {
   "cell_type": "markdown",
   "id": "57cb188d",
   "metadata": {},
   "source": [
    "Linux is an umbrella term for multiple OS or operating systems that are based on UNIX (another os). Since Linux is open-sources, there are multiple variants which are suited best in system they are going to be used for.\n",
    "\n",
    "Ex. Ubuntu and Debian. Ubuntu can be ran as a server or a fully fledged desktop. Ubuntu servers can run on system with 512 mb oof RAM. There are also many distributions or version of Linux like Windows (7, 9, and 10)\n",
    "\n",
    "First Linux Operating System kernel was released in 1991 by Linus Torvalds. The initial version, released in September 1991, was made available for download as source code to anyone who wanted to use and modify it, fostering the development of this open-source operating system. \n",
    "\n",
    "Linux has no GUI or Graphical User Interface, or what is also known as a desktop environment that we can use to interact with the machine (unless it has been installed). A large part of interacting with these systems is using the \"Terminal\"."
   ]
  },
  {
   "cell_type": "markdown",
   "id": "59a82cff",
   "metadata": {},
   "source": [
    "### Commands and what they do:\n",
    "\n",
    "- echo : output any text that we provide\n",
    "- whoami : find out who the user we're currently logged in as"
   ]
  },
  {
   "cell_type": "markdown",
   "id": "e1b1dfb0",
   "metadata": {},
   "source": [
    "### Interacting with the file system"
   ]
  },
  {
   "cell_type": "markdown",
   "id": "da659acf",
   "metadata": {},
   "source": [
    "- ls : listing\n",
    "- cd : change directory\n",
    "- cat : concatenate\n",
    "- pwd : print working directory"
   ]
  },
  {
   "cell_type": "markdown",
   "id": "2b6fe739",
   "metadata": {},
   "source": [
    "ls: listing\n",
    "\n",
    "lists directory and shows the contents of any files or folders\n",
    "\n"
   ]
  },
  {
   "cell_type": "markdown",
   "id": "2977cebf",
   "metadata": {},
   "source": [
    "cd : change directory \n",
    "\n",
    "use this to change or move from one directory to another \n"
   ]
  },
  {
   "cell_type": "markdown",
   "id": "50b5c2bd",
   "metadata": {},
   "source": [
    "cat : outputting the contents of the file \n",
    "\n",
    "use this to print/concatenate/output the contents of the files "
   ]
  },
  {
   "cell_type": "markdown",
   "id": "cc431f31",
   "metadata": {},
   "source": [
    "1. Used \"ls\" to let us know what files are available in the \"Documents\" folder of this machine. In this case, it is called \"todo.txt\".\n",
    "2. We have then used cat todo.txt to concatenate/output the contents of this \"todo.txt\" file, where the contents are \"Here's something important for me to do later!\"\n",
    "\n",
    "\n",
    "Pro tip: You can use cat to output the contents of a file within directories without having to navigate to it by using cat and the name of the directory. I.e. cat /home/ubuntu/Documents/todo.txt"
   ]
  },
  {
   "cell_type": "markdown",
   "id": "d6a8c354",
   "metadata": {},
   "source": [
    "pwd : print working directory\n",
    "\n",
    "print full path to current working directory\n"
   ]
  },
  {
   "cell_type": "markdown",
   "id": "116cef52",
   "metadata": {},
   "source": [
    "find : can be used to find the file path and file for as long as you know the file name\n",
    "\n",
    "syntax is \n",
    "\n",
    "find -m filename\n",
    "\n",
    "can also use wildcards to  search for all items using *\n",
    "\n",
    "example: find -name *.txt\n",
    "\n",
    "will output all txt files "
   ]
  },
  {
   "cell_type": "markdown",
   "id": "caf3c16b",
   "metadata": {},
   "source": [
    "grep :  allows us to search the contents of files for specific values that we are looking for\n",
    "\n",
    "We can use grep to search the entire contents of this file for any entries of the value that we are searching for.\n",
    "\n",
    "Going with the example of a web server's access log, we want to see everything that the IP address \"81.143.211.90\" has visited (note that this is fictional)\n",
    "\n",
    "grep \"81.143.211.90\" access.log\n",
    "\n"
   ]
  },
  {
   "cell_type": "markdown",
   "id": "7e0935d9",
   "metadata": {},
   "source": [
    "### Introduction to Shell Operators"
   ]
  },
  {
   "cell_type": "markdown",
   "id": "5bcd97c3",
   "metadata": {},
   "source": [
    "& : This operator allows you to run commands in the background of your terminal.\n",
    "\n",
    "&& : This operator allows you to combine multiple commands together in one line of your terminal.\n",
    "\n",
    "' > : This operator is a redirector - meaning that we can take the output from a command (such as using cat to output a file) and direct it elsewhere.\n",
    "\n",
    "' >> : This operator does the same function of the > operator but appends the output rather than replacing (meaning nothing is overwritten)."
   ]
  },
  {
   "cell_type": "markdown",
   "id": "88f29781",
   "metadata": {},
   "source": [
    "Operator &\n",
    "\n",
    "This operator allows us to execute commands in the background. For example, let's say we want to copy a large file. This will obviously take quite a long time and will leave us unable to do anything else until the file successfully copies.\n",
    "\n",
    "The \"&\" shell operator allows us to execute a command and have it run in the background (such as this file copy) allowing us to do other things!"
   ]
  },
  {
   "cell_type": "markdown",
   "id": "1b3c2f66",
   "metadata": {},
   "source": [
    "Operator \"&&\"\n",
    "\n",
    "This shell operator is a bit misleading in the sense of how familiar is to its partner \"&\". Unlike the \"&\" operator, we can use \"&&\" to make a list of commands to run for example command1 && command2. However, it's worth noting that command2 will only run if command1 was successful."
   ]
  },
  {
   "cell_type": "markdown",
   "id": "44d8c46d",
   "metadata": {},
   "source": [
    "Operator \">\"\n",
    "\n",
    "This operator is what's known as an output redirector. What this essentially means is that we take the output from a command we run and send that output to somewhere else."
   ]
  },
  {
   "cell_type": "markdown",
   "id": "41d17de1",
   "metadata": {},
   "source": [
    "Operator \">>\"\n",
    "\n",
    "This operator is also an output redirector like in the previous operator (>) we discussed. However, what makes this operator different is that rather than overwriting any contents within a file, for example, it instead just puts the output at the end.\n",
    "\n",
    "Following on with our previous example where we have the file \"welcome\" that has the contents of \"hey\". If were to use echo to add \"hello\" to the file using the > operator, the file will now only have \"hello\" and not \"hey\".\n",
    "\n",
    "\n",
    "The >> operator allows to append the output to the bottom of the file — rather than replacing the contents"
   ]
  },
  {
   "cell_type": "markdown",
   "id": "da03010f",
   "metadata": {},
   "source": [
    "## Linux Fundamentals Part 2\n",
    "https://www.youtube.com/watch?v=7Zt2Mp2IeBI&ab_channel=TryHackMe"
   ]
  }
 ],
 "metadata": {
  "kernelspec": {
   "display_name": "ds-ai-ml-projects",
   "language": "python",
   "name": "ds-ai-ml-projects"
  },
  "language_info": {
   "name": "python",
   "version": "3.11.9"
  }
 },
 "nbformat": 4,
 "nbformat_minor": 5
}
