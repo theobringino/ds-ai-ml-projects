{
 "cells": [
  {
   "cell_type": "markdown",
   "id": "aaf85f0f",
   "metadata": {},
   "source": [
    "# Multi-output Regression\n",
    "\n",
    "https://www.geeksforgeeks.org/machine-learning/multioutput-regression-in-machine-learning/"
   ]
  },
  {
   "cell_type": "markdown",
   "id": "dc7fbfbe",
   "metadata": {},
   "source": [
    "In many real-world scenarios, we need to predict not only single but many variables together, this is where we use multi-output regression.\n",
    "\n",
    "Multi-output Regression\n",
    "We know in simple regression we predict a single output variable but where the goal is to predict multiple target variables instead of just one we use Multi-output regression. Multi-output regression is mostly used for addressing complex real-world problems. This approach is particularly useful when variables are interrelated or when it is more efficient to make joint predictions as the prediction of one variable can affect the prediction of other variables, we'll understand this thing in the subtopic of chained regression.\n",
    "\n",
    "It can be represented as follows:\n",
    "\n",
    "y\n",
    "1\n",
    ",\n",
    "y\n",
    "2\n",
    ",\n",
    ".\n",
    ".\n",
    ".\n",
    ",\n",
    "y\n",
    "m\n",
    "= f\n",
    "(\n",
    "x\n",
    "1\n",
    ",\n",
    "x\n",
    "2\n",
    ",\n",
    ".\n",
    ".\n",
    ".\n",
    ",\n",
    "x\n",
    "n\n",
    ")\n",
    "\n",
    "\n",
    "where:\n",
    "\n",
    "- y1, y2, ..., ym are the output variables\n",
    "- x1, x2, ..., xn are the input variables\n",
    "- f is the regression function!\n"
   ]
  },
  {
   "cell_type": "markdown",
   "id": "1e57f9da",
   "metadata": {},
   "source": []
  }
 ],
 "metadata": {
  "language_info": {
   "name": "python"
  }
 },
 "nbformat": 4,
 "nbformat_minor": 5
}
