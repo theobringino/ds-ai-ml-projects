{
 "cells": [
  {
   "cell_type": "markdown",
   "id": "1b5b099c",
   "metadata": {},
   "source": [
    "None as full week was focused on project\n",
    "\n",
    "Refer to ds-ai-ml-projects\\projects\\global_cyber_threat_landscape\\global_cyber_threat_landscape_lr.ipynb"
   ]
  }
 ],
 "metadata": {
  "language_info": {
   "name": "python"
  }
 },
 "nbformat": 4,
 "nbformat_minor": 5
}
