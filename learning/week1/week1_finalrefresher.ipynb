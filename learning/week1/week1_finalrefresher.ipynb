{
 "cells": [
  {
   "cell_type": "markdown",
   "id": "686dce27",
   "metadata": {},
   "source": [
    "# Week 1 Learning Summary and Final Refresher"
   ]
  },
  {
   "cell_type": "markdown",
   "id": "ba5f2c83",
   "metadata": {},
   "source": [
    "### Pandas"
   ]
  },
  {
   "cell_type": "code",
   "execution_count": null,
   "id": "696acf45",
   "metadata": {},
   "outputs": [
    {
     "name": "stdout",
     "output_type": "stream",
     "text": [
      "2.2.3\n"
     ]
    }
   ],
   "source": [
    "import pandas as pd\n",
    "print(pd.__version__)"
   ]
  },
  {
   "cell_type": "code",
   "execution_count": 18,
   "id": "7baad57d",
   "metadata": {},
   "outputs": [
    {
     "name": "stdout",
     "output_type": "stream",
     "text": [
      "0    1\n",
      "1    7\n",
      "2    2\n",
      "dtype: int64\n"
     ]
    }
   ],
   "source": [
    "#Pandas Series\n",
    "\"\"\"\n",
    "Pandas series is like a column in a table. A one-dimensional array that can hold data of any type.\n",
    "\"\"\"\n",
    "\n",
    "a = [1,7,2]\n",
    "a_var = pd.Series(a)\n",
    "print (a_var)"
   ]
  },
  {
   "cell_type": "code",
   "execution_count": 43,
   "id": "df5ac8e5",
   "metadata": {},
   "outputs": [
    {
     "data": {
      "application/vnd.microsoft.datawrangler.viewer.v0+json": {
       "columns": [
        {
         "name": "index",
         "rawType": "int64",
         "type": "integer"
        },
        {
         "name": "Duration",
         "rawType": "int64",
         "type": "integer"
        },
        {
         "name": "Pulse",
         "rawType": "int64",
         "type": "integer"
        },
        {
         "name": "Maxpulse",
         "rawType": "int64",
         "type": "integer"
        },
        {
         "name": "Calories",
         "rawType": "float64",
         "type": "float"
        }
       ],
       "ref": "b161bc2d-0003-4317-b074-66b719e28f67",
       "rows": [
        [
         "0",
         "60",
         "110",
         "130",
         "409.1"
        ],
        [
         "1",
         "60",
         "117",
         "145",
         "479.0"
        ],
        [
         "2",
         "60",
         "103",
         "135",
         "340.0"
        ],
        [
         "3",
         "45",
         "109",
         "175",
         "282.4"
        ],
        [
         "4",
         "45",
         "117",
         "148",
         "406.0"
        ],
        [
         "5",
         "60",
         "102",
         "127",
         "300.0"
        ],
        [
         "6",
         "60",
         "110",
         "136",
         "374.0"
        ],
        [
         "7",
         "45",
         "104",
         "134",
         "253.3"
        ],
        [
         "8",
         "30",
         "109",
         "133",
         "195.1"
        ],
        [
         "9",
         "60",
         "98",
         "124",
         "269.0"
        ],
        [
         "10",
         "60",
         "103",
         "147",
         "329.3"
        ],
        [
         "11",
         "60",
         "100",
         "120",
         "250.7"
        ],
        [
         "12",
         "60",
         "106",
         "128",
         "345.3"
        ],
        [
         "13",
         "60",
         "104",
         "132",
         "379.3"
        ],
        [
         "14",
         "60",
         "98",
         "123",
         "275.0"
        ],
        [
         "15",
         "60",
         "98",
         "120",
         "215.2"
        ],
        [
         "16",
         "60",
         "100",
         "120",
         "300.0"
        ],
        [
         "17",
         "45",
         "90",
         "112",
         null
        ],
        [
         "18",
         "60",
         "103",
         "123",
         "323.0"
        ],
        [
         "19",
         "45",
         "97",
         "125",
         "243.0"
        ],
        [
         "20",
         "60",
         "108",
         "131",
         "364.2"
        ],
        [
         "21",
         "45",
         "100",
         "119",
         "282.0"
        ],
        [
         "22",
         "60",
         "130",
         "101",
         "300.0"
        ],
        [
         "23",
         "45",
         "105",
         "132",
         "246.0"
        ],
        [
         "24",
         "60",
         "102",
         "126",
         "334.5"
        ],
        [
         "25",
         "60",
         "100",
         "120",
         "250.0"
        ],
        [
         "26",
         "60",
         "92",
         "118",
         "241.0"
        ],
        [
         "27",
         "60",
         "103",
         "132",
         null
        ],
        [
         "28",
         "60",
         "100",
         "132",
         "280.0"
        ],
        [
         "29",
         "60",
         "102",
         "129",
         "380.3"
        ],
        [
         "30",
         "60",
         "92",
         "115",
         "243.0"
        ],
        [
         "31",
         "45",
         "90",
         "112",
         "180.1"
        ],
        [
         "32",
         "60",
         "101",
         "124",
         "299.0"
        ],
        [
         "33",
         "60",
         "93",
         "113",
         "223.0"
        ],
        [
         "34",
         "60",
         "107",
         "136",
         "361.0"
        ],
        [
         "35",
         "60",
         "114",
         "140",
         "415.0"
        ],
        [
         "36",
         "60",
         "102",
         "127",
         "300.0"
        ],
        [
         "37",
         "60",
         "100",
         "120",
         "300.0"
        ],
        [
         "38",
         "60",
         "100",
         "120",
         "300.0"
        ],
        [
         "39",
         "45",
         "104",
         "129",
         "266.0"
        ],
        [
         "40",
         "45",
         "90",
         "112",
         "180.1"
        ],
        [
         "41",
         "60",
         "98",
         "126",
         "286.0"
        ],
        [
         "42",
         "60",
         "100",
         "122",
         "329.4"
        ],
        [
         "43",
         "60",
         "111",
         "138",
         "400.0"
        ],
        [
         "44",
         "60",
         "111",
         "131",
         "397.0"
        ],
        [
         "45",
         "60",
         "99",
         "119",
         "273.0"
        ],
        [
         "46",
         "60",
         "109",
         "153",
         "387.6"
        ],
        [
         "47",
         "45",
         "111",
         "136",
         "300.0"
        ],
        [
         "48",
         "45",
         "108",
         "129",
         "298.0"
        ],
        [
         "49",
         "60",
         "111",
         "139",
         "397.6"
        ]
       ],
       "shape": {
        "columns": 4,
        "rows": 169
       }
      },
      "text/html": [
       "<div>\n",
       "<style scoped>\n",
       "    .dataframe tbody tr th:only-of-type {\n",
       "        vertical-align: middle;\n",
       "    }\n",
       "\n",
       "    .dataframe tbody tr th {\n",
       "        vertical-align: top;\n",
       "    }\n",
       "\n",
       "    .dataframe thead th {\n",
       "        text-align: right;\n",
       "    }\n",
       "</style>\n",
       "<table border=\"1\" class=\"dataframe\">\n",
       "  <thead>\n",
       "    <tr style=\"text-align: right;\">\n",
       "      <th></th>\n",
       "      <th>Duration</th>\n",
       "      <th>Pulse</th>\n",
       "      <th>Maxpulse</th>\n",
       "      <th>Calories</th>\n",
       "    </tr>\n",
       "  </thead>\n",
       "  <tbody>\n",
       "    <tr>\n",
       "      <th>0</th>\n",
       "      <td>60</td>\n",
       "      <td>110</td>\n",
       "      <td>130</td>\n",
       "      <td>409.1</td>\n",
       "    </tr>\n",
       "    <tr>\n",
       "      <th>1</th>\n",
       "      <td>60</td>\n",
       "      <td>117</td>\n",
       "      <td>145</td>\n",
       "      <td>479.0</td>\n",
       "    </tr>\n",
       "    <tr>\n",
       "      <th>2</th>\n",
       "      <td>60</td>\n",
       "      <td>103</td>\n",
       "      <td>135</td>\n",
       "      <td>340.0</td>\n",
       "    </tr>\n",
       "    <tr>\n",
       "      <th>3</th>\n",
       "      <td>45</td>\n",
       "      <td>109</td>\n",
       "      <td>175</td>\n",
       "      <td>282.4</td>\n",
       "    </tr>\n",
       "    <tr>\n",
       "      <th>4</th>\n",
       "      <td>45</td>\n",
       "      <td>117</td>\n",
       "      <td>148</td>\n",
       "      <td>406.0</td>\n",
       "    </tr>\n",
       "    <tr>\n",
       "      <th>...</th>\n",
       "      <td>...</td>\n",
       "      <td>...</td>\n",
       "      <td>...</td>\n",
       "      <td>...</td>\n",
       "    </tr>\n",
       "    <tr>\n",
       "      <th>164</th>\n",
       "      <td>60</td>\n",
       "      <td>105</td>\n",
       "      <td>140</td>\n",
       "      <td>290.8</td>\n",
       "    </tr>\n",
       "    <tr>\n",
       "      <th>165</th>\n",
       "      <td>60</td>\n",
       "      <td>110</td>\n",
       "      <td>145</td>\n",
       "      <td>300.0</td>\n",
       "    </tr>\n",
       "    <tr>\n",
       "      <th>166</th>\n",
       "      <td>60</td>\n",
       "      <td>115</td>\n",
       "      <td>145</td>\n",
       "      <td>310.2</td>\n",
       "    </tr>\n",
       "    <tr>\n",
       "      <th>167</th>\n",
       "      <td>75</td>\n",
       "      <td>120</td>\n",
       "      <td>150</td>\n",
       "      <td>320.4</td>\n",
       "    </tr>\n",
       "    <tr>\n",
       "      <th>168</th>\n",
       "      <td>75</td>\n",
       "      <td>125</td>\n",
       "      <td>150</td>\n",
       "      <td>330.4</td>\n",
       "    </tr>\n",
       "  </tbody>\n",
       "</table>\n",
       "<p>169 rows × 4 columns</p>\n",
       "</div>"
      ],
      "text/plain": [
       "     Duration  Pulse  Maxpulse  Calories\n",
       "0          60    110       130     409.1\n",
       "1          60    117       145     479.0\n",
       "2          60    103       135     340.0\n",
       "3          45    109       175     282.4\n",
       "4          45    117       148     406.0\n",
       "..        ...    ...       ...       ...\n",
       "164        60    105       140     290.8\n",
       "165        60    110       145     300.0\n",
       "166        60    115       145     310.2\n",
       "167        75    120       150     320.4\n",
       "168        75    125       150     330.4\n",
       "\n",
       "[169 rows x 4 columns]"
      ]
     },
     "execution_count": 43,
     "metadata": {},
     "output_type": "execute_result"
    }
   ],
   "source": [
    "# Dataframe creation and reading CSVs\n",
    "data = pd.read_csv('data.csv')\n",
    "df = pd.DataFrame(data)\n",
    "df"
   ]
  },
  {
   "cell_type": "code",
   "execution_count": 15,
   "id": "c99c4b51",
   "metadata": {},
   "outputs": [
    {
     "name": "stdout",
     "output_type": "stream",
     "text": [
      "Duration\n",
      "Pulse\n",
      "Maxpulse\n",
      "Calories\n"
     ]
    }
   ],
   "source": [
    "for i in df.columns:\n",
    "    print(i)"
   ]
  },
  {
   "cell_type": "markdown",
   "id": "e243de72",
   "metadata": {},
   "source": [
    "### Practice indexing & slicing (loc, iloc, boolean indexing)"
   ]
  },
  {
   "cell_type": "code",
   "execution_count": 46,
   "id": "c48a66c4",
   "metadata": {},
   "outputs": [
    {
     "data": {
      "application/vnd.microsoft.datawrangler.viewer.v0+json": {
       "columns": [
        {
         "name": "index",
         "rawType": "object",
         "type": "string"
        },
        {
         "name": "Age",
         "rawType": "int64",
         "type": "integer"
        },
        {
         "name": "City",
         "rawType": "object",
         "type": "string"
        }
       ],
       "ref": "1c867bd4-a20f-4c5b-92f7-93f132afd873",
       "rows": [
        [
         "A",
         "25",
         "New York"
        ],
        [
         "B",
         "30",
         "Paris"
        ],
        [
         "C",
         "35",
         "London"
        ]
       ],
       "shape": {
        "columns": 2,
        "rows": 3
       }
      },
      "text/html": [
       "<div>\n",
       "<style scoped>\n",
       "    .dataframe tbody tr th:only-of-type {\n",
       "        vertical-align: middle;\n",
       "    }\n",
       "\n",
       "    .dataframe tbody tr th {\n",
       "        vertical-align: top;\n",
       "    }\n",
       "\n",
       "    .dataframe thead th {\n",
       "        text-align: right;\n",
       "    }\n",
       "</style>\n",
       "<table border=\"1\" class=\"dataframe\">\n",
       "  <thead>\n",
       "    <tr style=\"text-align: right;\">\n",
       "      <th></th>\n",
       "      <th>Age</th>\n",
       "      <th>City</th>\n",
       "    </tr>\n",
       "  </thead>\n",
       "  <tbody>\n",
       "    <tr>\n",
       "      <th>A</th>\n",
       "      <td>25</td>\n",
       "      <td>New York</td>\n",
       "    </tr>\n",
       "    <tr>\n",
       "      <th>B</th>\n",
       "      <td>30</td>\n",
       "      <td>Paris</td>\n",
       "    </tr>\n",
       "    <tr>\n",
       "      <th>C</th>\n",
       "      <td>35</td>\n",
       "      <td>London</td>\n",
       "    </tr>\n",
       "  </tbody>\n",
       "</table>\n",
       "</div>"
      ],
      "text/plain": [
       "   Age      City\n",
       "A   25  New York\n",
       "B   30     Paris\n",
       "C   35    London"
      ]
     },
     "execution_count": 46,
     "metadata": {},
     "output_type": "execute_result"
    }
   ],
   "source": [
    "#Slice rows and columns using loc\n",
    "loc_data = {'Name': ['Alice', 'Bob', 'Charlie', 'David'],\n",
    "        'Age': [25, 30, 35, 40],\n",
    "        'City': ['New York', 'Paris', 'London', 'Tokyo']}\n",
    "loc_df = pd.DataFrame(loc_data, index=['A', 'B', 'C', 'D'])\n",
    "\n",
    "loc_df.loc['A':'C',['Age', 'City']]"
   ]
  },
  {
   "cell_type": "code",
   "execution_count": null,
   "id": "bb40691a",
   "metadata": {},
   "outputs": [
    {
     "name": "stdout",
     "output_type": "stream",
     "text": [
      "x    1\n",
      "y    7\n",
      "z    2\n",
      "dtype: int64\n",
      "1\n",
      "7\n",
      "2\n",
      "x    1\n",
      "y    7\n",
      "dtype: int64\n"
     ]
    }
   ],
   "source": [
    "# Sample .loc since the df's index is not label based\n",
    "a = [1,7,2]\n",
    "b_var = pd.Series(a, index = ['x', 'y', 'z'])\n",
    "print(b_var)\n",
    "\n",
    "# Access one item in the series by referring to label\n",
    "print(b_var.loc['x'])\n",
    "print(b_var.loc['y'])\n",
    "print(b_var.loc['z'])\n",
    "\n",
    "# Slicing\n",
    "print(b_var.loc['x':'y'])"
   ]
  },
  {
   "cell_type": "code",
   "execution_count": 16,
   "id": "ccd606a9",
   "metadata": {},
   "outputs": [
    {
     "data": {
      "application/vnd.microsoft.datawrangler.viewer.v0+json": {
       "columns": [
        {
         "name": "index",
         "rawType": "int64",
         "type": "integer"
        },
        {
         "name": "Duration",
         "rawType": "int64",
         "type": "integer"
        }
       ],
       "ref": "9d4474c5-7542-4993-a469-6044fb64e128",
       "rows": [
        [
         "0",
         "60"
        ],
        [
         "1",
         "60"
        ],
        [
         "2",
         "60"
        ],
        [
         "3",
         "45"
        ],
        [
         "4",
         "45"
        ],
        [
         "5",
         "60"
        ],
        [
         "6",
         "60"
        ],
        [
         "7",
         "45"
        ],
        [
         "8",
         "30"
        ],
        [
         "9",
         "60"
        ],
        [
         "10",
         "60"
        ],
        [
         "11",
         "60"
        ],
        [
         "12",
         "60"
        ],
        [
         "13",
         "60"
        ],
        [
         "14",
         "60"
        ],
        [
         "15",
         "60"
        ],
        [
         "16",
         "60"
        ],
        [
         "17",
         "45"
        ],
        [
         "18",
         "60"
        ],
        [
         "19",
         "45"
        ],
        [
         "20",
         "60"
        ],
        [
         "21",
         "45"
        ],
        [
         "22",
         "60"
        ],
        [
         "23",
         "45"
        ],
        [
         "24",
         "60"
        ],
        [
         "25",
         "60"
        ],
        [
         "26",
         "60"
        ],
        [
         "27",
         "60"
        ],
        [
         "28",
         "60"
        ],
        [
         "29",
         "60"
        ],
        [
         "30",
         "60"
        ],
        [
         "31",
         "45"
        ],
        [
         "32",
         "60"
        ],
        [
         "33",
         "60"
        ],
        [
         "34",
         "60"
        ],
        [
         "35",
         "60"
        ],
        [
         "36",
         "60"
        ],
        [
         "37",
         "60"
        ],
        [
         "38",
         "60"
        ],
        [
         "39",
         "45"
        ],
        [
         "40",
         "45"
        ],
        [
         "41",
         "60"
        ],
        [
         "42",
         "60"
        ],
        [
         "43",
         "60"
        ],
        [
         "44",
         "60"
        ],
        [
         "45",
         "60"
        ],
        [
         "46",
         "60"
        ],
        [
         "47",
         "45"
        ],
        [
         "48",
         "45"
        ],
        [
         "49",
         "60"
        ]
       ],
       "shape": {
        "columns": 1,
        "rows": 169
       }
      },
      "text/plain": [
       "0      60\n",
       "1      60\n",
       "2      60\n",
       "3      45\n",
       "4      45\n",
       "       ..\n",
       "164    60\n",
       "165    60\n",
       "166    60\n",
       "167    75\n",
       "168    75\n",
       "Name: Duration, Length: 169, dtype: int64"
      ]
     },
     "execution_count": 16,
     "metadata": {},
     "output_type": "execute_result"
    }
   ],
   "source": [
    "#Selecting one column\n",
    "df['Duration']"
   ]
  },
  {
   "cell_type": "code",
   "execution_count": null,
   "id": "939d895e",
   "metadata": {},
   "outputs": [
    {
     "data": {
      "application/vnd.microsoft.datawrangler.viewer.v0+json": {
       "columns": [
        {
         "name": "index",
         "rawType": "int64",
         "type": "integer"
        },
        {
         "name": "Duration",
         "rawType": "bool",
         "type": "boolean"
        }
       ],
       "ref": "a372b631-68f5-4d5a-9c3d-fe6b5f8778d0",
       "rows": [
        [
         "0",
         "False"
        ],
        [
         "1",
         "False"
        ],
        [
         "2",
         "False"
        ],
        [
         "3",
         "False"
        ],
        [
         "4",
         "False"
        ],
        [
         "5",
         "False"
        ],
        [
         "6",
         "False"
        ],
        [
         "7",
         "False"
        ],
        [
         "8",
         "False"
        ],
        [
         "9",
         "False"
        ],
        [
         "10",
         "False"
        ],
        [
         "11",
         "False"
        ],
        [
         "12",
         "False"
        ],
        [
         "13",
         "False"
        ],
        [
         "14",
         "False"
        ],
        [
         "15",
         "False"
        ],
        [
         "16",
         "False"
        ],
        [
         "17",
         "False"
        ],
        [
         "18",
         "False"
        ],
        [
         "19",
         "False"
        ],
        [
         "20",
         "False"
        ],
        [
         "21",
         "False"
        ],
        [
         "22",
         "False"
        ],
        [
         "23",
         "False"
        ],
        [
         "24",
         "False"
        ],
        [
         "25",
         "False"
        ],
        [
         "26",
         "False"
        ],
        [
         "27",
         "False"
        ],
        [
         "28",
         "False"
        ],
        [
         "29",
         "False"
        ],
        [
         "30",
         "False"
        ],
        [
         "31",
         "False"
        ],
        [
         "32",
         "False"
        ],
        [
         "33",
         "False"
        ],
        [
         "34",
         "False"
        ],
        [
         "35",
         "False"
        ],
        [
         "36",
         "False"
        ],
        [
         "37",
         "False"
        ],
        [
         "38",
         "False"
        ],
        [
         "39",
         "False"
        ],
        [
         "40",
         "False"
        ],
        [
         "41",
         "False"
        ],
        [
         "42",
         "False"
        ],
        [
         "43",
         "False"
        ],
        [
         "44",
         "False"
        ],
        [
         "45",
         "False"
        ],
        [
         "46",
         "False"
        ],
        [
         "47",
         "False"
        ],
        [
         "48",
         "False"
        ],
        [
         "49",
         "False"
        ]
       ],
       "shape": {
        "columns": 1,
        "rows": 169
       }
      },
      "text/plain": [
       "0      False\n",
       "1      False\n",
       "2      False\n",
       "3      False\n",
       "4      False\n",
       "       ...  \n",
       "164    False\n",
       "165    False\n",
       "166    False\n",
       "167     True\n",
       "168     True\n",
       "Name: Duration, Length: 169, dtype: bool"
      ]
     },
     "execution_count": 67,
     "metadata": {},
     "output_type": "execute_result"
    }
   ],
   "source": [
    "# Filtering columns and conditional selection\n",
    "df['Duration'] > 60"
   ]
  },
  {
   "cell_type": "code",
   "execution_count": 24,
   "id": "3f5404f0",
   "metadata": {},
   "outputs": [
    {
     "data": {
      "application/vnd.microsoft.datawrangler.viewer.v0+json": {
       "columns": [
        {
         "name": "index",
         "rawType": "int64",
         "type": "integer"
        },
        {
         "name": "Duration",
         "rawType": "int64",
         "type": "integer"
        },
        {
         "name": "Pulse",
         "rawType": "int64",
         "type": "integer"
        },
        {
         "name": "Maxpulse",
         "rawType": "int64",
         "type": "integer"
        },
        {
         "name": "Calories",
         "rawType": "float64",
         "type": "float"
        }
       ],
       "ref": "165df5d4-ceaf-4d88-8951-263638c92d37",
       "rows": [
        [
         "5",
         "60",
         "102",
         "127",
         "300.0"
        ],
        [
         "6",
         "60",
         "110",
         "136",
         "374.0"
        ],
        [
         "7",
         "45",
         "104",
         "134",
         "253.3"
        ],
        [
         "8",
         "30",
         "109",
         "133",
         "195.1"
        ],
        [
         "9",
         "60",
         "98",
         "124",
         "269.0"
        ]
       ],
       "shape": {
        "columns": 4,
        "rows": 5
       }
      },
      "text/html": [
       "<div>\n",
       "<style scoped>\n",
       "    .dataframe tbody tr th:only-of-type {\n",
       "        vertical-align: middle;\n",
       "    }\n",
       "\n",
       "    .dataframe tbody tr th {\n",
       "        vertical-align: top;\n",
       "    }\n",
       "\n",
       "    .dataframe thead th {\n",
       "        text-align: right;\n",
       "    }\n",
       "</style>\n",
       "<table border=\"1\" class=\"dataframe\">\n",
       "  <thead>\n",
       "    <tr style=\"text-align: right;\">\n",
       "      <th></th>\n",
       "      <th>Duration</th>\n",
       "      <th>Pulse</th>\n",
       "      <th>Maxpulse</th>\n",
       "      <th>Calories</th>\n",
       "    </tr>\n",
       "  </thead>\n",
       "  <tbody>\n",
       "    <tr>\n",
       "      <th>5</th>\n",
       "      <td>60</td>\n",
       "      <td>102</td>\n",
       "      <td>127</td>\n",
       "      <td>300.0</td>\n",
       "    </tr>\n",
       "    <tr>\n",
       "      <th>6</th>\n",
       "      <td>60</td>\n",
       "      <td>110</td>\n",
       "      <td>136</td>\n",
       "      <td>374.0</td>\n",
       "    </tr>\n",
       "    <tr>\n",
       "      <th>7</th>\n",
       "      <td>45</td>\n",
       "      <td>104</td>\n",
       "      <td>134</td>\n",
       "      <td>253.3</td>\n",
       "    </tr>\n",
       "    <tr>\n",
       "      <th>8</th>\n",
       "      <td>30</td>\n",
       "      <td>109</td>\n",
       "      <td>133</td>\n",
       "      <td>195.1</td>\n",
       "    </tr>\n",
       "    <tr>\n",
       "      <th>9</th>\n",
       "      <td>60</td>\n",
       "      <td>98</td>\n",
       "      <td>124</td>\n",
       "      <td>269.0</td>\n",
       "    </tr>\n",
       "  </tbody>\n",
       "</table>\n",
       "</div>"
      ],
      "text/plain": [
       "   Duration  Pulse  Maxpulse  Calories\n",
       "5        60    102       127     300.0\n",
       "6        60    110       136     374.0\n",
       "7        45    104       134     253.3\n",
       "8        30    109       133     195.1\n",
       "9        60     98       124     269.0"
      ]
     },
     "execution_count": 24,
     "metadata": {},
     "output_type": "execute_result"
    }
   ],
   "source": [
    "#Slice rows\n",
    "df[5:10]"
   ]
  },
  {
   "cell_type": "code",
   "execution_count": null,
   "id": "d71d8e90",
   "metadata": {},
   "outputs": [
    {
     "data": {
      "application/vnd.microsoft.datawrangler.viewer.v0+json": {
       "columns": [
        {
         "name": "index",
         "rawType": "int64",
         "type": "integer"
        },
        {
         "name": "Duration",
         "rawType": "int64",
         "type": "integer"
        },
        {
         "name": "Pulse",
         "rawType": "int64",
         "type": "integer"
        },
        {
         "name": "Maxpulse",
         "rawType": "int64",
         "type": "integer"
        },
        {
         "name": "Calories",
         "rawType": "float64",
         "type": "float"
        }
       ],
       "ref": "6d9aae99-4d8f-4c62-a52e-687f7f15b1d4",
       "rows": [
        [
         "0",
         "60",
         "110",
         "130",
         "409.1"
        ],
        [
         "1",
         "60",
         "117",
         "145",
         "479.0"
        ],
        [
         "2",
         "60",
         "103",
         "135",
         "340.0"
        ]
       ],
       "shape": {
        "columns": 4,
        "rows": 3
       }
      },
      "text/html": [
       "<div>\n",
       "<style scoped>\n",
       "    .dataframe tbody tr th:only-of-type {\n",
       "        vertical-align: middle;\n",
       "    }\n",
       "\n",
       "    .dataframe tbody tr th {\n",
       "        vertical-align: top;\n",
       "    }\n",
       "\n",
       "    .dataframe thead th {\n",
       "        text-align: right;\n",
       "    }\n",
       "</style>\n",
       "<table border=\"1\" class=\"dataframe\">\n",
       "  <thead>\n",
       "    <tr style=\"text-align: right;\">\n",
       "      <th></th>\n",
       "      <th>Duration</th>\n",
       "      <th>Pulse</th>\n",
       "      <th>Maxpulse</th>\n",
       "      <th>Calories</th>\n",
       "    </tr>\n",
       "  </thead>\n",
       "  <tbody>\n",
       "    <tr>\n",
       "      <th>0</th>\n",
       "      <td>60</td>\n",
       "      <td>110</td>\n",
       "      <td>130</td>\n",
       "      <td>409.1</td>\n",
       "    </tr>\n",
       "    <tr>\n",
       "      <th>1</th>\n",
       "      <td>60</td>\n",
       "      <td>117</td>\n",
       "      <td>145</td>\n",
       "      <td>479.0</td>\n",
       "    </tr>\n",
       "    <tr>\n",
       "      <th>2</th>\n",
       "      <td>60</td>\n",
       "      <td>103</td>\n",
       "      <td>135</td>\n",
       "      <td>340.0</td>\n",
       "    </tr>\n",
       "  </tbody>\n",
       "</table>\n",
       "</div>"
      ],
      "text/plain": [
       "   Duration  Pulse  Maxpulse  Calories\n",
       "0        60    110       130     409.1\n",
       "1        60    117       145     479.0\n",
       "2        60    103       135     340.0"
      ]
     },
     "execution_count": 37,
     "metadata": {},
     "output_type": "execute_result"
    }
   ],
   "source": [
    "# Slice rows using iloc\n",
    "df.iloc[0:3]"
   ]
  },
  {
   "cell_type": "code",
   "execution_count": 44,
   "id": "efa955d1",
   "metadata": {},
   "outputs": [
    {
     "data": {
      "application/vnd.microsoft.datawrangler.viewer.v0+json": {
       "columns": [
        {
         "name": "index",
         "rawType": "int64",
         "type": "integer"
        },
        {
         "name": "Duration",
         "rawType": "int64",
         "type": "integer"
        },
        {
         "name": "Pulse",
         "rawType": "int64",
         "type": "integer"
        }
       ],
       "ref": "1ec95531-f6de-416d-a207-1d76742845b5",
       "rows": [
        [
         "0",
         "60",
         "110"
        ],
        [
         "1",
         "60",
         "117"
        ],
        [
         "2",
         "60",
         "103"
        ]
       ],
       "shape": {
        "columns": 2,
        "rows": 3
       }
      },
      "text/html": [
       "<div>\n",
       "<style scoped>\n",
       "    .dataframe tbody tr th:only-of-type {\n",
       "        vertical-align: middle;\n",
       "    }\n",
       "\n",
       "    .dataframe tbody tr th {\n",
       "        vertical-align: top;\n",
       "    }\n",
       "\n",
       "    .dataframe thead th {\n",
       "        text-align: right;\n",
       "    }\n",
       "</style>\n",
       "<table border=\"1\" class=\"dataframe\">\n",
       "  <thead>\n",
       "    <tr style=\"text-align: right;\">\n",
       "      <th></th>\n",
       "      <th>Duration</th>\n",
       "      <th>Pulse</th>\n",
       "    </tr>\n",
       "  </thead>\n",
       "  <tbody>\n",
       "    <tr>\n",
       "      <th>0</th>\n",
       "      <td>60</td>\n",
       "      <td>110</td>\n",
       "    </tr>\n",
       "    <tr>\n",
       "      <th>1</th>\n",
       "      <td>60</td>\n",
       "      <td>117</td>\n",
       "    </tr>\n",
       "    <tr>\n",
       "      <th>2</th>\n",
       "      <td>60</td>\n",
       "      <td>103</td>\n",
       "    </tr>\n",
       "  </tbody>\n",
       "</table>\n",
       "</div>"
      ],
      "text/plain": [
       "   Duration  Pulse\n",
       "0        60    110\n",
       "1        60    117\n",
       "2        60    103"
      ]
     },
     "execution_count": 44,
     "metadata": {},
     "output_type": "execute_result"
    }
   ],
   "source": [
    "# Slice rows and columns using iloc\n",
    "df.iloc[0:3,0:2]"
   ]
  },
  {
   "cell_type": "code",
   "execution_count": 69,
   "id": "a35ba0a6",
   "metadata": {},
   "outputs": [
    {
     "name": "stdout",
     "output_type": "stream",
     "text": [
      "61629.600000000006\n"
     ]
    }
   ],
   "source": [
    "# Perform groupby, aggregation, and sorting\n",
    "print(df['Calories'].sum())"
   ]
  },
  {
   "cell_type": "code",
   "execution_count": 78,
   "id": "66ae93f7",
   "metadata": {},
   "outputs": [
    {
     "data": {
      "text/plain": [
       "(          Pulse  Maxpulse  Calories\n",
       " Duration                           \n",
       " 15          204       239     174.7\n",
       " 20         1125      1314    1364.4\n",
       " 25          152       168     244.2\n",
       " 30         1757      2192    3074.0\n",
       " 45         3762      4663    9016.8\n",
       " 60         8384     10496   25815.3\n",
       " 75          245       300     650.8\n",
       " 80          123       146     643.1\n",
       " 90          750       931    4334.4\n",
       " 120         300       417    2000.5\n",
       " 150         406       521    3757.6\n",
       " 160         219       272    1887.4\n",
       " 180         281       377    2200.8\n",
       " 210         245       344    3236.4\n",
       " 270         100       131    1729.0\n",
       " 300         108       143    1500.2,\n",
       " <function sorted(iterable, /, *, key=None, reverse=False)>)"
      ]
     },
     "execution_count": 78,
     "metadata": {},
     "output_type": "execute_result"
    }
   ],
   "source": [
    "df.groupby('Duration').sum(),sorted"
   ]
  },
  {
   "cell_type": "code",
   "execution_count": 82,
   "id": "45fe3e2a",
   "metadata": {},
   "outputs": [
    {
     "data": {
      "application/vnd.microsoft.datawrangler.viewer.v0+json": {
       "columns": [
        {
         "name": "index",
         "rawType": "int64",
         "type": "integer"
        },
        {
         "name": "Calories",
         "rawType": "float64",
         "type": "float"
        }
       ],
       "ref": "c0ff0fae-1fbb-4446-8a81-2b21f3f5aee3",
       "rows": [
        [
         "0",
         "409.1"
        ],
        [
         "1",
         "479.0"
        ],
        [
         "2",
         "340.0"
        ],
        [
         "3",
         "282.4"
        ],
        [
         "4",
         "406.0"
        ],
        [
         "5",
         "300.0"
        ],
        [
         "6",
         "374.0"
        ],
        [
         "7",
         "253.3"
        ],
        [
         "8",
         "195.1"
        ],
        [
         "9",
         "269.0"
        ],
        [
         "10",
         "329.3"
        ],
        [
         "11",
         "250.7"
        ],
        [
         "12",
         "345.3"
        ],
        [
         "13",
         "379.3"
        ],
        [
         "14",
         "275.0"
        ],
        [
         "15",
         "215.2"
        ],
        [
         "16",
         "300.0"
        ],
        [
         "17",
         "375.79024390243904"
        ],
        [
         "18",
         "323.0"
        ],
        [
         "19",
         "243.0"
        ],
        [
         "20",
         "364.2"
        ],
        [
         "21",
         "282.0"
        ],
        [
         "22",
         "300.0"
        ],
        [
         "23",
         "246.0"
        ],
        [
         "24",
         "334.5"
        ],
        [
         "25",
         "250.0"
        ],
        [
         "26",
         "241.0"
        ],
        [
         "27",
         "375.79024390243904"
        ],
        [
         "28",
         "280.0"
        ],
        [
         "29",
         "380.3"
        ],
        [
         "30",
         "243.0"
        ],
        [
         "31",
         "180.1"
        ],
        [
         "32",
         "299.0"
        ],
        [
         "33",
         "223.0"
        ],
        [
         "34",
         "361.0"
        ],
        [
         "35",
         "415.0"
        ],
        [
         "36",
         "300.0"
        ],
        [
         "37",
         "300.0"
        ],
        [
         "38",
         "300.0"
        ],
        [
         "39",
         "266.0"
        ],
        [
         "40",
         "180.1"
        ],
        [
         "41",
         "286.0"
        ],
        [
         "42",
         "329.4"
        ],
        [
         "43",
         "400.0"
        ],
        [
         "44",
         "397.0"
        ],
        [
         "45",
         "273.0"
        ],
        [
         "46",
         "387.6"
        ],
        [
         "47",
         "300.0"
        ],
        [
         "48",
         "298.0"
        ],
        [
         "49",
         "397.6"
        ]
       ],
       "shape": {
        "columns": 1,
        "rows": 169
       }
      },
      "text/plain": [
       "0      409.1\n",
       "1      479.0\n",
       "2      340.0\n",
       "3      282.4\n",
       "4      406.0\n",
       "       ...  \n",
       "164    290.8\n",
       "165    300.0\n",
       "166    310.2\n",
       "167    320.4\n",
       "168    330.4\n",
       "Name: Calories, Length: 169, dtype: float64"
      ]
     },
     "execution_count": 82,
     "metadata": {},
     "output_type": "execute_result"
    }
   ],
   "source": [
    "df_dropped = df.dropna()\n",
    "df_dropped\n",
    "mean = df['Calories'].mean()\n",
    "df_filled = df['Calories'].fillna(mean)\n",
    "df_filled"
   ]
  },
  {
   "cell_type": "code",
   "execution_count": 83,
   "id": "dd8dda38",
   "metadata": {},
   "outputs": [],
   "source": [
    "df_filled.to_csv('sample_data_no_missing.csv')"
   ]
  },
  {
   "cell_type": "code",
   "execution_count": 65,
   "id": "6a90a1dc",
   "metadata": {},
   "outputs": [
    {
     "data": {
      "text/plain": [
       "array([6, 8])"
      ]
     },
     "execution_count": 65,
     "metadata": {},
     "output_type": "execute_result"
    }
   ],
   "source": [
    "# Boolean indexing and filtering\n",
    "import numpy as np\n",
    "samp_data = np.array([2,3,5,6,8])\n",
    "mask = samp_data > 5\n",
    "mask_samp = samp_data[mask]\n",
    "mask_samp"
   ]
  },
  {
   "cell_type": "markdown",
   "id": "569fba5d",
   "metadata": {},
   "source": [
    "# Data Visualization"
   ]
  },
  {
   "cell_type": "code",
   "execution_count": 84,
   "id": "f3206b1a",
   "metadata": {},
   "outputs": [
    {
     "data": {
      "application/vnd.microsoft.datawrangler.viewer.v0+json": {
       "columns": [
        {
         "name": "index",
         "rawType": "int64",
         "type": "integer"
        },
        {
         "name": "Duration",
         "rawType": "int64",
         "type": "integer"
        },
        {
         "name": "Pulse",
         "rawType": "int64",
         "type": "integer"
        },
        {
         "name": "Maxpulse",
         "rawType": "int64",
         "type": "integer"
        },
        {
         "name": "Calories",
         "rawType": "float64",
         "type": "float"
        }
       ],
       "ref": "74955996-c175-4302-93ad-ae1eb19b509a",
       "rows": [
        [
         "0",
         "60",
         "110",
         "130",
         "409.1"
        ],
        [
         "1",
         "60",
         "117",
         "145",
         "479.0"
        ],
        [
         "2",
         "60",
         "103",
         "135",
         "340.0"
        ],
        [
         "3",
         "45",
         "109",
         "175",
         "282.4"
        ],
        [
         "4",
         "45",
         "117",
         "148",
         "406.0"
        ],
        [
         "5",
         "60",
         "102",
         "127",
         "300.0"
        ],
        [
         "6",
         "60",
         "110",
         "136",
         "374.0"
        ],
        [
         "7",
         "45",
         "104",
         "134",
         "253.3"
        ],
        [
         "8",
         "30",
         "109",
         "133",
         "195.1"
        ],
        [
         "9",
         "60",
         "98",
         "124",
         "269.0"
        ],
        [
         "10",
         "60",
         "103",
         "147",
         "329.3"
        ],
        [
         "11",
         "60",
         "100",
         "120",
         "250.7"
        ],
        [
         "12",
         "60",
         "106",
         "128",
         "345.3"
        ],
        [
         "13",
         "60",
         "104",
         "132",
         "379.3"
        ],
        [
         "14",
         "60",
         "98",
         "123",
         "275.0"
        ],
        [
         "15",
         "60",
         "98",
         "120",
         "215.2"
        ],
        [
         "16",
         "60",
         "100",
         "120",
         "300.0"
        ],
        [
         "17",
         "45",
         "90",
         "112",
         null
        ],
        [
         "18",
         "60",
         "103",
         "123",
         "323.0"
        ],
        [
         "19",
         "45",
         "97",
         "125",
         "243.0"
        ],
        [
         "20",
         "60",
         "108",
         "131",
         "364.2"
        ],
        [
         "21",
         "45",
         "100",
         "119",
         "282.0"
        ],
        [
         "22",
         "60",
         "130",
         "101",
         "300.0"
        ],
        [
         "23",
         "45",
         "105",
         "132",
         "246.0"
        ],
        [
         "24",
         "60",
         "102",
         "126",
         "334.5"
        ],
        [
         "25",
         "60",
         "100",
         "120",
         "250.0"
        ],
        [
         "26",
         "60",
         "92",
         "118",
         "241.0"
        ],
        [
         "27",
         "60",
         "103",
         "132",
         null
        ],
        [
         "28",
         "60",
         "100",
         "132",
         "280.0"
        ],
        [
         "29",
         "60",
         "102",
         "129",
         "380.3"
        ],
        [
         "30",
         "60",
         "92",
         "115",
         "243.0"
        ],
        [
         "31",
         "45",
         "90",
         "112",
         "180.1"
        ],
        [
         "32",
         "60",
         "101",
         "124",
         "299.0"
        ],
        [
         "33",
         "60",
         "93",
         "113",
         "223.0"
        ],
        [
         "34",
         "60",
         "107",
         "136",
         "361.0"
        ],
        [
         "35",
         "60",
         "114",
         "140",
         "415.0"
        ],
        [
         "36",
         "60",
         "102",
         "127",
         "300.0"
        ],
        [
         "37",
         "60",
         "100",
         "120",
         "300.0"
        ],
        [
         "38",
         "60",
         "100",
         "120",
         "300.0"
        ],
        [
         "39",
         "45",
         "104",
         "129",
         "266.0"
        ],
        [
         "40",
         "45",
         "90",
         "112",
         "180.1"
        ],
        [
         "41",
         "60",
         "98",
         "126",
         "286.0"
        ],
        [
         "42",
         "60",
         "100",
         "122",
         "329.4"
        ],
        [
         "43",
         "60",
         "111",
         "138",
         "400.0"
        ],
        [
         "44",
         "60",
         "111",
         "131",
         "397.0"
        ],
        [
         "45",
         "60",
         "99",
         "119",
         "273.0"
        ],
        [
         "46",
         "60",
         "109",
         "153",
         "387.6"
        ],
        [
         "47",
         "45",
         "111",
         "136",
         "300.0"
        ],
        [
         "48",
         "45",
         "108",
         "129",
         "298.0"
        ],
        [
         "49",
         "60",
         "111",
         "139",
         "397.6"
        ]
       ],
       "shape": {
        "columns": 4,
        "rows": 169
       }
      },
      "text/html": [
       "<div>\n",
       "<style scoped>\n",
       "    .dataframe tbody tr th:only-of-type {\n",
       "        vertical-align: middle;\n",
       "    }\n",
       "\n",
       "    .dataframe tbody tr th {\n",
       "        vertical-align: top;\n",
       "    }\n",
       "\n",
       "    .dataframe thead th {\n",
       "        text-align: right;\n",
       "    }\n",
       "</style>\n",
       "<table border=\"1\" class=\"dataframe\">\n",
       "  <thead>\n",
       "    <tr style=\"text-align: right;\">\n",
       "      <th></th>\n",
       "      <th>Duration</th>\n",
       "      <th>Pulse</th>\n",
       "      <th>Maxpulse</th>\n",
       "      <th>Calories</th>\n",
       "    </tr>\n",
       "  </thead>\n",
       "  <tbody>\n",
       "    <tr>\n",
       "      <th>0</th>\n",
       "      <td>60</td>\n",
       "      <td>110</td>\n",
       "      <td>130</td>\n",
       "      <td>409.1</td>\n",
       "    </tr>\n",
       "    <tr>\n",
       "      <th>1</th>\n",
       "      <td>60</td>\n",
       "      <td>117</td>\n",
       "      <td>145</td>\n",
       "      <td>479.0</td>\n",
       "    </tr>\n",
       "    <tr>\n",
       "      <th>2</th>\n",
       "      <td>60</td>\n",
       "      <td>103</td>\n",
       "      <td>135</td>\n",
       "      <td>340.0</td>\n",
       "    </tr>\n",
       "    <tr>\n",
       "      <th>3</th>\n",
       "      <td>45</td>\n",
       "      <td>109</td>\n",
       "      <td>175</td>\n",
       "      <td>282.4</td>\n",
       "    </tr>\n",
       "    <tr>\n",
       "      <th>4</th>\n",
       "      <td>45</td>\n",
       "      <td>117</td>\n",
       "      <td>148</td>\n",
       "      <td>406.0</td>\n",
       "    </tr>\n",
       "    <tr>\n",
       "      <th>...</th>\n",
       "      <td>...</td>\n",
       "      <td>...</td>\n",
       "      <td>...</td>\n",
       "      <td>...</td>\n",
       "    </tr>\n",
       "    <tr>\n",
       "      <th>164</th>\n",
       "      <td>60</td>\n",
       "      <td>105</td>\n",
       "      <td>140</td>\n",
       "      <td>290.8</td>\n",
       "    </tr>\n",
       "    <tr>\n",
       "      <th>165</th>\n",
       "      <td>60</td>\n",
       "      <td>110</td>\n",
       "      <td>145</td>\n",
       "      <td>300.0</td>\n",
       "    </tr>\n",
       "    <tr>\n",
       "      <th>166</th>\n",
       "      <td>60</td>\n",
       "      <td>115</td>\n",
       "      <td>145</td>\n",
       "      <td>310.2</td>\n",
       "    </tr>\n",
       "    <tr>\n",
       "      <th>167</th>\n",
       "      <td>75</td>\n",
       "      <td>120</td>\n",
       "      <td>150</td>\n",
       "      <td>320.4</td>\n",
       "    </tr>\n",
       "    <tr>\n",
       "      <th>168</th>\n",
       "      <td>75</td>\n",
       "      <td>125</td>\n",
       "      <td>150</td>\n",
       "      <td>330.4</td>\n",
       "    </tr>\n",
       "  </tbody>\n",
       "</table>\n",
       "<p>169 rows × 4 columns</p>\n",
       "</div>"
      ],
      "text/plain": [
       "     Duration  Pulse  Maxpulse  Calories\n",
       "0          60    110       130     409.1\n",
       "1          60    117       145     479.0\n",
       "2          60    103       135     340.0\n",
       "3          45    109       175     282.4\n",
       "4          45    117       148     406.0\n",
       "..        ...    ...       ...       ...\n",
       "164        60    105       140     290.8\n",
       "165        60    110       145     300.0\n",
       "166        60    115       145     310.2\n",
       "167        75    120       150     320.4\n",
       "168        75    125       150     330.4\n",
       "\n",
       "[169 rows x 4 columns]"
      ]
     },
     "execution_count": 84,
     "metadata": {},
     "output_type": "execute_result"
    }
   ],
   "source": [
    "df"
   ]
  },
  {
   "cell_type": "code",
   "execution_count": 87,
   "id": "274cd702",
   "metadata": {},
   "outputs": [],
   "source": [
    "import matplotlib.pyplot as plt"
   ]
  },
  {
   "cell_type": "code",
   "execution_count": 100,
   "id": "b3512428",
   "metadata": {},
   "outputs": [
    {
     "data": {
      "image/png": "[encoded data removed]",
      "text/plain": [
       "<Figure size 640x480 with 1 Axes>"
      ]
     },
     "metadata": {},
     "output_type": "display_data"
    }
   ],
   "source": [
    "plt.plot(df['Duration'], linestyle = 'dashdot', color = 'r')\n",
    "plt.plot(df['Calories'], linestyle = 'dotted', marker = 'o')\n",
    "\n",
    "plt.show()"
   ]
  },
  {
   "cell_type": "code",
   "execution_count": 95,
   "id": "d7157386",
   "metadata": {},
   "outputs": [
    {
     "data": {
      "image/png": "[encoded data removed]",
      "text/plain": [
       "<Figure size 640x480 with 1 Axes>"
      ]
     },
     "metadata": {},
     "output_type": "display_data"
    }
   ],
   "source": [
    "plt.bar(df_dropped['Calories'], df_dropped['Duration'])\n",
    "plt.title(\"Calories burnt over time\")\n",
    "plt.xlabel(\"Calories\")\n",
    "plt.ylabel(\"Duration\")\n",
    "plt.show()"
   ]
  },
  {
   "cell_type": "code",
   "execution_count": 110,
   "id": "d918c8ff",
   "metadata": {},
   "outputs": [
    {
     "data": {
      "image/png": "[encoded data removed]",
      "text/plain": [
       "<Figure size 640x480 with 1 Axes>"
      ]
     },
     "metadata": {},
     "output_type": "display_data"
    },
    {
     "data": {
      "image/png": "[encoded data removed]",
      "text/plain": [
       "<Figure size 640x480 with 1 Axes>"
      ]
     },
     "metadata": {},
     "output_type": "display_data"
    },
    {
     "data": {
      "image/png": "[encoded data removed]",
      "text/plain": [
       "<Figure size 640x480 with 1 Axes>"
      ]
     },
     "metadata": {},
     "output_type": "display_data"
    },
    {
     "data": {
      "image/png": "[encoded data removed]",
      "text/plain": [
       "<Figure size 640x480 with 1 Axes>"
      ]
     },
     "metadata": {},
     "output_type": "display_data"
    }
   ],
   "source": [
    "for i in df.columns:\n",
    "    plt.hist(df[i])\n",
    "    plt.title(i)\n",
    "    plt.show()"
   ]
  },
  {
   "cell_type": "code",
   "execution_count": 112,
   "id": "72436a49",
   "metadata": {},
   "outputs": [
    {
     "data": {
      "image/png": "[encoded data removed]",
      "text/plain": [
       "<Figure size 640x480 with 2 Axes>"
      ]
     },
     "metadata": {},
     "output_type": "display_data"
    }
   ],
   "source": [
    "plt.subplot(1,2,1)\n",
    "plt.plot(df['Duration'], df['Calories'])\n",
    "\n",
    "\n",
    "plt.subplot(1,2,2)\n",
    "plt.plot(df['Duration'], df['Maxpulse'])\n",
    "\n",
    "plt.show()"
   ]
  }
 ],
 "metadata": {
  "kernelspec": {
   "display_name": "ds-ai-ml-projects",
   "language": "python",
   "name": "ds-ai-ml-projects"
  },
  "language_info": {
   "codemirror_mode": {
    "name": "ipython",
    "version": 3
   },
   "file_extension": ".py",
   "mimetype": "text/x-python",
   "name": "python",
   "nbconvert_exporter": "python",
   "pygments_lexer": "ipython3",
   "version": "3.11.9"
  }
 },
 "nbformat": 4,
 "nbformat_minor": 5
}
