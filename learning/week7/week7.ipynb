{
 "cells": [
  {
   "cell_type": "markdown",
   "id": "d356c855",
   "metadata": {},
   "source": [
    "# Week 8: Advanced Regression"
   ]
  },
  {
   "cell_type": "markdown",
   "id": "984bbb5c",
   "metadata": {},
   "source": [
    "Complex regression types like Polynomial, Ridge, Lasso, Elastic Net, etc."
   ]
  },
  {
   "cell_type": "markdown",
   "id": "44adee81",
   "metadata": {},
   "source": [
    "https://www.geeksforgeeks.org/machine-learning/ml-different-regression-types/"
   ]
  },
  {
   "cell_type": "markdown",
   "id": "fe70192e",
   "metadata": {},
   "source": [
    "Regression Analysis\n",
    "\n",
    "Regularization Techniques\n",
    "\n",
    "Types of Regression in ML\n",
    "\n",
    "Linear\n",
    "\n",
    "Logistic\n",
    "\n",
    "Polynomial\n",
    "\n",
    "Softmax Regression\n",
    "\n",
    "Ridge Regression\n",
    "\n",
    "Lasso Regression \n",
    "\n",
    "Elastic Net Regression\n",
    "\n",
    "Need for Regression\n",
    "\n",
    "Gradient Descent"
   ]
  }
 ],
 "metadata": {
  "language_info": {
   "name": "python"
  }
 },
 "nbformat": 4,
 "nbformat_minor": 5
}
