{
 "cells": [
  {
   "cell_type": "markdown",
   "id": "62696748",
   "metadata": {},
   "source": [
    "## Week 9: API\n",
    "\n",
    "What is an API?\n",
    "\n",
    "APIs or Application Programming Interface is simply a service that lets other programs use your Python code without needing to see or run the script themselves.\n",
    "\n",
    "In my project's case:\n",
    "\n",
    "train.py : Takes raw data, does the model/scaling, and prepares the pickle files (model and scaler)\n",
    "api.py : Loads the pickle files and waits for new data. The new data is then processed and returns the results to the user."
   ]
  }
 ],
 "metadata": {
  "language_info": {
   "name": "python"
  }
 },
 "nbformat": 4,
 "nbformat_minor": 5
}
