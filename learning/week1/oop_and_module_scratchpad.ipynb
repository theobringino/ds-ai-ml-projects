{
 "cells": [
  {
   "cell_type": "markdown",
   "id": "3340ffda",
   "metadata": {},
   "source": [
    "OOP Refresher"
   ]
  },
  {
   "cell_type": "code",
   "execution_count": 9,
   "id": "c14c4569",
   "metadata": {},
   "outputs": [
    {
     "name": "stdout",
     "output_type": "stream",
     "text": [
      "5\n"
     ]
    }
   ],
   "source": [
    "class SampleClass:\n",
    "    x = 5\n",
    "\n",
    "sample_call = SampleClass()\n",
    "print(sample_call.x)"
   ]
  },
  {
   "cell_type": "code",
   "execution_count": 8,
   "id": "1f33e78e",
   "metadata": {},
   "outputs": [
    {
     "name": "stdout",
     "output_type": "stream",
     "text": [
      "John 36\n",
      "Kale 41 Kale(41)\n"
     ]
    }
   ],
   "source": [
    "class Person:\n",
    "    def __init__(self, name, age):\n",
    "        self.name = name\n",
    "        self.age = age\n",
    "    def __str__(self):\n",
    "        return f\"{self.name}({self.age})\"\n",
    "    #### Without _str_, calling p1 or p2 will only return the memory address \n",
    "    ### This also helps with readability\n",
    "\n",
    "p1 = Person(\"John\", 36)\n",
    "print(p1.name, p1.age)\n",
    "p2 = Person(\"Kale\", 41)\n",
    "print(p2.name, p2.age, p2)\n"
   ]
  },
  {
   "cell_type": "code",
   "execution_count": 12,
   "id": "a1d70d7a",
   "metadata": {},
   "outputs": [
    {
     "name": "stdout",
     "output_type": "stream",
     "text": [
      "Hello, my name is Theo. What is your name?\n"
     ]
    }
   ],
   "source": [
    "class Person:\n",
    "    def __init__(self, name, age):\n",
    "        self.name = name\n",
    "        self.age = age\n",
    "    def myfunc(self):\n",
    "        print(f\"Hello, my name is {self.name}. What is your name?\")\n",
    "p1 = Person(\"Theo\", 23)\n",
    "\n",
    "p1.myfunc()\n",
    "\n"
   ]
  },
  {
   "cell_type": "code",
   "execution_count": 21,
   "id": "10e04b32",
   "metadata": {},
   "outputs": [
    {
     "name": "stdout",
     "output_type": "stream",
     "text": [
      "Hello, my name is John. I am 36 years old.\n",
      "Hello, my name is John. I am 40 years old.\n"
     ]
    },
    {
     "ename": "NameError",
     "evalue": "name 'p1' is not defined",
     "output_type": "error",
     "traceback": [
      "\u001b[31m---------------------------------------------------------------------------\u001b[39m",
      "\u001b[31mNameError\u001b[39m                                 Traceback (most recent call last)",
      "\u001b[36mCell\u001b[39m\u001b[36m \u001b[39m\u001b[32mIn[21]\u001b[39m\u001b[32m, line 18\u001b[39m\n\u001b[32m     15\u001b[39m \u001b[38;5;66;03m# del p1.age\u001b[39;00m\n\u001b[32m     16\u001b[39m \u001b[38;5;66;03m# p1.mysamplefunc()\u001b[39;00m\n\u001b[32m     17\u001b[39m \u001b[38;5;28;01mdel\u001b[39;00m p1\n\u001b[32m---> \u001b[39m\u001b[32m18\u001b[39m \u001b[43mp1\u001b[49m.mysamplefunc()\n",
      "\u001b[31mNameError\u001b[39m: name 'p1' is not defined"
     ]
    }
   ],
   "source": [
    "## Self can be subsituted to any word but it should \n",
    "# always be the first parameter of any function in the class:\n",
    "\n",
    "class Person:\n",
    "    def __init__(testing_only, name, age):\n",
    "        testing_only.name = name\n",
    "        testing_only.age = age\n",
    "    def mysamplefunc(test_name):\n",
    "        print(f\"Hello, my name is {test_name.name}. I am {test_name.age} years old.\")\n",
    "\n",
    "p1 = Person(\"John\", 36)\n",
    "p1.mysamplefunc()\n",
    "p1.age = 40\n",
    "p1.mysamplefunc()\n",
    "# del p1.age\n",
    "# p1.mysamplefunc()\n",
    "del p1\n",
    "p1.mysamplefunc()"
   ]
  },
  {
   "cell_type": "code",
   "execution_count": 22,
   "id": "6f86f5af",
   "metadata": {},
   "outputs": [],
   "source": [
    "class Person:\n",
    "    pass"
   ]
  },
  {
   "cell_type": "markdown",
   "id": "1e3123ba",
   "metadata": {},
   "source": [
    "# Modules Scratchpad"
   ]
  },
  {
   "cell_type": "code",
   "execution_count": 1,
   "id": "36f92452",
   "metadata": {},
   "outputs": [
    {
     "name": "stdout",
     "output_type": "stream",
     "text": [
      "Hello, Theo\n"
     ]
    }
   ],
   "source": [
    "import module_sample\n",
    "module_sample.greeting('Theo')"
   ]
  },
  {
   "cell_type": "code",
   "execution_count": 3,
   "id": "afcf3f9e",
   "metadata": {},
   "outputs": [
    {
     "name": "stdout",
     "output_type": "stream",
     "text": [
      "25\n"
     ]
    }
   ],
   "source": [
    "import module_sample as ms\n",
    "\n",
    "a = module_sample.person1['age']\n",
    "print(a)"
   ]
  },
  {
   "cell_type": "code",
   "execution_count": 4,
   "id": "20486216",
   "metadata": {},
   "outputs": [
    {
     "name": "stdout",
     "output_type": "stream",
     "text": [
      "Windows\n"
     ]
    }
   ],
   "source": [
    "import platform\n",
    "\n",
    "x = platform.system()\n",
    "print(x)"
   ]
  },
  {
   "cell_type": "code",
   "execution_count": 5,
   "id": "be9d522e",
   "metadata": {},
   "outputs": [
    {
     "name": "stdout",
     "output_type": "stream",
     "text": [
      "['_Processor', '_WIN32_CLIENT_RELEASES', '_WIN32_SERVER_RELEASES', '__builtins__', '__cached__', '__copyright__', '__doc__', '__file__', '__loader__', '__name__', '__package__', '__spec__', '__version__', '_comparable_version', '_component_re', '_default_architecture', '_follow_symlinks', '_get_machine_win32', '_ironpython26_sys_version_parser', '_ironpython_sys_version_parser', '_java_getprop', '_libc_search', '_mac_ver_xml', '_node', '_norm_version', '_os_release_cache', '_os_release_candidates', '_os_release_line', '_os_release_unescape', '_parse_os_release', '_platform', '_platform_cache', '_pypy_sys_version_parser', '_sys_version', '_sys_version_cache', '_sys_version_parser', '_syscmd_file', '_syscmd_ver', '_uname_cache', '_unknown_as_blank', '_ver_output', '_ver_stages', 'architecture', 'collections', 'freedesktop_os_release', 'functools', 'itertools', 'java_ver', 'libc_ver', 'mac_ver', 'machine', 'node', 'os', 'platform', 'processor', 'python_branch', 'python_build', 'python_compiler', 'python_implementation', 'python_revision', 'python_version', 'python_version_tuple', 're', 'release', 'sys', 'system', 'system_alias', 'uname', 'uname_result', 'version', 'win32_edition', 'win32_is_iot', 'win32_ver']\n"
     ]
    }
   ],
   "source": [
    "import platform\n",
    "\n",
    "x = dir(platform)\n",
    "print(x)"
   ]
  },
  {
   "cell_type": "code",
   "execution_count": 6,
   "id": "ab470f19",
   "metadata": {},
   "outputs": [
    {
     "name": "stdout",
     "output_type": "stream",
     "text": [
      "25\n"
     ]
    }
   ],
   "source": [
    "from module_sample import person1\n",
    "print(person1['age'])"
   ]
  },
  {
   "cell_type": "code",
   "execution_count": 7,
   "id": "011f7b60",
   "metadata": {},
   "outputs": [
    {
     "name": "stdout",
     "output_type": "stream",
     "text": [
      "2025-08-10 20:26:03.141471\n"
     ]
    }
   ],
   "source": [
    "import datetime\n",
    "x = datetime.datetime.now()\n",
    "print(x)"
   ]
  },
  {
   "cell_type": "code",
   "execution_count": 8,
   "id": "b4d306f8",
   "metadata": {},
   "outputs": [
    {
     "name": "stdout",
     "output_type": "stream",
     "text": [
      "2025\n",
      "Sunday\n"
     ]
    }
   ],
   "source": [
    "import datetime\n",
    "\n",
    "x = datetime.datetime.now()\n",
    "\n",
    "print(x.year)\n",
    "print(x.strftime(\"%A\"))"
   ]
  },
  {
   "cell_type": "code",
   "execution_count": 9,
   "id": "c4a9b51c",
   "metadata": {},
   "outputs": [
    {
     "name": "stdout",
     "output_type": "stream",
     "text": [
      "2020-05-17 00:00:00\n"
     ]
    }
   ],
   "source": [
    "import datetime\n",
    "\n",
    "x = datetime.datetime(2020, 5, 17)\n",
    "\n",
    "print(x)"
   ]
  },
  {
   "cell_type": "code",
   "execution_count": 10,
   "id": "4fead31f",
   "metadata": {},
   "outputs": [
    {
     "name": "stdout",
     "output_type": "stream",
     "text": [
      "June\n"
     ]
    }
   ],
   "source": [
    "import datetime\n",
    "\n",
    "x = datetime.datetime(2018, 6, 1)\n",
    "\n",
    "print(x.strftime(\"%B\"))"
   ]
  }
 ],
 "metadata": {
  "kernelspec": {
   "display_name": "Python 3",
   "language": "python",
   "name": "python3"
  },
  "language_info": {
   "codemirror_mode": {
    "name": "ipython",
    "version": 3
   },
   "file_extension": ".py",
   "mimetype": "text/x-python",
   "name": "python",
   "nbconvert_exporter": "python",
   "pygments_lexer": "ipython3",
   "version": "3.11.9"
  }
 },
 "nbformat": 4,
 "nbformat_minor": 5
}
