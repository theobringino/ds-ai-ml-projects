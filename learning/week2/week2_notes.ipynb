{
 "cells": [
  {
   "cell_type": "markdown",
   "id": "8385c3f2",
   "metadata": {},
   "source": [
    "Notes for week2"
   ]
  },
  {
   "cell_type": "code",
   "execution_count": null,
   "id": "b312c397",
   "metadata": {},
   "outputs": [],
   "source": [
    "#to create a categorical summary using groupby\n",
    "df.groupby('variable')[['variable to compare to1',\n",
    "                        'variable to compare to2'\n",
    "                        ]].agg(['min','mean','max'])\n",
    "#This checks for the relationship between the variable and the variables to compare to\n",
    "#We can also catch anomalies here\n",
    "#Groupby allows us to see categorical splits which is not seen in correlations (linear relationships only seen)\n",
    "# Best to use for categorical/discrete variables and .corr() or scatterplots for continuous variables"
   ]
  }
 ],
 "metadata": {
  "kernelspec": {
   "display_name": "ds-ai-ml-projects",
   "language": "python",
   "name": "ds-ai-ml-projects"
  },
  "language_info": {
   "name": "python",
   "version": "3.11.9"
  }
 },
 "nbformat": 4,
 "nbformat_minor": 5
}
