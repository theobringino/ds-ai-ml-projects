{
 "cells": [
  {
   "cell_type": "markdown",
   "id": "91da06ab",
   "metadata": {},
   "source": [
    "# Week 3 Notes"
   ]
  },
  {
   "cell_type": "markdown",
   "id": "6d7a565b",
   "metadata": {},
   "source": [
    "Linear Regression\n",
    "\n",
    "Main ideas behind it\n",
    "1. Least squares to fit a line to the data\n",
    "2. Calculate r^2\n",
    "3. Calculate a p-value for r^2"
   ]
  },
  {
   "cell_type": "markdown",
   "id": "fd74eb7c",
   "metadata": {},
   "source": [
    "Goal is to use mouse weight to predict mouse size\n",
    "1. Draw a line in the data\n",
    "2. Measure the distance from the line to the data, square each distance and then add them up\n",
    "    - Residual = distance from a line to a data point\n",
    "3. Rotate the line a bit\n",
    "    - With the new line. measure the residuals, square them and then sum up the squares.\n",
    "4. Rotate the line a bit more\n",
    "    - Sum up the square residuals\n",
    "\n",
    "Basically rotate, and then sum up the squared residuals.\n",
    "The rotation with the least squares will be the one used to fit to the data.\n",
    "\n",
    "Y-axis intercept and a slope. Since the slope is no 0, it means that knowing a mouse's weight will help us make a guess about that mouse's size.\n"
   ]
  }
 ],
 "metadata": {
  "language_info": {
   "name": "python"
  }
 },
 "nbformat": 4,
 "nbformat_minor": 5
}
