{
 "cells": [
  {
   "cell_type": "markdown",
   "id": "8dda3478",
   "metadata": {},
   "source": [
    "### ML-based Cyber Risk Assessment for Vulnerability Severity Predictions\n",
    "A machine learning model is used to predict a vulnerability's CVSS Base Score for improved risk management. Using the scraped data which is then integrated with the dataset from NVD, CISA KEV, and EPSS, the model provides a data-driven approach to prioritize threats and streamline vulnerability assessment."
   ]
  },
  {
   "cell_type": "markdown",
   "id": "90635c57",
   "metadata": {},
   "source": [
    "##### Import Packages"
   ]
  },
  {
   "cell_type": "code",
   "execution_count": 1,
   "id": "c84a2431",
   "metadata": {},
   "outputs": [],
   "source": [
    "import pandas as pd\n",
    "import numpy as np\n",
    "import matplotlib.pyplot as plt\n",
    "import seaborn as sns\n",
    "from  IPython.display import display\n",
    "from sklearn.metrics import mean_squared_error, r2_score\n",
    "from sklearn.model_selection import train_test_split\n",
    "from sklearn.preprocessing import StandardScaler\n",
    "from sklearn.linear_model import LinearRegression\n",
    "from sklearn.multioutput import MultiOutputRegressor"
   ]
  },
  {
   "cell_type": "markdown",
   "id": "e3f0eb83",
   "metadata": {},
   "source": [
    "##### Data Loading and Initial Checks"
   ]
  },
  {
   "cell_type": "code",
   "execution_count": null,
   "id": "c66b79ee",
   "metadata": {},
   "outputs": [
    {
     "data": {
      "application/vnd.microsoft.datawrangler.viewer.v0+json": {
       "columns": [
        {
         "name": "index",
         "rawType": "int64",
         "type": "integer"
        },
        {
         "name": "cve_id",
         "rawType": "object",
         "type": "string"
        },
        {
         "name": "base_severity",
         "rawType": "object",
         "type": "string"
        },
        {
         "name": "base_score",
         "rawType": "float64",
         "type": "float"
        },
        {
         "name": "exploitability_score",
         "rawType": "float64",
         "type": "float"
        },
        {
         "name": "impact_score",
         "rawType": "float64",
         "type": "float"
        },
        {
         "name": "epss_score",
         "rawType": "float64",
         "type": "float"
        },
        {
         "name": "epss_perc",
         "rawType": "float64",
         "type": "float"
        },
        {
         "name": "cisa_kev",
         "rawType": "bool",
         "type": "boolean"
        },
        {
         "name": "attack_vector",
         "rawType": "object",
         "type": "string"
        },
        {
         "name": "attack_complexity",
         "rawType": "object",
         "type": "string"
        },
        {
         "name": "privileges_required",
         "rawType": "object",
         "type": "string"
        },
        {
         "name": "user_interaction",
         "rawType": "object",
         "type": "string"
        },
        {
         "name": "scope",
         "rawType": "object",
         "type": "string"
        },
        {
         "name": "confidentiality_impact",
         "rawType": "object",
         "type": "string"
        },
        {
         "name": "integrity_impact",
         "rawType": "object",
         "type": "string"
        },
        {
         "name": "availability_impact",
         "rawType": "object",
         "type": "string"
        },
        {
         "name": "published_date",
         "rawType": "object",
         "type": "string"
        }
       ],
       "ref": "39ff207b-c9b5-4ec8-88bf-23aae07b90e9",
       "rows": [
        [
         "0",
         "CVE-1999-0199",
         "CRITICAL",
         "9.8",
         "3.9",
         "5.9",
         "0.00677",
         "0.70539",
         "False",
         "NETWORK",
         "LOW",
         "NONE",
         "NONE",
         "UNCHANGED",
         "HIGH",
         "HIGH",
         "HIGH",
         "2020-10-06T13:15Z"
        ],
        [
         "1",
         "CVE-2002-20001",
         "HIGH",
         "7.5",
         "3.9",
         "3.6",
         "0.11632",
         "0.93382",
         "False",
         "NETWORK",
         "LOW",
         "NONE",
         "NONE",
         "UNCHANGED",
         "NONE",
         "NONE",
         "HIGH",
         "2021-11-11T19:15Z"
        ],
        [
         "2",
         "CVE-2002-2438",
         "HIGH",
         "7.5",
         "3.9",
         "3.6",
         "0.04663",
         "0.8888",
         "False",
         "NETWORK",
         "LOW",
         "NONE",
         "NONE",
         "UNCHANGED",
         "NONE",
         "NONE",
         "HIGH",
         "2021-05-18T12:15Z"
        ],
        [
         "3",
         "CVE-2002-2439",
         "HIGH",
         "7.8",
         "1.8",
         "5.9",
         "0.00137",
         "0.34244",
         "False",
         "LOCAL",
         "LOW",
         "LOW",
         "NONE",
         "UNCHANGED",
         "HIGH",
         "HIGH",
         "HIGH",
         "2019-10-23T18:15Z"
        ],
        [
         "4",
         "CVE-2002-2444",
         "CRITICAL",
         "9.8",
         "3.9",
         "5.9",
         "0.00476",
         "0.63885",
         "False",
         "NETWORK",
         "LOW",
         "NONE",
         "NONE",
         "UNCHANGED",
         "HIGH",
         "HIGH",
         "HIGH",
         "2019-10-28T14:15Z"
        ],
        [
         "5",
         "CVE-2003-1605",
         "HIGH",
         "7.5",
         "3.9",
         "3.6",
         "0.00399",
         "0.59825",
         "False",
         "NETWORK",
         "LOW",
         "NONE",
         "NONE",
         "UNCHANGED",
         "HIGH",
         "NONE",
         "NONE",
         "2018-08-23T19:29Z"
        ],
        [
         "6",
         "CVE-2003-5001",
         "CRITICAL",
         "9.8",
         "3.9",
         "5.9",
         "0.00316",
         "0.54089",
         "False",
         "NETWORK",
         "LOW",
         "NONE",
         "NONE",
         "UNCHANGED",
         "HIGH",
         "HIGH",
         "HIGH",
         "2022-03-28T21:15Z"
        ],
        [
         "7",
         "CVE-2003-5002",
         "MEDIUM",
         "5.3",
         "3.9",
         "1.4",
         "0.00142",
         "0.34935",
         "False",
         "NETWORK",
         "LOW",
         "NONE",
         "NONE",
         "UNCHANGED",
         "LOW",
         "NONE",
         "NONE",
         "2022-03-28T21:15Z"
        ],
        [
         "8",
         "CVE-2003-5003",
         "MEDIUM",
         "6.1",
         "2.8",
         "2.7",
         "0.00279",
         "0.50916",
         "False",
         "NETWORK",
         "LOW",
         "NONE",
         "REQUIRED",
         "CHANGED",
         "LOW",
         "LOW",
         "NONE",
         "2022-03-28T21:15Z"
        ],
        [
         "9",
         "CVE-2004-2776",
         "CRITICAL",
         "9.8",
         "3.9",
         "5.9",
         "0.02219",
         "0.83799",
         "False",
         "NETWORK",
         "LOW",
         "NONE",
         "NONE",
         "UNCHANGED",
         "HIGH",
         "HIGH",
         "HIGH",
         "2019-12-31T20:15Z"
        ],
        [
         "10",
         "CVE-2004-2779",
         "HIGH",
         "7.5",
         "3.9",
         "3.6",
         "0.00436",
         "0.62051",
         "False",
         "NETWORK",
         "LOW",
         "NONE",
         "NONE",
         "UNCHANGED",
         "NONE",
         "NONE",
         "HIGH",
         "2018-02-20T21:29Z"
        ],
        [
         "11",
         "CVE-2005-10001",
         "MEDIUM",
         "6.1",
         "2.8",
         "2.7",
         "0.002",
         "0.42314",
         "False",
         "NETWORK",
         "LOW",
         "NONE",
         "REQUIRED",
         "CHANGED",
         "LOW",
         "LOW",
         "NONE",
         "2022-03-28T21:15Z"
        ],
        [
         "12",
         "CVE-2005-10002",
         "CRITICAL",
         "9.8",
         "3.9",
         "5.9",
         "0.00202",
         "0.42551",
         "False",
         "NETWORK",
         "LOW",
         "NONE",
         "NONE",
         "UNCHANGED",
         "HIGH",
         "HIGH",
         "HIGH",
         "2023-10-29T15:15Z"
        ],
        [
         "13",
         "CVE-2005-10003",
         "CRITICAL",
         "9.8",
         "3.9",
         "5.9",
         "0.01387",
         "0.79528",
         "False",
         "NETWORK",
         "LOW",
         "NONE",
         "NONE",
         "UNCHANGED",
         "HIGH",
         "HIGH",
         "HIGH",
         "2024-10-17T14:15Z"
        ],
        [
         "14",
         "CVE-2005-2349",
         "HIGH",
         "7.5",
         "3.9",
         "3.6",
         "0.00355",
         "0.57004",
         "False",
         "NETWORK",
         "LOW",
         "NONE",
         "NONE",
         "UNCHANGED",
         "HIGH",
         "NONE",
         "NONE",
         "2019-10-28T14:15Z"
        ],
        [
         "15",
         "CVE-2005-2350",
         "MEDIUM",
         "6.1",
         "2.8",
         "2.7",
         "0.00429",
         "0.61621",
         "False",
         "NETWORK",
         "LOW",
         "NONE",
         "REQUIRED",
         "CHANGED",
         "LOW",
         "LOW",
         "NONE",
         "2019-11-01T18:15Z"
        ],
        [
         "16",
         "CVE-2005-2351",
         "MEDIUM",
         "5.5",
         "1.8",
         "3.6",
         "0.00132",
         "0.33552",
         "False",
         "LOCAL",
         "LOW",
         "LOW",
         "NONE",
         "UNCHANGED",
         "NONE",
         "NONE",
         "HIGH",
         "2019-11-01T19:15Z"
        ],
        [
         "17",
         "CVE-2005-2352",
         "HIGH",
         "8.1",
         "2.2",
         "5.9",
         "0.00324",
         "0.54754",
         "False",
         "NETWORK",
         "HIGH",
         "NONE",
         "NONE",
         "UNCHANGED",
         "HIGH",
         "HIGH",
         "HIGH",
         "2019-11-01T21:15Z"
        ],
        [
         "18",
         "CVE-2005-2354",
         "CRITICAL",
         "9.8",
         "3.9",
         "5.9",
         "0.0051",
         "0.65331",
         "False",
         "NETWORK",
         "LOW",
         "NONE",
         "NONE",
         "UNCHANGED",
         "HIGH",
         "HIGH",
         "HIGH",
         "2019-11-05T20:15Z"
        ],
        [
         "19",
         "CVE-2005-3056",
         "CRITICAL",
         "9.8",
         "3.9",
         "5.9",
         "0.01901",
         "0.82466",
         "False",
         "NETWORK",
         "LOW",
         "NONE",
         "NONE",
         "UNCHANGED",
         "HIGH",
         "HIGH",
         "HIGH",
         "2019-11-01T13:15Z"
        ],
        [
         "20",
         "CVE-2005-3590",
         "CRITICAL",
         "9.8",
         "3.9",
         "5.9",
         "0.00492",
         "0.64593",
         "False",
         "NETWORK",
         "LOW",
         "NONE",
         "NONE",
         "UNCHANGED",
         "HIGH",
         "HIGH",
         "HIGH",
         "2019-04-10T20:29Z"
        ],
        [
         "21",
         "CVE-2005-4890",
         "HIGH",
         "7.8",
         "1.8",
         "5.9",
         "0.00163",
         "0.37705",
         "False",
         "LOCAL",
         "LOW",
         "LOW",
         "NONE",
         "UNCHANGED",
         "HIGH",
         "HIGH",
         "HIGH",
         "2019-11-04T19:15Z"
        ],
        [
         "22",
         "CVE-2005-4891",
         "CRITICAL",
         "9.8",
         "3.9",
         "5.9",
         "0.00271",
         "0.50266",
         "False",
         "NETWORK",
         "LOW",
         "NONE",
         "NONE",
         "UNCHANGED",
         "HIGH",
         "HIGH",
         "HIGH",
         "2020-01-15T17:15Z"
        ],
        [
         "23",
         "CVE-2006-0061",
         "CRITICAL",
         "9.8",
         "3.9",
         "5.9",
         "0.00444",
         "0.62408",
         "False",
         "NETWORK",
         "LOW",
         "NONE",
         "NONE",
         "UNCHANGED",
         "HIGH",
         "HIGH",
         "HIGH",
         "2019-11-06T02:15Z"
        ],
        [
         "24",
         "CVE-2006-0062",
         "CRITICAL",
         "9.8",
         "3.9",
         "5.9",
         "0.0013",
         "0.33246",
         "False",
         "NETWORK",
         "LOW",
         "NONE",
         "NONE",
         "UNCHANGED",
         "HIGH",
         "HIGH",
         "HIGH",
         "2019-11-06T03:15Z"
        ],
        [
         "25",
         "CVE-2006-10001",
         "MEDIUM",
         "5.4",
         "2.3",
         "2.7",
         "0.0011",
         "0.30043",
         "False",
         "NETWORK",
         "LOW",
         "LOW",
         "REQUIRED",
         "CHANGED",
         "LOW",
         "LOW",
         "NONE",
         "2023-03-05T21:15Z"
        ],
        [
         "26",
         "CVE-2006-20001",
         "HIGH",
         "7.5",
         "3.9",
         "3.6",
         "0.00696",
         "0.70962",
         "False",
         "NETWORK",
         "LOW",
         "NONE",
         "NONE",
         "UNCHANGED",
         "NONE",
         "NONE",
         "HIGH",
         "2023-01-17T20:15Z"
        ],
        [
         "27",
         "CVE-2006-3100",
         "CRITICAL",
         "9.8",
         "3.9",
         "5.9",
         "0.00512",
         "0.65424",
         "False",
         "NETWORK",
         "LOW",
         "NONE",
         "NONE",
         "UNCHANGED",
         "HIGH",
         "HIGH",
         "HIGH",
         "2019-11-06T03:15Z"
        ],
        [
         "28",
         "CVE-2006-4243",
         "CRITICAL",
         "9.8",
         "3.9",
         "5.9",
         "0.00372",
         "0.58099",
         "False",
         "NETWORK",
         "LOW",
         "NONE",
         "NONE",
         "UNCHANGED",
         "HIGH",
         "HIGH",
         "HIGH",
         "2019-11-06T03:15Z"
        ],
        [
         "29",
         "CVE-2006-4245",
         "HIGH",
         "8.1",
         "2.2",
         "5.9",
         "0.00335",
         "0.55609",
         "False",
         "NETWORK",
         "HIGH",
         "NONE",
         "NONE",
         "UNCHANGED",
         "HIGH",
         "HIGH",
         "HIGH",
         "2019-11-06T03:15Z"
        ],
        [
         "30",
         "CVE-2006-7246",
         "MEDIUM",
         "6.8",
         "1.6",
         "5.2",
         "0.00065",
         "0.20389",
         "False",
         "ADJACENT_NETWORK",
         "HIGH",
         "NONE",
         "NONE",
         "UNCHANGED",
         "HIGH",
         "HIGH",
         "NONE",
         "2020-01-27T15:15Z"
        ],
        [
         "31",
         "CVE-2006-7254",
         "MEDIUM",
         "5.5",
         "1.8",
         "3.6",
         "0.00042",
         "0.11598",
         "False",
         "LOCAL",
         "LOW",
         "LOW",
         "NONE",
         "UNCHANGED",
         "NONE",
         "NONE",
         "HIGH",
         "2019-04-10T20:29Z"
        ],
        [
         "32",
         "CVE-2007-0158",
         "CRITICAL",
         "9.8",
         "3.9",
         "5.9",
         "0.00418",
         "0.60969",
         "False",
         "NETWORK",
         "LOW",
         "NONE",
         "NONE",
         "UNCHANGED",
         "HIGH",
         "HIGH",
         "HIGH",
         "2019-12-27T18:15Z"
        ],
        [
         "33",
         "CVE-2007-0899",
         "CRITICAL",
         "9.8",
         "3.9",
         "5.9",
         "0.00451",
         "0.6273",
         "False",
         "NETWORK",
         "LOW",
         "NONE",
         "NONE",
         "UNCHANGED",
         "HIGH",
         "HIGH",
         "HIGH",
         "2019-11-06T04:15Z"
        ],
        [
         "34",
         "CVE-2007-10001",
         "HIGH",
         "7.5",
         "3.9",
         "3.6",
         "0.00065",
         "0.20387",
         "False",
         "NETWORK",
         "LOW",
         "NONE",
         "NONE",
         "UNCHANGED",
         "HIGH",
         "NONE",
         "NONE",
         "2023-01-05T12:15Z"
        ],
        [
         "35",
         "CVE-2007-10002",
         "CRITICAL",
         "9.8",
         "3.9",
         "5.9",
         "0.00056",
         "0.17121",
         "False",
         "NETWORK",
         "LOW",
         "NONE",
         "NONE",
         "UNCHANGED",
         "HIGH",
         "HIGH",
         "HIGH",
         "2023-01-08T10:15Z"
        ],
        [
         "36",
         "CVE-2007-10003",
         "HIGH",
         "8.8",
         "2.8",
         "5.9",
         "0.00129",
         "0.33155",
         "False",
         "NETWORK",
         "LOW",
         "LOW",
         "NONE",
         "UNCHANGED",
         "HIGH",
         "HIGH",
         "HIGH",
         "2023-10-29T18:15Z"
        ],
        [
         "37",
         "CVE-2007-20001",
         "HIGH",
         "7.5",
         "3.9",
         "3.6",
         "0.00389",
         "0.59149",
         "False",
         "NETWORK",
         "LOW",
         "NONE",
         "NONE",
         "UNCHANGED",
         "NONE",
         "NONE",
         "HIGH",
         "2022-02-06T21:15Z"
        ],
        [
         "38",
         "CVE-2007-3732",
         "MEDIUM",
         "5.5",
         "1.8",
         "3.6",
         "0.00164",
         "0.37894",
         "False",
         "LOCAL",
         "LOW",
         "LOW",
         "NONE",
         "UNCHANGED",
         "NONE",
         "NONE",
         "HIGH",
         "2019-11-07T22:15Z"
        ],
        [
         "39",
         "CVE-2007-3915",
         "CRITICAL",
         "9.1",
         "3.9",
         "5.2",
         "0.00361",
         "0.57433",
         "False",
         "NETWORK",
         "LOW",
         "NONE",
         "NONE",
         "UNCHANGED",
         "HIGH",
         "HIGH",
         "NONE",
         "2019-11-07T22:15Z"
        ],
        [
         "40",
         "CVE-2007-4773",
         "CRITICAL",
         "9.8",
         "3.9",
         "5.9",
         "0.00633",
         "0.69397",
         "False",
         "NETWORK",
         "LOW",
         "NONE",
         "NONE",
         "UNCHANGED",
         "HIGH",
         "HIGH",
         "HIGH",
         "2020-01-15T17:15Z"
        ],
        [
         "41",
         "CVE-2007-4774",
         "MEDIUM",
         "5.9",
         "2.2",
         "3.6",
         "0.00177",
         "0.39577",
         "False",
         "NETWORK",
         "HIGH",
         "NONE",
         "NONE",
         "UNCHANGED",
         "NONE",
         "HIGH",
         "NONE",
         "2020-01-15T17:15Z"
        ],
        [
         "42",
         "CVE-2007-5743",
         "HIGH",
         "7.5",
         "3.9",
         "3.6",
         "0.00346",
         "0.56402",
         "False",
         "NETWORK",
         "LOW",
         "NONE",
         "NONE",
         "UNCHANGED",
         "HIGH",
         "NONE",
         "NONE",
         "2019-11-07T22:15Z"
        ],
        [
         "43",
         "CVE-2007-5967",
         "MEDIUM",
         "6.5",
         "2.8",
         "3.6",
         "0.00108",
         "0.29673",
         "False",
         "NETWORK",
         "LOW",
         "NONE",
         "REQUIRED",
         "UNCHANGED",
         "NONE",
         "HIGH",
         "NONE",
         "2021-05-17T12:15Z"
        ],
        [
         "44",
         "CVE-2007-6745",
         "CRITICAL",
         "9.8",
         "3.9",
         "5.9",
         "0.00651",
         "0.69878",
         "False",
         "NETWORK",
         "LOW",
         "NONE",
         "NONE",
         "UNCHANGED",
         "HIGH",
         "HIGH",
         "HIGH",
         "2019-11-07T23:15Z"
        ],
        [
         "45",
         "CVE-2007-6758",
         "HIGH",
         "7.5",
         "3.9",
         "3.6",
         "0.0029",
         "0.51997",
         "False",
         "NETWORK",
         "LOW",
         "NONE",
         "NONE",
         "UNCHANGED",
         "HIGH",
         "NONE",
         "NONE",
         "2020-01-23T16:15Z"
        ],
        [
         "46",
         "CVE-2007-6762",
         "CRITICAL",
         "9.8",
         "3.9",
         "5.9",
         "0.008",
         "0.73052",
         "False",
         "NETWORK",
         "LOW",
         "NONE",
         "NONE",
         "UNCHANGED",
         "HIGH",
         "HIGH",
         "HIGH",
         "2019-07-27T22:15Z"
        ],
        [
         "47",
         "CVE-2007-6763",
         "HIGH",
         "8.8",
         "2.8",
         "5.9",
         "0.00511",
         "0.65368",
         "False",
         "NETWORK",
         "LOW",
         "LOW",
         "NONE",
         "UNCHANGED",
         "HIGH",
         "HIGH",
         "HIGH",
         "2019-07-31T18:15Z"
        ],
        [
         "48",
         "CVE-2008-10001",
         "MEDIUM",
         "6.1",
         "2.8",
         "2.7",
         "0.00207",
         "0.43103",
         "False",
         "NETWORK",
         "LOW",
         "NONE",
         "REQUIRED",
         "CHANGED",
         "LOW",
         "LOW",
         "NONE",
         "2022-03-28T21:15Z"
        ],
        [
         "49",
         "CVE-2008-10002",
         "MEDIUM",
         "6.1",
         "2.8",
         "2.7",
         "0.00058",
         "0.17989",
         "False",
         "NETWORK",
         "LOW",
         "NONE",
         "REQUIRED",
         "CHANGED",
         "LOW",
         "LOW",
         "NONE",
         "2023-03-05T02:15Z"
        ]
       ],
       "shape": {
        "columns": 17,
        "rows": 155852
       }
      },
      "text/html": [
       "<div>\n",
       "<style scoped>\n",
       "    .dataframe tbody tr th:only-of-type {\n",
       "        vertical-align: middle;\n",
       "    }\n",
       "\n",
       "    .dataframe tbody tr th {\n",
       "        vertical-align: top;\n",
       "    }\n",
       "\n",
       "    .dataframe thead th {\n",
       "        text-align: right;\n",
       "    }\n",
       "</style>\n",
       "<table border=\"1\" class=\"dataframe\">\n",
       "  <thead>\n",
       "    <tr style=\"text-align: right;\">\n",
       "      <th></th>\n",
       "      <th>cve_id</th>\n",
       "      <th>base_severity</th>\n",
       "      <th>base_score</th>\n",
       "      <th>exploitability_score</th>\n",
       "      <th>impact_score</th>\n",
       "      <th>epss_score</th>\n",
       "      <th>epss_perc</th>\n",
       "      <th>cisa_kev</th>\n",
       "      <th>attack_vector</th>\n",
       "      <th>attack_complexity</th>\n",
       "      <th>privileges_required</th>\n",
       "      <th>user_interaction</th>\n",
       "      <th>scope</th>\n",
       "      <th>confidentiality_impact</th>\n",
       "      <th>integrity_impact</th>\n",
       "      <th>availability_impact</th>\n",
       "      <th>published_date</th>\n",
       "    </tr>\n",
       "  </thead>\n",
       "  <tbody>\n",
       "    <tr>\n",
       "      <th>0</th>\n",
       "      <td>CVE-1999-0199</td>\n",
       "      <td>CRITICAL</td>\n",
       "      <td>9.8</td>\n",
       "      <td>3.9</td>\n",
       "      <td>5.9</td>\n",
       "      <td>0.00677</td>\n",
       "      <td>0.70539</td>\n",
       "      <td>False</td>\n",
       "      <td>NETWORK</td>\n",
       "      <td>LOW</td>\n",
       "      <td>NONE</td>\n",
       "      <td>NONE</td>\n",
       "      <td>UNCHANGED</td>\n",
       "      <td>HIGH</td>\n",
       "      <td>HIGH</td>\n",
       "      <td>HIGH</td>\n",
       "      <td>2020-10-06T13:15Z</td>\n",
       "    </tr>\n",
       "    <tr>\n",
       "      <th>1</th>\n",
       "      <td>CVE-2002-20001</td>\n",
       "      <td>HIGH</td>\n",
       "      <td>7.5</td>\n",
       "      <td>3.9</td>\n",
       "      <td>3.6</td>\n",
       "      <td>0.11632</td>\n",
       "      <td>0.93382</td>\n",
       "      <td>False</td>\n",
       "      <td>NETWORK</td>\n",
       "      <td>LOW</td>\n",
       "      <td>NONE</td>\n",
       "      <td>NONE</td>\n",
       "      <td>UNCHANGED</td>\n",
       "      <td>NONE</td>\n",
       "      <td>NONE</td>\n",
       "      <td>HIGH</td>\n",
       "      <td>2021-11-11T19:15Z</td>\n",
       "    </tr>\n",
       "    <tr>\n",
       "      <th>2</th>\n",
       "      <td>CVE-2002-2438</td>\n",
       "      <td>HIGH</td>\n",
       "      <td>7.5</td>\n",
       "      <td>3.9</td>\n",
       "      <td>3.6</td>\n",
       "      <td>0.04663</td>\n",
       "      <td>0.88880</td>\n",
       "      <td>False</td>\n",
       "      <td>NETWORK</td>\n",
       "      <td>LOW</td>\n",
       "      <td>NONE</td>\n",
       "      <td>NONE</td>\n",
       "      <td>UNCHANGED</td>\n",
       "      <td>NONE</td>\n",
       "      <td>NONE</td>\n",
       "      <td>HIGH</td>\n",
       "      <td>2021-05-18T12:15Z</td>\n",
       "    </tr>\n",
       "    <tr>\n",
       "      <th>3</th>\n",
       "      <td>CVE-2002-2439</td>\n",
       "      <td>HIGH</td>\n",
       "      <td>7.8</td>\n",
       "      <td>1.8</td>\n",
       "      <td>5.9</td>\n",
       "      <td>0.00137</td>\n",
       "      <td>0.34244</td>\n",
       "      <td>False</td>\n",
       "      <td>LOCAL</td>\n",
       "      <td>LOW</td>\n",
       "      <td>LOW</td>\n",
       "      <td>NONE</td>\n",
       "      <td>UNCHANGED</td>\n",
       "      <td>HIGH</td>\n",
       "      <td>HIGH</td>\n",
       "      <td>HIGH</td>\n",
       "      <td>2019-10-23T18:15Z</td>\n",
       "    </tr>\n",
       "    <tr>\n",
       "      <th>4</th>\n",
       "      <td>CVE-2002-2444</td>\n",
       "      <td>CRITICAL</td>\n",
       "      <td>9.8</td>\n",
       "      <td>3.9</td>\n",
       "      <td>5.9</td>\n",
       "      <td>0.00476</td>\n",
       "      <td>0.63885</td>\n",
       "      <td>False</td>\n",
       "      <td>NETWORK</td>\n",
       "      <td>LOW</td>\n",
       "      <td>NONE</td>\n",
       "      <td>NONE</td>\n",
       "      <td>UNCHANGED</td>\n",
       "      <td>HIGH</td>\n",
       "      <td>HIGH</td>\n",
       "      <td>HIGH</td>\n",
       "      <td>2019-10-28T14:15Z</td>\n",
       "    </tr>\n",
       "    <tr>\n",
       "      <th>...</th>\n",
       "      <td>...</td>\n",
       "      <td>...</td>\n",
       "      <td>...</td>\n",
       "      <td>...</td>\n",
       "      <td>...</td>\n",
       "      <td>...</td>\n",
       "      <td>...</td>\n",
       "      <td>...</td>\n",
       "      <td>...</td>\n",
       "      <td>...</td>\n",
       "      <td>...</td>\n",
       "      <td>...</td>\n",
       "      <td>...</td>\n",
       "      <td>...</td>\n",
       "      <td>...</td>\n",
       "      <td>...</td>\n",
       "      <td>...</td>\n",
       "    </tr>\n",
       "    <tr>\n",
       "      <th>155847</th>\n",
       "      <td>CVE-2025-9098</td>\n",
       "      <td>MEDIUM</td>\n",
       "      <td>5.3</td>\n",
       "      <td>1.8</td>\n",
       "      <td>3.4</td>\n",
       "      <td>0.00012</td>\n",
       "      <td>0.01104</td>\n",
       "      <td>False</td>\n",
       "      <td>LOCAL</td>\n",
       "      <td>LOW</td>\n",
       "      <td>LOW</td>\n",
       "      <td>NONE</td>\n",
       "      <td>UNCHANGED</td>\n",
       "      <td>LOW</td>\n",
       "      <td>LOW</td>\n",
       "      <td>LOW</td>\n",
       "      <td>2025-08-18T01:15Z</td>\n",
       "    </tr>\n",
       "    <tr>\n",
       "      <th>155848</th>\n",
       "      <td>CVE-2025-9099</td>\n",
       "      <td>MEDIUM</td>\n",
       "      <td>6.3</td>\n",
       "      <td>2.8</td>\n",
       "      <td>3.4</td>\n",
       "      <td>0.00034</td>\n",
       "      <td>0.07789</td>\n",
       "      <td>False</td>\n",
       "      <td>NETWORK</td>\n",
       "      <td>LOW</td>\n",
       "      <td>LOW</td>\n",
       "      <td>NONE</td>\n",
       "      <td>UNCHANGED</td>\n",
       "      <td>LOW</td>\n",
       "      <td>LOW</td>\n",
       "      <td>LOW</td>\n",
       "      <td>2025-08-18T01:15Z</td>\n",
       "    </tr>\n",
       "    <tr>\n",
       "      <th>155849</th>\n",
       "      <td>CVE-2025-9108</td>\n",
       "      <td>MEDIUM</td>\n",
       "      <td>4.3</td>\n",
       "      <td>2.8</td>\n",
       "      <td>1.4</td>\n",
       "      <td>0.00026</td>\n",
       "      <td>0.05527</td>\n",
       "      <td>False</td>\n",
       "      <td>NETWORK</td>\n",
       "      <td>LOW</td>\n",
       "      <td>NONE</td>\n",
       "      <td>REQUIRED</td>\n",
       "      <td>UNCHANGED</td>\n",
       "      <td>NONE</td>\n",
       "      <td>LOW</td>\n",
       "      <td>NONE</td>\n",
       "      <td>2025-08-18T06:15Z</td>\n",
       "    </tr>\n",
       "    <tr>\n",
       "      <th>155850</th>\n",
       "      <td>CVE-2025-9109</td>\n",
       "      <td>LOW</td>\n",
       "      <td>3.7</td>\n",
       "      <td>2.2</td>\n",
       "      <td>1.4</td>\n",
       "      <td>0.00027</td>\n",
       "      <td>0.05739</td>\n",
       "      <td>False</td>\n",
       "      <td>NETWORK</td>\n",
       "      <td>HIGH</td>\n",
       "      <td>NONE</td>\n",
       "      <td>NONE</td>\n",
       "      <td>UNCHANGED</td>\n",
       "      <td>LOW</td>\n",
       "      <td>NONE</td>\n",
       "      <td>NONE</td>\n",
       "      <td>2025-08-18T06:15Z</td>\n",
       "    </tr>\n",
       "    <tr>\n",
       "      <th>155851</th>\n",
       "      <td>CVE-2025-9119</td>\n",
       "      <td>LOW</td>\n",
       "      <td>2.4</td>\n",
       "      <td>0.9</td>\n",
       "      <td>1.4</td>\n",
       "      <td>0.00026</td>\n",
       "      <td>0.05486</td>\n",
       "      <td>False</td>\n",
       "      <td>NETWORK</td>\n",
       "      <td>LOW</td>\n",
       "      <td>HIGH</td>\n",
       "      <td>REQUIRED</td>\n",
       "      <td>UNCHANGED</td>\n",
       "      <td>NONE</td>\n",
       "      <td>LOW</td>\n",
       "      <td>NONE</td>\n",
       "      <td>2025-08-18T21:15Z</td>\n",
       "    </tr>\n",
       "  </tbody>\n",
       "</table>\n",
       "<p>155852 rows × 17 columns</p>\n",
       "</div>"
      ],
      "text/plain": [
       "                cve_id base_severity  base_score  exploitability_score  \\\n",
       "0        CVE-1999-0199      CRITICAL         9.8                   3.9   \n",
       "1       CVE-2002-20001          HIGH         7.5                   3.9   \n",
       "2        CVE-2002-2438          HIGH         7.5                   3.9   \n",
       "3        CVE-2002-2439          HIGH         7.8                   1.8   \n",
       "4        CVE-2002-2444      CRITICAL         9.8                   3.9   \n",
       "...                ...           ...         ...                   ...   \n",
       "155847   CVE-2025-9098        MEDIUM         5.3                   1.8   \n",
       "155848   CVE-2025-9099        MEDIUM         6.3                   2.8   \n",
       "155849   CVE-2025-9108        MEDIUM         4.3                   2.8   \n",
       "155850   CVE-2025-9109           LOW         3.7                   2.2   \n",
       "155851   CVE-2025-9119           LOW         2.4                   0.9   \n",
       "\n",
       "        impact_score  epss_score  epss_perc  cisa_kev attack_vector  \\\n",
       "0                5.9     0.00677    0.70539     False       NETWORK   \n",
       "1                3.6     0.11632    0.93382     False       NETWORK   \n",
       "2                3.6     0.04663    0.88880     False       NETWORK   \n",
       "3                5.9     0.00137    0.34244     False         LOCAL   \n",
       "4                5.9     0.00476    0.63885     False       NETWORK   \n",
       "...              ...         ...        ...       ...           ...   \n",
       "155847           3.4     0.00012    0.01104     False         LOCAL   \n",
       "155848           3.4     0.00034    0.07789     False       NETWORK   \n",
       "155849           1.4     0.00026    0.05527     False       NETWORK   \n",
       "155850           1.4     0.00027    0.05739     False       NETWORK   \n",
       "155851           1.4     0.00026    0.05486     False       NETWORK   \n",
       "\n",
       "       attack_complexity privileges_required user_interaction      scope  \\\n",
       "0                    LOW                NONE             NONE  UNCHANGED   \n",
       "1                    LOW                NONE             NONE  UNCHANGED   \n",
       "2                    LOW                NONE             NONE  UNCHANGED   \n",
       "3                    LOW                 LOW             NONE  UNCHANGED   \n",
       "4                    LOW                NONE             NONE  UNCHANGED   \n",
       "...                  ...                 ...              ...        ...   \n",
       "155847               LOW                 LOW             NONE  UNCHANGED   \n",
       "155848               LOW                 LOW             NONE  UNCHANGED   \n",
       "155849               LOW                NONE         REQUIRED  UNCHANGED   \n",
       "155850              HIGH                NONE             NONE  UNCHANGED   \n",
       "155851               LOW                HIGH         REQUIRED  UNCHANGED   \n",
       "\n",
       "       confidentiality_impact integrity_impact availability_impact  \\\n",
       "0                        HIGH             HIGH                HIGH   \n",
       "1                        NONE             NONE                HIGH   \n",
       "2                        NONE             NONE                HIGH   \n",
       "3                        HIGH             HIGH                HIGH   \n",
       "4                        HIGH             HIGH                HIGH   \n",
       "...                       ...              ...                 ...   \n",
       "155847                    LOW              LOW                 LOW   \n",
       "155848                    LOW              LOW                 LOW   \n",
       "155849                   NONE              LOW                NONE   \n",
       "155850                    LOW             NONE                NONE   \n",
       "155851                   NONE              LOW                NONE   \n",
       "\n",
       "           published_date  \n",
       "0       2020-10-06T13:15Z  \n",
       "1       2021-11-11T19:15Z  \n",
       "2       2021-05-18T12:15Z  \n",
       "3       2019-10-23T18:15Z  \n",
       "4       2019-10-28T14:15Z  \n",
       "...                   ...  \n",
       "155847  2025-08-18T01:15Z  \n",
       "155848  2025-08-18T01:15Z  \n",
       "155849  2025-08-18T06:15Z  \n",
       "155850  2025-08-18T06:15Z  \n",
       "155851  2025-08-18T21:15Z  \n",
       "\n",
       "[155852 rows x 17 columns]"
      ]
     },
     "execution_count": 2,
     "metadata": {},
     "output_type": "execute_result"
    }
   ],
   "source": [
    "# Load data\n",
    "df = pd.read_csv('cybersec_vulnerability.csv')\n",
    "df"
   ]
  },
  {
   "cell_type": "code",
   "execution_count": null,
   "id": "ec79fac1",
   "metadata": {},
   "outputs": [
    {
     "data": {
      "application/vnd.microsoft.datawrangler.viewer.v0+json": {
       "columns": [
        {
         "name": "index",
         "rawType": "object",
         "type": "string"
        },
        {
         "name": "base_score",
         "rawType": "float64",
         "type": "float"
        },
        {
         "name": "exploitability_score",
         "rawType": "float64",
         "type": "float"
        },
        {
         "name": "impact_score",
         "rawType": "float64",
         "type": "float"
        },
        {
         "name": "epss_score",
         "rawType": "float64",
         "type": "float"
        },
        {
         "name": "epss_perc",
         "rawType": "float64",
         "type": "float"
        }
       ],
       "ref": "7ea46fe6-5c03-48f7-8184-c0174389b69e",
       "rows": [
        [
         "count",
         "155852.0",
         "155852.0",
         "155852.0",
         "155852.0",
         "155852.0"
        ],
        [
         "mean",
         "7.14200651900521",
         "2.691608064060775",
         "4.304447167825886",
         "0.027664227472217234",
         "0.44942075950260507"
        ],
        [
         "std",
         "1.7018061242547935",
         "0.9397213599086343",
         "1.5338362184953167",
         "0.11619400785670139",
         "0.27422455970568194"
        ],
        [
         "min",
         "1.6",
         "0.1",
         "1.4",
         "1e-05",
         "1e-05"
        ],
        [
         "25%",
         "5.5",
         "1.8",
         "3.4",
         "0.00072",
         "0.2239275"
        ],
        [
         "50%",
         "7.5",
         "2.8",
         "3.6",
         "0.00206",
         "0.43042"
        ],
        [
         "75%",
         "8.8",
         "3.9",
         "5.9",
         "0.00529",
         "0.66212"
        ],
        [
         "max",
         "10.0",
         "3.9",
         "6.0",
         "0.94582",
         "1.0"
        ]
       ],
       "shape": {
        "columns": 5,
        "rows": 8
       }
      },
      "text/html": [
       "<div>\n",
       "<style scoped>\n",
       "    .dataframe tbody tr th:only-of-type {\n",
       "        vertical-align: middle;\n",
       "    }\n",
       "\n",
       "    .dataframe tbody tr th {\n",
       "        vertical-align: top;\n",
       "    }\n",
       "\n",
       "    .dataframe thead th {\n",
       "        text-align: right;\n",
       "    }\n",
       "</style>\n",
       "<table border=\"1\" class=\"dataframe\">\n",
       "  <thead>\n",
       "    <tr style=\"text-align: right;\">\n",
       "      <th></th>\n",
       "      <th>base_score</th>\n",
       "      <th>exploitability_score</th>\n",
       "      <th>impact_score</th>\n",
       "      <th>epss_score</th>\n",
       "      <th>epss_perc</th>\n",
       "    </tr>\n",
       "  </thead>\n",
       "  <tbody>\n",
       "    <tr>\n",
       "      <th>count</th>\n",
       "      <td>155852.000000</td>\n",
       "      <td>155852.000000</td>\n",
       "      <td>155852.000000</td>\n",
       "      <td>155852.000000</td>\n",
       "      <td>155852.000000</td>\n",
       "    </tr>\n",
       "    <tr>\n",
       "      <th>mean</th>\n",
       "      <td>7.142007</td>\n",
       "      <td>2.691608</td>\n",
       "      <td>4.304447</td>\n",
       "      <td>0.027664</td>\n",
       "      <td>0.449421</td>\n",
       "    </tr>\n",
       "    <tr>\n",
       "      <th>std</th>\n",
       "      <td>1.701806</td>\n",
       "      <td>0.939721</td>\n",
       "      <td>1.533836</td>\n",
       "      <td>0.116194</td>\n",
       "      <td>0.274225</td>\n",
       "    </tr>\n",
       "    <tr>\n",
       "      <th>min</th>\n",
       "      <td>1.600000</td>\n",
       "      <td>0.100000</td>\n",
       "      <td>1.400000</td>\n",
       "      <td>0.000010</td>\n",
       "      <td>0.000010</td>\n",
       "    </tr>\n",
       "    <tr>\n",
       "      <th>25%</th>\n",
       "      <td>5.500000</td>\n",
       "      <td>1.800000</td>\n",
       "      <td>3.400000</td>\n",
       "      <td>0.000720</td>\n",
       "      <td>0.223928</td>\n",
       "    </tr>\n",
       "    <tr>\n",
       "      <th>50%</th>\n",
       "      <td>7.500000</td>\n",
       "      <td>2.800000</td>\n",
       "      <td>3.600000</td>\n",
       "      <td>0.002060</td>\n",
       "      <td>0.430420</td>\n",
       "    </tr>\n",
       "    <tr>\n",
       "      <th>75%</th>\n",
       "      <td>8.800000</td>\n",
       "      <td>3.900000</td>\n",
       "      <td>5.900000</td>\n",
       "      <td>0.005290</td>\n",
       "      <td>0.662120</td>\n",
       "    </tr>\n",
       "    <tr>\n",
       "      <th>max</th>\n",
       "      <td>10.000000</td>\n",
       "      <td>3.900000</td>\n",
       "      <td>6.000000</td>\n",
       "      <td>0.945820</td>\n",
       "      <td>1.000000</td>\n",
       "    </tr>\n",
       "  </tbody>\n",
       "</table>\n",
       "</div>"
      ],
      "text/plain": [
       "          base_score  exploitability_score   impact_score     epss_score  \\\n",
       "count  155852.000000         155852.000000  155852.000000  155852.000000   \n",
       "mean        7.142007              2.691608       4.304447       0.027664   \n",
       "std         1.701806              0.939721       1.533836       0.116194   \n",
       "min         1.600000              0.100000       1.400000       0.000010   \n",
       "25%         5.500000              1.800000       3.400000       0.000720   \n",
       "50%         7.500000              2.800000       3.600000       0.002060   \n",
       "75%         8.800000              3.900000       5.900000       0.005290   \n",
       "max        10.000000              3.900000       6.000000       0.945820   \n",
       "\n",
       "           epss_perc  \n",
       "count  155852.000000  \n",
       "mean        0.449421  \n",
       "std         0.274225  \n",
       "min         0.000010  \n",
       "25%         0.223928  \n",
       "50%         0.430420  \n",
       "75%         0.662120  \n",
       "max         1.000000  "
      ]
     },
     "execution_count": 3,
     "metadata": {},
     "output_type": "execute_result"
    }
   ],
   "source": [
    "#summary statistics\n",
    "\n",
    "df.describe()"
   ]
  },
  {
   "cell_type": "code",
   "execution_count": null,
   "id": "73e62068",
   "metadata": {},
   "outputs": [
    {
     "name": "stdout",
     "output_type": "stream",
     "text": [
      "<class 'pandas.core.frame.DataFrame'>\n",
      "RangeIndex: 155852 entries, 0 to 155851\n",
      "Data columns (total 17 columns):\n",
      " #   Column                  Non-Null Count   Dtype  \n",
      "---  ------                  --------------   -----  \n",
      " 0   cve_id                  155852 non-null  object \n",
      " 1   base_severity           155852 non-null  object \n",
      " 2   base_score              155852 non-null  float64\n",
      " 3   exploitability_score    155852 non-null  float64\n",
      " 4   impact_score            155852 non-null  float64\n",
      " 5   epss_score              155852 non-null  float64\n",
      " 6   epss_perc               155852 non-null  float64\n",
      " 7   cisa_kev                155852 non-null  bool   \n",
      " 8   attack_vector           155852 non-null  object \n",
      " 9   attack_complexity       155852 non-null  object \n",
      " 10  privileges_required     155852 non-null  object \n",
      " 11  user_interaction        155852 non-null  object \n",
      " 12  scope                   155852 non-null  object \n",
      " 13  confidentiality_impact  155852 non-null  object \n",
      " 14  integrity_impact        155852 non-null  object \n",
      " 15  availability_impact     155852 non-null  object \n",
      " 16  published_date          155852 non-null  object \n",
      "dtypes: bool(1), float64(5), object(11)\n",
      "memory usage: 19.2+ MB\n"
     ]
    }
   ],
   "source": [
    "#check total count and nulls counts\n",
    "df.info()"
   ]
  },
  {
   "cell_type": "code",
   "execution_count": null,
   "id": "8c75e31a",
   "metadata": {},
   "outputs": [
    {
     "data": {
      "application/vnd.microsoft.datawrangler.viewer.v0+json": {
       "columns": [
        {
         "name": "cve_id",
         "rawType": "object",
         "type": "string"
        },
        {
         "name": "count",
         "rawType": "int64",
         "type": "integer"
        }
       ],
       "ref": "d584e733-cbd6-4a9c-8aec-9a11b1e930d8",
       "rows": [
        [
         "CVE-2025-9119",
         "1"
        ],
        [
         "CVE-1999-0199",
         "1"
        ],
        [
         "CVE-2002-20001",
         "1"
        ],
        [
         "CVE-2002-2438",
         "1"
        ],
        [
         "CVE-2002-2439",
         "1"
        ],
        [
         "CVE-2002-2444",
         "1"
        ],
        [
         "CVE-2003-1605",
         "1"
        ],
        [
         "CVE-2003-5001",
         "1"
        ],
        [
         "CVE-2003-5002",
         "1"
        ],
        [
         "CVE-2003-5003",
         "1"
        ],
        [
         "CVE-2004-2776",
         "1"
        ],
        [
         "CVE-2004-2779",
         "1"
        ],
        [
         "CVE-2025-9050",
         "1"
        ],
        [
         "CVE-2025-9047",
         "1"
        ],
        [
         "CVE-2025-9046",
         "1"
        ],
        [
         "CVE-2025-9028",
         "1"
        ],
        [
         "CVE-2025-9027",
         "1"
        ],
        [
         "CVE-2025-9026",
         "1"
        ],
        [
         "CVE-2025-9025",
         "1"
        ],
        [
         "CVE-2025-9024",
         "1"
        ],
        [
         "CVE-2025-9023",
         "1"
        ],
        [
         "CVE-2025-9022",
         "1"
        ],
        [
         "CVE-2025-9021",
         "1"
        ],
        [
         "CVE-2025-9020",
         "1"
        ],
        [
         "CVE-2025-9013",
         "1"
        ],
        [
         "CVE-2025-9012",
         "1"
        ],
        [
         "CVE-2025-9011",
         "1"
        ],
        [
         "CVE-2025-9010",
         "1"
        ],
        [
         "CVE-2007-5967",
         "1"
        ],
        [
         "CVE-2007-5743",
         "1"
        ],
        [
         "CVE-2007-4774",
         "1"
        ],
        [
         "CVE-2007-4773",
         "1"
        ],
        [
         "CVE-2007-3915",
         "1"
        ],
        [
         "CVE-2007-3732",
         "1"
        ],
        [
         "CVE-2007-20001",
         "1"
        ],
        [
         "CVE-2007-10003",
         "1"
        ],
        [
         "CVE-2007-10002",
         "1"
        ],
        [
         "CVE-2007-10001",
         "1"
        ],
        [
         "CVE-2007-0899",
         "1"
        ],
        [
         "CVE-2007-0158",
         "1"
        ],
        [
         "CVE-2006-7254",
         "1"
        ],
        [
         "CVE-2006-7246",
         "1"
        ],
        [
         "CVE-2006-4245",
         "1"
        ],
        [
         "CVE-2006-4243",
         "1"
        ],
        [
         "CVE-2008-7314",
         "1"
        ],
        [
         "CVE-2008-7291",
         "1"
        ],
        [
         "CVE-2008-7273",
         "1"
        ],
        [
         "CVE-2008-7272",
         "1"
        ],
        [
         "CVE-2008-5083",
         "1"
        ],
        [
         "CVE-2008-3280",
         "1"
        ]
       ],
       "shape": {
        "columns": 1,
        "rows": 155852
       }
      },
      "text/plain": [
       "cve_id\n",
       "CVE-2025-9119     1\n",
       "CVE-1999-0199     1\n",
       "CVE-2002-20001    1\n",
       "CVE-2002-2438     1\n",
       "CVE-2002-2439     1\n",
       "                 ..\n",
       "CVE-2005-2351     1\n",
       "CVE-2005-2350     1\n",
       "CVE-2005-2349     1\n",
       "CVE-2005-10003    1\n",
       "CVE-2005-10002    1\n",
       "Name: count, Length: 155852, dtype: int64"
      ]
     },
     "metadata": {},
     "output_type": "display_data"
    },
    {
     "data": {
      "application/vnd.microsoft.datawrangler.viewer.v0+json": {
       "columns": [
        {
         "name": "base_severity",
         "rawType": "object",
         "type": "string"
        },
        {
         "name": "count",
         "rawType": "int64",
         "type": "integer"
        }
       ],
       "ref": "36850bd4-dc85-4099-adeb-30da27b50c4b",
       "rows": [
        [
         "MEDIUM",
         "67272"
        ],
        [
         "HIGH",
         "61680"
        ],
        [
         "CRITICAL",
         "24153"
        ],
        [
         "LOW",
         "2747"
        ]
       ],
       "shape": {
        "columns": 1,
        "rows": 4
       }
      },
      "text/plain": [
       "base_severity\n",
       "MEDIUM      67272\n",
       "HIGH        61680\n",
       "CRITICAL    24153\n",
       "LOW          2747\n",
       "Name: count, dtype: int64"
      ]
     },
     "metadata": {},
     "output_type": "display_data"
    },
    {
     "data": {
      "application/vnd.microsoft.datawrangler.viewer.v0+json": {
       "columns": [
        {
         "name": "base_score",
         "rawType": "float64",
         "type": "float"
        },
        {
         "name": "count",
         "rawType": "int64",
         "type": "integer"
        }
       ],
       "ref": "24fac8eb-28c6-4a3e-bc25-7feea51171e3",
       "rows": [
        [
         "9.8",
         "21132"
        ],
        [
         "7.5",
         "17519"
        ],
        [
         "8.8",
         "16618"
        ],
        [
         "7.8",
         "15727"
        ],
        [
         "5.5",
         "11620"
        ],
        [
         "6.1",
         "11431"
        ],
        [
         "5.4",
         "10251"
        ],
        [
         "6.5",
         "10186"
        ],
        [
         "5.3",
         "5025"
        ],
        [
         "4.3",
         "4770"
        ],
        [
         "7.2",
         "3596"
        ],
        [
         "4.8",
         "3376"
        ],
        [
         "8.1",
         "2435"
        ],
        [
         "6.7",
         "1722"
        ],
        [
         "9.1",
         "1649"
        ],
        [
         "7.1",
         "1359"
        ],
        [
         "5.9",
         "1277"
        ],
        [
         "3.3",
         "1231"
        ],
        [
         "4.9",
         "1176"
        ],
        [
         "4.4",
         "1075"
        ],
        [
         "6.8",
         "1033"
        ],
        [
         "6.4",
         "835"
        ],
        [
         "7.0",
         "782"
        ],
        [
         "7.3",
         "749"
        ],
        [
         "4.7",
         "731"
        ],
        [
         "8.2",
         "683"
        ],
        [
         "6.3",
         "583"
        ],
        [
         "8.6",
         "498"
        ],
        [
         "8.0",
         "498"
        ],
        [
         "4.6",
         "493"
        ],
        [
         "7.4",
         "432"
        ],
        [
         "9.6",
         "351"
        ],
        [
         "9.9",
         "338"
        ],
        [
         "10.0",
         "292"
        ],
        [
         "3.7",
         "278"
        ],
        [
         "5.7",
         "265"
        ],
        [
         "2.7",
         "257"
        ],
        [
         "7.7",
         "255"
        ],
        [
         "3.5",
         "226"
        ],
        [
         "6.0",
         "215"
        ],
        [
         "9.0",
         "214"
        ],
        [
         "6.6",
         "214"
        ],
        [
         "2.4",
         "206"
        ],
        [
         "5.0",
         "181"
        ],
        [
         "8.4",
         "150"
        ],
        [
         "3.1",
         "143"
        ],
        [
         "9.3",
         "136"
        ],
        [
         "6.2",
         "131"
        ],
        [
         "4.2",
         "126"
        ],
        [
         "8.3",
         "122"
        ]
       ],
       "shape": {
        "columns": 1,
        "rows": 81
       }
      },
      "text/plain": [
       "base_score\n",
       "9.8    21132\n",
       "7.5    17519\n",
       "8.8    16618\n",
       "7.8    15727\n",
       "5.5    11620\n",
       "       ...  \n",
       "3.0        5\n",
       "1.8        3\n",
       "2.9        2\n",
       "1.6        2\n",
       "1.9        1\n",
       "Name: count, Length: 81, dtype: int64"
      ]
     },
     "metadata": {},
     "output_type": "display_data"
    },
    {
     "data": {
      "application/vnd.microsoft.datawrangler.viewer.v0+json": {
       "columns": [
        {
         "name": "exploitability_score",
         "rawType": "float64",
         "type": "float"
        },
        {
         "name": "count",
         "rawType": "int64",
         "type": "integer"
        }
       ],
       "ref": "64582fc9-31f1-4bfb-85c3-dedf5f9a9fd4",
       "rows": [
        [
         "3.9",
         "45861"
        ],
        [
         "2.8",
         "45086"
        ],
        [
         "1.8",
         "29995"
        ],
        [
         "2.3",
         "9912"
        ],
        [
         "1.2",
         "5501"
        ],
        [
         "1.7",
         "3376"
        ],
        [
         "2.2",
         "3294"
        ],
        [
         "0.8",
         "2871"
        ],
        [
         "1.6",
         "1661"
        ],
        [
         "0.9",
         "1634"
        ],
        [
         "1.0",
         "1419"
        ],
        [
         "3.1",
         "1290"
        ],
        [
         "2.1",
         "1110"
        ],
        [
         "2.0",
         "675"
        ],
        [
         "1.3",
         "566"
        ],
        [
         "0.5",
         "349"
        ],
        [
         "1.5",
         "343"
        ],
        [
         "0.7",
         "300"
        ],
        [
         "2.5",
         "224"
        ],
        [
         "1.1",
         "130"
        ],
        [
         "0.6",
         "97"
        ],
        [
         "0.3",
         "81"
        ],
        [
         "1.4",
         "45"
        ],
        [
         "0.4",
         "23"
        ],
        [
         "0.2",
         "6"
        ],
        [
         "0.1",
         "3"
        ]
       ],
       "shape": {
        "columns": 1,
        "rows": 26
       }
      },
      "text/plain": [
       "exploitability_score\n",
       "3.9    45861\n",
       "2.8    45086\n",
       "1.8    29995\n",
       "2.3     9912\n",
       "1.2     5501\n",
       "1.7     3376\n",
       "2.2     3294\n",
       "0.8     2871\n",
       "1.6     1661\n",
       "0.9     1634\n",
       "1.0     1419\n",
       "3.1     1290\n",
       "2.1     1110\n",
       "2.0      675\n",
       "1.3      566\n",
       "0.5      349\n",
       "1.5      343\n",
       "0.7      300\n",
       "2.5      224\n",
       "1.1      130\n",
       "0.6       97\n",
       "0.3       81\n",
       "1.4       45\n",
       "0.4       23\n",
       "0.2        6\n",
       "0.1        3\n",
       "Name: count, dtype: int64"
      ]
     },
     "metadata": {},
     "output_type": "display_data"
    },
    {
     "data": {
      "application/vnd.microsoft.datawrangler.viewer.v0+json": {
       "columns": [
        {
         "name": "impact_score",
         "rawType": "float64",
         "type": "float"
        },
        {
         "name": "count",
         "rawType": "int64",
         "type": "integer"
        }
       ],
       "ref": "ebc5062f-fc7d-4513-b512-78af7369d7ec",
       "rows": [
        [
         "5.9",
         "63296"
        ],
        [
         "3.6",
         "42448"
        ],
        [
         "2.7",
         "24695"
        ],
        [
         "1.4",
         "12101"
        ],
        [
         "5.2",
         "4552"
        ],
        [
         "6.0",
         "2323"
        ],
        [
         "2.5",
         "1990"
        ],
        [
         "4.0",
         "1272"
        ],
        [
         "3.4",
         "1113"
        ],
        [
         "4.2",
         "860"
        ],
        [
         "4.7",
         "597"
        ],
        [
         "5.8",
         "240"
        ],
        [
         "3.7",
         "157"
        ],
        [
         "5.5",
         "154"
        ],
        [
         "5.3",
         "54"
        ]
       ],
       "shape": {
        "columns": 1,
        "rows": 15
       }
      },
      "text/plain": [
       "impact_score\n",
       "5.9    63296\n",
       "3.6    42448\n",
       "2.7    24695\n",
       "1.4    12101\n",
       "5.2     4552\n",
       "6.0     2323\n",
       "2.5     1990\n",
       "4.0     1272\n",
       "3.4     1113\n",
       "4.2      860\n",
       "4.7      597\n",
       "5.8      240\n",
       "3.7      157\n",
       "5.5      154\n",
       "5.3       54\n",
       "Name: count, dtype: int64"
      ]
     },
     "metadata": {},
     "output_type": "display_data"
    },
    {
     "data": {
      "application/vnd.microsoft.datawrangler.viewer.v0+json": {
       "columns": [
        {
         "name": "epss_score",
         "rawType": "float64",
         "type": "float"
        },
        {
         "name": "count",
         "rawType": "int64",
         "type": "integer"
        }
       ],
       "ref": "c2266bfd-e197-431e-8236-7af22037c9f9",
       "rows": [
        [
         "0.00058",
         "1028"
        ],
        [
         "0.00037",
         "995"
        ],
        [
         "0.00039",
         "959"
        ],
        [
         "0.00041",
         "937"
        ],
        [
         "0.00047",
         "790"
        ],
        [
         "0.0005",
         "768"
        ],
        [
         "0.00052",
         "750"
        ],
        [
         "0.00045",
         "744"
        ],
        [
         "0.0007",
         "743"
        ],
        [
         "0.00053",
         "738"
        ],
        [
         "0.00048",
         "720"
        ],
        [
         "0.00034",
         "704"
        ],
        [
         "0.00017",
         "696"
        ],
        [
         "0.00044",
         "693"
        ],
        [
         "0.00237",
         "689"
        ],
        [
         "0.0024",
         "688"
        ],
        [
         "0.0004",
         "688"
        ],
        [
         "0.00035",
         "677"
        ],
        [
         "0.00043",
         "676"
        ],
        [
         "0.00015",
         "674"
        ],
        [
         "0.00051",
         "672"
        ],
        [
         "0.00049",
         "652"
        ],
        [
         "0.00077",
         "651"
        ],
        [
         "0.00029",
         "645"
        ],
        [
         "0.00031",
         "638"
        ],
        [
         "0.00018",
         "635"
        ],
        [
         "0.00036",
         "628"
        ],
        [
         "0.00038",
         "618"
        ],
        [
         "0.00206",
         "609"
        ],
        [
         "0.0006",
         "600"
        ],
        [
         "0.00033",
         "588"
        ],
        [
         "0.00046",
         "585"
        ],
        [
         "0.00024",
         "581"
        ],
        [
         "0.00016",
         "580"
        ],
        [
         "0.00064",
         "578"
        ],
        [
         "0.00022",
         "577"
        ],
        [
         "0.00066",
         "575"
        ],
        [
         "0.00042",
         "575"
        ],
        [
         "0.00019",
         "571"
        ],
        [
         "0.00028",
         "565"
        ],
        [
         "0.0003",
         "561"
        ],
        [
         "0.00023",
         "556"
        ],
        [
         "0.00032",
         "553"
        ],
        [
         "0.00054",
         "549"
        ],
        [
         "0.00014",
         "547"
        ],
        [
         "0.00083",
         "537"
        ],
        [
         "0.00084",
         "534"
        ],
        [
         "0.00057",
         "529"
        ],
        [
         "0.00055",
         "519"
        ],
        [
         "0.00021",
         "519"
        ]
       ],
       "shape": {
        "columns": 1,
        "rows": 12992
       }
      },
      "text/plain": [
       "epss_score\n",
       "0.00058    1028\n",
       "0.00037     995\n",
       "0.00039     959\n",
       "0.00041     937\n",
       "0.00047     790\n",
       "           ... \n",
       "0.37251       1\n",
       "0.85917       1\n",
       "0.22095       1\n",
       "0.28831       1\n",
       "0.15766       1\n",
       "Name: count, Length: 12992, dtype: int64"
      ]
     },
     "metadata": {},
     "output_type": "display_data"
    },
    {
     "data": {
      "application/vnd.microsoft.datawrangler.viewer.v0+json": {
       "columns": [
        {
         "name": "epss_perc",
         "rawType": "float64",
         "type": "float"
        },
        {
         "name": "count",
         "rawType": "int64",
         "type": "integer"
        }
       ],
       "ref": "a413ca04-7e85-4d11-abdc-0bd3f20f5110",
       "rows": [
        [
         "0.47151",
         "534"
        ],
        [
         "0.46629",
         "507"
        ],
        [
         "0.42983",
         "316"
        ],
        [
         "0.17877",
         "311"
        ],
        [
         "0.11105",
         "215"
        ],
        [
         "0.49616",
         "192"
        ],
        [
         "0.43581",
         "188"
        ],
        [
         "0.2494",
         "182"
        ],
        [
         "0.10159",
         "176"
        ],
        [
         "0.61913",
         "174"
        ],
        [
         "0.16139",
         "173"
        ],
        [
         "0.23659",
         "168"
        ],
        [
         "0.463",
         "167"
        ],
        [
         "0.55065",
         "161"
        ],
        [
         "0.21931",
         "157"
        ],
        [
         "0.48149",
         "155"
        ],
        [
         "0.31764",
         "146"
        ],
        [
         "0.41066",
         "127"
        ],
        [
         "0.55603",
         "127"
        ],
        [
         "0.49177",
         "127"
        ],
        [
         "0.15683",
         "123"
        ],
        [
         "0.09485",
         "115"
        ],
        [
         "0.67294",
         "112"
        ],
        [
         "0.15287",
         "105"
        ],
        [
         "0.54519",
         "100"
        ],
        [
         "0.34446",
         "95"
        ],
        [
         "0.07552",
         "94"
        ],
        [
         "0.72603",
         "93"
        ],
        [
         "0.20061",
         "93"
        ],
        [
         "0.54064",
         "91"
        ],
        [
         "0.10558",
         "89"
        ],
        [
         "0.57332",
         "89"
        ],
        [
         "0.44315",
         "89"
        ],
        [
         "0.20628",
         "88"
        ],
        [
         "0.02346",
         "87"
        ],
        [
         "0.6514",
         "86"
        ],
        [
         "0.60951",
         "86"
        ],
        [
         "0.54637",
         "84"
        ],
        [
         "0.35514",
         "84"
        ],
        [
         "0.59149",
         "81"
        ],
        [
         "0.41724",
         "80"
        ],
        [
         "0.21724",
         "75"
        ],
        [
         "0.43042",
         "74"
        ],
        [
         "0.17676",
         "71"
        ],
        [
         "0.39926",
         "71"
        ],
        [
         "0.25129",
         "70"
        ],
        [
         "0.26463",
         "69"
        ],
        [
         "0.34848",
         "68"
        ],
        [
         "0.70162",
         "67"
        ],
        [
         "0.14921",
         "67"
        ]
       ],
       "shape": {
        "columns": 1,
        "rows": 63194
       }
      },
      "text/plain": [
       "epss_perc\n",
       "0.47151    534\n",
       "0.46629    507\n",
       "0.42983    316\n",
       "0.17877    311\n",
       "0.11105    215\n",
       "          ... \n",
       "0.70962      1\n",
       "0.20389      1\n",
       "0.20387      1\n",
       "0.07340      1\n",
       "0.06812      1\n",
       "Name: count, Length: 63194, dtype: int64"
      ]
     },
     "metadata": {},
     "output_type": "display_data"
    },
    {
     "data": {
      "application/vnd.microsoft.datawrangler.viewer.v0+json": {
       "columns": [
        {
         "name": "cisa_kev",
         "rawType": "bool",
         "type": "boolean"
        },
        {
         "name": "count",
         "rawType": "int64",
         "type": "integer"
        }
       ],
       "ref": "5018cfb3-c501-4731-9c1f-4c2c6d79f374",
       "rows": [
        [
         "False",
         "154889"
        ],
        [
         "True",
         "963"
        ]
       ],
       "shape": {
        "columns": 1,
        "rows": 2
       }
      },
      "text/plain": [
       "cisa_kev\n",
       "False    154889\n",
       "True        963\n",
       "Name: count, dtype: int64"
      ]
     },
     "metadata": {},
     "output_type": "display_data"
    },
    {
     "data": {
      "application/vnd.microsoft.datawrangler.viewer.v0+json": {
       "columns": [
        {
         "name": "attack_vector",
         "rawType": "object",
         "type": "string"
        },
        {
         "name": "count",
         "rawType": "int64",
         "type": "integer"
        }
       ],
       "ref": "1ab08991-244d-4f36-b065-ae651ac4e874",
       "rows": [
        [
         "NETWORK",
         "114452"
        ],
        [
         "LOCAL",
         "36402"
        ],
        [
         "ADJACENT_NETWORK",
         "3460"
        ],
        [
         "PHYSICAL",
         "1538"
        ]
       ],
       "shape": {
        "columns": 1,
        "rows": 4
       }
      },
      "text/plain": [
       "attack_vector\n",
       "NETWORK             114452\n",
       "LOCAL                36402\n",
       "ADJACENT_NETWORK      3460\n",
       "PHYSICAL              1538\n",
       "Name: count, dtype: int64"
      ]
     },
     "metadata": {},
     "output_type": "display_data"
    },
    {
     "data": {
      "application/vnd.microsoft.datawrangler.viewer.v0+json": {
       "columns": [
        {
         "name": "attack_complexity",
         "rawType": "object",
         "type": "string"
        },
        {
         "name": "count",
         "rawType": "int64",
         "type": "integer"
        }
       ],
       "ref": "503590cc-44cf-47ce-9387-da4e8e2f58ce",
       "rows": [
        [
         "LOW",
         "148386"
        ],
        [
         "HIGH",
         "7466"
        ]
       ],
       "shape": {
        "columns": 1,
        "rows": 2
       }
      },
      "text/plain": [
       "attack_complexity\n",
       "LOW     148386\n",
       "HIGH      7466\n",
       "Name: count, dtype: int64"
      ]
     },
     "metadata": {},
     "output_type": "display_data"
    },
    {
     "data": {
      "application/vnd.microsoft.datawrangler.viewer.v0+json": {
       "columns": [
        {
         "name": "privileges_required",
         "rawType": "object",
         "type": "string"
        },
        {
         "name": "count",
         "rawType": "int64",
         "type": "integer"
        }
       ],
       "ref": "085a4a38-ac54-4087-a181-da80d53da7e8",
       "rows": [
        [
         "NONE",
         "90209"
        ],
        [
         "LOW",
         "52391"
        ],
        [
         "HIGH",
         "13252"
        ]
       ],
       "shape": {
        "columns": 1,
        "rows": 3
       }
      },
      "text/plain": [
       "privileges_required\n",
       "NONE    90209\n",
       "LOW     52391\n",
       "HIGH    13252\n",
       "Name: count, dtype: int64"
      ]
     },
     "metadata": {},
     "output_type": "display_data"
    },
    {
     "data": {
      "application/vnd.microsoft.datawrangler.viewer.v0+json": {
       "columns": [
        {
         "name": "user_interaction",
         "rawType": "object",
         "type": "string"
        },
        {
         "name": "count",
         "rawType": "int64",
         "type": "integer"
        }
       ],
       "ref": "e930a909-a88e-4331-a796-5e5433f938f1",
       "rows": [
        [
         "NONE",
         "104193"
        ],
        [
         "REQUIRED",
         "51659"
        ]
       ],
       "shape": {
        "columns": 1,
        "rows": 2
       }
      },
      "text/plain": [
       "user_interaction\n",
       "NONE        104193\n",
       "REQUIRED     51659\n",
       "Name: count, dtype: int64"
      ]
     },
     "metadata": {},
     "output_type": "display_data"
    },
    {
     "data": {
      "application/vnd.microsoft.datawrangler.viewer.v0+json": {
       "columns": [
        {
         "name": "scope",
         "rawType": "object",
         "type": "string"
        },
        {
         "name": "count",
         "rawType": "int64",
         "type": "integer"
        }
       ],
       "ref": "b18485b3-0a64-421b-a80f-dff562dd3b80",
       "rows": [
        [
         "UNCHANGED",
         "126264"
        ],
        [
         "CHANGED",
         "29588"
        ]
       ],
       "shape": {
        "columns": 1,
        "rows": 2
       }
      },
      "text/plain": [
       "scope\n",
       "UNCHANGED    126264\n",
       "CHANGED       29588\n",
       "Name: count, dtype: int64"
      ]
     },
     "metadata": {},
     "output_type": "display_data"
    },
    {
     "data": {
      "application/vnd.microsoft.datawrangler.viewer.v0+json": {
       "columns": [
        {
         "name": "confidentiality_impact",
         "rawType": "object",
         "type": "string"
        },
        {
         "name": "count",
         "rawType": "int64",
         "type": "integer"
        }
       ],
       "ref": "716955bb-5035-4a66-b2b3-96fd10931caf",
       "rows": [
        [
         "HIGH",
         "88179"
        ],
        [
         "LOW",
         "34410"
        ],
        [
         "NONE",
         "33263"
        ]
       ],
       "shape": {
        "columns": 1,
        "rows": 3
       }
      },
      "text/plain": [
       "confidentiality_impact\n",
       "HIGH    88179\n",
       "LOW     34410\n",
       "NONE    33263\n",
       "Name: count, dtype: int64"
      ]
     },
     "metadata": {},
     "output_type": "display_data"
    },
    {
     "data": {
      "application/vnd.microsoft.datawrangler.viewer.v0+json": {
       "columns": [
        {
         "name": "integrity_impact",
         "rawType": "object",
         "type": "string"
        },
        {
         "name": "count",
         "rawType": "int64",
         "type": "integer"
        }
       ],
       "ref": "8fce9e55-2432-4cd4-a2f5-f2b2afa300a6",
       "rows": [
        [
         "HIGH",
         "75476"
        ],
        [
         "NONE",
         "47106"
        ],
        [
         "LOW",
         "33270"
        ]
       ],
       "shape": {
        "columns": 1,
        "rows": 3
       }
      },
      "text/plain": [
       "integrity_impact\n",
       "HIGH    75476\n",
       "NONE    47106\n",
       "LOW     33270\n",
       "Name: count, dtype: int64"
      ]
     },
     "metadata": {},
     "output_type": "display_data"
    },
    {
     "data": {
      "application/vnd.microsoft.datawrangler.viewer.v0+json": {
       "columns": [
        {
         "name": "availability_impact",
         "rawType": "object",
         "type": "string"
        },
        {
         "name": "count",
         "rawType": "int64",
         "type": "integer"
        }
       ],
       "ref": "f8308792-93a8-4388-898e-12230e4abf51",
       "rows": [
        [
         "HIGH",
         "88295"
        ],
        [
         "NONE",
         "63992"
        ],
        [
         "LOW",
         "3565"
        ]
       ],
       "shape": {
        "columns": 1,
        "rows": 3
       }
      },
      "text/plain": [
       "availability_impact\n",
       "HIGH    88295\n",
       "NONE    63992\n",
       "LOW      3565\n",
       "Name: count, dtype: int64"
      ]
     },
     "metadata": {},
     "output_type": "display_data"
    },
    {
     "data": {
      "application/vnd.microsoft.datawrangler.viewer.v0+json": {
       "columns": [
        {
         "name": "published_date",
         "rawType": "object",
         "type": "string"
        },
        {
         "name": "count",
         "rawType": "int64",
         "type": "integer"
        }
       ],
       "ref": "0df15cf1-800e-4e90-b991-63697a9f901f",
       "rows": [
        [
         "2018-07-09T06:29Z",
         "322"
        ],
        [
         "2018-06-11T21:29Z",
         "318"
        ],
        [
         "2019-09-27T19:15Z",
         "262"
        ],
        [
         "2025-02-26T07:01Z",
         "257"
        ],
        [
         "2019-12-18T18:15Z",
         "249"
        ],
        [
         "2023-10-25T18:17Z",
         "248"
        ],
        [
         "2020-04-15T14:15Z",
         "243"
        ],
        [
         "2024-05-03T03:15Z",
         "231"
        ],
        [
         "2018-04-18T14:29Z",
         "229"
        ],
        [
         "2022-06-02T14:15Z",
         "227"
        ],
        [
         "2025-06-10T23:15Z",
         "227"
        ],
        [
         "2020-01-15T17:15Z",
         "216"
        ],
        [
         "2020-07-15T18:15Z",
         "210"
        ],
        [
         "2023-09-27T15:19Z",
         "208"
        ],
        [
         "2018-07-18T13:29Z",
         "206"
        ],
        [
         "2018-06-07T02:29Z",
         "191"
        ],
        [
         "2019-04-03T18:29Z",
         "189"
        ],
        [
         "2021-12-26T01:15Z",
         "187"
        ],
        [
         "2018-02-15T22:29Z",
         "187"
        ],
        [
         "2018-10-17T01:31Z",
         "186"
        ],
        [
         "2019-11-14T17:15Z",
         "179"
        ],
        [
         "2024-11-22T21:15Z",
         "177"
        ],
        [
         "2022-12-22T20:15Z",
         "177"
        ],
        [
         "2018-01-18T02:29Z",
         "174"
        ],
        [
         "2023-03-29T19:15Z",
         "167"
        ],
        [
         "2024-05-03T02:15Z",
         "164"
        ],
        [
         "2022-02-09T23:15Z",
         "162"
        ],
        [
         "2023-08-22T19:16Z",
         "162"
        ],
        [
         "2021-08-24T19:15Z",
         "160"
        ],
        [
         "2019-04-23T19:32Z",
         "159"
        ],
        [
         "2019-07-23T23:15Z",
         "159"
        ],
        [
         "2022-12-16T16:15Z",
         "156"
        ],
        [
         "2023-03-24T20:15Z",
         "154"
        ],
        [
         "2019-01-16T19:30Z",
         "150"
        ],
        [
         "2019-10-16T18:15Z",
         "145"
        ],
        [
         "2024-05-21T15:15Z",
         "141"
        ],
        [
         "2018-04-19T02:29Z",
         "140"
        ],
        [
         "2021-09-08T15:15Z",
         "139"
        ],
        [
         "2020-06-09T20:15Z",
         "138"
        ],
        [
         "2024-10-21T18:15Z",
         "137"
        ],
        [
         "2022-02-18T20:15Z",
         "135"
        ],
        [
         "2021-12-15T19:15Z",
         "133"
        ],
        [
         "2025-01-14T18:15Z",
         "130"
        ],
        [
         "2024-10-21T20:15Z",
         "129"
        ],
        [
         "2023-11-14T19:15Z",
         "127"
        ],
        [
         "2023-01-26T21:18Z",
         "126"
        ],
        [
         "2019-03-21T16:00Z",
         "125"
        ],
        [
         "2022-04-11T20:15Z",
         "124"
        ],
        [
         "2020-03-12T14:15Z",
         "124"
        ],
        [
         "2020-07-14T23:15Z",
         "122"
        ]
       ],
       "shape": {
        "columns": 1,
        "rows": 26822
       }
      },
      "text/plain": [
       "published_date\n",
       "2018-07-09T06:29Z    322\n",
       "2018-06-11T21:29Z    318\n",
       "2019-09-27T19:15Z    262\n",
       "2025-02-26T07:01Z    257\n",
       "2019-12-18T18:15Z    249\n",
       "                    ... \n",
       "2025-08-11T15:15Z      1\n",
       "2025-08-11T09:15Z      1\n",
       "2025-08-11T07:15Z      1\n",
       "2025-08-11T03:15Z      1\n",
       "2025-08-10T14:15Z      1\n",
       "Name: count, Length: 26822, dtype: int64"
      ]
     },
     "metadata": {},
     "output_type": "display_data"
    }
   ],
   "source": [
    "#check columns that can be encoded\n",
    "for i in df.columns:\n",
    "    if df[i].dtype == 'int64':\n",
    "        pass\n",
    "    else:\n",
    "        display(df[i].value_counts())"
   ]
  },
  {
   "cell_type": "markdown",
   "id": "d133856b",
   "metadata": {},
   "source": [
    "##### Feature Engineering"
   ]
  },
  {
   "cell_type": "markdown",
   "id": "cd7daaac",
   "metadata": {},
   "source": [
    "##### Model Building and Training"
   ]
  },
  {
   "cell_type": "markdown",
   "id": "7372795a",
   "metadata": {},
   "source": [
    "##### Evaluation and Iteration"
   ]
  }
 ],
 "metadata": {
  "kernelspec": {
   "display_name": "ds-ai-ml-projects",
   "language": "python",
   "name": "ds-ai-ml-projects"
  },
  "language_info": {
   "codemirror_mode": {
    "name": "ipython",
    "version": 3
   },
   "file_extension": ".py",
   "mimetype": "text/x-python",
   "name": "python",
   "nbconvert_exporter": "python",
   "pygments_lexer": "ipython3",
   "version": "3.11.9"
  }
 },
 "nbformat": 4,
 "nbformat_minor": 5
}
