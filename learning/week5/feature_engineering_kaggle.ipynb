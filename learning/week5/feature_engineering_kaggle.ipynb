{
 "cells": [
  {
   "cell_type": "markdown",
   "id": "a17b64ce",
   "metadata": {},
   "source": [
    "# Feature Engineering Lab"
   ]
  },
  {
   "cell_type": "markdown",
   "id": "424e6418",
   "metadata": {},
   "source": [
    "This lab will be the testing area for feature engineering. I will be using the titanic dataset for ease of use. Notes will be in the notes file."
   ]
  },
  {
   "cell_type": "markdown",
   "id": "65df0068",
   "metadata": {},
   "source": []
  }
 ],
 "metadata": {
  "language_info": {
   "name": "python"
  }
 },
 "nbformat": 4,
 "nbformat_minor": 5
}
